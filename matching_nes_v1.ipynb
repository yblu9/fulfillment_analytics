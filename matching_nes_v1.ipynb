{
 "cells": [
  {
   "cell_type": "code",
   "execution_count": 3,
   "metadata": {},
   "outputs": [
    {
     "ename": "ImportError",
     "evalue": "cannot import name 'DatabaseTool'",
     "output_type": "error",
     "traceback": [
      "\u001b[0;31m---------------------------------------------------------------------------\u001b[0m",
      "\u001b[0;31mImportError\u001b[0m                               Traceback (most recent call last)",
      "\u001b[0;32m<ipython-input-3-efc99fee21d0>\u001b[0m in \u001b[0;36m<module>\u001b[0;34m\u001b[0m\n\u001b[1;32m      3\u001b[0m \u001b[0msys\u001b[0m\u001b[0;34m.\u001b[0m\u001b[0mpath\u001b[0m\u001b[0;34m.\u001b[0m\u001b[0minsert\u001b[0m\u001b[0;34m(\u001b[0m\u001b[0;36m0\u001b[0m\u001b[0;34m,\u001b[0m\u001b[0;34m'/mnt/user-home/git/nes'\u001b[0m\u001b[0;34m)\u001b[0m\u001b[0;34m\u001b[0m\u001b[0;34m\u001b[0m\u001b[0m\n\u001b[1;32m      4\u001b[0m \u001b[0;31m#sys.path.insert(0,'/mnt/user-home/git/nes')\u001b[0m\u001b[0;34m\u001b[0m\u001b[0;34m\u001b[0m\u001b[0;34m\u001b[0m\u001b[0m\n\u001b[0;32m----> 5\u001b[0;31m \u001b[0;32mfrom\u001b[0m \u001b[0mlyft_fugue_lyft\u001b[0m \u001b[0;32mimport\u001b[0m \u001b[0mLLK8sRunner\u001b[0m\u001b[0;34m\u001b[0m\u001b[0;34m\u001b[0m\u001b[0m\n\u001b[0m\u001b[1;32m      6\u001b[0m \u001b[0;32mfrom\u001b[0m \u001b[0mnesdatapipeline\u001b[0m\u001b[0;34m.\u001b[0m\u001b[0mtasks\u001b[0m \u001b[0;32mimport\u001b[0m \u001b[0;34m*\u001b[0m\u001b[0;34m\u001b[0m\u001b[0;34m\u001b[0m\u001b[0m\n\u001b[1;32m      7\u001b[0m \u001b[0;32mfrom\u001b[0m \u001b[0mnesdatapipeline\u001b[0m\u001b[0;34m.\u001b[0m\u001b[0mconstants\u001b[0m \u001b[0;32mimport\u001b[0m \u001b[0;34m*\u001b[0m\u001b[0;34m\u001b[0m\u001b[0;34m\u001b[0m\u001b[0m\n",
      "\u001b[0;32m/code/venvs/venv/lib/python3.6/site-packages/lyft_fugue_lyft/__init__.py\u001b[0m in \u001b[0;36m<module>\u001b[0;34m\u001b[0m\n\u001b[1;32m      4\u001b[0m \u001b[0;32mfrom\u001b[0m \u001b[0mlyft_fugue_lyft\u001b[0m\u001b[0;34m.\u001b[0m\u001b[0mlyftlearn\u001b[0m \u001b[0;32mimport\u001b[0m \u001b[0;34m*\u001b[0m\u001b[0;34m\u001b[0m\u001b[0;34m\u001b[0m\u001b[0m\n\u001b[1;32m      5\u001b[0m \u001b[0;32mfrom\u001b[0m \u001b[0mlyft_fugue_lyft\u001b[0m\u001b[0;34m.\u001b[0m\u001b[0mflyte\u001b[0m \u001b[0;32mimport\u001b[0m \u001b[0mFlyteRunner\u001b[0m\u001b[0;34m,\u001b[0m \u001b[0mfugue_task\u001b[0m\u001b[0;34m\u001b[0m\u001b[0;34m\u001b[0m\u001b[0m\n\u001b[0;32m----> 6\u001b[0;31m \u001b[0;32mfrom\u001b[0m \u001b[0mlyft_fugue_lyft\u001b[0m\u001b[0;34m.\u001b[0m\u001b[0mdb\u001b[0m \u001b[0;32mimport\u001b[0m \u001b[0;34m*\u001b[0m\u001b[0;34m\u001b[0m\u001b[0;34m\u001b[0m\u001b[0m\n\u001b[0m\u001b[1;32m      7\u001b[0m \u001b[0;32mfrom\u001b[0m \u001b[0mlyft_fugue_lyft\u001b[0m\u001b[0;34m.\u001b[0m\u001b[0mmlflow\u001b[0m \u001b[0;32mimport\u001b[0m \u001b[0minit_mlflow\u001b[0m\u001b[0;34m\u001b[0m\u001b[0;34m\u001b[0m\u001b[0m\n",
      "\u001b[0;32m/code/venvs/venv/lib/python3.6/site-packages/lyft_fugue_lyft/db.py\u001b[0m in \u001b[0;36m<module>\u001b[0;34m\u001b[0m\n\u001b[1;32m      6\u001b[0m \u001b[0;32mimport\u001b[0m \u001b[0mpandas\u001b[0m \u001b[0;32mas\u001b[0m \u001b[0mpd\u001b[0m\u001b[0;34m\u001b[0m\u001b[0;34m\u001b[0m\u001b[0m\n\u001b[1;32m      7\u001b[0m \u001b[0;32mfrom\u001b[0m \u001b[0mlyft_analysis\u001b[0m\u001b[0;34m.\u001b[0m\u001b[0mdb\u001b[0m \u001b[0;32mimport\u001b[0m \u001b[0mdatamart\u001b[0m\u001b[0;34m,\u001b[0m \u001b[0mhive\u001b[0m\u001b[0;34m,\u001b[0m \u001b[0mpresto\u001b[0m\u001b[0;34m,\u001b[0m \u001b[0mredshift\u001b[0m\u001b[0;34m\u001b[0m\u001b[0;34m\u001b[0m\u001b[0m\n\u001b[0;32m----> 8\u001b[0;31m \u001b[0;32mfrom\u001b[0m \u001b[0mlyft_analysis\u001b[0m\u001b[0;34m.\u001b[0m\u001b[0mdb\u001b[0m\u001b[0;34m.\u001b[0m\u001b[0mbase\u001b[0m \u001b[0;32mimport\u001b[0m \u001b[0mDatabaseTool\u001b[0m\u001b[0;34m\u001b[0m\u001b[0;34m\u001b[0m\u001b[0m\n\u001b[0m\u001b[1;32m      9\u001b[0m \u001b[0;32mfrom\u001b[0m \u001b[0mlyft_fugue\u001b[0m \u001b[0;32mimport\u001b[0m \u001b[0mDatabaseEngine\u001b[0m\u001b[0;34m,\u001b[0m \u001b[0mDataFrame\u001b[0m\u001b[0;34m,\u001b[0m \u001b[0mPandasDataFrame\u001b[0m\u001b[0;34m\u001b[0m\u001b[0;34m\u001b[0m\u001b[0m\n\u001b[1;32m     10\u001b[0m \u001b[0;32mfrom\u001b[0m \u001b[0msqlalchemy\u001b[0m \u001b[0;32mimport\u001b[0m \u001b[0mcreate_engine\u001b[0m\u001b[0;34m\u001b[0m\u001b[0;34m\u001b[0m\u001b[0m\n",
      "\u001b[0;31mImportError\u001b[0m: cannot import name 'DatabaseTool'"
     ]
    }
   ],
   "source": [
    "import sys\n",
    "sys.path.insert(0,'/mnt/user-home/git/nesdatapipeline')\n",
    "sys.path.insert(0,'/mnt/user-home/git/nes')\n",
    "#sys.path.insert(0,'/mnt/user-home/git/nes')\n",
    "from lyft_fugue_lyft import LLK8sRunner\n",
    "from nesdatapipeline.tasks import *\n",
    "from nesdatapipeline.constants import *\n",
    "SPARK_CONFIG_SAMPLING['fugue.cluster.size']='128*8*64g'"
   ]
  },
  {
   "cell_type": "code",
   "execution_count": null,
   "metadata": {},
   "outputs": [],
   "source": [
    "import json\n",
    "CONTINUOUS_FEATURES = ['sessions_r28','ride_intents_r28','ride_requests_r28',\n",
    "                    'conversion_r28','eta_r28','pt_incidence_r28','pt_r28',\n",
    "                    'sessions_r14','ride_intents_r14','ride_requests_r14',\n",
    "                    'conversion_r14','eta_r14','pt_incidence_r14','pt_r14',\n",
    "                    'sessions_r7','ride_intents_r7','ride_requests_r7',\n",
    "                    'conversion_r7','eta_r7','pt_incidence_r7','pt_r7',\n",
    "                     'local_hr_of_week',\n",
    "                    'days_since_activation',\n",
    "                    'bookings_usd_r7','bookings_usd_r14','bookings_usd_r28',\n",
    "                    'net_revenue_usd_r7','net_revenue_usd_r14','net_revenue_usd_r28',\n",
    "                    'rider_first_lng','rider_first_lat','rider_last_lng','rider_last_lat','ride_cancels_r14',\n",
    "                    'ride_a1ks_r14','ride_cancels_r7','ride_a1ks_r7','ride_cancels_r28','ride_a1ks_r28']\n",
    "\n",
    "\n",
    "TARGET_ENCODE_FEATURES=['region']\n",
    "ONEHOT_ENCODE_FEATURES=[\n",
    "    \n",
    "        \"density_category\",\n",
    "        \"hour_types\",\n",
    "        \"user_type\",\n",
    "        \"analytical_ride_type\",\n",
    "    ]\n",
    "continuous_features=json.dumps(CONTINUOUS_FEATURES)\n",
    "target_features=json.dumps(TARGET_ENCODE_FEATURES)\n",
    "onehot_features=json.dumps(ONEHOT_ENCODE_FEATURES)"
   ]
  },
  {
   "cell_type": "code",
   "execution_count": null,
   "metadata": {},
   "outputs": [],
   "source": [
    "# Where the training data for your treatment configuration gets stored. \n",
    "TRAINING_DATA_PATH = \"s3://lyft-fugue-cache/expire/30d/nes_v2_matching/train\"\n",
    "\n",
    "# Where the data you wish to predict on will be stored. \n",
    "PREDICTION_DATA_PATH = \"s3://lyft-fugue-cache/expire/30d/nes_v2_matching/prediction\"\n",
    "\n",
    "# The final output predictions/scores. \n",
    "PREDICTION_OUTPUT_DATA_PATH = \"s3://lyft-fugue-cache/expire/30d/nes_v2_matching/prediction_output\"\n",
    "\n",
    "# The path the serialized model gets saved to.\n",
    "MODEL_PATH = \"s3://lyft-fugue-cache/expire/30d/nes_v2_matching/model\"\n",
    "\n",
    "# The table you've generated for training. Should include your confounding variables along with the outcome and\n",
    "# experiences you wish to measure. \n",
    "\n",
    "SAMPLING_SOURCE_TABLE = 'yibeil.matching_nes_final2'\n",
    "\n",
    "#SAMPLING_SOURCE_TABLE = 'base.nes_v2_final'\n",
    "# The configuration file for your treatments. See https://github.com/lyft/nesdatapipeline for more details. \n",
    "treatment_group_config_path='s3://data-team/yibeil/matching_nes_treatment.json'\n",
    "#treatment_group_config_path='s3://data-team/dgoldman/nes_treatments/nesv2_9.json'"
   ]
  },
  {
   "cell_type": "code",
   "execution_count": null,
   "metadata": {},
   "outputs": [],
   "source": []
  }
 ],
 "metadata": {
  "kernelspec": {
   "display_name": "Python 3",
   "language": "python",
   "name": "python3"
  },
  "language_info": {
   "codemirror_mode": {
    "name": "ipython",
    "version": 3
   },
   "file_extension": ".py",
   "mimetype": "text/x-python",
   "name": "python",
   "nbconvert_exporter": "python",
   "pygments_lexer": "ipython3",
   "version": "3.6.9"
  }
 },
 "nbformat": 4,
 "nbformat_minor": 4
}
