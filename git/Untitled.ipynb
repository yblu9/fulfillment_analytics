{
 "cells": [
  {
   "cell_type": "code",
   "execution_count": 1,
   "id": "ecba63e4",
   "metadata": {},
   "outputs": [
    {
     "name": "stderr",
     "output_type": "stream",
     "text": [
      "{\"ts\": \"2022-02-02T19:29:03.715Z\", \"uuid\": \"2c2184c9-bfb2-42d6-878e-c5979f25f4f0\", \"name\": \"lyft_configset.configset\", \"lvlname\": \"ERROR\", \"lvlno\": 40, \"pid\": 131, \"call_site\": \"site-packages/lyft_configset/configset.py:77\", \"revision\": \"be1326c6dc\", \"msg\": \"Neither a configset at /srv/configset/envoyclient/current/ or runtime directory at /srv/runtime_data/current/envoyclient were found. It's likely that this is misconfigured.\"}\n"
     ]
    }
   ],
   "source": [
    "import pandas as pd\n",
    "import numpy as np\n",
    "import seaborn as sns\n",
    "import matplotlib.pyplot as plt\n",
    "from sklearn.model_selection import train_test_split\n",
    "from sklearn.linear_model import LinearRegression\n",
    "from sklearn import metrics\n",
    "from lyft_analysis.db import presto"
   ]
  },
  {
   "cell_type": "code",
   "execution_count": 13,
   "id": "78cdb8ec",
   "metadata": {},
   "outputs": [],
   "source": [
    "gh5_hours = \"\"\"\n",
    "select  orders\n",
    "       ,1.00*olo_orders/orders as olo_order_proportion\n",
    "       ,orders_arrived_at_pickup\n",
    "       ,round(order_to_arrive_rt,10) as order_to_arrive_rt\n",
    "       ,total_min\n",
    "       ,p3_min\n",
    "       ,p2_min\n",
    "       ,p1_min\n",
    "       ,round(p3_utilization,10) as p3_utilization\n",
    "    from hive.deliveryds.fact_delivery_geohash_hour_marketplace_metrics\n",
    "    where order_to_arrive_rt is not null\n",
    "      and total_min is not null\n",
    "      and p3_utilization is not null\n",
    "      and ds > '2021-11-01'\n",
    "\"\"\""
   ]
  },
  {
   "cell_type": "code",
   "execution_count": 6,
   "id": "4d414f52",
   "metadata": {},
   "outputs": [],
   "source": [
    "df = presto.query(gh5_hours)"
   ]
  },
  {
   "cell_type": "code",
   "execution_count": 14,
   "id": "fbcd0cb1",
   "metadata": {},
   "outputs": [
    {
     "data": {
      "text/html": [
       "<div>\n",
       "<style scoped>\n",
       "    .dataframe tbody tr th:only-of-type {\n",
       "        vertical-align: middle;\n",
       "    }\n",
       "\n",
       "    .dataframe tbody tr th {\n",
       "        vertical-align: top;\n",
       "    }\n",
       "\n",
       "    .dataframe thead th {\n",
       "        text-align: right;\n",
       "    }\n",
       "</style>\n",
       "<table border=\"1\" class=\"dataframe\">\n",
       "  <thead>\n",
       "    <tr style=\"text-align: right;\">\n",
       "      <th></th>\n",
       "      <th>orders</th>\n",
       "      <th>olo_order_proportion</th>\n",
       "      <th>orders_arrived_at_pickup</th>\n",
       "      <th>order_to_arrive_rt</th>\n",
       "      <th>total_min</th>\n",
       "      <th>p3_min</th>\n",
       "      <th>p2_min</th>\n",
       "      <th>p1_min</th>\n",
       "      <th>p3_utilization</th>\n",
       "    </tr>\n",
       "  </thead>\n",
       "  <tbody>\n",
       "    <tr>\n",
       "      <th>count</th>\n",
       "      <td>162361.000000</td>\n",
       "      <td>162361.000000</td>\n",
       "      <td>162361.000000</td>\n",
       "      <td>162361.000000</td>\n",
       "      <td>162361.000000</td>\n",
       "      <td>162361.000000</td>\n",
       "      <td>162361.000000</td>\n",
       "      <td>162361.000000</td>\n",
       "      <td>162361.000000</td>\n",
       "    </tr>\n",
       "    <tr>\n",
       "      <th>mean</th>\n",
       "      <td>1.556026</td>\n",
       "      <td>0.439759</td>\n",
       "      <td>1.444750</td>\n",
       "      <td>0.941501</td>\n",
       "      <td>237.287255</td>\n",
       "      <td>115.980476</td>\n",
       "      <td>56.482357</td>\n",
       "      <td>64.824422</td>\n",
       "      <td>0.463543</td>\n",
       "    </tr>\n",
       "    <tr>\n",
       "      <th>std</th>\n",
       "      <td>3.804855</td>\n",
       "      <td>0.495092</td>\n",
       "      <td>3.375906</td>\n",
       "      <td>0.219116</td>\n",
       "      <td>334.768852</td>\n",
       "      <td>185.094187</td>\n",
       "      <td>66.617075</td>\n",
       "      <td>138.053193</td>\n",
       "      <td>0.150436</td>\n",
       "    </tr>\n",
       "    <tr>\n",
       "      <th>min</th>\n",
       "      <td>1.000000</td>\n",
       "      <td>0.000000</td>\n",
       "      <td>0.000000</td>\n",
       "      <td>0.000000</td>\n",
       "      <td>1.000000</td>\n",
       "      <td>0.000000</td>\n",
       "      <td>0.000000</td>\n",
       "      <td>0.000000</td>\n",
       "      <td>0.000000</td>\n",
       "    </tr>\n",
       "    <tr>\n",
       "      <th>25%</th>\n",
       "      <td>1.000000</td>\n",
       "      <td>0.000000</td>\n",
       "      <td>1.000000</td>\n",
       "      <td>1.000000</td>\n",
       "      <td>73.000000</td>\n",
       "      <td>30.000000</td>\n",
       "      <td>21.000000</td>\n",
       "      <td>12.000000</td>\n",
       "      <td>0.373391</td>\n",
       "    </tr>\n",
       "    <tr>\n",
       "      <th>50%</th>\n",
       "      <td>1.000000</td>\n",
       "      <td>0.000000</td>\n",
       "      <td>1.000000</td>\n",
       "      <td>1.000000</td>\n",
       "      <td>147.000000</td>\n",
       "      <td>68.000000</td>\n",
       "      <td>40.000000</td>\n",
       "      <td>30.000000</td>\n",
       "      <td>0.476510</td>\n",
       "    </tr>\n",
       "    <tr>\n",
       "      <th>75%</th>\n",
       "      <td>1.000000</td>\n",
       "      <td>1.000000</td>\n",
       "      <td>1.000000</td>\n",
       "      <td>1.000000</td>\n",
       "      <td>283.000000</td>\n",
       "      <td>142.000000</td>\n",
       "      <td>70.000000</td>\n",
       "      <td>66.000000</td>\n",
       "      <td>0.566265</td>\n",
       "    </tr>\n",
       "    <tr>\n",
       "      <th>max</th>\n",
       "      <td>389.000000</td>\n",
       "      <td>1.000000</td>\n",
       "      <td>269.000000</td>\n",
       "      <td>1.000000</td>\n",
       "      <td>10415.000000</td>\n",
       "      <td>7580.000000</td>\n",
       "      <td>2293.000000</td>\n",
       "      <td>3413.000000</td>\n",
       "      <td>1.000000</td>\n",
       "    </tr>\n",
       "  </tbody>\n",
       "</table>\n",
       "</div>"
      ],
      "text/plain": [
       "              orders  olo_order_proportion  orders_arrived_at_pickup  order_to_arrive_rt      total_min         p3_min         p2_min         p1_min  p3_utilization\n",
       "count  162361.000000         162361.000000             162361.000000       162361.000000  162361.000000  162361.000000  162361.000000  162361.000000   162361.000000\n",
       "mean        1.556026              0.439759                  1.444750            0.941501     237.287255     115.980476      56.482357      64.824422        0.463543\n",
       "std         3.804855              0.495092                  3.375906            0.219116     334.768852     185.094187      66.617075     138.053193        0.150436\n",
       "min         1.000000              0.000000                  0.000000            0.000000       1.000000       0.000000       0.000000       0.000000        0.000000\n",
       "25%         1.000000              0.000000                  1.000000            1.000000      73.000000      30.000000      21.000000      12.000000        0.373391\n",
       "50%         1.000000              0.000000                  1.000000            1.000000     147.000000      68.000000      40.000000      30.000000        0.476510\n",
       "75%         1.000000              1.000000                  1.000000            1.000000     283.000000     142.000000      70.000000      66.000000        0.566265\n",
       "max       389.000000              1.000000                269.000000            1.000000   10415.000000    7580.000000    2293.000000    3413.000000        1.000000"
      ]
     },
     "execution_count": 14,
     "metadata": {},
     "output_type": "execute_result"
    }
   ],
   "source": [
    "df.describe()"
   ]
  },
  {
   "cell_type": "code",
   "execution_count": 15,
   "id": "1921a128",
   "metadata": {},
   "outputs": [
    {
     "data": {
      "text/plain": [
       "orders                        int64\n",
       "olo_order_proportion        float64\n",
       "orders_arrived_at_pickup      int64\n",
       "order_to_arrive_rt          float64\n",
       "total_min                     int64\n",
       "p3_min                        int64\n",
       "p2_min                        int64\n",
       "p1_min                        int64\n",
       "p3_utilization              float64\n",
       "dtype: object"
      ]
     },
     "execution_count": 15,
     "metadata": {},
     "output_type": "execute_result"
    }
   ],
   "source": [
    "df.dtypes"
   ]
  },
  {
   "cell_type": "code",
   "execution_count": 16,
   "id": "d72cb9c3",
   "metadata": {},
   "outputs": [
    {
     "data": {
      "text/html": [
       "<div>\n",
       "<style scoped>\n",
       "    .dataframe tbody tr th:only-of-type {\n",
       "        vertical-align: middle;\n",
       "    }\n",
       "\n",
       "    .dataframe tbody tr th {\n",
       "        vertical-align: top;\n",
       "    }\n",
       "\n",
       "    .dataframe thead th {\n",
       "        text-align: right;\n",
       "    }\n",
       "</style>\n",
       "<table border=\"1\" class=\"dataframe\">\n",
       "  <thead>\n",
       "    <tr style=\"text-align: right;\">\n",
       "      <th></th>\n",
       "      <th>orders</th>\n",
       "      <th>olo_order_proportion</th>\n",
       "      <th>orders_arrived_at_pickup</th>\n",
       "      <th>order_to_arrive_rt</th>\n",
       "      <th>total_min</th>\n",
       "      <th>p3_min</th>\n",
       "      <th>p2_min</th>\n",
       "      <th>p1_min</th>\n",
       "      <th>p3_utilization</th>\n",
       "    </tr>\n",
       "  </thead>\n",
       "  <tbody>\n",
       "    <tr>\n",
       "      <th>0</th>\n",
       "      <td>1.0</td>\n",
       "      <td>1.0</td>\n",
       "      <td>1.0</td>\n",
       "      <td>1.0</td>\n",
       "      <td>183.0</td>\n",
       "      <td>73.0</td>\n",
       "      <td>37.0</td>\n",
       "      <td>73.0</td>\n",
       "      <td>0.398907</td>\n",
       "    </tr>\n",
       "    <tr>\n",
       "      <th>1</th>\n",
       "      <td>1.0</td>\n",
       "      <td>0.0</td>\n",
       "      <td>1.0</td>\n",
       "      <td>1.0</td>\n",
       "      <td>39.0</td>\n",
       "      <td>11.0</td>\n",
       "      <td>24.0</td>\n",
       "      <td>4.0</td>\n",
       "      <td>0.282051</td>\n",
       "    </tr>\n",
       "    <tr>\n",
       "      <th>2</th>\n",
       "      <td>2.0</td>\n",
       "      <td>0.0</td>\n",
       "      <td>2.0</td>\n",
       "      <td>1.0</td>\n",
       "      <td>172.0</td>\n",
       "      <td>72.0</td>\n",
       "      <td>72.0</td>\n",
       "      <td>28.0</td>\n",
       "      <td>0.418605</td>\n",
       "    </tr>\n",
       "    <tr>\n",
       "      <th>3</th>\n",
       "      <td>1.0</td>\n",
       "      <td>1.0</td>\n",
       "      <td>1.0</td>\n",
       "      <td>1.0</td>\n",
       "      <td>154.0</td>\n",
       "      <td>67.0</td>\n",
       "      <td>26.0</td>\n",
       "      <td>61.0</td>\n",
       "      <td>0.435065</td>\n",
       "    </tr>\n",
       "    <tr>\n",
       "      <th>4</th>\n",
       "      <td>1.0</td>\n",
       "      <td>0.0</td>\n",
       "      <td>1.0</td>\n",
       "      <td>1.0</td>\n",
       "      <td>107.0</td>\n",
       "      <td>69.0</td>\n",
       "      <td>37.0</td>\n",
       "      <td>1.0</td>\n",
       "      <td>0.644860</td>\n",
       "    </tr>\n",
       "    <tr>\n",
       "      <th>...</th>\n",
       "      <td>...</td>\n",
       "      <td>...</td>\n",
       "      <td>...</td>\n",
       "      <td>...</td>\n",
       "      <td>...</td>\n",
       "      <td>...</td>\n",
       "      <td>...</td>\n",
       "      <td>...</td>\n",
       "      <td>...</td>\n",
       "    </tr>\n",
       "    <tr>\n",
       "      <th>162356</th>\n",
       "      <td>1.0</td>\n",
       "      <td>0.0</td>\n",
       "      <td>1.0</td>\n",
       "      <td>1.0</td>\n",
       "      <td>428.0</td>\n",
       "      <td>314.0</td>\n",
       "      <td>99.0</td>\n",
       "      <td>15.0</td>\n",
       "      <td>0.733645</td>\n",
       "    </tr>\n",
       "    <tr>\n",
       "      <th>162357</th>\n",
       "      <td>1.0</td>\n",
       "      <td>1.0</td>\n",
       "      <td>1.0</td>\n",
       "      <td>1.0</td>\n",
       "      <td>35.0</td>\n",
       "      <td>16.0</td>\n",
       "      <td>17.0</td>\n",
       "      <td>2.0</td>\n",
       "      <td>0.457143</td>\n",
       "    </tr>\n",
       "    <tr>\n",
       "      <th>162358</th>\n",
       "      <td>1.0</td>\n",
       "      <td>0.0</td>\n",
       "      <td>1.0</td>\n",
       "      <td>1.0</td>\n",
       "      <td>101.0</td>\n",
       "      <td>51.0</td>\n",
       "      <td>45.0</td>\n",
       "      <td>5.0</td>\n",
       "      <td>0.504950</td>\n",
       "    </tr>\n",
       "    <tr>\n",
       "      <th>162359</th>\n",
       "      <td>1.0</td>\n",
       "      <td>1.0</td>\n",
       "      <td>1.0</td>\n",
       "      <td>1.0</td>\n",
       "      <td>1022.0</td>\n",
       "      <td>545.0</td>\n",
       "      <td>147.0</td>\n",
       "      <td>330.0</td>\n",
       "      <td>0.533268</td>\n",
       "    </tr>\n",
       "    <tr>\n",
       "      <th>162360</th>\n",
       "      <td>1.0</td>\n",
       "      <td>0.0</td>\n",
       "      <td>1.0</td>\n",
       "      <td>1.0</td>\n",
       "      <td>80.0</td>\n",
       "      <td>28.0</td>\n",
       "      <td>25.0</td>\n",
       "      <td>27.0</td>\n",
       "      <td>0.350000</td>\n",
       "    </tr>\n",
       "  </tbody>\n",
       "</table>\n",
       "<p>162361 rows × 9 columns</p>\n",
       "</div>"
      ],
      "text/plain": [
       "        orders  olo_order_proportion  orders_arrived_at_pickup  order_to_arrive_rt  total_min  p3_min  p2_min  p1_min  p3_utilization\n",
       "0          1.0                   1.0                       1.0                 1.0      183.0    73.0    37.0    73.0        0.398907\n",
       "1          1.0                   0.0                       1.0                 1.0       39.0    11.0    24.0     4.0        0.282051\n",
       "2          2.0                   0.0                       2.0                 1.0      172.0    72.0    72.0    28.0        0.418605\n",
       "3          1.0                   1.0                       1.0                 1.0      154.0    67.0    26.0    61.0        0.435065\n",
       "4          1.0                   0.0                       1.0                 1.0      107.0    69.0    37.0     1.0        0.644860\n",
       "...        ...                   ...                       ...                 ...        ...     ...     ...     ...             ...\n",
       "162356     1.0                   0.0                       1.0                 1.0      428.0   314.0    99.0    15.0        0.733645\n",
       "162357     1.0                   1.0                       1.0                 1.0       35.0    16.0    17.0     2.0        0.457143\n",
       "162358     1.0                   0.0                       1.0                 1.0      101.0    51.0    45.0     5.0        0.504950\n",
       "162359     1.0                   1.0                       1.0                 1.0     1022.0   545.0   147.0   330.0        0.533268\n",
       "162360     1.0                   0.0                       1.0                 1.0       80.0    28.0    25.0    27.0        0.350000\n",
       "\n",
       "[162361 rows x 9 columns]"
      ]
     },
     "execution_count": 16,
     "metadata": {},
     "output_type": "execute_result"
    }
   ],
   "source": [
    "def clean_dataset(df):\n",
    "    assert isinstance(df, pd.DataFrame), \"df needs to be a pd.DataFrame\"\n",
    "    df.dropna(inplace=True)\n",
    "    indices_to_keep = ~df.isin([np.nan, np.inf, -np.inf]).any(1)\n",
    "    return df.astype(np.float64)\n",
    "clean_dataset(df)\n"
   ]
  },
  {
   "cell_type": "code",
   "execution_count": 10,
   "id": "6a457e59",
   "metadata": {},
   "outputs": [
    {
     "data": {
      "text/html": [
       "<div>\n",
       "<style scoped>\n",
       "    .dataframe tbody tr th:only-of-type {\n",
       "        vertical-align: middle;\n",
       "    }\n",
       "\n",
       "    .dataframe tbody tr th {\n",
       "        vertical-align: top;\n",
       "    }\n",
       "\n",
       "    .dataframe thead th {\n",
       "        text-align: right;\n",
       "    }\n",
       "</style>\n",
       "<table border=\"1\" class=\"dataframe\">\n",
       "  <thead>\n",
       "    <tr style=\"text-align: right;\">\n",
       "      <th></th>\n",
       "      <th>orders</th>\n",
       "      <th>olo_order_proportion</th>\n",
       "      <th>orders_arrived_at_pickup</th>\n",
       "      <th>order_to_arrive_rt</th>\n",
       "      <th>total_min</th>\n",
       "      <th>p3_min</th>\n",
       "      <th>p2_min</th>\n",
       "      <th>p1_min</th>\n",
       "      <th>p3_utilization</th>\n",
       "    </tr>\n",
       "  </thead>\n",
       "  <tbody>\n",
       "  </tbody>\n",
       "</table>\n",
       "</div>"
      ],
      "text/plain": [
       "Empty DataFrame\n",
       "Columns: [orders, olo_order_proportion, orders_arrived_at_pickup, order_to_arrive_rt, total_min, p3_min, p2_min, p1_min, p3_utilization]\n",
       "Index: []"
      ]
     },
     "execution_count": 10,
     "metadata": {},
     "output_type": "execute_result"
    }
   ],
   "source": [
    "df[df.isin([np.nan, np.inf, -np.inf]).any(1)]"
   ]
  },
  {
   "cell_type": "code",
   "execution_count": 11,
   "id": "6a6e26e8",
   "metadata": {},
   "outputs": [
    {
     "name": "stdout",
     "output_type": "stream",
     "text": [
      "<class 'pandas.core.frame.DataFrame'>\n",
      "Int64Index: 162361 entries, 0 to 162360\n",
      "Data columns (total 9 columns):\n",
      " #   Column                    Non-Null Count   Dtype  \n",
      "---  ------                    --------------   -----  \n",
      " 0   orders                    162361 non-null  int64  \n",
      " 1   olo_order_proportion      162361 non-null  float64\n",
      " 2   orders_arrived_at_pickup  162361 non-null  int64  \n",
      " 3   order_to_arrive_rt        162361 non-null  float64\n",
      " 4   total_min                 162361 non-null  int64  \n",
      " 5   p3_min                    162361 non-null  int64  \n",
      " 6   p2_min                    162361 non-null  int64  \n",
      " 7   p1_min                    162361 non-null  int64  \n",
      " 8   p3_utilization            162361 non-null  float64\n",
      "dtypes: float64(3), int64(6)\n",
      "memory usage: 12.4 MB\n"
     ]
    }
   ],
   "source": [
    "df.info()"
   ]
  },
  {
   "cell_type": "code",
   "execution_count": 59,
   "id": "29a7c78e",
   "metadata": {},
   "outputs": [
    {
     "data": {
      "image/png": "[encoded data removed]",
      "text/plain": [
       "<Figure size 1080x720 with 1 Axes>"
      ]
     },
     "metadata": {
      "needs_background": "light"
     },
     "output_type": "display_data"
    }
   ],
   "source": [
    "#distribution of independent variable p3_utilization\n",
    "plt.figure(figsize=(15,10))\n",
    "plt.tight_layout()\n",
    "sns.histplot(df['p3_utilization'])\n",
    "plt.show() "
   ]
  },
  {
   "cell_type": "code",
   "execution_count": 60,
   "id": "b98c959b",
   "metadata": {},
   "outputs": [
    {
     "data": {
      "image/png": "[encoded data removed]",
      "text/plain": [
       "<Figure size 1080x720 with 1 Axes>"
      ]
     },
     "metadata": {
      "needs_background": "light"
     },
     "output_type": "display_data"
    }
   ],
   "source": [
    "#distribution of independent variable total_min\n",
    "plt.figure(figsize=(15,10))\n",
    "plt.tight_layout()\n",
    "sns.histplot(df['total_min'])\n",
    "plt.show() "
   ]
  },
  {
   "cell_type": "code",
   "execution_count": 19,
   "id": "f6b5206e",
   "metadata": {},
   "outputs": [
    {
     "data": {
      "image/png": "[encoded data removed]",
      "text/plain": [
       "<Figure size 1080x720 with 1 Axes>"
      ]
     },
     "metadata": {
      "needs_background": "light"
     },
     "output_type": "display_data"
    }
   ],
   "source": [
    "#distribution of dependent variable order_to_accept_rt\n",
    "plt.figure(figsize=(15,10))\n",
    "plt.tight_layout()\n",
    "sns.histplot(df['order_to_arrive_rt'])\n",
    "plt.show() "
   ]
  },
  {
   "cell_type": "code",
   "execution_count": 20,
   "id": "130674fe",
   "metadata": {},
   "outputs": [],
   "source": [
    "#understand rough relationships\n",
    "\n",
    "df['bucketed_p3_utilization'] = round(df['p3_utilization']/5,2)*5\n",
    "gdf = df.groupby(by='bucketed_p3_utilization',as_index=False).agg({'orders':np.sum,'orders_arrived_at_pickup':np.sum})\n",
    "gdf['arrive_rt'] = 1.00 * gdf['orders_arrived_at_pickup']/gdf['orders']"
   ]
  },
  {
   "cell_type": "code",
   "execution_count": 21,
   "id": "4029ea4d",
   "metadata": {},
   "outputs": [
    {
     "data": {
      "text/plain": [
       "Text(0.5, 1.0, 'arrive rt by p3 utilization')"
      ]
     },
     "execution_count": 21,
     "metadata": {},
     "output_type": "execute_result"
    },
    {
     "data": {
      "image/png": "[encoded data removed]",
      "text/plain": [
       "<Figure size 432x288 with 1 Axes>"
      ]
     },
     "metadata": {
      "needs_background": "light"
     },
     "output_type": "display_data"
    }
   ],
   "source": [
    "fig1 = plt.figure()\n",
    "axes1 = fig1.add_axes([0.1,0.1,0.8,0.8])\n",
    "axes1.plot('bucketed_p3_utilization','arrive_rt',data=gdf)\n",
    "axes1.set_title('arrive rt by p3 utilization')\n"
   ]
  },
  {
   "cell_type": "code",
   "execution_count": 23,
   "id": "edef7444",
   "metadata": {},
   "outputs": [],
   "source": [
    "df = df[(df['p3_utilization']>0.1) & (df['total_min'] > 1) & (df['orders']>1)]"
   ]
  },
  {
   "cell_type": "code",
   "execution_count": 24,
   "id": "e0c0fa6a",
   "metadata": {},
   "outputs": [
    {
     "data": {
      "text/html": [
       "<div>\n",
       "<style scoped>\n",
       "    .dataframe tbody tr th:only-of-type {\n",
       "        vertical-align: middle;\n",
       "    }\n",
       "\n",
       "    .dataframe tbody tr th {\n",
       "        vertical-align: top;\n",
       "    }\n",
       "\n",
       "    .dataframe thead th {\n",
       "        text-align: right;\n",
       "    }\n",
       "</style>\n",
       "<table border=\"1\" class=\"dataframe\">\n",
       "  <thead>\n",
       "    <tr style=\"text-align: right;\">\n",
       "      <th></th>\n",
       "      <th>orders</th>\n",
       "      <th>olo_order_proportion</th>\n",
       "      <th>orders_arrived_at_pickup</th>\n",
       "      <th>order_to_arrive_rt</th>\n",
       "      <th>total_min</th>\n",
       "      <th>p3_min</th>\n",
       "      <th>p2_min</th>\n",
       "      <th>p1_min</th>\n",
       "      <th>p3_utilization</th>\n",
       "      <th>bucketed_p3_utilization</th>\n",
       "    </tr>\n",
       "  </thead>\n",
       "  <tbody>\n",
       "    <tr>\n",
       "      <th>count</th>\n",
       "      <td>35940.000000</td>\n",
       "      <td>35940.000000</td>\n",
       "      <td>35940.000000</td>\n",
       "      <td>35940.000000</td>\n",
       "      <td>35940.000000</td>\n",
       "      <td>35940.000000</td>\n",
       "      <td>35940.00000</td>\n",
       "      <td>35940.000000</td>\n",
       "      <td>35940.000000</td>\n",
       "      <td>35940.000000</td>\n",
       "    </tr>\n",
       "    <tr>\n",
       "      <th>mean</th>\n",
       "      <td>3.495632</td>\n",
       "      <td>0.278358</td>\n",
       "      <td>3.185392</td>\n",
       "      <td>0.923914</td>\n",
       "      <td>286.501419</td>\n",
       "      <td>141.480467</td>\n",
       "      <td>71.39207</td>\n",
       "      <td>73.628881</td>\n",
       "      <td>0.471436</td>\n",
       "      <td>0.471483</td>\n",
       "    </tr>\n",
       "    <tr>\n",
       "      <th>std</th>\n",
       "      <td>7.780973</td>\n",
       "      <td>0.441938</td>\n",
       "      <td>6.884966</td>\n",
       "      <td>0.197855</td>\n",
       "      <td>338.950064</td>\n",
       "      <td>191.205081</td>\n",
       "      <td>67.43843</td>\n",
       "      <td>126.689666</td>\n",
       "      <td>0.129407</td>\n",
       "      <td>0.130202</td>\n",
       "    </tr>\n",
       "    <tr>\n",
       "      <th>min</th>\n",
       "      <td>2.000000</td>\n",
       "      <td>0.000000</td>\n",
       "      <td>0.000000</td>\n",
       "      <td>0.000000</td>\n",
       "      <td>2.000000</td>\n",
       "      <td>1.000000</td>\n",
       "      <td>0.00000</td>\n",
       "      <td>0.000000</td>\n",
       "      <td>0.100418</td>\n",
       "      <td>0.100000</td>\n",
       "    </tr>\n",
       "    <tr>\n",
       "      <th>25%</th>\n",
       "      <td>2.000000</td>\n",
       "      <td>0.000000</td>\n",
       "      <td>2.000000</td>\n",
       "      <td>1.000000</td>\n",
       "      <td>104.000000</td>\n",
       "      <td>43.000000</td>\n",
       "      <td>33.00000</td>\n",
       "      <td>16.000000</td>\n",
       "      <td>0.385965</td>\n",
       "      <td>0.400000</td>\n",
       "    </tr>\n",
       "    <tr>\n",
       "      <th>50%</th>\n",
       "      <td>2.000000</td>\n",
       "      <td>0.000000</td>\n",
       "      <td>2.000000</td>\n",
       "      <td>1.000000</td>\n",
       "      <td>203.000000</td>\n",
       "      <td>97.000000</td>\n",
       "      <td>56.00000</td>\n",
       "      <td>38.000000</td>\n",
       "      <td>0.479452</td>\n",
       "      <td>0.500000</td>\n",
       "    </tr>\n",
       "    <tr>\n",
       "      <th>75%</th>\n",
       "      <td>3.000000</td>\n",
       "      <td>1.000000</td>\n",
       "      <td>3.000000</td>\n",
       "      <td>1.000000</td>\n",
       "      <td>359.000000</td>\n",
       "      <td>183.000000</td>\n",
       "      <td>91.00000</td>\n",
       "      <td>82.000000</td>\n",
       "      <td>0.562500</td>\n",
       "      <td>0.550000</td>\n",
       "    </tr>\n",
       "    <tr>\n",
       "      <th>max</th>\n",
       "      <td>389.000000</td>\n",
       "      <td>1.000000</td>\n",
       "      <td>269.000000</td>\n",
       "      <td>1.000000</td>\n",
       "      <td>7888.000000</td>\n",
       "      <td>5092.000000</td>\n",
       "      <td>1376.00000</td>\n",
       "      <td>2886.000000</td>\n",
       "      <td>1.000000</td>\n",
       "      <td>1.000000</td>\n",
       "    </tr>\n",
       "  </tbody>\n",
       "</table>\n",
       "</div>"
      ],
      "text/plain": [
       "             orders  olo_order_proportion  orders_arrived_at_pickup  order_to_arrive_rt     total_min        p3_min       p2_min        p1_min  p3_utilization  bucketed_p3_utilization\n",
       "count  35940.000000          35940.000000              35940.000000        35940.000000  35940.000000  35940.000000  35940.00000  35940.000000    35940.000000             35940.000000\n",
       "mean       3.495632              0.278358                  3.185392            0.923914    286.501419    141.480467     71.39207     73.628881        0.471436                 0.471483\n",
       "std        7.780973              0.441938                  6.884966            0.197855    338.950064    191.205081     67.43843    126.689666        0.129407                 0.130202\n",
       "min        2.000000              0.000000                  0.000000            0.000000      2.000000      1.000000      0.00000      0.000000        0.100418                 0.100000\n",
       "25%        2.000000              0.000000                  2.000000            1.000000    104.000000     43.000000     33.00000     16.000000        0.385965                 0.400000\n",
       "50%        2.000000              0.000000                  2.000000            1.000000    203.000000     97.000000     56.00000     38.000000        0.479452                 0.500000\n",
       "75%        3.000000              1.000000                  3.000000            1.000000    359.000000    183.000000     91.00000     82.000000        0.562500                 0.550000\n",
       "max      389.000000              1.000000                269.000000            1.000000   7888.000000   5092.000000   1376.00000   2886.000000        1.000000                 1.000000"
      ]
     },
     "execution_count": 24,
     "metadata": {},
     "output_type": "execute_result"
    }
   ],
   "source": [
    "df.describe()"
   ]
  },
  {
   "cell_type": "code",
   "execution_count": 61,
   "id": "fc6d80c9",
   "metadata": {},
   "outputs": [],
   "source": [
    "y_log = np.log(df['order_to_arrive_rt'].values.reshape(-1,1) + 1)\n",
    "x = df['p3_utilization'].values.reshape(-1,1)"
   ]
  },
  {
   "cell_type": "code",
   "execution_count": 62,
   "id": "e880160b",
   "metadata": {},
   "outputs": [],
   "source": [
    "X_train_exp, X_test_exp, Y_train_exp, Y_test_exp = train_test_split(x, y_log, test_size=0.2, random_state= 42)\n"
   ]
  },
  {
   "cell_type": "code",
   "execution_count": 63,
   "id": "47e1bc76",
   "metadata": {},
   "outputs": [
    {
     "data": {
      "text/plain": [
       "LinearRegression(copy_X=True, fit_intercept=True, n_jobs=1, normalize=False)"
      ]
     },
     "execution_count": 63,
     "metadata": {},
     "output_type": "execute_result"
    }
   ],
   "source": [
    "exp_model= LinearRegression()\n",
    "exp_model.fit(X_train_exp, Y_train_exp)"
   ]
  },
  {
   "cell_type": "code",
   "execution_count": 64,
   "id": "89ebb9bb",
   "metadata": {},
   "outputs": [
    {
     "name": "stdout",
     "output_type": "stream",
     "text": [
      " Exponent Model Intercept value is  [0.69190386]\n",
      " Exponent model Coefficient value is  [[-0.09311833]]\n"
     ]
    }
   ],
   "source": [
    "print(\" Exponent Model Intercept value is \", exp_model.intercept_)\n",
    "print(\" Exponent model Coefficient value is \", exp_model.coef_)"
   ]
  },
  {
   "cell_type": "code",
   "execution_count": 65,
   "id": "dfbe9b49",
   "metadata": {},
   "outputs": [
    {
     "data": {
      "text/plain": [
       "array([[0.62353026],\n",
       "       [0.64235246],\n",
       "       [0.63569219],\n",
       "       ...,\n",
       "       [0.67091187],\n",
       "       [0.65603041],\n",
       "       [0.63888759]])"
      ]
     },
     "execution_count": 65,
     "metadata": {},
     "output_type": "execute_result"
    }
   ],
   "source": [
    "exp_model_pred= exp_model.predict(X_test_exp)\n",
    "exp_model_pred"
   ]
  },
  {
   "cell_type": "code",
   "execution_count": 66,
   "id": "d1bcd93f",
   "metadata": {},
   "outputs": [
    {
     "data": {
      "text/html": [
       "<div>\n",
       "<style scoped>\n",
       "    .dataframe tbody tr th:only-of-type {\n",
       "        vertical-align: middle;\n",
       "    }\n",
       "\n",
       "    .dataframe tbody tr th {\n",
       "        vertical-align: top;\n",
       "    }\n",
       "\n",
       "    .dataframe thead th {\n",
       "        text-align: right;\n",
       "    }\n",
       "</style>\n",
       "<table border=\"1\" class=\"dataframe\">\n",
       "  <thead>\n",
       "    <tr style=\"text-align: right;\">\n",
       "      <th></th>\n",
       "      <th>Actual</th>\n",
       "      <th>Predict</th>\n",
       "    </tr>\n",
       "  </thead>\n",
       "  <tbody>\n",
       "    <tr>\n",
       "      <th>0</th>\n",
       "      <td>0.693147</td>\n",
       "      <td>0.623530</td>\n",
       "    </tr>\n",
       "    <tr>\n",
       "      <th>1</th>\n",
       "      <td>0.693147</td>\n",
       "      <td>0.642352</td>\n",
       "    </tr>\n",
       "    <tr>\n",
       "      <th>2</th>\n",
       "      <td>0.693147</td>\n",
       "      <td>0.635692</td>\n",
       "    </tr>\n",
       "    <tr>\n",
       "      <th>3</th>\n",
       "      <td>0.693147</td>\n",
       "      <td>0.643934</td>\n",
       "    </tr>\n",
       "    <tr>\n",
       "      <th>4</th>\n",
       "      <td>0.693147</td>\n",
       "      <td>0.663731</td>\n",
       "    </tr>\n",
       "    <tr>\n",
       "      <th>...</th>\n",
       "      <td>...</td>\n",
       "      <td>...</td>\n",
       "    </tr>\n",
       "    <tr>\n",
       "      <th>7183</th>\n",
       "      <td>0.693147</td>\n",
       "      <td>0.654247</td>\n",
       "    </tr>\n",
       "    <tr>\n",
       "      <th>7184</th>\n",
       "      <td>0.606136</td>\n",
       "      <td>0.645464</td>\n",
       "    </tr>\n",
       "    <tr>\n",
       "      <th>7185</th>\n",
       "      <td>0.619039</td>\n",
       "      <td>0.670912</td>\n",
       "    </tr>\n",
       "    <tr>\n",
       "      <th>7186</th>\n",
       "      <td>0.693147</td>\n",
       "      <td>0.656030</td>\n",
       "    </tr>\n",
       "    <tr>\n",
       "      <th>7187</th>\n",
       "      <td>0.693147</td>\n",
       "      <td>0.638888</td>\n",
       "    </tr>\n",
       "  </tbody>\n",
       "</table>\n",
       "<p>7188 rows × 2 columns</p>\n",
       "</div>"
      ],
      "text/plain": [
       "        Actual   Predict\n",
       "0     0.693147  0.623530\n",
       "1     0.693147  0.642352\n",
       "2     0.693147  0.635692\n",
       "3     0.693147  0.643934\n",
       "4     0.693147  0.663731\n",
       "...        ...       ...\n",
       "7183  0.693147  0.654247\n",
       "7184  0.606136  0.645464\n",
       "7185  0.619039  0.670912\n",
       "7186  0.693147  0.656030\n",
       "7187  0.693147  0.638888\n",
       "\n",
       "[7188 rows x 2 columns]"
      ]
     },
     "execution_count": 66,
     "metadata": {},
     "output_type": "execute_result"
    }
   ],
   "source": [
    "pmsh_exp = pd.DataFrame({'Actual':Y_test_exp.flatten(), 'Predict': exp_model_pred.flatten()})\n",
    "pmsh_exp"
   ]
  },
  {
   "cell_type": "code",
   "execution_count": 67,
   "id": "154f5782",
   "metadata": {},
   "outputs": [
    {
     "name": "stdout",
     "output_type": "stream",
     "text": [
      "Mean Absolute Error: 0.07737207545598462\n",
      "Mean Squared Error: 0.01637706625946128\n",
      "Root Mean Squared Error: 0.12797291220981602\n",
      "R^2 Score :           0.00731861334289563\n"
     ]
    }
   ],
   "source": [
    "print('Mean Absolute Error:', metrics.mean_absolute_error(Y_test_exp, exp_model_pred))  \n",
    "print('Mean Squared Error:', metrics.mean_squared_error(Y_test_exp, exp_model_pred) ) \n",
    "print('Root Mean Squared Error:', np.sqrt(metrics.mean_squared_error(Y_test_exp, exp_model_pred)))\n",
    "print(\"R^2 Score :          \", metrics.r2_score(Y_test_exp, exp_model_pred))\n"
   ]
  },
  {
   "cell_type": "code",
   "execution_count": 68,
   "id": "b093418f",
   "metadata": {},
   "outputs": [],
   "source": [
    "X_c = df[['p3_utilization','total_min','olo_order_proportion']]\n",
    "Y_c = np.log(df['order_to_arrive_rt'] + 1)"
   ]
  },
  {
   "cell_type": "code",
   "execution_count": 69,
   "id": "b1276e7b",
   "metadata": {},
   "outputs": [],
   "source": [
    "X_train_c, X_test_c, Y_train_c, Y_test_c = train_test_split(X_c, Y_c, test_size=0.2, random_state= 42)\n"
   ]
  },
  {
   "cell_type": "code",
   "execution_count": 70,
   "id": "6d407f9c",
   "metadata": {},
   "outputs": [
    {
     "data": {
      "text/plain": [
       "LinearRegression(copy_X=True, fit_intercept=True, n_jobs=1, normalize=False)"
      ]
     },
     "execution_count": 70,
     "metadata": {},
     "output_type": "execute_result"
    }
   ],
   "source": [
    "polynomial_model = LinearRegression()\n",
    "polynomial_model.fit(X_train_c, Y_train_c)"
   ]
  },
  {
   "cell_type": "code",
   "execution_count": 71,
   "id": "b7534579",
   "metadata": {},
   "outputs": [
    {
     "name": "stdout",
     "output_type": "stream",
     "text": [
      " Intercept value of Polynomial Model is  0.6700769232981939\n",
      "                         value\n",
      "p3_utilization       -0.074770\n",
      "total_min             0.000014\n",
      "olo_order_proportion  0.032617\n"
     ]
    }
   ],
   "source": [
    "print(\" Intercept value of Polynomial Model is \" ,polynomial_model.intercept_)\n",
    "\n",
    "coeff_df = pd.DataFrame(polynomial_model.coef_, X_c.columns, columns=['value'])\n",
    "print(coeff_df)"
   ]
  },
  {
   "cell_type": "code",
   "execution_count": 72,
   "id": "66d5efc6",
   "metadata": {},
   "outputs": [],
   "source": [
    "coeff_df.index.names=['parameter']\n",
    "coeff_df.reset_index(inplace=True,col_fill='parameter')\n",
    "\n",
    "intercept_df = pd.DataFrame({'value':polynomial_model.intercept_},index=[0])\n",
    "intercept_df.index.names=['parameter']\n",
    "intercept_df.reset_index(inplace=True,col_fill='parameter')\n",
    "intercept_df.replace(to_replace=[0],value='intercept',inplace=True)"
   ]
  },
  {
   "cell_type": "code",
   "execution_count": 73,
   "id": "ddd0ca2f",
   "metadata": {},
   "outputs": [],
   "source": [
    "df_outcome = pd.concat([coeff_df, intercept_df],axis=0)"
   ]
  },
  {
   "cell_type": "code",
   "execution_count": 74,
   "id": "9dea8bc1",
   "metadata": {},
   "outputs": [
    {
     "data": {
      "text/html": [
       "<div>\n",
       "<style scoped>\n",
       "    .dataframe tbody tr th:only-of-type {\n",
       "        vertical-align: middle;\n",
       "    }\n",
       "\n",
       "    .dataframe tbody tr th {\n",
       "        vertical-align: top;\n",
       "    }\n",
       "\n",
       "    .dataframe thead th {\n",
       "        text-align: right;\n",
       "    }\n",
       "</style>\n",
       "<table border=\"1\" class=\"dataframe\">\n",
       "  <thead>\n",
       "    <tr style=\"text-align: right;\">\n",
       "      <th></th>\n",
       "      <th>parameter</th>\n",
       "      <th>value</th>\n",
       "    </tr>\n",
       "  </thead>\n",
       "  <tbody>\n",
       "    <tr>\n",
       "      <th>0</th>\n",
       "      <td>p3_utilization</td>\n",
       "      <td>-0.074770</td>\n",
       "    </tr>\n",
       "    <tr>\n",
       "      <th>1</th>\n",
       "      <td>total_min</td>\n",
       "      <td>0.000014</td>\n",
       "    </tr>\n",
       "    <tr>\n",
       "      <th>2</th>\n",
       "      <td>olo_order_proportion</td>\n",
       "      <td>0.032617</td>\n",
       "    </tr>\n",
       "    <tr>\n",
       "      <th>0</th>\n",
       "      <td>intercept</td>\n",
       "      <td>0.670077</td>\n",
       "    </tr>\n",
       "  </tbody>\n",
       "</table>\n",
       "</div>"
      ],
      "text/plain": [
       "              parameter     value\n",
       "0        p3_utilization -0.074770\n",
       "1             total_min  0.000014\n",
       "2  olo_order_proportion  0.032617\n",
       "0             intercept  0.670077"
      ]
     },
     "execution_count": 74,
     "metadata": {},
     "output_type": "execute_result"
    }
   ],
   "source": [
    "df_outcome"
   ]
  },
  {
   "cell_type": "code",
   "execution_count": 75,
   "id": "c2aeabfb",
   "metadata": {},
   "outputs": [],
   "source": [
    "from datetime import datetime, date, timezone"
   ]
  },
  {
   "cell_type": "code",
   "execution_count": 76,
   "id": "50aef8ac",
   "metadata": {},
   "outputs": [],
   "source": [
    "y_pred_poly = polynomial_model.predict(X_test_c)"
   ]
  },
  {
   "cell_type": "code",
   "execution_count": 77,
   "id": "1d1b4e97",
   "metadata": {},
   "outputs": [],
   "source": [
    "df_outcome['train_ds'] = pd.to_datetime('today').date()\n",
    "df_outcome['train_ds'] = df_outcome['train_ds'].astype(str)"
   ]
  },
  {
   "cell_type": "code",
   "execution_count": 78,
   "id": "af8b93a1",
   "metadata": {},
   "outputs": [],
   "source": [
    "cols = ['parameter','value','train_ds']"
   ]
  },
  {
   "cell_type": "code",
   "execution_count": 84,
   "id": "4fea755f",
   "metadata": {},
   "outputs": [
    {
     "data": {
      "text/html": [
       "<div>\n",
       "<style scoped>\n",
       "    .dataframe tbody tr th:only-of-type {\n",
       "        vertical-align: middle;\n",
       "    }\n",
       "\n",
       "    .dataframe tbody tr th {\n",
       "        vertical-align: top;\n",
       "    }\n",
       "\n",
       "    .dataframe thead th {\n",
       "        text-align: right;\n",
       "    }\n",
       "</style>\n",
       "<table border=\"1\" class=\"dataframe\">\n",
       "  <thead>\n",
       "    <tr style=\"text-align: right;\">\n",
       "      <th></th>\n",
       "      <th>parameter</th>\n",
       "      <th>value</th>\n",
       "      <th>train_ds</th>\n",
       "    </tr>\n",
       "  </thead>\n",
       "  <tbody>\n",
       "    <tr>\n",
       "      <th>0</th>\n",
       "      <td>p3_utilization</td>\n",
       "      <td>-0.074770</td>\n",
       "      <td>2022-02-02</td>\n",
       "    </tr>\n",
       "    <tr>\n",
       "      <th>1</th>\n",
       "      <td>total_min</td>\n",
       "      <td>0.000014</td>\n",
       "      <td>2022-02-02</td>\n",
       "    </tr>\n",
       "    <tr>\n",
       "      <th>2</th>\n",
       "      <td>olo_order_proportion</td>\n",
       "      <td>0.032617</td>\n",
       "      <td>2022-02-02</td>\n",
       "    </tr>\n",
       "    <tr>\n",
       "      <th>0</th>\n",
       "      <td>intercept</td>\n",
       "      <td>0.670077</td>\n",
       "      <td>2022-02-02</td>\n",
       "    </tr>\n",
       "  </tbody>\n",
       "</table>\n",
       "</div>"
      ],
      "text/plain": [
       "              parameter     value    train_ds\n",
       "0        p3_utilization -0.074770  2022-02-02\n",
       "1             total_min  0.000014  2022-02-02\n",
       "2  olo_order_proportion  0.032617  2022-02-02\n",
       "0             intercept  0.670077  2022-02-02"
      ]
     },
     "execution_count": 84,
     "metadata": {},
     "output_type": "execute_result"
    }
   ],
   "source": [
    "df_outcome"
   ]
  },
  {
   "cell_type": "code",
   "execution_count": 85,
   "id": "391c0c5f",
   "metadata": {},
   "outputs": [
    {
     "data": {
      "text/html": [
       "<div>\n",
       "<style scoped>\n",
       "    .dataframe tbody tr th:only-of-type {\n",
       "        vertical-align: middle;\n",
       "    }\n",
       "\n",
       "    .dataframe tbody tr th {\n",
       "        vertical-align: top;\n",
       "    }\n",
       "\n",
       "    .dataframe thead th {\n",
       "        text-align: right;\n",
       "    }\n",
       "</style>\n",
       "<table border=\"1\" class=\"dataframe\">\n",
       "  <thead>\n",
       "    <tr style=\"text-align: right;\">\n",
       "      <th></th>\n",
       "      <th>Actual</th>\n",
       "      <th>Predicted</th>\n",
       "    </tr>\n",
       "  </thead>\n",
       "  <tbody>\n",
       "    <tr>\n",
       "      <th>64379</th>\n",
       "      <td>0.693147</td>\n",
       "      <td>0.619266</td>\n",
       "    </tr>\n",
       "    <tr>\n",
       "      <th>71330</th>\n",
       "      <td>0.693147</td>\n",
       "      <td>0.635853</td>\n",
       "    </tr>\n",
       "    <tr>\n",
       "      <th>17784</th>\n",
       "      <td>0.693147</td>\n",
       "      <td>0.662249</td>\n",
       "    </tr>\n",
       "    <tr>\n",
       "      <th>142044</th>\n",
       "      <td>0.693147</td>\n",
       "      <td>0.632975</td>\n",
       "    </tr>\n",
       "    <tr>\n",
       "      <th>76697</th>\n",
       "      <td>0.693147</td>\n",
       "      <td>0.693544</td>\n",
       "    </tr>\n",
       "  </tbody>\n",
       "</table>\n",
       "</div>"
      ],
      "text/plain": [
       "          Actual  Predicted\n",
       "64379   0.693147   0.619266\n",
       "71330   0.693147   0.635853\n",
       "17784   0.693147   0.662249\n",
       "142044  0.693147   0.632975\n",
       "76697   0.693147   0.693544"
      ]
     },
     "execution_count": 85,
     "metadata": {},
     "output_type": "execute_result"
    }
   ],
   "source": [
    "df_33 = pd.DataFrame({'Actual':Y_test_c, 'Predicted': y_pred_poly})\n",
    "df_33.head()"
   ]
  },
  {
   "cell_type": "code",
   "execution_count": 86,
   "id": "a41444f3",
   "metadata": {},
   "outputs": [
    {
     "data": {
      "image/png": "[encoded data removed]",
      "text/plain": [
       "<Figure size 432x288 with 1 Axes>"
      ]
     },
     "metadata": {
      "needs_background": "light"
     },
     "output_type": "display_data"
    }
   ],
   "source": [
    "x_t_c =np.array(X_test_c)\n",
    "plt.scatter(x_t_c[:,0], Y_test_c,  color='gray')\n",
    "plt.plot(x_t_c[:,0], y_pred_poly, color='red', linewidth=2)\n",
    "plt.show()"
   ]
  },
  {
   "cell_type": "code",
   "execution_count": 87,
   "id": "4e0c4a75",
   "metadata": {},
   "outputs": [
    {
     "name": "stdout",
     "output_type": "stream",
     "text": [
      "Mean Absolute Error: 0.07587838143969144\n",
      "Mean Squared Error: 0.01605917607864021\n",
      "Root Mean Squared Error: 0.12672480451214044\n",
      "R^2 Score :           0.02658724549609537\n"
     ]
    }
   ],
   "source": [
    "print('Mean Absolute Error:', metrics.mean_absolute_error(Y_test_c, y_pred_poly))  \n",
    "print('Mean Squared Error:', metrics.mean_squared_error(Y_test_c, y_pred_poly) ) \n",
    "print('Root Mean Squared Error:', np.sqrt(metrics.mean_squared_error(Y_test_c, y_pred_poly)))\n",
    "print(\"R^2 Score :          \", metrics.r2_score(Y_test_c, y_pred_poly))"
   ]
  },
  {
   "cell_type": "code",
   "execution_count": 90,
   "id": "c2916651",
   "metadata": {},
   "outputs": [],
   "source": [
    "from lyft_analysis import pd as lyft_pd\n",
    "from lyft_analysis.db import hive\n",
    "from sklearn.externals import joblib\n",
    "import os\n",
    "import sys\n",
    "\n",
    "def write_results_to_hive(pred_df):\n",
    "    \"\"\"Write results to hive \"\"\"\n",
    "    os.environ[\"QUBOLE_UNLOAD_USER\"] = \"yibeil\"\n",
    "    output = lyft_pd.DataFrame(df_outcome)\n",
    "    output.to_hive_table_partitioned(\n",
    "        table_name='delivery_arrival_log_lin_model_outputs',\n",
    "        partition_col=['train_ds'],\n",
    "        if_exists='append',\n",
    "        if_partition_exists='replace',\n",
    "    )\n"
   ]
  },
  {
   "cell_type": "code",
   "execution_count": null,
   "id": "da04388a",
   "metadata": {},
   "outputs": [],
   "source": []
  },
  {
   "cell_type": "code",
   "execution_count": 91,
   "id": "5c7571a8",
   "metadata": {},
   "outputs": [
    {
     "name": "stderr",
     "output_type": "stream",
     "text": [
      "{\"ts\": \"2022-02-02T21:34:25.543Z\", \"uuid\": \"34292a8d-15a9-4563-bee0-101ad6df3519\", \"name\": \"lyft_mozart.mozart\", \"lvlname\": \"INFO\", \"lvlno\": 20, \"pid\": 131, \"call_site\": \"site-packages/lyft_mozart/mozart.py:664\", \"revision\": \"be1326c6dc\", \"kv\": {\"mozart_id\": 137177976, \"backend\": \"sonata-backfill\", \"native_command_id\": \"pending\", \"job_url\": \"https://sql.lyft.net/databases/mozart/queries/137177976\", \"query\": \"SHOW CREATE TABLE yibeil.delivery_arrival_log_lin_model_outputs\"}, \"msg\": \"Created Mozart command\"}\n",
      "{\"ts\": \"2022-02-02T21:34:25.544Z\", \"uuid\": \"130b2367-e94c-4a31-b593-99f075ba3e34\", \"name\": \"lyft_mozart.mozart\", \"lvlname\": \"INFO\", \"lvlno\": 20, \"pid\": 131, \"call_site\": \"site-packages/lyft_mozart/mozart.py:799\", \"revision\": \"be1326c6dc\", \"kv\": {\"command_id\": 137177976}, \"msg\": \"Attempting to get status for Mozart Command\"}\n",
      "{\"ts\": \"2022-02-02T21:34:25.551Z\", \"uuid\": \"75d14792-15d9-40db-8368-20bc613c7982\", \"name\": \"lyft_mozart.mozart\", \"lvlname\": \"INFO\", \"lvlno\": 20, \"pid\": 131, \"call_site\": \"site-packages/lyft_mozart/mozart.py:801\", \"revision\": \"be1326c6dc\", \"kv\": {\"command_id\": 137177976, \"status\": \"waiting\"}, \"msg\": \"Got status for Mozart command\"}\n",
      "{\"ts\": \"2022-02-02T21:34:25.552Z\", \"uuid\": \"d5c75e54-baa1-4549-b062-51f259ab8671\", \"name\": \"lyft_mozart.mozart\", \"lvlname\": \"INFO\", \"lvlno\": 20, \"pid\": 131, \"call_site\": \"site-packages/lyft_mozart/mozart.py:803\", \"revision\": \"be1326c6dc\", \"msg\": \"Sleeping for 10 seconds\"}\n",
      "{\"ts\": \"2022-02-02T21:34:35.568Z\", \"uuid\": \"a39fdd52-c3de-45ee-879d-a8ff958e9cd2\", \"name\": \"lyft_mozart.mozart\", \"lvlname\": \"INFO\", \"lvlno\": 20, \"pid\": 131, \"call_site\": \"site-packages/lyft_mozart/mozart.py:842\", \"revision\": \"be1326c6dc\", \"kv\": {\"command_id\": 137177976, \"status\": \"done\"}, \"msg\": \"Mozart command completed\"}\n",
      "{\"ts\": \"2022-02-02T21:34:35.569Z\", \"uuid\": \"b26a8ce9-53ea-49f1-82f4-a1c3b0acb849\", \"name\": \"lyft_mozart.mozart\", \"lvlname\": \"INFO\", \"lvlno\": 20, \"pid\": 131, \"call_site\": \"site-packages/lyft_mozart/mozart.py:881\", \"revision\": \"be1326c6dc\", \"kv\": {\"backend\": \"sonata-backfill\", \"mozart_id\": 137177976, \"command_id\": 137177976}, \"msg\": \"Mozart command completed successfully!\"}\n",
      "{\"ts\": \"2022-02-02T21:34:35.570Z\", \"uuid\": \"c671af8f-5de6-45de-86b0-03befc1415eb\", \"name\": \"lyft_analysis.db.hive.DatabaseTool\", \"lvlname\": \"INFO\", \"lvlno\": 20, \"pid\": 131, \"call_site\": \"site-packages/lyft_analysis/db/_mozart_base.py:127\", \"revision\": \"be1326c6dc\", \"msg\": \"completed query id=137177976\"}\n",
      "{\"ts\": \"2022-02-02T21:34:35.908Z\", \"uuid\": \"d68c40d7-70fc-4b18-a95b-0225c30ed9a1\", \"name\": \"lyft_mozart.mozart\", \"lvlname\": \"INFO\", \"lvlno\": 20, \"pid\": 131, \"call_site\": \"site-packages/lyft_mozart/mozart.py:664\", \"revision\": \"be1326c6dc\", \"kv\": {\"mozart_id\": 137178009, \"backend\": \"sonata-backfill\", \"native_command_id\": \"pending\", \"job_url\": \"https://sql.lyft.net/databases/mozart/queries/137178009\", \"query\": \"SHOW PARTITIONS yibeil.delivery_arrival_log_lin_model_outputs\"}, \"msg\": \"Created Mozart command\"}\n",
      "{\"ts\": \"2022-02-02T21:34:35.909Z\", \"uuid\": \"3b3d641b-19a8-4c87-a708-0ab0f713575f\", \"name\": \"lyft_mozart.mozart\", \"lvlname\": \"INFO\", \"lvlno\": 20, \"pid\": 131, \"call_site\": \"site-packages/lyft_mozart/mozart.py:799\", \"revision\": \"be1326c6dc\", \"kv\": {\"command_id\": 137178009}, \"msg\": \"Attempting to get status for Mozart Command\"}\n",
      "{\"ts\": \"2022-02-02T21:34:35.916Z\", \"uuid\": \"cf06b4c0-6a9a-416c-911d-9c14ba399ac5\", \"name\": \"lyft_mozart.mozart\", \"lvlname\": \"INFO\", \"lvlno\": 20, \"pid\": 131, \"call_site\": \"site-packages/lyft_mozart/mozart.py:801\", \"revision\": \"be1326c6dc\", \"kv\": {\"command_id\": 137178009, \"status\": \"waiting\"}, \"msg\": \"Got status for Mozart command\"}\n",
      "{\"ts\": \"2022-02-02T21:34:35.917Z\", \"uuid\": \"bfc6b7e6-8438-4cd0-ad7b-80ed6842ce1a\", \"name\": \"lyft_mozart.mozart\", \"lvlname\": \"INFO\", \"lvlno\": 20, \"pid\": 131, \"call_site\": \"site-packages/lyft_mozart/mozart.py:803\", \"revision\": \"be1326c6dc\", \"msg\": \"Sleeping for 10 seconds\"}\n",
      "{\"ts\": \"2022-02-02T21:34:45.932Z\", \"uuid\": \"19e0d442-5c13-4c80-a446-62516eb4508a\", \"name\": \"lyft_mozart.mozart\", \"lvlname\": \"INFO\", \"lvlno\": 20, \"pid\": 131, \"call_site\": \"site-packages/lyft_mozart/mozart.py:842\", \"revision\": \"be1326c6dc\", \"kv\": {\"command_id\": 137178009, \"status\": \"done\"}, \"msg\": \"Mozart command completed\"}\n",
      "{\"ts\": \"2022-02-02T21:34:45.933Z\", \"uuid\": \"1912ece3-3a06-480a-9cfa-cc65d7d33075\", \"name\": \"lyft_mozart.mozart\", \"lvlname\": \"INFO\", \"lvlno\": 20, \"pid\": 131, \"call_site\": \"site-packages/lyft_mozart/mozart.py:881\", \"revision\": \"be1326c6dc\", \"kv\": {\"backend\": \"sonata-backfill\", \"mozart_id\": 137178009, \"command_id\": 137178009}, \"msg\": \"Mozart command completed successfully!\"}\n",
      "{\"ts\": \"2022-02-02T21:34:45.934Z\", \"uuid\": \"2a9f558c-696b-49c2-b3c4-252fd9d768b9\", \"name\": \"lyft_analysis.db.hive.DatabaseTool\", \"lvlname\": \"INFO\", \"lvlno\": 20, \"pid\": 131, \"call_site\": \"site-packages/lyft_analysis/db/_mozart_base.py:127\", \"revision\": \"be1326c6dc\", \"msg\": \"completed query id=137178009\"}\n",
      "{\"ts\": \"2022-02-02T21:34:46.385Z\", \"uuid\": \"f33ad525-71db-474b-b297-1a25abfa4ecc\", \"name\": \"lyft_mozart.mozart\", \"lvlname\": \"INFO\", \"lvlno\": 20, \"pid\": 131, \"call_site\": \"site-packages/lyft_mozart/mozart.py:664\", \"revision\": \"be1326c6dc\", \"kv\": {\"mozart_id\": 137178042, \"backend\": \"sonata-backfill\", \"native_command_id\": \"pending\", \"job_url\": \"https://sql.lyft.net/databases/mozart/queries/137178042\", \"query\": \"\\n            ALTER TABLE yibeil.delivery_arrival_log_lin_model_outputs\\n            ADD IF NOT EXISTS PARTITION (train_ds='2022-02-02')\\n            LOCATION 's3://lyftqubole-iad/test/yibeil/delivery_arrival_log_lin_model_outputs/train_ds=2022-02-02'\\n            \"}, \"msg\": \"Created Mozart command\"}\n",
      "{\"ts\": \"2022-02-02T21:34:46.386Z\", \"uuid\": \"db11f184-cc57-4fb0-af4f-7a2fcc565ae0\", \"name\": \"lyft_mozart.mozart\", \"lvlname\": \"INFO\", \"lvlno\": 20, \"pid\": 131, \"call_site\": \"site-packages/lyft_mozart/mozart.py:799\", \"revision\": \"be1326c6dc\", \"kv\": {\"command_id\": 137178042}, \"msg\": \"Attempting to get status for Mozart Command\"}\n",
      "{\"ts\": \"2022-02-02T21:34:46.395Z\", \"uuid\": \"a8b03c30-bfa6-445d-b2aa-2bed7e47c407\", \"name\": \"lyft_mozart.mozart\", \"lvlname\": \"INFO\", \"lvlno\": 20, \"pid\": 131, \"call_site\": \"site-packages/lyft_mozart/mozart.py:801\", \"revision\": \"be1326c6dc\", \"kv\": {\"command_id\": 137178042, \"status\": \"waiting\"}, \"msg\": \"Got status for Mozart command\"}\n",
      "{\"ts\": \"2022-02-02T21:34:46.395Z\", \"uuid\": \"e21210b1-d405-4716-964f-bcb5b86c2202\", \"name\": \"lyft_mozart.mozart\", \"lvlname\": \"INFO\", \"lvlno\": 20, \"pid\": 131, \"call_site\": \"site-packages/lyft_mozart/mozart.py:803\", \"revision\": \"be1326c6dc\", \"msg\": \"Sleeping for 10 seconds\"}\n"
     ]
    },
    {
     "name": "stdout",
     "output_type": "stream",
     "text": [
      "adding partition train_ds='2022-02-02'\n"
     ]
    },
    {
     "name": "stderr",
     "output_type": "stream",
     "text": [
      "{\"ts\": \"2022-02-02T21:34:56.413Z\", \"uuid\": \"3a974fda-6298-4691-ab85-99691e11fffb\", \"name\": \"lyft_mozart.mozart\", \"lvlname\": \"INFO\", \"lvlno\": 20, \"pid\": 131, \"call_site\": \"site-packages/lyft_mozart/mozart.py:842\", \"revision\": \"be1326c6dc\", \"kv\": {\"command_id\": 137178042, \"status\": \"done\"}, \"msg\": \"Mozart command completed\"}\n",
      "{\"ts\": \"2022-02-02T21:34:56.414Z\", \"uuid\": \"22adf6e7-128e-4062-8f9f-81b40518d70e\", \"name\": \"lyft_mozart.mozart\", \"lvlname\": \"INFO\", \"lvlno\": 20, \"pid\": 131, \"call_site\": \"site-packages/lyft_mozart/mozart.py:881\", \"revision\": \"be1326c6dc\", \"kv\": {\"backend\": \"sonata-backfill\", \"mozart_id\": 137178042, \"command_id\": 137178042}, \"msg\": \"Mozart command completed successfully!\"}\n",
      "{\"ts\": \"2022-02-02T21:34:56.415Z\", \"uuid\": \"172c4e29-37d6-4a3a-9116-0e06b2942fbd\", \"name\": \"lyft_analysis.db.hive.DatabaseTool\", \"lvlname\": \"INFO\", \"lvlno\": 20, \"pid\": 131, \"call_site\": \"site-packages/lyft_analysis/db/_mozart_base.py:127\", \"revision\": \"be1326c6dc\", \"msg\": \"completed query id=137178042\"}\n"
     ]
    }
   ],
   "source": [
    "write_results_to_hive(df_outcome[cols])"
   ]
  },
  {
   "cell_type": "code",
   "execution_count": null,
   "id": "87ce1b4a",
   "metadata": {},
   "outputs": [],
   "source": []
  }
 ],
 "metadata": {
  "kernelspec": {
   "display_name": "Python 3",
   "language": "python",
   "name": "python3"
  },
  "language_info": {
   "codemirror_mode": {
    "name": "ipython",
    "version": 3
   },
   "file_extension": ".py",
   "mimetype": "text/x-python",
   "name": "python",
   "nbconvert_exporter": "python",
   "pygments_lexer": "ipython3",
   "version": "3.6.9"
  }
 },
 "nbformat": 4,
 "nbformat_minor": 5
}
