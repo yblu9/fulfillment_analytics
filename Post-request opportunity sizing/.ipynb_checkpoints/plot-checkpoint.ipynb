{
 "cells": [
  {
   "cell_type": "code",
   "execution_count": 1,
   "metadata": {},
   "outputs": [],
   "source": [
    "import numpy as np\n",
    "import pandas as pd"
   ]
  },
  {
   "cell_type": "code",
   "execution_count": 2,
   "metadata": {},
   "outputs": [
    {
     "name": "stdout",
     "output_type": "stream",
     "text": [
      "Looking in indexes: https://pypi.org/simple, https://pypi.lyft.net/pypi/\n",
      "Collecting lyft-analysis\n",
      "  Downloading https://pypi.lyft.net/api/package/lyft-analysis/lyft_analysis-4.0.15-py3-none-any.whl (62 kB)\n",
      "\u001b[K     |████████████████████████████████| 62 kB 40.2 MB/s eta 0:00:01\n",
      "\u001b[?25hRequirement already satisfied, skipping upgrade: dataclasses; python_version < \"3.7\" in /code/venvs/venv/lib/python3.6/site-packages (from lyft-analysis) (0.7)\n",
      "Requirement already satisfied, skipping upgrade: protobuf!=3.11.* in /code/venvs/venv/lib/python3.6/site-packages (from lyft-analysis) (3.13.0)\n",
      "Requirement already satisfied, skipping upgrade: sqlparse>=0.3.1 in /code/venvs/venv/lib/python3.6/site-packages (from lyft-analysis) (0.4.1)\n",
      "Requirement already satisfied, skipping upgrade: mock==4.0.2 in /code/venvs/venv/lib/python3.6/site-packages (from lyft-analysis) (4.0.2)\n",
      "Requirement already satisfied, skipping upgrade: geojson>=2.5.0 in /code/venvs/venv/lib/python3.6/site-packages (from lyft-analysis) (2.5.0)\n",
      "Collecting lyft-mozart>=0.3.50\n",
      "  Downloading https://pypi.lyft.net/api/package/lyft-mozart/lyft_mozart-0.3.85-py3-none-any.whl (56 kB)\n",
      "\u001b[K     |████████████████████████████████| 56 kB 42.5 MB/s eta 0:00:01\n",
      "\u001b[?25hRequirement already satisfied, skipping upgrade: pyarrow>=0.8.0 in /code/venvs/venv/lib/python3.6/site-packages (from lyft-analysis) (2.0.0)\n",
      "Requirement already satisfied, skipping upgrade: SQLAlchemy<2.0,>=1.2.0 in /code/venvs/venv/lib/python3.6/site-packages (from lyft-analysis) (1.3.13)\n",
      "Requirement already satisfied, skipping upgrade: requests<2.25.1 in /code/venvs/venv/lib/python3.6/site-packages (from lyft-analysis) (2.23.0)\n",
      "Requirement already satisfied, skipping upgrade: pandas-gbq<0.15.0 in /code/venvs/venv/lib/python3.6/site-packages (from lyft-analysis) (0.10.0)\n",
      "Requirement already satisfied, skipping upgrade: folium<1.0.0,>=0.8.0 in /code/venvs/venv/lib/python3.6/site-packages (from lyft-analysis) (0.11.0)\n",
      "Requirement already satisfied, skipping upgrade: facets-overview>=1.0.0 in /code/venvs/venv/lib/python3.6/site-packages (from lyft-analysis) (1.0.0)\n",
      "Requirement already satisfied, skipping upgrade: chardet<4 in /code/venvs/venv/lib/python3.6/site-packages (from lyft-analysis) (3.0.4)\n",
      "Requirement already satisfied, skipping upgrade: numpy<1.20,>=1.16.1 in /code/venvs/venv/lib/python3.6/site-packages (from lyft-analysis) (1.18.5)\n",
      "Requirement already satisfied, skipping upgrade: presto-python-client<1.0,>=0.5.1 in /code/venvs/venv/lib/python3.6/site-packages (from lyft-analysis) (0.7.0)\n",
      "Collecting fast-geohash\n",
      "  Downloading https://pypi.lyft.net/api/package/fast-geohash/fast_geohash-1.1.0-cp36-cp36m-linux_x86_64.whl (155 kB)\n",
      "\u001b[K     |████████████████████████████████| 155 kB 94.5 MB/s eta 0:00:01\n",
      "\u001b[?25hRequirement already satisfied, skipping upgrade: s3fs<0.5,>=0.3.0 in /code/venvs/venv/lib/python3.6/site-packages (from lyft-analysis) (0.4.2)\n",
      "Requirement already satisfied, skipping upgrade: psycopg2; sys_platform != \"darwin\" in /code/venvs/venv/lib/python3.6/site-packages (from lyft-analysis) (2.7.7)\n",
      "Requirement already satisfied, skipping upgrade: sqlalchemy-redshift>=0.7.1 in /code/venvs/venv/lib/python3.6/site-packages (from lyft-analysis) (0.7.9)\n",
      "Requirement already satisfied, skipping upgrade: pandas>=0.22.0 in /code/venvs/venv/lib/python3.6/site-packages (from lyft-analysis) (1.1.5)\n",
      "Requirement already satisfied, skipping upgrade: setuptools in /code/venvs/venv/lib/python3.6/site-packages (from protobuf!=3.11.*->lyft-analysis) (50.3.2)\n",
      "Requirement already satisfied, skipping upgrade: six>=1.9 in /code/venvs/venv/lib/python3.6/site-packages (from protobuf!=3.11.*->lyft-analysis) (1.15.0)\n",
      "Requirement already satisfied, skipping upgrade: lyft-requests>=1.10.0 in /code/venvs/venv/lib/python3.6/site-packages (from lyft-mozart>=0.3.50->lyft-analysis) (3.3.3)\n",
      "Collecting s3-concat>=0.2.1\n",
      "  Downloading s3-concat-0.2.3.tar.gz (7.5 kB)\n",
      "Requirement already satisfied, skipping upgrade: grpcio>=1.22.0 in /code/venvs/venv/lib/python3.6/site-packages (from lyft-mozart>=0.3.50->lyft-analysis) (1.33.2)\n",
      "Collecting lyft-idl>=14176\n",
      "  Downloading https://pypi.lyft.net/api/package/lyft-idl/lyft_idl-15040-py2.py3-none-any.whl (30.6 MB)\n",
      "\u001b[K     |████████████████████████████████| 30.6 MB 101.3 MB/s eta 0:00:01\n",
      "\u001b[?25hRequirement already satisfied, skipping upgrade: retrying>=1.3.3 in /code/venvs/venv/lib/python3.6/site-packages (from lyft-mozart>=0.3.50->lyft-analysis) (1.3.3)\n",
      "Requirement already satisfied, skipping upgrade: hmsclient<1,>=0.1.1 in /code/venvs/venv/lib/python3.6/site-packages (from lyft-mozart>=0.3.50->lyft-analysis) (0.1.1)\n",
      "Requirement already satisfied, skipping upgrade: lyft-stdlib>=145.5.6 in /code/venvs/venv/lib/python3.6/site-packages (from lyft-mozart>=0.3.50->lyft-analysis) (1016.1.0)\n",
      "Requirement already satisfied, skipping upgrade: boto3>=1.9.228 in /code/venvs/venv/lib/python3.6/site-packages (from lyft-mozart>=0.3.50->lyft-analysis) (1.16.8)\n",
      "Collecting func-timeout>=4.3.5\n",
      "  Downloading func_timeout-4.3.5.tar.gz (44 kB)\n",
      "\u001b[K     |████████████████████████████████| 44 kB 29.0 MB/s eta 0:00:01\n",
      "\u001b[?25hRequirement already satisfied, skipping upgrade: certifi>=2017.4.17 in /code/venvs/venv/lib/python3.6/site-packages (from requests<2.25.1->lyft-analysis) (2020.6.20)\n",
      "Requirement already satisfied, skipping upgrade: urllib3!=1.25.0,!=1.25.1,<1.26,>=1.21.1 in /code/venvs/venv/lib/python3.6/site-packages (from requests<2.25.1->lyft-analysis) (1.25.11)\n",
      "Requirement already satisfied, skipping upgrade: idna<3,>=2.5 in /code/venvs/venv/lib/python3.6/site-packages (from requests<2.25.1->lyft-analysis) (2.10)\n",
      "Requirement already satisfied, skipping upgrade: google-auth in /code/venvs/venv/lib/python3.6/site-packages (from pandas-gbq<0.15.0->lyft-analysis) (1.23.0)\n",
      "Requirement already satisfied, skipping upgrade: pydata-google-auth in /code/venvs/venv/lib/python3.6/site-packages (from pandas-gbq<0.15.0->lyft-analysis) (1.1.0)\n",
      "Requirement already satisfied, skipping upgrade: google-cloud-bigquery>=1.9.0 in /code/venvs/venv/lib/python3.6/site-packages (from pandas-gbq<0.15.0->lyft-analysis) (2.2.0)\n",
      "Requirement already satisfied, skipping upgrade: google-auth-oauthlib in /code/venvs/venv/lib/python3.6/site-packages (from pandas-gbq<0.15.0->lyft-analysis) (0.4.2)\n",
      "Requirement already satisfied, skipping upgrade: branca>=0.3.0 in /code/venvs/venv/lib/python3.6/site-packages (from folium<1.0.0,>=0.8.0->lyft-analysis) (0.4.1)\n",
      "Requirement already satisfied, skipping upgrade: jinja2>=2.9 in /code/venvs/venv/lib/python3.6/site-packages (from folium<1.0.0,>=0.8.0->lyft-analysis) (2.11.2)\n",
      "Requirement already satisfied, skipping upgrade: click in /code/venvs/venv/lib/python3.6/site-packages (from presto-python-client<1.0,>=0.5.1->lyft-analysis) (7.1.2)\n",
      "Requirement already satisfied, skipping upgrade: python-geohash<1.0,>=0.8.5 in /code/venvs/venv/lib/python3.6/site-packages (from fast-geohash->lyft-analysis) (0.8.5)\n",
      "Requirement already satisfied, skipping upgrade: botocore>=1.12.91 in /code/venvs/venv/lib/python3.6/site-packages (from s3fs<0.5,>=0.3.0->lyft-analysis) (1.19.8)\n",
      "Requirement already satisfied, skipping upgrade: fsspec>=0.6.0 in /code/venvs/venv/lib/python3.6/site-packages (from s3fs<0.5,>=0.3.0->lyft-analysis) (0.8.4)\n",
      "Requirement already satisfied, skipping upgrade: pytz>=2017.2 in /code/venvs/venv/lib/python3.6/site-packages (from pandas>=0.22.0->lyft-analysis) (2018.4)\n",
      "Requirement already satisfied, skipping upgrade: python-dateutil>=2.7.3 in /code/venvs/venv/lib/python3.6/site-packages (from pandas>=0.22.0->lyft-analysis) (2.8.1)\n",
      "Requirement already satisfied, skipping upgrade: lyft-stats>=0.4.0 in /code/venvs/venv/lib/python3.6/site-packages (from lyft-requests>=1.10.0->lyft-mozart>=0.3.50->lyft-analysis) (1.2.7)\n",
      "Requirement already satisfied, skipping upgrade: grpcio-tools>=1.13.0 in /code/venvs/venv/lib/python3.6/site-packages (from lyft-requests>=1.10.0->lyft-mozart>=0.3.50->lyft-analysis) (1.33.2)\n",
      "Requirement already satisfied, skipping upgrade: lyft-settings>=0.1.1 in /code/venvs/venv/lib/python3.6/site-packages (from lyft-requests>=1.10.0->lyft-mozart>=0.3.50->lyft-analysis) (0.3.2)\n",
      "Requirement already satisfied, skipping upgrade: aiohttp<4,>=3 in /code/venvs/venv/lib/python3.6/site-packages (from lyft-requests>=1.10.0->lyft-mozart>=0.3.50->lyft-analysis) (3.7.2)\n",
      "Requirement already satisfied, skipping upgrade: lyft-exceptions>=0.1.0 in /code/venvs/venv/lib/python3.6/site-packages (from lyft-requests>=1.10.0->lyft-mozart>=0.3.50->lyft-analysis) (0.1.3)\n",
      "Requirement already satisfied, skipping upgrade: typing-extensions>=3.7.2; python_version < \"3.8\" in /code/venvs/venv/lib/python3.6/site-packages (from lyft-requests>=1.10.0->lyft-mozart>=0.3.50->lyft-analysis) (3.7.4.3)\n",
      "Requirement already satisfied, skipping upgrade: lyft-logging>=0.1.0 in /code/venvs/venv/lib/python3.6/site-packages (from lyft-requests>=1.10.0->lyft-mozart>=0.3.50->lyft-analysis) (0.11.2)\n",
      "Requirement already satisfied, skipping upgrade: googleapis-common-protos<2,>=1.5.3 in /code/venvs/venv/lib/python3.6/site-packages (from lyft-idl>=14176->lyft-mozart>=0.3.50->lyft-analysis) (1.52.0)\n",
      "Requirement already satisfied, skipping upgrade: flask-protobuf<2,>=0.7.2 in /code/venvs/venv/lib/python3.6/site-packages (from lyft-idl>=14176->lyft-mozart>=0.3.50->lyft-analysis) (0.9.2)\n",
      "Requirement already satisfied, skipping upgrade: thrift in /code/venvs/venv/lib/python3.6/site-packages (from hmsclient<1,>=0.1.1->lyft-mozart>=0.3.50->lyft-analysis) (0.13.0)\n",
      "Requirement already satisfied, skipping upgrade: ujson>=1.33 in /code/venvs/venv/lib/python3.6/site-packages (from lyft-stdlib>=145.5.6->lyft-mozart>=0.3.50->lyft-analysis) (4.0.1)\n",
      "Requirement already satisfied, skipping upgrade: s3transfer<0.4.0,>=0.3.0 in /code/venvs/venv/lib/python3.6/site-packages (from boto3>=1.9.228->lyft-mozart>=0.3.50->lyft-analysis) (0.3.3)\n",
      "Requirement already satisfied, skipping upgrade: jmespath<1.0.0,>=0.7.1 in /code/venvs/venv/lib/python3.6/site-packages (from boto3>=1.9.228->lyft-mozart>=0.3.50->lyft-analysis) (0.10.0)\n",
      "Requirement already satisfied, skipping upgrade: pyasn1-modules>=0.2.1 in /code/venvs/venv/lib/python3.6/site-packages (from google-auth->pandas-gbq<0.15.0->lyft-analysis) (0.2.8)\n",
      "Requirement already satisfied, skipping upgrade: cachetools<5.0,>=2.0.0 in /code/venvs/venv/lib/python3.6/site-packages (from google-auth->pandas-gbq<0.15.0->lyft-analysis) (4.1.1)\n",
      "Requirement already satisfied, skipping upgrade: rsa<5,>=3.1.4; python_version >= \"3.5\" in /code/venvs/venv/lib/python3.6/site-packages (from google-auth->pandas-gbq<0.15.0->lyft-analysis) (4.6)\n",
      "Requirement already satisfied, skipping upgrade: google-api-core[grpc]<2.0.0dev,>=1.22.2 in /code/venvs/venv/lib/python3.6/site-packages (from google-cloud-bigquery>=1.9.0->pandas-gbq<0.15.0->lyft-analysis) (1.23.0)\n",
      "Requirement already satisfied, skipping upgrade: proto-plus>=1.10.0 in /code/venvs/venv/lib/python3.6/site-packages (from google-cloud-bigquery>=1.9.0->pandas-gbq<0.15.0->lyft-analysis) (1.11.0)\n",
      "Requirement already satisfied, skipping upgrade: google-resumable-media<2.0dev,>=0.6.0 in /code/venvs/venv/lib/python3.6/site-packages (from google-cloud-bigquery>=1.9.0->pandas-gbq<0.15.0->lyft-analysis) (1.1.0)\n",
      "Requirement already satisfied, skipping upgrade: google-cloud-core<2.0dev,>=1.4.1 in /code/venvs/venv/lib/python3.6/site-packages (from google-cloud-bigquery>=1.9.0->pandas-gbq<0.15.0->lyft-analysis) (1.4.3)\n",
      "Requirement already satisfied, skipping upgrade: requests-oauthlib>=0.7.0 in /code/venvs/venv/lib/python3.6/site-packages (from google-auth-oauthlib->pandas-gbq<0.15.0->lyft-analysis) (1.3.0)\n",
      "Requirement already satisfied, skipping upgrade: MarkupSafe>=0.23 in /code/venvs/venv/lib/python3.6/site-packages (from jinja2>=2.9->folium<1.0.0,>=0.8.0->lyft-analysis) (1.1.1)\n",
      "Requirement already satisfied, skipping upgrade: statsd in /code/venvs/venv/lib/python3.6/site-packages (from lyft-stats>=0.4.0->lyft-requests>=1.10.0->lyft-mozart>=0.3.50->lyft-analysis) (3.3.0)\n",
      "Requirement already satisfied, skipping upgrade: attrs>=17.3.0 in /code/venvs/venv/lib/python3.6/site-packages (from aiohttp<4,>=3->lyft-requests>=1.10.0->lyft-mozart>=0.3.50->lyft-analysis) (20.2.0)\n",
      "Requirement already satisfied, skipping upgrade: multidict<7.0,>=4.5 in /code/venvs/venv/lib/python3.6/site-packages (from aiohttp<4,>=3->lyft-requests>=1.10.0->lyft-mozart>=0.3.50->lyft-analysis) (5.0.0)\n",
      "Requirement already satisfied, skipping upgrade: async_timeout<4.0,>=3.0 in /code/venvs/venv/lib/python3.6/site-packages (from aiohttp<4,>=3->lyft-requests>=1.10.0->lyft-mozart>=0.3.50->lyft-analysis) (3.0.1)\n",
      "Requirement already satisfied, skipping upgrade: yarl<2.0,>=1.0 in /code/venvs/venv/lib/python3.6/site-packages (from aiohttp<4,>=3->lyft-requests>=1.10.0->lyft-mozart>=0.3.50->lyft-analysis) (1.6.2)\n",
      "Requirement already satisfied, skipping upgrade: idna-ssl>=1.0 in /code/venvs/venv/lib/python3.6/site-packages (from aiohttp<4,>=3->lyft-requests>=1.10.0->lyft-mozart>=0.3.50->lyft-analysis) (1.1.0)\n",
      "Requirement already satisfied, skipping upgrade: Flask>=1.1 in /code/venvs/venv/lib/python3.6/site-packages (from flask-protobuf<2,>=0.7.2->lyft-idl>=14176->lyft-mozart>=0.3.50->lyft-analysis) (1.1.2)\n",
      "Requirement already satisfied, skipping upgrade: flask-restful<=0.3.8,>=0.3.0 in /code/venvs/venv/lib/python3.6/site-packages (from flask-protobuf<2,>=0.7.2->lyft-idl>=14176->lyft-mozart>=0.3.50->lyft-analysis) (0.3.8)\n",
      "Requirement already satisfied, skipping upgrade: pyasn1<0.5.0,>=0.4.6 in /code/venvs/venv/lib/python3.6/site-packages (from pyasn1-modules>=0.2.1->google-auth->pandas-gbq<0.15.0->lyft-analysis) (0.4.8)\n",
      "Requirement already satisfied, skipping upgrade: google-crc32c<2.0dev,>=1.0; python_version >= \"3.5\" in /code/venvs/venv/lib/python3.6/site-packages (from google-resumable-media<2.0dev,>=0.6.0->google-cloud-bigquery>=1.9.0->pandas-gbq<0.15.0->lyft-analysis) (1.0.0)\n",
      "Requirement already satisfied, skipping upgrade: oauthlib>=3.0.0 in /code/venvs/venv/lib/python3.6/site-packages (from requests-oauthlib>=0.7.0->google-auth-oauthlib->pandas-gbq<0.15.0->lyft-analysis) (3.1.0)\n",
      "Requirement already satisfied, skipping upgrade: itsdangerous>=0.24 in /code/venvs/venv/lib/python3.6/site-packages (from Flask>=1.1->flask-protobuf<2,>=0.7.2->lyft-idl>=14176->lyft-mozart>=0.3.50->lyft-analysis) (1.1.0)\n",
      "Requirement already satisfied, skipping upgrade: Werkzeug>=0.15 in /code/venvs/venv/lib/python3.6/site-packages (from Flask>=1.1->flask-protobuf<2,>=0.7.2->lyft-idl>=14176->lyft-mozart>=0.3.50->lyft-analysis) (1.0.1)\n",
      "Requirement already satisfied, skipping upgrade: aniso8601>=0.82 in /code/venvs/venv/lib/python3.6/site-packages (from flask-restful<=0.3.8,>=0.3.0->flask-protobuf<2,>=0.7.2->lyft-idl>=14176->lyft-mozart>=0.3.50->lyft-analysis) (8.0.0)\n",
      "Requirement already satisfied, skipping upgrade: cffi>=1.0.0 in /code/venvs/venv/lib/python3.6/site-packages (from google-crc32c<2.0dev,>=1.0; python_version >= \"3.5\"->google-resumable-media<2.0dev,>=0.6.0->google-cloud-bigquery>=1.9.0->pandas-gbq<0.15.0->lyft-analysis) (1.14.3)\n",
      "Requirement already satisfied, skipping upgrade: pycparser in /code/venvs/venv/lib/python3.6/site-packages (from cffi>=1.0.0->google-crc32c<2.0dev,>=1.0; python_version >= \"3.5\"->google-resumable-media<2.0dev,>=0.6.0->google-cloud-bigquery>=1.9.0->pandas-gbq<0.15.0->lyft-analysis) (2.20)\n",
      "Building wheels for collected packages: s3-concat, func-timeout\n",
      "  Building wheel for s3-concat (setup.py) ... \u001b[?25ldone\n",
      "\u001b[?25h  Created wheel for s3-concat: filename=s3_concat-0.2.3-py3-none-any.whl size=8301 sha256=3444054494607f7a736234f30d554da70c8e482835ba978645190eecce2b03b9\n",
      "  Stored in directory: /tmp/pip-ephem-wheel-cache-l1f4s96y/wheels/69/c7/4c/216568fa8d62d6f3d94d036aac1546d1a696f03fc1b7a456cd\n",
      "  Building wheel for func-timeout (setup.py) ... \u001b[?25ldone\n",
      "\u001b[?25h  Created wheel for func-timeout: filename=func_timeout-4.3.5-py3-none-any.whl size=15076 sha256=79139fd46881fad54e5c1f7458eeaea513080720daab6add46df08034b18ddf1\n",
      "  Stored in directory: /tmp/pip-ephem-wheel-cache-l1f4s96y/wheels/f5/f7/77/59440b4bf3fb41755539a8891b0e01164c4ff597ed2c1742fb\n",
      "Successfully built s3-concat func-timeout\n",
      "Installing collected packages: s3-concat, lyft-idl, func-timeout, lyft-mozart, fast-geohash, lyft-analysis\n",
      "  Attempting uninstall: lyft-idl\n",
      "    Found existing installation: lyft-idl 11438\n",
      "    Uninstalling lyft-idl-11438:\n",
      "      Successfully uninstalled lyft-idl-11438\n",
      "  Attempting uninstall: lyft-mozart\n",
      "    Found existing installation: lyft-mozart 0.3.21\n",
      "    Uninstalling lyft-mozart-0.3.21:\n",
      "      Successfully uninstalled lyft-mozart-0.3.21\n",
      "  Attempting uninstall: lyft-analysis\n",
      "    Found existing installation: lyft-analysis 3.3.0\n",
      "    Uninstalling lyft-analysis-3.3.0:\n",
      "      Successfully uninstalled lyft-analysis-3.3.0\n",
      "\u001b[31mERROR: After October 2020 you may experience errors when installing or updating packages. This is because pip will change the way that it resolves dependency conflicts.\n",
      "\n",
      "We recommend you use --use-feature=2020-resolver to test your packages with the new resolver before it becomes the default.\n",
      "\n",
      "lyftlearn 4.4.1 requires jsonpickle<1.0.0,>=0.9.5, but you'll have jsonpickle 1.4.2 which is incompatible.\n",
      "lyftlearn 4.4.1 requires lyft-analysis<3.0.0,>=2.12.0, but you'll have lyft-analysis 4.0.15 which is incompatible.\n",
      "lyftlearn 4.4.1 requires pandas<=0.25.0,>=0.24.0, but you'll have pandas 1.1.5 which is incompatible.\n",
      "lyftlearn 4.4.1 requires scikit-learn<0.20,>=0.18.1, but you'll have scikit-learn 0.22.2.post1 which is incompatible.\n",
      "lyftlearn 4.4.1 requires scipy<0.20,>=0.18.1, but you'll have scipy 1.5.3 which is incompatible.\n",
      "lyftlearn 4.4.1 requires sortedcontainers<2.0.0,>=1.5.7, but you'll have sortedcontainers 2.3.0 which is incompatible.\n",
      "lyftlearn 4.4.1 requires statsmodels<=0.10.2, but you'll have statsmodels 0.12.1 which is incompatible.\u001b[0m\n",
      "Successfully installed fast-geohash-1.1.0 func-timeout-4.3.5 lyft-analysis-4.0.15 lyft-idl-15040 lyft-mozart-0.3.85 s3-concat-0.2.3\n",
      "Note: you may need to restart the kernel to use updated packages.\n"
     ]
    }
   ],
   "source": [
    "pip install lyft-analysis --upgrade"
   ]
  },
  {
   "cell_type": "code",
   "execution_count": 10,
   "metadata": {},
   "outputs": [],
   "source": [
    "\n",
    "query1 = '''\n",
    "WITH all_sessions AS (\n",
    "  SELECT\n",
    "    --         CASE\n",
    "    --           WHEN fr.ds IS NOT NULL  THEN '5) scheduled'\n",
    "    --           WHEN coalesce(rs.first_requested_analytical_ride_type, rs.last_selected_mode ) = 'standard' THEN '1) standard'\n",
    "    --           WHEN coalesce(rs.first_requested_analytical_ride_type,  rs.last_selected_mode) IN ('plus', 'lux','luxsuv','premium') THEN '2) hvm' \n",
    "    --           WHEN coalesce(rs.first_requested_analytical_ride_type,  rs.last_selected_mode) = 'fastpass' THEN '3) fastpass'\n",
    "    --           WHEN coalesce(rs.first_requested_analytical_ride_type,  rs.last_selected_mode) = 'standard_saver' THEN '4) w&s'\n",
    "    --           WHEN coalesce(rs.first_requested_analytical_ride_type,  rs.last_selected_mode) LIKE '%walk%' THEN '7) walk'     \n",
    "    --           WHEN coalesce(rs.first_requested_analytical_ride_type,  rs.last_selected_mode) = 'courier' THEN '8) shared'   \n",
    "    --                     WHEN coalesce(rs.first_requested_analytical_ride_type,  rs.last_selected_mode) IS NULL THEN '9) no intent'\n",
    "    --           ELSE '6) others'\n",
    "    --         END ride_type,\n",
    "    COUNT(DISTINCT rs.session_id) cnt_all_sessions\n",
    "  FROM\n",
    "    hive.core.rider_sessions rs\n",
    "  WHERE\n",
    "    rs.ds >= '2020-07-02'\n",
    "    AND cast(rs.ds AS date) BETWEEN current_date - INTERVAL '87' DAY\n",
    "    AND current_date - INTERVAL '3' DAY\n",
    "),\n",
    "all_requests AS (\n",
    "  SELECT\n",
    "    COUNT(DISTINCT rs.ride_id) cnt_all_requests\n",
    "  FROM\n",
    "    hive.core.fact_rides rs\n",
    "  WHERE\n",
    "    rs.ds >= '2020-07-02'\n",
    "    AND cast(rs.ds AS date) BETWEEN current_date - INTERVAL '87' DAY\n",
    "    AND current_date - INTERVAL '3' DAY\n",
    "),\n",
    "ride_loss_xp AS (\n",
    "  SELECT\n",
    "    CASE\n",
    "      WHEN fr.ds IS NOT NULL THEN '5) scheduled'\n",
    "      WHEN coalesce(\n",
    "        rs.first_requested_analytical_ride_type,\n",
    "        rs.last_selected_mode\n",
    "      ) LIKE '%walk%' THEN '7) walk'\n",
    "      WHEN coalesce(\n",
    "        rs.first_requested_analytical_ride_type,\n",
    "        rs.last_selected_mode\n",
    "      ) = 'standard' THEN '1) standard'\n",
    "      WHEN coalesce(\n",
    "        rs.first_requested_analytical_ride_type,\n",
    "        rs.last_selected_mode\n",
    "      ) IN ('plus', 'lux', 'luxsuv', 'premium') THEN '2) hvm'\n",
    "      WHEN coalesce(\n",
    "        rs.first_requested_analytical_ride_type,\n",
    "        rs.last_selected_mode\n",
    "      ) = 'fastpass' THEN '3) fastpass'\n",
    "      WHEN coalesce(\n",
    "        rs.first_requested_analytical_ride_type,\n",
    "        rs.last_selected_mode\n",
    "      ) = 'standard_saver' THEN '4) w&s'\n",
    "      WHEN coalesce(\n",
    "        rs.first_requested_analytical_ride_type,\n",
    "        rs.last_selected_mode\n",
    "      ) = 'courier' THEN '8) shared'\n",
    "      WHEN coalesce(\n",
    "        rs.first_requested_analytical_ride_type,\n",
    "        rs.last_selected_mode\n",
    "      ) IS NULL THEN '9) no intent'\n",
    "      ELSE '6) others'\n",
    "    END ride_type,\n",
    "    TREATMENT,\n",
    "    SUM(score) xp_score,\n",
    "    COUNT(DISTINCT nes.session_id) cnt_xp_sessions\n",
    "  FROM\n",
    "    hive.core.rider_sessions rs\n",
    "    JOIN hive.base.nes_v2_scores nes ON rs.session_id = nes.session_id\n",
    "    AND rs.ds = nes.ds\n",
    "    LEFT JOIN hive.default.fact_scheduled_rides fr ON rs.ds = fr.ds\n",
    "    AND rs.rider_lyft_id = fr.passenger_id -- AND rs.session_id = fr.scheduled_session_id\n",
    "  WHERE\n",
    "    cast(rs.ds AS date) BETWEEN current_date - INTERVAL '87' DAY\n",
    "    AND current_date - INTERVAL '3' DAY\n",
    "    AND rs.ds >= '2020-07-02'\n",
    "   -- check post-mode-selection xps\n",
    "    AND TREATMENT IN (\n",
    "      'cancellation_pre_accept',\n",
    "      'system_lapse',\n",
    "      'cancellation_no_show',\n",
    "      'cancellation_post_accept_pre_arrival_pax',\n",
    "      'cancel_penalty',\n",
    "      'cancellation_post_arrival_pax',\n",
    "      -- 'prime_time_20',\n",
    "      -- 'high_eta_15',\n",
    "      -- 'price_reversal',\n",
    "      -- 'prime_time_15',\n",
    "      -- 'high_eta_12',\n",
    "      'cancellation_post_arrival_dvr',\n",
    "      'other_pickup_pin',\n",
    "      -- 'high_eta_9',\n",
    "      -- 'fare_changed',\n",
    "      'post_pickup_cancel',\n",
    "      -- 'high_eta_6',\n",
    "      'is_cancel_a1k',\n",
    "      'cancellation_post_accept_pre_arrival_dvr',\n",
    "      'dropoff_hike_long',\n",
    "      'is_a1k',\n",
    "      'driver_lapse',\n",
    "      'late_arrival_300',\n",
    "      'accept_eta_jump_from_pin_eta_120',\n",
    "      'match_time_long',\n",
    "      'hike_long_80',\n",
    "      'pickup_time_180',\n",
    "      'hike_long_60',\n",
    "      -- 'prime_time_1',\n",
    "      'pickup_time_120',\n",
    "      'dirty_car',\n",
    "      'late_dropoff',\n",
    "      'accept_eta_jump_from_pin_eta_60',\n",
    "      -- 'mode_selector_long',\n",
    "      'late_arrival_120',\n",
    "      'unsafe_driver',\n",
    "      'dest_map_others',\n",
    "      'far_arrival',\n",
    "      'high_distance_pin_150',\n",
    "      'max_eta_increase_from_accept',\n",
    "      'high_distance_pin_60'\n",
    "    )\n",
    "  GROUP BY\n",
    "    1,\n",
    "    2\n",
    ")\n",
    "SELECT\n",
    "  ride_type,\n",
    "  TREATMENT AS xp,\n",
    "  CASE\n",
    "    WHEN TREATMENT IN (\n",
    "      'cancellation_pre_accept',\n",
    "      'system_lapse',\n",
    "      'cancellation_no_show',\n",
    "      'cancellation_post_accept_pre_arrival_pax',\n",
    "      'cancellation_post_arrival_pax',\n",
    "      'cancellation_post_arrival_dvr',\n",
    "      'cancellation_post_accept_pre_arrival_dvr',\n",
    "      'is_a1k',\n",
    "      'driver_lapse',\n",
    "      'late_arrival_300',\n",
    "      'accept_eta_jump_from_pin_eta_120',\n",
    "      'match_time_long',\n",
    "      'accept_eta_jump_from_pin_eta_60',\n",
    "      'late_arrival_120',\n",
    "      'max_eta_increase_from_accept'\n",
    "    ) THEN 'waiting'\n",
    "    WHEN TREATMENT IN (\n",
    "      'post_pickup_cancel',\n",
    "      'dirty_car',\n",
    "      'unsafe_driver'\n",
    "    ) THEN 'in-ride'\n",
    "    WHEN TREATMENT IN (\n",
    "      'prime_time_20',\n",
    "      'high_eta_15',\n",
    "      'prime_time_15',\n",
    "      'high_eta_12',\n",
    "      'high_eta_9',\n",
    "      'high_eta_6',\n",
    "      'prime_time_1'\n",
    "    ) THEN 'supply'\n",
    "    WHEN TREATMENT IN (\n",
    "      'other_pickup_pin',\n",
    "      'dropoff_hike_long',\n",
    "      'hike_long_80',\n",
    "      'pickup_time_180',\n",
    "      'hike_long_60',\n",
    "      'pickup_time_120',\n",
    "      'late_dropoff',\n",
    "      'dest_map_others',\n",
    "      'far_arrival',\n",
    "      'high_distance_pin_150',\n",
    "      'high_distance_pin_60'\n",
    "    ) THEN 'pudo'\n",
    "    WHEN TREATMENT IN ('cancel_penalty', 'is_cancel_a1k') THEN 'cancel policy'\n",
    "    ELSE 'others'\n",
    "  END AS pod,\n",
    "  xp_score * 1.0 / cnt_xp_sessions severity,\n",
    "  cnt_xp_sessions * 1.0 / cnt_all_sessions frequency,\n",
    "  xp_score * 1.0 / cnt_xp_sessions * --ride loss per occurance\n",
    "  cnt_xp_sessions / cnt_all_sessions *  -- frequency of occurance\n",
    "  cnt_all_sessions / cnt_all_requests AS opportunity -- ride loss per session * session / all requests \n",
    "FROM\n",
    "  all_sessions,\n",
    "  all_requests,\n",
    "  ride_loss_xp\n",
    "'''"
   ]
  },
  {
   "cell_type": "code",
   "execution_count": 12,
   "metadata": {},
   "outputs": [
    {
     "name": "stdout",
     "output_type": "stream",
     "text": [
      "Loading cached version of query...\n",
      "Original query timestamp :  2021-06-08 21:58:42.010264\n",
      "Original query shape :  [247, 6]\n"
     ]
    }
   ],
   "source": [
    "df = presto.query(query1, auto_cache=True, auto_cache_dir='/tmp/cache_data/')"
   ]
  },
  {
   "cell_type": "code",
   "execution_count": 13,
   "metadata": {},
   "outputs": [],
   "source": [
    "import plotly.express as px\n",
    "import numpy as np\n"
   ]
  },
  {
   "cell_type": "code",
   "execution_count": 21,
   "metadata": {},
   "outputs": [],
   "source": [
    "df[\"world\"] = \"world\" # in order to have a single root node\n",
    "df[\"ride_flow\"] = \"ride_flow\"\n",
    "fig = px.treemap(df, path=['pod', 'ride_type' , 'xp'], values='opportunity',\n",
    "                  color='opportunity', hover_data=['opportunity'],\n",
    "                  color_continuous_scale='RdBu',\n",
    "                  color_continuous_midpoint=np.average(df['opportunity']))\n"
   ]
  },
  {
   "cell_type": "code",
   "execution_count": 22,
   "metadata": {},
   "outputs": [
    {
     "data": {
      "application/vnd.plotly.v1+json": {
       "config": {
        "plotlyServerURL": "https://plot.ly"
       },
       "data": [
        {
         "branchvalues": "total",
         "customdata": [
          [
           -0.016970524829676675,
           -0.016970524829676675
          ],
          [
           -0.0017914964519559545,
           -0.0017914964519559545
          ],
          [
           -0.0001525069518106299,
           -0.0001525069518106299
          ],
          [
           -0.00817973184305341,
           -0.00817973184305341
          ],
          [
           -0.004709700499427705,
           -0.004709700499427705
          ],
          [
           -0.00040753918585547424,
           -0.00040753918585547424
          ],
          [
           -1.4745974085386137e-05,
           -1.4745974085386137e-05
          ],
          [
           -2.3989081781706228e-06,
           -2.3989081781706228e-06
          ],
          [
           -0.023190145695762134,
           -0.023190145695762134
          ],
          [
           -0.0023371987237308734,
           -0.0023371987237308734
          ],
          [
           -0.0002077973911673397,
           -0.0002077973911673397
          ],
          [
           -0.010147171752663437,
           -0.010147171752663437
          ],
          [
           -0.004262303597595512,
           -0.004262303597595512
          ],
          [
           -0.0004915772735972665,
           -0.0004915772735972665
          ],
          [
           -3.055814087950453e-05,
           -3.055814087950453e-05
          ],
          [
           -3.3801832872135877e-06,
           -3.3801832872135877e-06
          ],
          [
           -0.015329311995796993,
           -0.015329311995796993
          ],
          [
           -0.0019269886590955881,
           -0.0019269886590955881
          ],
          [
           -0.0007779974026331399,
           -0.0007779974026331399
          ],
          [
           -0.004226343624861332,
           -0.004226343624861332
          ],
          [
           -0.003126153018387041,
           -0.003126153018387041
          ],
          [
           -0.00026714005446274884,
           -0.00026714005446274884
          ],
          [
           -3.351280360683534e-05,
           -3.351280360683534e-05
          ],
          [
           -1.4424512053622062e-06,
           -1.4424512053622062e-06
          ],
          [
           -0.009151474839339847,
           -0.009151474839339847
          ],
          [
           -0.0008249375482050616,
           -0.0008249375482050616
          ],
          [
           -0.0003648685425942893,
           -0.0003648685425942893
          ],
          [
           -0.002833057598424776,
           -0.002833057598424776
          ],
          [
           -0.002295518154828134,
           -0.002295518154828134
          ],
          [
           -0.00010379062610899713,
           -0.00010379062610899713
          ],
          [
           -1.663637157277618e-05,
           -1.663637157277618e-05
          ],
          [
           -1.0579379354224504e-06,
           -1.0579379354224504e-06
          ],
          [
           -0.018906672932190522,
           -0.018906672932190522
          ],
          [
           -0.0026644860964751653,
           -0.0026644860964751653
          ],
          [
           -0.0007434774009213933,
           -0.0007434774009213933
          ],
          [
           -0.005577921369817054,
           -0.005577921369817054
          ],
          [
           -0.005082523054701567,
           -0.005082523054701567
          ],
          [
           -0.0003361501877781924,
           -0.0003361501877781924
          ],
          [
           -2.900258476656756e-05,
           -2.900258476656756e-05
          ],
          [
           -1.925067280772076e-06,
           -1.925067280772076e-06
          ],
          [
           -0.04150217612584585,
           -0.04150217612584585
          ],
          [
           -0.010024280031348667,
           -0.010024280031348667
          ],
          [
           -0.002156338084661152,
           -0.002156338084661152
          ],
          [
           -0.010654187323334912,
           -0.010654187323334912
          ],
          [
           -0.008654845982304453,
           -0.008654845982304453
          ],
          [
           -0.001143623896459346,
           -0.001143623896459346
          ],
          [
           -9.873654416417062e-05,
           -9.873654416417062e-05
          ],
          [
           -4.746472635621204e-06,
           -4.746472635621204e-06
          ],
          [
           -0.004393645453929251,
           -0.004393645453929251
          ],
          [
           -0.00043521035316811894,
           -0.00043521035316811894
          ],
          [
           -0.0002483384669972995,
           -0.0002483384669972995
          ],
          [
           -0.0015764483143087707,
           -0.0015764483143087707
          ],
          [
           -0.0006653818545755226,
           -0.0006653818545755226
          ],
          [
           -4.967560401614529e-05,
           -4.967560401614529e-05
          ],
          [
           -7.612498745356457e-06,
           -7.612498745356457e-06
          ],
          [
           -5.112657834017043e-07,
           -5.112657834017043e-07
          ],
          [
           -0.002431968748282822,
           -0.002431968748282822
          ],
          [
           -0.00025837505779787714,
           -0.00025837505779787714
          ],
          [
           -0.00015838483922254274,
           -0.00015838483922254274
          ],
          [
           -0.0008478136276615662,
           -0.0008478136276615662
          ],
          [
           -0.00033728544527514726,
           -0.00033728544527514726
          ],
          [
           -2.8593397415017956e-05,
           -2.8593397415017956e-05
          ],
          [
           -6.610695338422506e-06,
           -6.610695338422506e-06
          ],
          [
           -2.2184459080719183e-07,
           -2.2184459080719183e-07
          ],
          [
           -0.1808031600570227,
           -0.1808031600570227
          ],
          [
           -0.023154516091289327,
           -0.023154516091289327
          ],
          [
           -0.0003666597794929554,
           -0.0003666597794929554
          ],
          [
           -0.08725277472153123,
           -0.08725277472153123
          ],
          [
           -0.029928502524438363,
           -0.029928502524438363
          ],
          [
           -0.002048445449444054,
           -0.002048445449444054
          ],
          [
           -0.00047731824878410076,
           -0.00047731824878410076
          ],
          [
           -1.4823770285600077e-05,
           -1.4823770285600077e-05
          ],
          [
           -0.012238242807606693,
           -0.012238242807606693
          ],
          [
           -0.0003017036826559079,
           -0.0003017036826559079
          ],
          [
           -8.857035721142061e-05,
           -8.857035721142061e-05
          ],
          [
           -0.0004736052053865893,
           -0.0004736052053865893
          ],
          [
           -0.0024697168038054613,
           -0.0024697168038054613
          ],
          [
           -0.0002203127186697397,
           -0.0002203127186697397
          ],
          [
           2.8914052182874597e-06,
           2.8914052182874597e-06
          ],
          [
           -1.7612906845540357e-07,
           -1.7612906845540357e-07
          ],
          [
           -4.654831839017147e-05,
           -4.654831839017147e-05
          ],
          [
           -8.133118985136336e-06,
           -8.133118985136336e-06
          ],
          [
           -6.692201253706189e-06,
           -6.692201253706189e-06
          ],
          [
           -4.955530911779155e-05,
           -4.955530911779155e-05
          ],
          [
           -9.704725521923513e-07,
           -9.704725521923513e-07
          ],
          [
           -9.91721695874964e-07,
           -9.91721695874964e-07
          ],
          [
           -1.8639062146651834e-07,
           -1.8639062146651834e-07
          ],
          [
           4.7150295202088725e-09,
           4.7150295202088725e-09
          ],
          [
           -0.05568131185088004,
           -0.05568131185088004
          ],
          [
           -0.007176360653801562,
           -0.007176360653801562
          ],
          [
           -0.0007889487402458047,
           -0.0007889487402458047
          ],
          [
           -0.013023921286775157,
           -0.013023921286775157
          ],
          [
           -0.007781651511254236,
           -0.007781651511254236
          ],
          [
           -0.0006006570147081007,
           -0.0006006570147081007
          ],
          [
           -0.00013012063619429617,
           -0.00013012063619429617
          ],
          [
           -6.204718688127019e-06,
           -6.204718688127019e-06
          ],
          [
           -0.008994364220618539,
           -0.008994364220618539
          ],
          [
           -0.0009591797647649688,
           -0.0009591797647649688
          ],
          [
           -0.0005742482171703211,
           -0.0005742482171703211
          ],
          [
           -0.002770297940034823,
           -0.002770297940034823
          ],
          [
           -0.0014491535896972827,
           -0.0014491535896972827
          ],
          [
           -0.00011994879060639101,
           -0.00011994879060639101
          ],
          [
           -2.1943037391347962e-05,
           -2.1943037391347962e-05
          ],
          [
           -1.1900456802825873e-06,
           -1.1900456802825873e-06
          ],
          [
           0.0011071549142992524,
           0.0011071549142992524
          ],
          [
           -1.7232666113084578e-06,
           -1.7232666113084578e-06
          ],
          [
           6.607694631184252e-05,
           6.607694631184252e-05
          ],
          [
           0.0005074722950077423,
           0.0005074722950077423
          ],
          [
           0.0005036273923405093,
           0.0005036273923405093
          ],
          [
           8.657811103841173e-06,
           8.657811103841173e-06
          ],
          [
           -1.3985570510587534e-05,
           -1.3985570510587534e-05
          ],
          [
           4.332097223437318e-08,
           4.332097223437318e-08
          ],
          [
           -0.00743120738232419,
           -0.00743120738232419
          ],
          [
           -0.0008468607722235177,
           -0.0008468607722235177
          ],
          [
           -0.0005887303653220644,
           -0.0005887303653220644
          ],
          [
           -0.0014305887792605949,
           -0.0014305887792605949
          ],
          [
           -0.0006793194375267625,
           -0.0006793194375267625
          ],
          [
           0.00016006848473823222,
           0.00016006848473823222
          ],
          [
           4.470811470672683e-06,
           4.470811470672683e-06
          ],
          [
           2.7695317026786344e-07,
           2.7695317026786344e-07
          ],
          [
           -0.0065488921869877705,
           -0.0065488921869877705
          ],
          [
           -0.0008130423247165382,
           -0.0008130423247165382
          ],
          [
           -0.00016111901967047194,
           -0.00016111901967047194
          ],
          [
           -0.0007012700738680258,
           -0.0007012700738680258
          ],
          [
           0.0008955774447413391,
           0.0008955774447413391
          ],
          [
           0.0005662256787193436,
           0.0005662256787193436
          ],
          [
           -1.8913952186192355e-06,
           -1.8913952186192355e-06
          ],
          [
           -8.949294240749329e-07,
           -8.949294240749329e-07
          ],
          [
           -0.007946383998310698,
           -0.007946383998310698
          ],
          [
           -0.00100544201905984,
           -0.00100544201905984
          ],
          [
           -0.0004064118436048762,
           -0.0004064118436048762
          ],
          [
           -0.0011821602859436828,
           -0.0011821602859436828
          ],
          [
           -0.0007519779113686991,
           -0.0007519779113686991
          ],
          [
           -0.0001643400671696557,
           -0.0001643400671696557
          ],
          [
           -0.0001279206457220571,
           -0.0001279206457220571
          ],
          [
           -1.3360601863081557e-06,
           -1.3360601863081557e-06
          ],
          [
           -0.004316014833536307,
           -0.004316014833536307
          ],
          [
           -0.0005660713999068157,
           -0.0005660713999068157
          ],
          [
           -0.00020027485811448665,
           -0.00020027485811448665
          ],
          [
           -0.0007258359896161486,
           -0.0007258359896161486
          ],
          [
           -0.0003979874692517088,
           -0.0003979874692517088
          ],
          [
           -8.901178226868542e-05,
           -8.901178226868542e-05
          ],
          [
           -9.188254839672901e-05,
           -9.188254839672901e-05
          ],
          [
           -6.908446722543221e-07,
           -6.908446722543221e-07
          ],
          [
           -0.0003537586273452603,
           -0.0003537586273452603
          ],
          [
           -3.142729899307812e-05,
           -3.142729899307812e-05
          ],
          [
           -5.324731435189803e-05,
           -5.324731435189803e-05
          ],
          [
           -0.00036629500493802665,
           -0.00036629500493802665
          ],
          [
           8.029831534663002e-05,
           8.029831534663002e-05
          ],
          [
           -8.488036971342106e-06,
           -8.488036971342106e-06
          ],
          [
           -7.757437927247386e-07,
           -7.757437927247386e-07
          ],
          [
           -2.3056714778693022e-07,
           -2.3056714778693022e-07
          ],
          [
           -0.0009225769540978343,
           -0.0009225769540978343
          ],
          [
           -0.00012589545882435357,
           -0.00012589545882435357
          ],
          [
           -6.0966695991505977e-05,
           -6.0966695991505977e-05
          ],
          [
           -0.000516304401435513,
           -0.000516304401435513
          ],
          [
           -0.00026710195843870774,
           -0.00026710195843870774
          ],
          [
           -1.583952505898828e-05,
           -1.583952505898828e-05
          ],
          [
           -2.0044509669452158e-06,
           -2.0044509669452158e-06
          ],
          [
           -2.1832815243528842e-07,
           -2.1832815243528842e-07
          ],
          [
           -0.026402137025158947,
           -0.026402137025158947
          ],
          [
           -2.653687675976563e-09,
           -2.653687675976563e-09
          ],
          [
           -0.00039361309805605504,
           -0.00039361309805605504
          ],
          [
           -0.021001575534940486,
           -0.021001575534940486
          ],
          [
           -0.007642934893970249,
           -0.007642934893970249
          ],
          [
           -0.0004253685638188096,
           -0.0004253685638188096
          ],
          [
           -2.0797453858629828e-05,
           -2.0797453858629828e-05
          ],
          [
           -4.664509157706145e-06,
           -4.664509157706145e-06
          ],
          [
           -0.012295004943029547,
           -0.012295004943029547
          ],
          [
           -4.1948817541783184e-09,
           -4.1948817541783184e-09
          ],
          [
           -0.00013261738922115397,
           -0.00013261738922115397
          ],
          [
           -0.01401873584819259,
           -0.01401873584819259
          ],
          [
           -0.005209721104445469,
           -0.005209721104445469
          ],
          [
           -0.00025215129594245353,
           -0.00025215129594245353
          ],
          [
           -7.914212688394267e-06,
           -7.914212688394267e-06
          ],
          [
           -2.18722289857683e-06,
           -2.18722289857683e-06
          ],
          [
           -0.001167201346432688,
           -0.001167201346432688
          ],
          [
           -9.250768420291728e-06,
           -9.250768420291728e-06
          ],
          [
           -0.0003435572936374651,
           -0.0003435572936374651
          ],
          [
           -0.00016675341386395928,
           -0.00016675341386395928
          ],
          [
           -2.7386435131429496e-06,
           -2.7386435131429496e-06
          ],
          [
           -2.1360524812438272e-07,
           -2.1360524812438272e-07
          ],
          [
           -1.7573638082571167e-08,
           -1.7573638082571167e-08
          ],
          [
           -0.05911402052677661,
           -0.05911402052677661
          ],
          [
           -0.0032691672191390475,
           -0.0032691672191390475
          ],
          [
           -0.0011041932438104203,
           -0.0011041932438104203
          ],
          [
           -0.037396972115212236,
           -0.037396972115212236
          ],
          [
           -0.028870790522941954,
           -0.028870790522941954
          ],
          [
           -0.0006640875232458183,
           -0.0006640875232458183
          ],
          [
           -5.0825493592667656e-05,
           -5.0825493592667656e-05
          ],
          [
           -6.366342680466512e-06,
           -6.366342680466512e-06
          ],
          [
           -0.0010548063136686684,
           -0.0010548063136686684
          ],
          [
           2.6033064186673385e-05,
           2.6033064186673385e-05
          ],
          [
           -0.00011885144752599982,
           -0.00011885144752599982
          ],
          [
           -0.0007632912550620844,
           -0.0007632912550620844
          ],
          [
           -0.0010446888991527633,
           -0.0010446888991527633
          ],
          [
           -4.371673780135787e-05,
           -4.371673780135787e-05
          ],
          [
           1.0171645880571262e-05,
           1.0171645880571262e-05
          ],
          [
           -5.271724788305644e-08,
           -5.271724788305644e-08
          ],
          [
           -0.05656367776680984,
           -0.05656367776680984
          ],
          [
           -0.006005020614937295,
           -0.006005020614937295
          ],
          [
           -0.0019406150716198614,
           -0.0019406150716198614
          ],
          [
           -0.009488961328390376,
           -0.009488961328390376
          ],
          [
           -0.009684933578095608,
           -0.009684933578095608
          ],
          [
           -0.000647071262943811,
           -0.000647071262943811
          ],
          [
           -0.0001974180042729296,
           -0.0001974180042729296
          ],
          [
           -2.7753786441589895e-06,
           -2.7753786441589895e-06
          ],
          [
           0.004428652715729443,
           0.004428652715729443
          ],
          [
           -7.435946809419934e-05,
           -7.435946809419934e-05
          ],
          [
           -0.0003588200828971117,
           -0.0003588200828971117
          ],
          [
           -6.078970806746438e-05,
           -6.078970806746438e-05
          ],
          [
           0.0009038199319600852,
           0.0009038199319600852
          ],
          [
           8.646499692465331e-05,
           8.646499692465331e-05
          ],
          [
           3.3473712791422478e-06,
           3.3473712791422478e-06
          ],
          [
           4.951953242217892e-07,
           4.951953242217892e-07
          ],
          [
           -0.00647914518812077,
           -0.00647914518812077
          ],
          [
           -0.0005664717266762878,
           -0.0005664717266762878
          ],
          [
           -0.0006677882317248602,
           -0.0006677882317248602
          ],
          [
           -0.00265266657535999,
           -0.00265266657535999
          ],
          [
           -0.0036219541793963603,
           -0.0036219541793963603
          ],
          [
           -2.109518541441901e-05,
           -2.109518541441901e-05
          ],
          [
           -3.0454110936465275e-06,
           -3.0454110936465275e-06
          ],
          [
           -9.910085678131582e-07,
           -9.910085678131582e-07
          ],
          [
           -0.0005498287124352519,
           -0.0005498287124352519
          ],
          [
           -4.68707665346871e-05,
           -4.68707665346871e-05
          ],
          [
           -2.9504481970193845e-05,
           -2.9504481970193845e-05
          ],
          [
           -0.00021773283253906587,
           -0.00021773283253906587
          ],
          [
           -4.244186228700356e-05,
           -4.244186228700356e-05
          ],
          [
           -5.604236191240923e-06,
           -5.604236191240923e-06
          ],
          [
           -1.1664221812894674e-06,
           -1.1664221812894674e-06
          ],
          [
           -4.343761611170933e-08,
           -4.343761611170933e-08
          ],
          [
           -0.07400536998903048,
           -0.07400536998903048
          ],
          [
           -0.007608060552406133,
           -0.007608060552406133
          ],
          [
           -3.794417025090757e-05,
           -3.794417025090757e-05
          ],
          [
           -0.002334593789065325,
           -0.002334593789065325
          ],
          [
           -0.005881720709370464,
           -0.005881720709370464
          ],
          [
           -0.0007184022058652235,
           -0.0007184022058652235
          ],
          [
           -0.00019989851213011601,
           -0.00019989851213011601
          ],
          [
           -3.1721904484094858e-06,
           -3.1721904484094858e-06
          ],
          [
           -3.7108197447695697e-05,
           -3.7108197447695697e-05
          ],
          [
           3.1268952652614314e-06,
           3.1268952652614314e-06
          ],
          [
           3.7487188089950048e-06,
           3.7487188089950048e-06
          ],
          [
           -3.2543895714421515e-05,
           -3.2543895714421515e-05
          ],
          [
           2.165502131528858e-05,
           2.165502131528858e-05
          ],
          [
           -6.664549771483946e-07,
           -6.664549771483946e-07
          ],
          [
           -1.823975339423077e-08,
           -1.823975339423077e-08
          ],
          [
           4.728663531873145e-08,
           4.728663531873145e-08
          ],
          [
           -0.014511479571871197,
           -0.014511479571871197
          ],
          [
           -0.0004828137478670792,
           -0.0004828137478670792
          ],
          [
           -0.03461338252101911,
           -0.03461338252101911
          ],
          [
           -0.09239905530683147,
           -0.09239905530683147
          ],
          [
           -0.0018165345653383032,
           -0.0018165345653383032
          ],
          [
           -4.3811212694159266e-05,
           -4.3811212694159266e-05
          ],
          [
           -0.0036003372898174295,
           -0.0036003372898174295
          ],
          [
           -0.012987479756871822,
           -0.012987479756871822
          ],
          [
           -0.000725891486325089,
           -0.000725891486325089
          ],
          [
           -2.864133154163635e-05,
           -2.864133154163635e-05
          ],
          [
           -0.0010671086130606999,
           -0.0010671086130606999
          ],
          [
           -0.0010893783830525654,
           -0.0010893783830525654
          ],
          [
           -0.003822453315074036,
           -0.003822453315074036
          ],
          [
           -0.00016983648786156636,
           -0.00016983648786156636
          ],
          [
           -0.005683488086881743,
           -0.005683488086881743
          ],
          [
           -0.0469994819229189,
           -0.0469994819229189
          ],
          [
           -0.002901101219272659,
           -0.002901101219272659
          ],
          [
           -0.00010438758613435927,
           -0.00010438758613435927
          ],
          [
           -0.006986427666716805,
           -0.006986427666716805
          ],
          [
           -0.018327570154528485,
           -0.018327570154528485
          ],
          [
           -0.00025307373547409507,
           -0.00025307373547409507
          ],
          [
           -4.5212435673300025e-06,
           -4.5212435673300025e-06
          ],
          [
           -0.00196522584844951,
           -0.00196522584844951
          ],
          [
           -0.0010383669674930433,
           -0.0010383669674930433
          ],
          [
           -3.173459893775875e-05,
           -3.173459893775875e-05
          ],
          [
           -1.0179149231867437e-06,
           -1.0179149231867437e-06
          ],
          [
           -0.00014412613286266302,
           -0.00014412613286266302
          ],
          [
           -0.0002774466720823286,
           -0.0002774466720823286
          ],
          [
           -1.2815264423922374e-06,
           -1.2815264423922374e-06
          ],
          [
           4.840098426146625e-07,
           4.840098426146625e-07
          ],
          [
           -1.8630721230563101e-06,
           -1.8630721230563101e-06
          ],
          [
           -7.320971237952056e-06,
           -7.320971237952056e-06
          ],
          [
           -0.009718279794624937,
           -0.009718279794624937
          ],
          [
           -0.0003456840893997249,
           -0.0003456840893997249
          ],
          [
           -0.02477761794870883,
           -0.02477761794870883
          ],
          [
           -0.06629349624169116,
           -0.06629349624169116
          ]
         ],
         "domain": {
          "x": [
           0,
           1
          ],
          "y": [
           0,
           1
          ]
         },
         "hovertemplate": "labels=%{label}<br>opportunity_sum=%{value}<br>parent=%{parent}<br>id=%{id}<br>opportunity=%{color}<extra></extra>",
         "ids": [
          "waiting/1) standard/accept_eta_jump_from_pin_eta_120",
          "waiting/2) hvm/accept_eta_jump_from_pin_eta_120",
          "waiting/3) fastpass/accept_eta_jump_from_pin_eta_120",
          "waiting/4) w&s/accept_eta_jump_from_pin_eta_120",
          "waiting/5) scheduled/accept_eta_jump_from_pin_eta_120",
          "waiting/6) others/accept_eta_jump_from_pin_eta_120",
          "waiting/7) walk/accept_eta_jump_from_pin_eta_120",
          "waiting/9) no intent/accept_eta_jump_from_pin_eta_120",
          "waiting/1) standard/accept_eta_jump_from_pin_eta_60",
          "waiting/2) hvm/accept_eta_jump_from_pin_eta_60",
          "waiting/3) fastpass/accept_eta_jump_from_pin_eta_60",
          "waiting/4) w&s/accept_eta_jump_from_pin_eta_60",
          "waiting/5) scheduled/accept_eta_jump_from_pin_eta_60",
          "waiting/6) others/accept_eta_jump_from_pin_eta_60",
          "waiting/7) walk/accept_eta_jump_from_pin_eta_60",
          "waiting/9) no intent/accept_eta_jump_from_pin_eta_60",
          "cancel policy/1) standard/cancel_penalty",
          "cancel policy/2) hvm/cancel_penalty",
          "cancel policy/3) fastpass/cancel_penalty",
          "cancel policy/4) w&s/cancel_penalty",
          "cancel policy/5) scheduled/cancel_penalty",
          "cancel policy/6) others/cancel_penalty",
          "cancel policy/7) walk/cancel_penalty",
          "cancel policy/9) no intent/cancel_penalty",
          "waiting/1) standard/cancellation_no_show",
          "waiting/2) hvm/cancellation_no_show",
          "waiting/3) fastpass/cancellation_no_show",
          "waiting/4) w&s/cancellation_no_show",
          "waiting/5) scheduled/cancellation_no_show",
          "waiting/6) others/cancellation_no_show",
          "waiting/7) walk/cancellation_no_show",
          "waiting/9) no intent/cancellation_no_show",
          "waiting/1) standard/cancellation_post_accept_pre_arrival_dvr",
          "waiting/2) hvm/cancellation_post_accept_pre_arrival_dvr",
          "waiting/3) fastpass/cancellation_post_accept_pre_arrival_dvr",
          "waiting/4) w&s/cancellation_post_accept_pre_arrival_dvr",
          "waiting/5) scheduled/cancellation_post_accept_pre_arrival_dvr",
          "waiting/6) others/cancellation_post_accept_pre_arrival_dvr",
          "waiting/7) walk/cancellation_post_accept_pre_arrival_dvr",
          "waiting/9) no intent/cancellation_post_accept_pre_arrival_dvr",
          "waiting/1) standard/cancellation_post_accept_pre_arrival_pax",
          "waiting/2) hvm/cancellation_post_accept_pre_arrival_pax",
          "waiting/3) fastpass/cancellation_post_accept_pre_arrival_pax",
          "waiting/4) w&s/cancellation_post_accept_pre_arrival_pax",
          "waiting/5) scheduled/cancellation_post_accept_pre_arrival_pax",
          "waiting/6) others/cancellation_post_accept_pre_arrival_pax",
          "waiting/7) walk/cancellation_post_accept_pre_arrival_pax",
          "waiting/9) no intent/cancellation_post_accept_pre_arrival_pax",
          "waiting/1) standard/cancellation_post_arrival_dvr",
          "waiting/2) hvm/cancellation_post_arrival_dvr",
          "waiting/3) fastpass/cancellation_post_arrival_dvr",
          "waiting/4) w&s/cancellation_post_arrival_dvr",
          "waiting/5) scheduled/cancellation_post_arrival_dvr",
          "waiting/6) others/cancellation_post_arrival_dvr",
          "waiting/7) walk/cancellation_post_arrival_dvr",
          "waiting/9) no intent/cancellation_post_arrival_dvr",
          "waiting/1) standard/cancellation_post_arrival_pax",
          "waiting/2) hvm/cancellation_post_arrival_pax",
          "waiting/3) fastpass/cancellation_post_arrival_pax",
          "waiting/4) w&s/cancellation_post_arrival_pax",
          "waiting/5) scheduled/cancellation_post_arrival_pax",
          "waiting/6) others/cancellation_post_arrival_pax",
          "waiting/7) walk/cancellation_post_arrival_pax",
          "waiting/9) no intent/cancellation_post_arrival_pax",
          "waiting/1) standard/cancellation_pre_accept",
          "waiting/2) hvm/cancellation_pre_accept",
          "waiting/3) fastpass/cancellation_pre_accept",
          "waiting/4) w&s/cancellation_pre_accept",
          "waiting/5) scheduled/cancellation_pre_accept",
          "waiting/6) others/cancellation_pre_accept",
          "waiting/7) walk/cancellation_pre_accept",
          "waiting/9) no intent/cancellation_pre_accept",
          "pudo/1) standard/dest_map_others",
          "pudo/2) hvm/dest_map_others",
          "pudo/3) fastpass/dest_map_others",
          "pudo/4) w&s/dest_map_others",
          "pudo/5) scheduled/dest_map_others",
          "pudo/6) others/dest_map_others",
          "pudo/7) walk/dest_map_others",
          "pudo/9) no intent/dest_map_others",
          "in-ride/1) standard/dirty_car",
          "in-ride/2) hvm/dirty_car",
          "in-ride/3) fastpass/dirty_car",
          "in-ride/4) w&s/dirty_car",
          "in-ride/5) scheduled/dirty_car",
          "in-ride/6) others/dirty_car",
          "in-ride/7) walk/dirty_car",
          "in-ride/9) no intent/dirty_car",
          "waiting/1) standard/driver_lapse",
          "waiting/2) hvm/driver_lapse",
          "waiting/3) fastpass/driver_lapse",
          "waiting/4) w&s/driver_lapse",
          "waiting/5) scheduled/driver_lapse",
          "waiting/6) others/driver_lapse",
          "waiting/7) walk/driver_lapse",
          "waiting/9) no intent/driver_lapse",
          "pudo/1) standard/dropoff_hike_long",
          "pudo/2) hvm/dropoff_hike_long",
          "pudo/3) fastpass/dropoff_hike_long",
          "pudo/4) w&s/dropoff_hike_long",
          "pudo/5) scheduled/dropoff_hike_long",
          "pudo/6) others/dropoff_hike_long",
          "pudo/7) walk/dropoff_hike_long",
          "pudo/9) no intent/dropoff_hike_long",
          "pudo/1) standard/far_arrival",
          "pudo/2) hvm/far_arrival",
          "pudo/3) fastpass/far_arrival",
          "pudo/4) w&s/far_arrival",
          "pudo/5) scheduled/far_arrival",
          "pudo/6) others/far_arrival",
          "pudo/7) walk/far_arrival",
          "pudo/9) no intent/far_arrival",
          "pudo/1) standard/high_distance_pin_150",
          "pudo/2) hvm/high_distance_pin_150",
          "pudo/3) fastpass/high_distance_pin_150",
          "pudo/4) w&s/high_distance_pin_150",
          "pudo/5) scheduled/high_distance_pin_150",
          "pudo/6) others/high_distance_pin_150",
          "pudo/7) walk/high_distance_pin_150",
          "pudo/9) no intent/high_distance_pin_150",
          "pudo/1) standard/high_distance_pin_60",
          "pudo/2) hvm/high_distance_pin_60",
          "pudo/3) fastpass/high_distance_pin_60",
          "pudo/4) w&s/high_distance_pin_60",
          "pudo/5) scheduled/high_distance_pin_60",
          "pudo/6) others/high_distance_pin_60",
          "pudo/7) walk/high_distance_pin_60",
          "pudo/9) no intent/high_distance_pin_60",
          "pudo/1) standard/hike_long_60",
          "pudo/2) hvm/hike_long_60",
          "pudo/3) fastpass/hike_long_60",
          "pudo/4) w&s/hike_long_60",
          "pudo/5) scheduled/hike_long_60",
          "pudo/6) others/hike_long_60",
          "pudo/7) walk/hike_long_60",
          "pudo/9) no intent/hike_long_60",
          "pudo/1) standard/hike_long_80",
          "pudo/2) hvm/hike_long_80",
          "pudo/3) fastpass/hike_long_80",
          "pudo/4) w&s/hike_long_80",
          "pudo/5) scheduled/hike_long_80",
          "pudo/6) others/hike_long_80",
          "pudo/7) walk/hike_long_80",
          "pudo/9) no intent/hike_long_80",
          "waiting/1) standard/is_a1k",
          "waiting/2) hvm/is_a1k",
          "waiting/3) fastpass/is_a1k",
          "waiting/4) w&s/is_a1k",
          "waiting/5) scheduled/is_a1k",
          "waiting/6) others/is_a1k",
          "waiting/7) walk/is_a1k",
          "waiting/9) no intent/is_a1k",
          "cancel policy/1) standard/is_cancel_a1k",
          "cancel policy/2) hvm/is_cancel_a1k",
          "cancel policy/3) fastpass/is_cancel_a1k",
          "cancel policy/4) w&s/is_cancel_a1k",
          "cancel policy/5) scheduled/is_cancel_a1k",
          "cancel policy/6) others/is_cancel_a1k",
          "cancel policy/7) walk/is_cancel_a1k",
          "cancel policy/9) no intent/is_cancel_a1k",
          "waiting/1) standard/late_arrival_120",
          "waiting/2) hvm/late_arrival_120",
          "waiting/3) fastpass/late_arrival_120",
          "waiting/4) w&s/late_arrival_120",
          "waiting/5) scheduled/late_arrival_120",
          "waiting/6) others/late_arrival_120",
          "waiting/7) walk/late_arrival_120",
          "waiting/9) no intent/late_arrival_120",
          "waiting/1) standard/late_arrival_300",
          "waiting/2) hvm/late_arrival_300",
          "waiting/3) fastpass/late_arrival_300",
          "waiting/4) w&s/late_arrival_300",
          "waiting/5) scheduled/late_arrival_300",
          "waiting/6) others/late_arrival_300",
          "waiting/7) walk/late_arrival_300",
          "waiting/9) no intent/late_arrival_300",
          "pudo/1) standard/late_dropoff",
          "pudo/3) fastpass/late_dropoff",
          "pudo/4) w&s/late_dropoff",
          "pudo/5) scheduled/late_dropoff",
          "pudo/6) others/late_dropoff",
          "pudo/7) walk/late_dropoff",
          "pudo/9) no intent/late_dropoff",
          "waiting/1) standard/match_time_long",
          "waiting/2) hvm/match_time_long",
          "waiting/3) fastpass/match_time_long",
          "waiting/4) w&s/match_time_long",
          "waiting/5) scheduled/match_time_long",
          "waiting/6) others/match_time_long",
          "waiting/7) walk/match_time_long",
          "waiting/9) no intent/match_time_long",
          "waiting/1) standard/max_eta_increase_from_accept",
          "waiting/2) hvm/max_eta_increase_from_accept",
          "waiting/3) fastpass/max_eta_increase_from_accept",
          "waiting/4) w&s/max_eta_increase_from_accept",
          "waiting/5) scheduled/max_eta_increase_from_accept",
          "waiting/6) others/max_eta_increase_from_accept",
          "waiting/7) walk/max_eta_increase_from_accept",
          "waiting/9) no intent/max_eta_increase_from_accept",
          "pudo/1) standard/other_pickup_pin",
          "pudo/2) hvm/other_pickup_pin",
          "pudo/3) fastpass/other_pickup_pin",
          "pudo/4) w&s/other_pickup_pin",
          "pudo/5) scheduled/other_pickup_pin",
          "pudo/6) others/other_pickup_pin",
          "pudo/7) walk/other_pickup_pin",
          "pudo/9) no intent/other_pickup_pin",
          "pudo/1) standard/pickup_time_120",
          "pudo/2) hvm/pickup_time_120",
          "pudo/3) fastpass/pickup_time_120",
          "pudo/4) w&s/pickup_time_120",
          "pudo/5) scheduled/pickup_time_120",
          "pudo/6) others/pickup_time_120",
          "pudo/7) walk/pickup_time_120",
          "pudo/9) no intent/pickup_time_120",
          "pudo/1) standard/pickup_time_180",
          "pudo/2) hvm/pickup_time_180",
          "pudo/3) fastpass/pickup_time_180",
          "pudo/4) w&s/pickup_time_180",
          "pudo/5) scheduled/pickup_time_180",
          "pudo/6) others/pickup_time_180",
          "pudo/7) walk/pickup_time_180",
          "pudo/9) no intent/pickup_time_180",
          "in-ride/1) standard/post_pickup_cancel",
          "in-ride/2) hvm/post_pickup_cancel",
          "in-ride/3) fastpass/post_pickup_cancel",
          "in-ride/4) w&s/post_pickup_cancel",
          "in-ride/5) scheduled/post_pickup_cancel",
          "in-ride/6) others/post_pickup_cancel",
          "in-ride/7) walk/post_pickup_cancel",
          "in-ride/9) no intent/post_pickup_cancel",
          "waiting/1) standard/system_lapse",
          "waiting/2) hvm/system_lapse",
          "waiting/3) fastpass/system_lapse",
          "waiting/4) w&s/system_lapse",
          "waiting/5) scheduled/system_lapse",
          "waiting/6) others/system_lapse",
          "waiting/7) walk/system_lapse",
          "waiting/9) no intent/system_lapse",
          "in-ride/1) standard/unsafe_driver",
          "in-ride/2) hvm/unsafe_driver",
          "in-ride/3) fastpass/unsafe_driver",
          "in-ride/4) w&s/unsafe_driver",
          "in-ride/5) scheduled/unsafe_driver",
          "in-ride/6) others/unsafe_driver",
          "in-ride/7) walk/unsafe_driver",
          "in-ride/9) no intent/unsafe_driver",
          "cancel policy/1) standard",
          "in-ride/1) standard",
          "pudo/1) standard",
          "waiting/1) standard",
          "cancel policy/2) hvm",
          "in-ride/2) hvm",
          "pudo/2) hvm",
          "waiting/2) hvm",
          "cancel policy/3) fastpass",
          "in-ride/3) fastpass",
          "pudo/3) fastpass",
          "waiting/3) fastpass",
          "cancel policy/4) w&s",
          "in-ride/4) w&s",
          "pudo/4) w&s",
          "waiting/4) w&s",
          "cancel policy/5) scheduled",
          "in-ride/5) scheduled",
          "pudo/5) scheduled",
          "waiting/5) scheduled",
          "cancel policy/6) others",
          "in-ride/6) others",
          "pudo/6) others",
          "waiting/6) others",
          "cancel policy/7) walk",
          "in-ride/7) walk",
          "pudo/7) walk",
          "waiting/7) walk",
          "cancel policy/9) no intent",
          "in-ride/9) no intent",
          "pudo/9) no intent",
          "waiting/9) no intent",
          "cancel policy",
          "in-ride",
          "pudo",
          "waiting"
         ],
         "labels": [
          "accept_eta_jump_from_pin_eta_120",
          "accept_eta_jump_from_pin_eta_120",
          "accept_eta_jump_from_pin_eta_120",
          "accept_eta_jump_from_pin_eta_120",
          "accept_eta_jump_from_pin_eta_120",
          "accept_eta_jump_from_pin_eta_120",
          "accept_eta_jump_from_pin_eta_120",
          "accept_eta_jump_from_pin_eta_120",
          "accept_eta_jump_from_pin_eta_60",
          "accept_eta_jump_from_pin_eta_60",
          "accept_eta_jump_from_pin_eta_60",
          "accept_eta_jump_from_pin_eta_60",
          "accept_eta_jump_from_pin_eta_60",
          "accept_eta_jump_from_pin_eta_60",
          "accept_eta_jump_from_pin_eta_60",
          "accept_eta_jump_from_pin_eta_60",
          "cancel_penalty",
          "cancel_penalty",
          "cancel_penalty",
          "cancel_penalty",
          "cancel_penalty",
          "cancel_penalty",
          "cancel_penalty",
          "cancel_penalty",
          "cancellation_no_show",
          "cancellation_no_show",
          "cancellation_no_show",
          "cancellation_no_show",
          "cancellation_no_show",
          "cancellation_no_show",
          "cancellation_no_show",
          "cancellation_no_show",
          "cancellation_post_accept_pre_arrival_dvr",
          "cancellation_post_accept_pre_arrival_dvr",
          "cancellation_post_accept_pre_arrival_dvr",
          "cancellation_post_accept_pre_arrival_dvr",
          "cancellation_post_accept_pre_arrival_dvr",
          "cancellation_post_accept_pre_arrival_dvr",
          "cancellation_post_accept_pre_arrival_dvr",
          "cancellation_post_accept_pre_arrival_dvr",
          "cancellation_post_accept_pre_arrival_pax",
          "cancellation_post_accept_pre_arrival_pax",
          "cancellation_post_accept_pre_arrival_pax",
          "cancellation_post_accept_pre_arrival_pax",
          "cancellation_post_accept_pre_arrival_pax",
          "cancellation_post_accept_pre_arrival_pax",
          "cancellation_post_accept_pre_arrival_pax",
          "cancellation_post_accept_pre_arrival_pax",
          "cancellation_post_arrival_dvr",
          "cancellation_post_arrival_dvr",
          "cancellation_post_arrival_dvr",
          "cancellation_post_arrival_dvr",
          "cancellation_post_arrival_dvr",
          "cancellation_post_arrival_dvr",
          "cancellation_post_arrival_dvr",
          "cancellation_post_arrival_dvr",
          "cancellation_post_arrival_pax",
          "cancellation_post_arrival_pax",
          "cancellation_post_arrival_pax",
          "cancellation_post_arrival_pax",
          "cancellation_post_arrival_pax",
          "cancellation_post_arrival_pax",
          "cancellation_post_arrival_pax",
          "cancellation_post_arrival_pax",
          "cancellation_pre_accept",
          "cancellation_pre_accept",
          "cancellation_pre_accept",
          "cancellation_pre_accept",
          "cancellation_pre_accept",
          "cancellation_pre_accept",
          "cancellation_pre_accept",
          "cancellation_pre_accept",
          "dest_map_others",
          "dest_map_others",
          "dest_map_others",
          "dest_map_others",
          "dest_map_others",
          "dest_map_others",
          "dest_map_others",
          "dest_map_others",
          "dirty_car",
          "dirty_car",
          "dirty_car",
          "dirty_car",
          "dirty_car",
          "dirty_car",
          "dirty_car",
          "dirty_car",
          "driver_lapse",
          "driver_lapse",
          "driver_lapse",
          "driver_lapse",
          "driver_lapse",
          "driver_lapse",
          "driver_lapse",
          "driver_lapse",
          "dropoff_hike_long",
          "dropoff_hike_long",
          "dropoff_hike_long",
          "dropoff_hike_long",
          "dropoff_hike_long",
          "dropoff_hike_long",
          "dropoff_hike_long",
          "dropoff_hike_long",
          "far_arrival",
          "far_arrival",
          "far_arrival",
          "far_arrival",
          "far_arrival",
          "far_arrival",
          "far_arrival",
          "far_arrival",
          "high_distance_pin_150",
          "high_distance_pin_150",
          "high_distance_pin_150",
          "high_distance_pin_150",
          "high_distance_pin_150",
          "high_distance_pin_150",
          "high_distance_pin_150",
          "high_distance_pin_150",
          "high_distance_pin_60",
          "high_distance_pin_60",
          "high_distance_pin_60",
          "high_distance_pin_60",
          "high_distance_pin_60",
          "high_distance_pin_60",
          "high_distance_pin_60",
          "high_distance_pin_60",
          "hike_long_60",
          "hike_long_60",
          "hike_long_60",
          "hike_long_60",
          "hike_long_60",
          "hike_long_60",
          "hike_long_60",
          "hike_long_60",
          "hike_long_80",
          "hike_long_80",
          "hike_long_80",
          "hike_long_80",
          "hike_long_80",
          "hike_long_80",
          "hike_long_80",
          "hike_long_80",
          "is_a1k",
          "is_a1k",
          "is_a1k",
          "is_a1k",
          "is_a1k",
          "is_a1k",
          "is_a1k",
          "is_a1k",
          "is_cancel_a1k",
          "is_cancel_a1k",
          "is_cancel_a1k",
          "is_cancel_a1k",
          "is_cancel_a1k",
          "is_cancel_a1k",
          "is_cancel_a1k",
          "is_cancel_a1k",
          "late_arrival_120",
          "late_arrival_120",
          "late_arrival_120",
          "late_arrival_120",
          "late_arrival_120",
          "late_arrival_120",
          "late_arrival_120",
          "late_arrival_120",
          "late_arrival_300",
          "late_arrival_300",
          "late_arrival_300",
          "late_arrival_300",
          "late_arrival_300",
          "late_arrival_300",
          "late_arrival_300",
          "late_arrival_300",
          "late_dropoff",
          "late_dropoff",
          "late_dropoff",
          "late_dropoff",
          "late_dropoff",
          "late_dropoff",
          "late_dropoff",
          "match_time_long",
          "match_time_long",
          "match_time_long",
          "match_time_long",
          "match_time_long",
          "match_time_long",
          "match_time_long",
          "match_time_long",
          "max_eta_increase_from_accept",
          "max_eta_increase_from_accept",
          "max_eta_increase_from_accept",
          "max_eta_increase_from_accept",
          "max_eta_increase_from_accept",
          "max_eta_increase_from_accept",
          "max_eta_increase_from_accept",
          "max_eta_increase_from_accept",
          "other_pickup_pin",
          "other_pickup_pin",
          "other_pickup_pin",
          "other_pickup_pin",
          "other_pickup_pin",
          "other_pickup_pin",
          "other_pickup_pin",
          "other_pickup_pin",
          "pickup_time_120",
          "pickup_time_120",
          "pickup_time_120",
          "pickup_time_120",
          "pickup_time_120",
          "pickup_time_120",
          "pickup_time_120",
          "pickup_time_120",
          "pickup_time_180",
          "pickup_time_180",
          "pickup_time_180",
          "pickup_time_180",
          "pickup_time_180",
          "pickup_time_180",
          "pickup_time_180",
          "pickup_time_180",
          "post_pickup_cancel",
          "post_pickup_cancel",
          "post_pickup_cancel",
          "post_pickup_cancel",
          "post_pickup_cancel",
          "post_pickup_cancel",
          "post_pickup_cancel",
          "post_pickup_cancel",
          "system_lapse",
          "system_lapse",
          "system_lapse",
          "system_lapse",
          "system_lapse",
          "system_lapse",
          "system_lapse",
          "system_lapse",
          "unsafe_driver",
          "unsafe_driver",
          "unsafe_driver",
          "unsafe_driver",
          "unsafe_driver",
          "unsafe_driver",
          "unsafe_driver",
          "unsafe_driver",
          "1) standard",
          "1) standard",
          "1) standard",
          "1) standard",
          "2) hvm",
          "2) hvm",
          "2) hvm",
          "2) hvm",
          "3) fastpass",
          "3) fastpass",
          "3) fastpass",
          "3) fastpass",
          "4) w&s",
          "4) w&s",
          "4) w&s",
          "4) w&s",
          "5) scheduled",
          "5) scheduled",
          "5) scheduled",
          "5) scheduled",
          "6) others",
          "6) others",
          "6) others",
          "6) others",
          "7) walk",
          "7) walk",
          "7) walk",
          "7) walk",
          "9) no intent",
          "9) no intent",
          "9) no intent",
          "9) no intent",
          "cancel policy",
          "in-ride",
          "pudo",
          "waiting"
         ],
         "marker": {
          "coloraxis": "coloraxis",
          "colors": [
           -0.016970524829676675,
           -0.0017914964519559545,
           -0.0001525069518106299,
           -0.00817973184305341,
           -0.004709700499427705,
           -0.00040753918585547424,
           -1.4745974085386137e-05,
           -2.3989081781706228e-06,
           -0.023190145695762134,
           -0.0023371987237308734,
           -0.0002077973911673397,
           -0.010147171752663437,
           -0.004262303597595512,
           -0.0004915772735972665,
           -3.055814087950453e-05,
           -3.3801832872135877e-06,
           -0.015329311995796993,
           -0.0019269886590955881,
           -0.0007779974026331399,
           -0.004226343624861332,
           -0.003126153018387041,
           -0.00026714005446274884,
           -3.351280360683534e-05,
           -1.4424512053622062e-06,
           -0.009151474839339847,
           -0.0008249375482050616,
           -0.0003648685425942893,
           -0.002833057598424776,
           -0.002295518154828134,
           -0.00010379062610899713,
           -1.663637157277618e-05,
           -1.0579379354224504e-06,
           -0.018906672932190522,
           -0.0026644860964751653,
           -0.0007434774009213933,
           -0.005577921369817054,
           -0.005082523054701567,
           -0.0003361501877781924,
           -2.900258476656756e-05,
           -1.925067280772076e-06,
           -0.04150217612584585,
           -0.010024280031348667,
           -0.002156338084661152,
           -0.010654187323334912,
           -0.008654845982304453,
           -0.001143623896459346,
           -9.873654416417062e-05,
           -4.746472635621204e-06,
           -0.004393645453929251,
           -0.00043521035316811894,
           -0.0002483384669972995,
           -0.0015764483143087707,
           -0.0006653818545755226,
           -4.967560401614529e-05,
           -7.612498745356457e-06,
           -5.112657834017043e-07,
           -0.002431968748282822,
           -0.00025837505779787714,
           -0.00015838483922254274,
           -0.0008478136276615662,
           -0.00033728544527514726,
           -2.8593397415017956e-05,
           -6.610695338422506e-06,
           -2.2184459080719183e-07,
           -0.1808031600570227,
           -0.023154516091289327,
           -0.0003666597794929554,
           -0.08725277472153123,
           -0.029928502524438363,
           -0.002048445449444054,
           -0.00047731824878410076,
           -1.4823770285600077e-05,
           -0.012238242807606693,
           -0.0003017036826559079,
           -8.857035721142061e-05,
           -0.0004736052053865893,
           -0.0024697168038054613,
           -0.0002203127186697397,
           2.8914052182874597e-06,
           -1.7612906845540357e-07,
           -4.654831839017147e-05,
           -8.133118985136336e-06,
           -6.692201253706189e-06,
           -4.955530911779155e-05,
           -9.704725521923513e-07,
           -9.91721695874964e-07,
           -1.8639062146651834e-07,
           4.7150295202088725e-09,
           -0.05568131185088004,
           -0.007176360653801562,
           -0.0007889487402458047,
           -0.013023921286775157,
           -0.007781651511254236,
           -0.0006006570147081007,
           -0.00013012063619429617,
           -6.204718688127019e-06,
           -0.008994364220618539,
           -0.0009591797647649688,
           -0.0005742482171703211,
           -0.002770297940034823,
           -0.0014491535896972827,
           -0.00011994879060639101,
           -2.1943037391347962e-05,
           -1.1900456802825873e-06,
           0.0011071549142992524,
           -1.7232666113084578e-06,
           6.607694631184252e-05,
           0.0005074722950077423,
           0.0005036273923405093,
           8.657811103841173e-06,
           -1.3985570510587534e-05,
           4.332097223437318e-08,
           -0.00743120738232419,
           -0.0008468607722235177,
           -0.0005887303653220644,
           -0.0014305887792605949,
           -0.0006793194375267625,
           0.00016006848473823222,
           4.470811470672683e-06,
           2.7695317026786344e-07,
           -0.0065488921869877705,
           -0.0008130423247165382,
           -0.00016111901967047194,
           -0.0007012700738680258,
           0.0008955774447413391,
           0.0005662256787193436,
           -1.8913952186192355e-06,
           -8.949294240749329e-07,
           -0.007946383998310698,
           -0.00100544201905984,
           -0.0004064118436048762,
           -0.0011821602859436828,
           -0.0007519779113686991,
           -0.0001643400671696557,
           -0.0001279206457220571,
           -1.3360601863081557e-06,
           -0.004316014833536307,
           -0.0005660713999068157,
           -0.00020027485811448665,
           -0.0007258359896161486,
           -0.0003979874692517088,
           -8.901178226868542e-05,
           -9.188254839672901e-05,
           -6.908446722543221e-07,
           -0.0003537586273452603,
           -3.142729899307812e-05,
           -5.324731435189803e-05,
           -0.00036629500493802665,
           8.029831534663002e-05,
           -8.488036971342106e-06,
           -7.757437927247386e-07,
           -2.3056714778693022e-07,
           -0.0009225769540978343,
           -0.00012589545882435357,
           -6.0966695991505977e-05,
           -0.000516304401435513,
           -0.00026710195843870774,
           -1.583952505898828e-05,
           -2.0044509669452158e-06,
           -2.1832815243528842e-07,
           -0.026402137025158947,
           -2.653687675976563e-09,
           -0.00039361309805605504,
           -0.021001575534940486,
           -0.007642934893970249,
           -0.0004253685638188096,
           -2.0797453858629828e-05,
           -4.664509157706145e-06,
           -0.012295004943029547,
           -4.1948817541783184e-09,
           -0.00013261738922115397,
           -0.01401873584819259,
           -0.005209721104445469,
           -0.00025215129594245353,
           -7.914212688394267e-06,
           -2.18722289857683e-06,
           -0.001167201346432688,
           -9.250768420291728e-06,
           -0.0003435572936374651,
           -0.00016675341386395928,
           -2.7386435131429496e-06,
           -2.1360524812438272e-07,
           -1.7573638082571167e-08,
           -0.05911402052677661,
           -0.0032691672191390475,
           -0.0011041932438104203,
           -0.037396972115212236,
           -0.028870790522941954,
           -0.0006640875232458183,
           -5.0825493592667656e-05,
           -6.366342680466512e-06,
           -0.0010548063136686684,
           2.6033064186673385e-05,
           -0.00011885144752599982,
           -0.0007632912550620844,
           -0.0010446888991527633,
           -4.371673780135787e-05,
           1.0171645880571262e-05,
           -5.271724788305644e-08,
           -0.05656367776680984,
           -0.006005020614937295,
           -0.0019406150716198614,
           -0.009488961328390376,
           -0.009684933578095608,
           -0.000647071262943811,
           -0.0001974180042729296,
           -2.7753786441589895e-06,
           0.004428652715729443,
           -7.435946809419934e-05,
           -0.0003588200828971117,
           -6.078970806746438e-05,
           0.0009038199319600852,
           8.646499692465331e-05,
           3.3473712791422478e-06,
           4.951953242217892e-07,
           -0.00647914518812077,
           -0.0005664717266762878,
           -0.0006677882317248602,
           -0.00265266657535999,
           -0.0036219541793963603,
           -2.109518541441901e-05,
           -3.0454110936465275e-06,
           -9.910085678131582e-07,
           -0.0005498287124352519,
           -4.68707665346871e-05,
           -2.9504481970193845e-05,
           -0.00021773283253906587,
           -4.244186228700356e-05,
           -5.604236191240923e-06,
           -1.1664221812894674e-06,
           -4.343761611170933e-08,
           -0.07400536998903048,
           -0.007608060552406133,
           -3.794417025090757e-05,
           -0.002334593789065325,
           -0.005881720709370464,
           -0.0007184022058652235,
           -0.00019989851213011601,
           -3.1721904484094858e-06,
           -3.7108197447695697e-05,
           3.1268952652614314e-06,
           3.7487188089950048e-06,
           -3.2543895714421515e-05,
           2.165502131528858e-05,
           -6.664549771483946e-07,
           -1.823975339423077e-08,
           4.728663531873145e-08,
           -0.014511479571871197,
           -0.0004828137478670792,
           -0.03461338252101911,
           -0.09239905530683147,
           -0.0018165345653383032,
           -4.3811212694159266e-05,
           -0.0036003372898174295,
           -0.012987479756871822,
           -0.000725891486325089,
           -2.864133154163635e-05,
           -0.0010671086130606999,
           -0.0010893783830525654,
           -0.003822453315074036,
           -0.00016983648786156636,
           -0.005683488086881743,
           -0.0469994819229189,
           -0.002901101219272659,
           -0.00010438758613435927,
           -0.006986427666716805,
           -0.018327570154528485,
           -0.00025307373547409507,
           -4.5212435673300025e-06,
           -0.00196522584844951,
           -0.0010383669674930433,
           -3.173459893775875e-05,
           -1.0179149231867437e-06,
           -0.00014412613286266302,
           -0.0002774466720823286,
           -1.2815264423922374e-06,
           4.840098426146625e-07,
           -1.8630721230563101e-06,
           -7.320971237952056e-06,
           -0.009718279794624937,
           -0.0003456840893997249,
           -0.02477761794870883,
           -0.06629349624169116
          ]
         },
         "name": "",
         "parents": [
          "waiting/1) standard",
          "waiting/2) hvm",
          "waiting/3) fastpass",
          "waiting/4) w&s",
          "waiting/5) scheduled",
          "waiting/6) others",
          "waiting/7) walk",
          "waiting/9) no intent",
          "waiting/1) standard",
          "waiting/2) hvm",
          "waiting/3) fastpass",
          "waiting/4) w&s",
          "waiting/5) scheduled",
          "waiting/6) others",
          "waiting/7) walk",
          "waiting/9) no intent",
          "cancel policy/1) standard",
          "cancel policy/2) hvm",
          "cancel policy/3) fastpass",
          "cancel policy/4) w&s",
          "cancel policy/5) scheduled",
          "cancel policy/6) others",
          "cancel policy/7) walk",
          "cancel policy/9) no intent",
          "waiting/1) standard",
          "waiting/2) hvm",
          "waiting/3) fastpass",
          "waiting/4) w&s",
          "waiting/5) scheduled",
          "waiting/6) others",
          "waiting/7) walk",
          "waiting/9) no intent",
          "waiting/1) standard",
          "waiting/2) hvm",
          "waiting/3) fastpass",
          "waiting/4) w&s",
          "waiting/5) scheduled",
          "waiting/6) others",
          "waiting/7) walk",
          "waiting/9) no intent",
          "waiting/1) standard",
          "waiting/2) hvm",
          "waiting/3) fastpass",
          "waiting/4) w&s",
          "waiting/5) scheduled",
          "waiting/6) others",
          "waiting/7) walk",
          "waiting/9) no intent",
          "waiting/1) standard",
          "waiting/2) hvm",
          "waiting/3) fastpass",
          "waiting/4) w&s",
          "waiting/5) scheduled",
          "waiting/6) others",
          "waiting/7) walk",
          "waiting/9) no intent",
          "waiting/1) standard",
          "waiting/2) hvm",
          "waiting/3) fastpass",
          "waiting/4) w&s",
          "waiting/5) scheduled",
          "waiting/6) others",
          "waiting/7) walk",
          "waiting/9) no intent",
          "waiting/1) standard",
          "waiting/2) hvm",
          "waiting/3) fastpass",
          "waiting/4) w&s",
          "waiting/5) scheduled",
          "waiting/6) others",
          "waiting/7) walk",
          "waiting/9) no intent",
          "pudo/1) standard",
          "pudo/2) hvm",
          "pudo/3) fastpass",
          "pudo/4) w&s",
          "pudo/5) scheduled",
          "pudo/6) others",
          "pudo/7) walk",
          "pudo/9) no intent",
          "in-ride/1) standard",
          "in-ride/2) hvm",
          "in-ride/3) fastpass",
          "in-ride/4) w&s",
          "in-ride/5) scheduled",
          "in-ride/6) others",
          "in-ride/7) walk",
          "in-ride/9) no intent",
          "waiting/1) standard",
          "waiting/2) hvm",
          "waiting/3) fastpass",
          "waiting/4) w&s",
          "waiting/5) scheduled",
          "waiting/6) others",
          "waiting/7) walk",
          "waiting/9) no intent",
          "pudo/1) standard",
          "pudo/2) hvm",
          "pudo/3) fastpass",
          "pudo/4) w&s",
          "pudo/5) scheduled",
          "pudo/6) others",
          "pudo/7) walk",
          "pudo/9) no intent",
          "pudo/1) standard",
          "pudo/2) hvm",
          "pudo/3) fastpass",
          "pudo/4) w&s",
          "pudo/5) scheduled",
          "pudo/6) others",
          "pudo/7) walk",
          "pudo/9) no intent",
          "pudo/1) standard",
          "pudo/2) hvm",
          "pudo/3) fastpass",
          "pudo/4) w&s",
          "pudo/5) scheduled",
          "pudo/6) others",
          "pudo/7) walk",
          "pudo/9) no intent",
          "pudo/1) standard",
          "pudo/2) hvm",
          "pudo/3) fastpass",
          "pudo/4) w&s",
          "pudo/5) scheduled",
          "pudo/6) others",
          "pudo/7) walk",
          "pudo/9) no intent",
          "pudo/1) standard",
          "pudo/2) hvm",
          "pudo/3) fastpass",
          "pudo/4) w&s",
          "pudo/5) scheduled",
          "pudo/6) others",
          "pudo/7) walk",
          "pudo/9) no intent",
          "pudo/1) standard",
          "pudo/2) hvm",
          "pudo/3) fastpass",
          "pudo/4) w&s",
          "pudo/5) scheduled",
          "pudo/6) others",
          "pudo/7) walk",
          "pudo/9) no intent",
          "waiting/1) standard",
          "waiting/2) hvm",
          "waiting/3) fastpass",
          "waiting/4) w&s",
          "waiting/5) scheduled",
          "waiting/6) others",
          "waiting/7) walk",
          "waiting/9) no intent",
          "cancel policy/1) standard",
          "cancel policy/2) hvm",
          "cancel policy/3) fastpass",
          "cancel policy/4) w&s",
          "cancel policy/5) scheduled",
          "cancel policy/6) others",
          "cancel policy/7) walk",
          "cancel policy/9) no intent",
          "waiting/1) standard",
          "waiting/2) hvm",
          "waiting/3) fastpass",
          "waiting/4) w&s",
          "waiting/5) scheduled",
          "waiting/6) others",
          "waiting/7) walk",
          "waiting/9) no intent",
          "waiting/1) standard",
          "waiting/2) hvm",
          "waiting/3) fastpass",
          "waiting/4) w&s",
          "waiting/5) scheduled",
          "waiting/6) others",
          "waiting/7) walk",
          "waiting/9) no intent",
          "pudo/1) standard",
          "pudo/3) fastpass",
          "pudo/4) w&s",
          "pudo/5) scheduled",
          "pudo/6) others",
          "pudo/7) walk",
          "pudo/9) no intent",
          "waiting/1) standard",
          "waiting/2) hvm",
          "waiting/3) fastpass",
          "waiting/4) w&s",
          "waiting/5) scheduled",
          "waiting/6) others",
          "waiting/7) walk",
          "waiting/9) no intent",
          "waiting/1) standard",
          "waiting/2) hvm",
          "waiting/3) fastpass",
          "waiting/4) w&s",
          "waiting/5) scheduled",
          "waiting/6) others",
          "waiting/7) walk",
          "waiting/9) no intent",
          "pudo/1) standard",
          "pudo/2) hvm",
          "pudo/3) fastpass",
          "pudo/4) w&s",
          "pudo/5) scheduled",
          "pudo/6) others",
          "pudo/7) walk",
          "pudo/9) no intent",
          "pudo/1) standard",
          "pudo/2) hvm",
          "pudo/3) fastpass",
          "pudo/4) w&s",
          "pudo/5) scheduled",
          "pudo/6) others",
          "pudo/7) walk",
          "pudo/9) no intent",
          "pudo/1) standard",
          "pudo/2) hvm",
          "pudo/3) fastpass",
          "pudo/4) w&s",
          "pudo/5) scheduled",
          "pudo/6) others",
          "pudo/7) walk",
          "pudo/9) no intent",
          "in-ride/1) standard",
          "in-ride/2) hvm",
          "in-ride/3) fastpass",
          "in-ride/4) w&s",
          "in-ride/5) scheduled",
          "in-ride/6) others",
          "in-ride/7) walk",
          "in-ride/9) no intent",
          "waiting/1) standard",
          "waiting/2) hvm",
          "waiting/3) fastpass",
          "waiting/4) w&s",
          "waiting/5) scheduled",
          "waiting/6) others",
          "waiting/7) walk",
          "waiting/9) no intent",
          "in-ride/1) standard",
          "in-ride/2) hvm",
          "in-ride/3) fastpass",
          "in-ride/4) w&s",
          "in-ride/5) scheduled",
          "in-ride/6) others",
          "in-ride/7) walk",
          "in-ride/9) no intent",
          "cancel policy",
          "in-ride",
          "pudo",
          "waiting",
          "cancel policy",
          "in-ride",
          "pudo",
          "waiting",
          "cancel policy",
          "in-ride",
          "pudo",
          "waiting",
          "cancel policy",
          "in-ride",
          "pudo",
          "waiting",
          "cancel policy",
          "in-ride",
          "pudo",
          "waiting",
          "cancel policy",
          "in-ride",
          "pudo",
          "waiting",
          "cancel policy",
          "in-ride",
          "pudo",
          "waiting",
          "cancel policy",
          "in-ride",
          "pudo",
          "waiting",
          "",
          "",
          "",
          ""
         ],
         "type": "treemap",
         "values": [
          -0.016970524829676675,
          -0.0017914964519559545,
          -0.0001525069518106299,
          -0.00817973184305341,
          -0.004709700499427705,
          -0.00040753918585547424,
          -1.4745974085386137e-05,
          -2.3989081781706228e-06,
          -0.023190145695762134,
          -0.0023371987237308734,
          -0.00020779739116733967,
          -0.010147171752663437,
          -0.004262303597595512,
          -0.0004915772735972665,
          -3.055814087950453e-05,
          -3.3801832872135877e-06,
          -0.015329311995796993,
          -0.0019269886590955881,
          -0.0007779974026331399,
          -0.004226343624861332,
          -0.003126153018387041,
          -0.00026714005446274884,
          -3.351280360683534e-05,
          -1.4424512053622062e-06,
          -0.009151474839339847,
          -0.0008249375482050616,
          -0.0003648685425942893,
          -0.002833057598424776,
          -0.002295518154828134,
          -0.00010379062610899713,
          -1.663637157277618e-05,
          -1.0579379354224504e-06,
          -0.018906672932190522,
          -0.0026644860964751653,
          -0.0007434774009213933,
          -0.005577921369817053,
          -0.005082523054701567,
          -0.0003361501877781924,
          -2.900258476656756e-05,
          -1.925067280772076e-06,
          -0.04150217612584585,
          -0.010024280031348667,
          -0.002156338084661152,
          -0.010654187323334912,
          -0.008654845982304453,
          -0.001143623896459346,
          -9.873654416417062e-05,
          -4.746472635621204e-06,
          -0.004393645453929251,
          -0.00043521035316811894,
          -0.0002483384669972995,
          -0.0015764483143087707,
          -0.0006653818545755226,
          -4.9675604016145295e-05,
          -7.612498745356457e-06,
          -5.112657834017043e-07,
          -0.002431968748282822,
          -0.00025837505779787714,
          -0.00015838483922254274,
          -0.0008478136276615662,
          -0.00033728544527514726,
          -2.8593397415017956e-05,
          -6.610695338422506e-06,
          -2.2184459080719183e-07,
          -0.1808031600570227,
          -0.023154516091289327,
          -0.0003666597794929554,
          -0.08725277472153123,
          -0.029928502524438363,
          -0.002048445449444054,
          -0.00047731824878410076,
          -1.4823770285600077e-05,
          -0.012238242807606693,
          -0.0003017036826559079,
          -8.85703572114206e-05,
          -0.0004736052053865893,
          -0.0024697168038054613,
          -0.0002203127186697397,
          2.8914052182874597e-06,
          -1.7612906845540354e-07,
          -4.654831839017147e-05,
          -8.133118985136336e-06,
          -6.692201253706189e-06,
          -4.955530911779155e-05,
          -9.704725521923513e-07,
          -9.91721695874964e-07,
          -1.8639062146651834e-07,
          4.7150295202088725e-09,
          -0.05568131185088004,
          -0.007176360653801562,
          -0.0007889487402458046,
          -0.013023921286775157,
          -0.007781651511254236,
          -0.0006006570147081007,
          -0.00013012063619429617,
          -6.204718688127019e-06,
          -0.008994364220618539,
          -0.0009591797647649688,
          -0.0005742482171703211,
          -0.0027702979400348227,
          -0.0014491535896972827,
          -0.00011994879060639101,
          -2.1943037391347962e-05,
          -1.1900456802825873e-06,
          0.0011071549142992524,
          -1.7232666113084578e-06,
          6.607694631184252e-05,
          0.0005074722950077423,
          0.0005036273923405093,
          8.657811103841173e-06,
          -1.3985570510587532e-05,
          4.332097223437319e-08,
          -0.00743120738232419,
          -0.0008468607722235177,
          -0.0005887303653220644,
          -0.0014305887792605949,
          -0.0006793194375267625,
          0.00016006848473823222,
          4.470811470672683e-06,
          2.7695317026786344e-07,
          -0.0065488921869877705,
          -0.0008130423247165382,
          -0.00016111901967047194,
          -0.0007012700738680258,
          0.0008955774447413391,
          0.0005662256787193436,
          -1.8913952186192355e-06,
          -8.94929424074933e-07,
          -0.007946383998310698,
          -0.00100544201905984,
          -0.0004064118436048762,
          -0.0011821602859436828,
          -0.0007519779113686991,
          -0.0001643400671696557,
          -0.0001279206457220571,
          -1.3360601863081557e-06,
          -0.004316014833536307,
          -0.0005660713999068157,
          -0.00020027485811448663,
          -0.0007258359896161486,
          -0.0003979874692517088,
          -8.901178226868544e-05,
          -9.188254839672901e-05,
          -6.908446722543221e-07,
          -0.00035375862734526035,
          -3.142729899307812e-05,
          -5.324731435189802e-05,
          -0.00036629500493802665,
          8.029831534663002e-05,
          -8.488036971342106e-06,
          -7.757437927247386e-07,
          -2.3056714778693022e-07,
          -0.0009225769540978343,
          -0.00012589545882435357,
          -6.0966695991505977e-05,
          -0.000516304401435513,
          -0.00026710195843870774,
          -1.583952505898828e-05,
          -2.0044509669452158e-06,
          -2.1832815243528842e-07,
          -0.026402137025158947,
          -2.653687675976563e-09,
          -0.00039361309805605504,
          -0.021001575534940486,
          -0.007642934893970249,
          -0.0004253685638188096,
          -2.0797453858629828e-05,
          -4.664509157706145e-06,
          -0.012295004943029549,
          -4.1948817541783184e-09,
          -0.00013261738922115397,
          -0.01401873584819259,
          -0.005209721104445469,
          -0.00025215129594245353,
          -7.914212688394267e-06,
          -2.18722289857683e-06,
          -0.001167201346432688,
          -9.250768420291728e-06,
          -0.0003435572936374651,
          -0.00016675341386395928,
          -2.7386435131429496e-06,
          -2.1360524812438272e-07,
          -1.7573638082571167e-08,
          -0.05911402052677661,
          -0.003269167219139048,
          -0.0011041932438104203,
          -0.037396972115212236,
          -0.028870790522941954,
          -0.0006640875232458183,
          -5.0825493592667656e-05,
          -6.366342680466513e-06,
          -0.0010548063136686684,
          2.6033064186673385e-05,
          -0.00011885144752599982,
          -0.0007632912550620846,
          -0.0010446888991527633,
          -4.3716737801357863e-05,
          1.0171645880571262e-05,
          -5.271724788305645e-08,
          -0.05656367776680984,
          -0.0060050206149372945,
          -0.0019406150716198614,
          -0.009488961328390376,
          -0.009684933578095608,
          -0.000647071262943811,
          -0.00019741800427292957,
          -2.7753786441589895e-06,
          0.004428652715729443,
          -7.435946809419934e-05,
          -0.0003588200828971117,
          -6.078970806746438e-05,
          0.0009038199319600852,
          8.646499692465331e-05,
          3.3473712791422478e-06,
          4.951953242217892e-07,
          -0.00647914518812077,
          -0.0005664717266762878,
          -0.0006677882317248602,
          -0.00265266657535999,
          -0.0036219541793963603,
          -2.109518541441901e-05,
          -3.0454110936465275e-06,
          -9.910085678131582e-07,
          -0.0005498287124352519,
          -4.68707665346871e-05,
          -2.9504481970193845e-05,
          -0.00021773283253906587,
          -4.244186228700356e-05,
          -5.604236191240923e-06,
          -1.1664221812894674e-06,
          -4.343761611170933e-08,
          -0.07400536998903048,
          -0.007608060552406133,
          -3.794417025090757e-05,
          -0.002334593789065325,
          -0.005881720709370464,
          -0.0007184022058652235,
          -0.00019989851213011604,
          -3.1721904484094853e-06,
          -3.7108197447695697e-05,
          3.1268952652614314e-06,
          3.7487188089950048e-06,
          -3.2543895714421515e-05,
          2.1655021315288576e-05,
          -6.664549771483946e-07,
          -1.823975339423077e-08,
          4.728663531873145e-08,
          -0.01625188894989483,
          -0.0006334852282731191,
          -0.10614932210071883,
          -0.5262561779579394,
          -0.0020528841179199417,
          -5.187699025456201e-05,
          -0.011139875039646679,
          -0.05954948986269363,
          -0.0008389640986246459,
          -3.244796441490503e-05,
          -0.004929751869443923,
          -0.0070277868603298415,
          -0.004742648026296845,
          -0.0002998320373712789,
          -0.019322260884557418,
          -0.21597449138498107,
          -0.003393254976825749,
          -2.1757313523907335e-05,
          -0.016918771613963907,
          -0.11228727043893491,
          -0.0002829795795217371,
          -7.262412864264282e-06,
          -0.0004431014790997744,
          -0.0073222669990275985,
          -3.551725457378055e-05,
          -1.3710525561502166e-06,
          -0.0004475906298859389,
          -0.0010813814647125423,
          -1.6607793577974947e-06,
          8.564048727230988e-09,
          -7.256500414706095e-06,
          -5.1943718245964895e-05,
          -0.02759979778301533,
          -0.0010480244352094599,
          -0.15935793011773106,
          -0.9295508086868656
         ]
        }
       ],
       "layout": {
        "coloraxis": {
         "cmid": -0.004524520489970933,
         "colorbar": {
          "title": {
           "text": "opportunity"
          }
         },
         "colorscale": [
          [
           0,
           "rgb(103,0,31)"
          ],
          [
           0.1,
           "rgb(178,24,43)"
          ],
          [
           0.2,
           "rgb(214,96,77)"
          ],
          [
           0.3,
           "rgb(244,165,130)"
          ],
          [
           0.4,
           "rgb(253,219,199)"
          ],
          [
           0.5,
           "rgb(247,247,247)"
          ],
          [
           0.6,
           "rgb(209,229,240)"
          ],
          [
           0.7,
           "rgb(146,197,222)"
          ],
          [
           0.8,
           "rgb(67,147,195)"
          ],
          [
           0.9,
           "rgb(33,102,172)"
          ],
          [
           1,
           "rgb(5,48,97)"
          ]
         ]
        },
        "legend": {
         "tracegroupgap": 0
        },
        "margin": {
         "t": 60
        },
        "template": {
         "data": {
          "bar": [
           {
            "error_x": {
             "color": "#2a3f5f"
            },
            "error_y": {
             "color": "#2a3f5f"
            },
            "marker": {
             "line": {
              "color": "#E5ECF6",
              "width": 0.5
             }
            },
            "type": "bar"
           }
          ],
          "barpolar": [
           {
            "marker": {
             "line": {
              "color": "#E5ECF6",
              "width": 0.5
             }
            },
            "type": "barpolar"
           }
          ],
          "carpet": [
           {
            "aaxis": {
             "endlinecolor": "#2a3f5f",
             "gridcolor": "white",
             "linecolor": "white",
             "minorgridcolor": "white",
             "startlinecolor": "#2a3f5f"
            },
            "baxis": {
             "endlinecolor": "#2a3f5f",
             "gridcolor": "white",
             "linecolor": "white",
             "minorgridcolor": "white",
             "startlinecolor": "#2a3f5f"
            },
            "type": "carpet"
           }
          ],
          "choropleth": [
           {
            "colorbar": {
             "outlinewidth": 0,
             "ticks": ""
            },
            "type": "choropleth"
           }
          ],
          "contour": [
           {
            "colorbar": {
             "outlinewidth": 0,
             "ticks": ""
            },
            "colorscale": [
             [
              0,
              "#0d0887"
             ],
             [
              0.1111111111111111,
              "#46039f"
             ],
             [
              0.2222222222222222,
              "#7201a8"
             ],
             [
              0.3333333333333333,
              "#9c179e"
             ],
             [
              0.4444444444444444,
              "#bd3786"
             ],
             [
              0.5555555555555556,
              "#d8576b"
             ],
             [
              0.6666666666666666,
              "#ed7953"
             ],
             [
              0.7777777777777778,
              "#fb9f3a"
             ],
             [
              0.8888888888888888,
              "#fdca26"
             ],
             [
              1,
              "#f0f921"
             ]
            ],
            "type": "contour"
           }
          ],
          "contourcarpet": [
           {
            "colorbar": {
             "outlinewidth": 0,
             "ticks": ""
            },
            "type": "contourcarpet"
           }
          ],
          "heatmap": [
           {
            "colorbar": {
             "outlinewidth": 0,
             "ticks": ""
            },
            "colorscale": [
             [
              0,
              "#0d0887"
             ],
             [
              0.1111111111111111,
              "#46039f"
             ],
             [
              0.2222222222222222,
              "#7201a8"
             ],
             [
              0.3333333333333333,
              "#9c179e"
             ],
             [
              0.4444444444444444,
              "#bd3786"
             ],
             [
              0.5555555555555556,
              "#d8576b"
             ],
             [
              0.6666666666666666,
              "#ed7953"
             ],
             [
              0.7777777777777778,
              "#fb9f3a"
             ],
             [
              0.8888888888888888,
              "#fdca26"
             ],
             [
              1,
              "#f0f921"
             ]
            ],
            "type": "heatmap"
           }
          ],
          "heatmapgl": [
           {
            "colorbar": {
             "outlinewidth": 0,
             "ticks": ""
            },
            "colorscale": [
             [
              0,
              "#0d0887"
             ],
             [
              0.1111111111111111,
              "#46039f"
             ],
             [
              0.2222222222222222,
              "#7201a8"
             ],
             [
              0.3333333333333333,
              "#9c179e"
             ],
             [
              0.4444444444444444,
              "#bd3786"
             ],
             [
              0.5555555555555556,
              "#d8576b"
             ],
             [
              0.6666666666666666,
              "#ed7953"
             ],
             [
              0.7777777777777778,
              "#fb9f3a"
             ],
             [
              0.8888888888888888,
              "#fdca26"
             ],
             [
              1,
              "#f0f921"
             ]
            ],
            "type": "heatmapgl"
           }
          ],
          "histogram": [
           {
            "marker": {
             "colorbar": {
              "outlinewidth": 0,
              "ticks": ""
             }
            },
            "type": "histogram"
           }
          ],
          "histogram2d": [
           {
            "colorbar": {
             "outlinewidth": 0,
             "ticks": ""
            },
            "colorscale": [
             [
              0,
              "#0d0887"
             ],
             [
              0.1111111111111111,
              "#46039f"
             ],
             [
              0.2222222222222222,
              "#7201a8"
             ],
             [
              0.3333333333333333,
              "#9c179e"
             ],
             [
              0.4444444444444444,
              "#bd3786"
             ],
             [
              0.5555555555555556,
              "#d8576b"
             ],
             [
              0.6666666666666666,
              "#ed7953"
             ],
             [
              0.7777777777777778,
              "#fb9f3a"
             ],
             [
              0.8888888888888888,
              "#fdca26"
             ],
             [
              1,
              "#f0f921"
             ]
            ],
            "type": "histogram2d"
           }
          ],
          "histogram2dcontour": [
           {
            "colorbar": {
             "outlinewidth": 0,
             "ticks": ""
            },
            "colorscale": [
             [
              0,
              "#0d0887"
             ],
             [
              0.1111111111111111,
              "#46039f"
             ],
             [
              0.2222222222222222,
              "#7201a8"
             ],
             [
              0.3333333333333333,
              "#9c179e"
             ],
             [
              0.4444444444444444,
              "#bd3786"
             ],
             [
              0.5555555555555556,
              "#d8576b"
             ],
             [
              0.6666666666666666,
              "#ed7953"
             ],
             [
              0.7777777777777778,
              "#fb9f3a"
             ],
             [
              0.8888888888888888,
              "#fdca26"
             ],
             [
              1,
              "#f0f921"
             ]
            ],
            "type": "histogram2dcontour"
           }
          ],
          "mesh3d": [
           {
            "colorbar": {
             "outlinewidth": 0,
             "ticks": ""
            },
            "type": "mesh3d"
           }
          ],
          "parcoords": [
           {
            "line": {
             "colorbar": {
              "outlinewidth": 0,
              "ticks": ""
             }
            },
            "type": "parcoords"
           }
          ],
          "pie": [
           {
            "automargin": true,
            "type": "pie"
           }
          ],
          "scatter": [
           {
            "marker": {
             "colorbar": {
              "outlinewidth": 0,
              "ticks": ""
             }
            },
            "type": "scatter"
           }
          ],
          "scatter3d": [
           {
            "line": {
             "colorbar": {
              "outlinewidth": 0,
              "ticks": ""
             }
            },
            "marker": {
             "colorbar": {
              "outlinewidth": 0,
              "ticks": ""
             }
            },
            "type": "scatter3d"
           }
          ],
          "scattercarpet": [
           {
            "marker": {
             "colorbar": {
              "outlinewidth": 0,
              "ticks": ""
             }
            },
            "type": "scattercarpet"
           }
          ],
          "scattergeo": [
           {
            "marker": {
             "colorbar": {
              "outlinewidth": 0,
              "ticks": ""
             }
            },
            "type": "scattergeo"
           }
          ],
          "scattergl": [
           {
            "marker": {
             "colorbar": {
              "outlinewidth": 0,
              "ticks": ""
             }
            },
            "type": "scattergl"
           }
          ],
          "scattermapbox": [
           {
            "marker": {
             "colorbar": {
              "outlinewidth": 0,
              "ticks": ""
             }
            },
            "type": "scattermapbox"
           }
          ],
          "scatterpolar": [
           {
            "marker": {
             "colorbar": {
              "outlinewidth": 0,
              "ticks": ""
             }
            },
            "type": "scatterpolar"
           }
          ],
          "scatterpolargl": [
           {
            "marker": {
             "colorbar": {
              "outlinewidth": 0,
              "ticks": ""
             }
            },
            "type": "scatterpolargl"
           }
          ],
          "scatterternary": [
           {
            "marker": {
             "colorbar": {
              "outlinewidth": 0,
              "ticks": ""
             }
            },
            "type": "scatterternary"
           }
          ],
          "surface": [
           {
            "colorbar": {
             "outlinewidth": 0,
             "ticks": ""
            },
            "colorscale": [
             [
              0,
              "#0d0887"
             ],
             [
              0.1111111111111111,
              "#46039f"
             ],
             [
              0.2222222222222222,
              "#7201a8"
             ],
             [
              0.3333333333333333,
              "#9c179e"
             ],
             [
              0.4444444444444444,
              "#bd3786"
             ],
             [
              0.5555555555555556,
              "#d8576b"
             ],
             [
              0.6666666666666666,
              "#ed7953"
             ],
             [
              0.7777777777777778,
              "#fb9f3a"
             ],
             [
              0.8888888888888888,
              "#fdca26"
             ],
             [
              1,
              "#f0f921"
             ]
            ],
            "type": "surface"
           }
          ],
          "table": [
           {
            "cells": {
             "fill": {
              "color": "#EBF0F8"
             },
             "line": {
              "color": "white"
             }
            },
            "header": {
             "fill": {
              "color": "#C8D4E3"
             },
             "line": {
              "color": "white"
             }
            },
            "type": "table"
           }
          ]
         },
         "layout": {
          "annotationdefaults": {
           "arrowcolor": "#2a3f5f",
           "arrowhead": 0,
           "arrowwidth": 1
          },
          "coloraxis": {
           "colorbar": {
            "outlinewidth": 0,
            "ticks": ""
           }
          },
          "colorscale": {
           "diverging": [
            [
             0,
             "#8e0152"
            ],
            [
             0.1,
             "#c51b7d"
            ],
            [
             0.2,
             "#de77ae"
            ],
            [
             0.3,
             "#f1b6da"
            ],
            [
             0.4,
             "#fde0ef"
            ],
            [
             0.5,
             "#f7f7f7"
            ],
            [
             0.6,
             "#e6f5d0"
            ],
            [
             0.7,
             "#b8e186"
            ],
            [
             0.8,
             "#7fbc41"
            ],
            [
             0.9,
             "#4d9221"
            ],
            [
             1,
             "#276419"
            ]
           ],
           "sequential": [
            [
             0,
             "#0d0887"
            ],
            [
             0.1111111111111111,
             "#46039f"
            ],
            [
             0.2222222222222222,
             "#7201a8"
            ],
            [
             0.3333333333333333,
             "#9c179e"
            ],
            [
             0.4444444444444444,
             "#bd3786"
            ],
            [
             0.5555555555555556,
             "#d8576b"
            ],
            [
             0.6666666666666666,
             "#ed7953"
            ],
            [
             0.7777777777777778,
             "#fb9f3a"
            ],
            [
             0.8888888888888888,
             "#fdca26"
            ],
            [
             1,
             "#f0f921"
            ]
           ],
           "sequentialminus": [
            [
             0,
             "#0d0887"
            ],
            [
             0.1111111111111111,
             "#46039f"
            ],
            [
             0.2222222222222222,
             "#7201a8"
            ],
            [
             0.3333333333333333,
             "#9c179e"
            ],
            [
             0.4444444444444444,
             "#bd3786"
            ],
            [
             0.5555555555555556,
             "#d8576b"
            ],
            [
             0.6666666666666666,
             "#ed7953"
            ],
            [
             0.7777777777777778,
             "#fb9f3a"
            ],
            [
             0.8888888888888888,
             "#fdca26"
            ],
            [
             1,
             "#f0f921"
            ]
           ]
          },
          "colorway": [
           "#636efa",
           "#EF553B",
           "#00cc96",
           "#ab63fa",
           "#FFA15A",
           "#19d3f3",
           "#FF6692",
           "#B6E880",
           "#FF97FF",
           "#FECB52"
          ],
          "font": {
           "color": "#2a3f5f"
          },
          "geo": {
           "bgcolor": "white",
           "lakecolor": "white",
           "landcolor": "#E5ECF6",
           "showlakes": true,
           "showland": true,
           "subunitcolor": "white"
          },
          "hoverlabel": {
           "align": "left"
          },
          "hovermode": "closest",
          "mapbox": {
           "style": "light"
          },
          "paper_bgcolor": "white",
          "plot_bgcolor": "#E5ECF6",
          "polar": {
           "angularaxis": {
            "gridcolor": "white",
            "linecolor": "white",
            "ticks": ""
           },
           "bgcolor": "#E5ECF6",
           "radialaxis": {
            "gridcolor": "white",
            "linecolor": "white",
            "ticks": ""
           }
          },
          "scene": {
           "xaxis": {
            "backgroundcolor": "#E5ECF6",
            "gridcolor": "white",
            "gridwidth": 2,
            "linecolor": "white",
            "showbackground": true,
            "ticks": "",
            "zerolinecolor": "white"
           },
           "yaxis": {
            "backgroundcolor": "#E5ECF6",
            "gridcolor": "white",
            "gridwidth": 2,
            "linecolor": "white",
            "showbackground": true,
            "ticks": "",
            "zerolinecolor": "white"
           },
           "zaxis": {
            "backgroundcolor": "#E5ECF6",
            "gridcolor": "white",
            "gridwidth": 2,
            "linecolor": "white",
            "showbackground": true,
            "ticks": "",
            "zerolinecolor": "white"
           }
          },
          "shapedefaults": {
           "line": {
            "color": "#2a3f5f"
           }
          },
          "ternary": {
           "aaxis": {
            "gridcolor": "white",
            "linecolor": "white",
            "ticks": ""
           },
           "baxis": {
            "gridcolor": "white",
            "linecolor": "white",
            "ticks": ""
           },
           "bgcolor": "#E5ECF6",
           "caxis": {
            "gridcolor": "white",
            "linecolor": "white",
            "ticks": ""
           }
          },
          "title": {
           "x": 0.05
          },
          "xaxis": {
           "automargin": true,
           "gridcolor": "white",
           "linecolor": "white",
           "ticks": "",
           "title": {
            "standoff": 15
           },
           "zerolinecolor": "white",
           "zerolinewidth": 2
          },
          "yaxis": {
           "automargin": true,
           "gridcolor": "white",
           "linecolor": "white",
           "ticks": "",
           "title": {
            "standoff": 15
           },
           "zerolinecolor": "white",
           "zerolinewidth": 2
          }
         }
        }
       }
      },
      "text/html": [
       "<div>                            <div id=\"ebac4ab3-aecd-41d8-b76b-b9ea01ba1750\" class=\"plotly-graph-div\" style=\"height:525px; width:100%;\"></div>            <script type=\"text/javascript\">                require([\"plotly\"], function(Plotly) {                    window.PLOTLYENV=window.PLOTLYENV || {};                                    if (document.getElementById(\"ebac4ab3-aecd-41d8-b76b-b9ea01ba1750\")) {                    Plotly.newPlot(                        \"ebac4ab3-aecd-41d8-b76b-b9ea01ba1750\",                        [{\"branchvalues\": \"total\", \"customdata\": [[-0.016970524829676675, -0.016970524829676675], [-0.0017914964519559545, -0.0017914964519559545], [-0.0001525069518106299, -0.0001525069518106299], [-0.00817973184305341, -0.00817973184305341], [-0.004709700499427705, -0.004709700499427705], [-0.00040753918585547424, -0.00040753918585547424], [-1.4745974085386137e-05, -1.4745974085386137e-05], [-2.3989081781706228e-06, -2.3989081781706228e-06], [-0.023190145695762134, -0.023190145695762134], [-0.0023371987237308734, -0.0023371987237308734], [-0.0002077973911673397, -0.0002077973911673397], [-0.010147171752663437, -0.010147171752663437], [-0.004262303597595512, -0.004262303597595512], [-0.0004915772735972665, -0.0004915772735972665], [-3.055814087950453e-05, -3.055814087950453e-05], [-3.3801832872135877e-06, -3.3801832872135877e-06], [-0.015329311995796993, -0.015329311995796993], [-0.0019269886590955881, -0.0019269886590955881], [-0.0007779974026331399, -0.0007779974026331399], [-0.004226343624861332, -0.004226343624861332], [-0.003126153018387041, -0.003126153018387041], [-0.00026714005446274884, -0.00026714005446274884], [-3.351280360683534e-05, -3.351280360683534e-05], [-1.4424512053622062e-06, -1.4424512053622062e-06], [-0.009151474839339847, -0.009151474839339847], [-0.0008249375482050616, -0.0008249375482050616], [-0.0003648685425942893, -0.0003648685425942893], [-0.002833057598424776, -0.002833057598424776], [-0.002295518154828134, -0.002295518154828134], [-0.00010379062610899713, -0.00010379062610899713], [-1.663637157277618e-05, -1.663637157277618e-05], [-1.0579379354224504e-06, -1.0579379354224504e-06], [-0.018906672932190522, -0.018906672932190522], [-0.0026644860964751653, -0.0026644860964751653], [-0.0007434774009213933, -0.0007434774009213933], [-0.005577921369817054, -0.005577921369817054], [-0.005082523054701567, -0.005082523054701567], [-0.0003361501877781924, -0.0003361501877781924], [-2.900258476656756e-05, -2.900258476656756e-05], [-1.925067280772076e-06, -1.925067280772076e-06], [-0.04150217612584585, -0.04150217612584585], [-0.010024280031348667, -0.010024280031348667], [-0.002156338084661152, -0.002156338084661152], [-0.010654187323334912, -0.010654187323334912], [-0.008654845982304453, -0.008654845982304453], [-0.001143623896459346, -0.001143623896459346], [-9.873654416417062e-05, -9.873654416417062e-05], [-4.746472635621204e-06, -4.746472635621204e-06], [-0.004393645453929251, -0.004393645453929251], [-0.00043521035316811894, -0.00043521035316811894], [-0.0002483384669972995, -0.0002483384669972995], [-0.0015764483143087707, -0.0015764483143087707], [-0.0006653818545755226, -0.0006653818545755226], [-4.967560401614529e-05, -4.967560401614529e-05], [-7.612498745356457e-06, -7.612498745356457e-06], [-5.112657834017043e-07, -5.112657834017043e-07], [-0.002431968748282822, -0.002431968748282822], [-0.00025837505779787714, -0.00025837505779787714], [-0.00015838483922254274, -0.00015838483922254274], [-0.0008478136276615662, -0.0008478136276615662], [-0.00033728544527514726, -0.00033728544527514726], [-2.8593397415017956e-05, -2.8593397415017956e-05], [-6.610695338422506e-06, -6.610695338422506e-06], [-2.2184459080719183e-07, -2.2184459080719183e-07], [-0.1808031600570227, -0.1808031600570227], [-0.023154516091289327, -0.023154516091289327], [-0.0003666597794929554, -0.0003666597794929554], [-0.08725277472153123, -0.08725277472153123], [-0.029928502524438363, -0.029928502524438363], [-0.002048445449444054, -0.002048445449444054], [-0.00047731824878410076, -0.00047731824878410076], [-1.4823770285600077e-05, -1.4823770285600077e-05], [-0.012238242807606693, -0.012238242807606693], [-0.0003017036826559079, -0.0003017036826559079], [-8.857035721142061e-05, -8.857035721142061e-05], [-0.0004736052053865893, -0.0004736052053865893], [-0.0024697168038054613, -0.0024697168038054613], [-0.0002203127186697397, -0.0002203127186697397], [2.8914052182874597e-06, 2.8914052182874597e-06], [-1.7612906845540357e-07, -1.7612906845540357e-07], [-4.654831839017147e-05, -4.654831839017147e-05], [-8.133118985136336e-06, -8.133118985136336e-06], [-6.692201253706189e-06, -6.692201253706189e-06], [-4.955530911779155e-05, -4.955530911779155e-05], [-9.704725521923513e-07, -9.704725521923513e-07], [-9.91721695874964e-07, -9.91721695874964e-07], [-1.8639062146651834e-07, -1.8639062146651834e-07], [4.7150295202088725e-09, 4.7150295202088725e-09], [-0.05568131185088004, -0.05568131185088004], [-0.007176360653801562, -0.007176360653801562], [-0.0007889487402458047, -0.0007889487402458047], [-0.013023921286775157, -0.013023921286775157], [-0.007781651511254236, -0.007781651511254236], [-0.0006006570147081007, -0.0006006570147081007], [-0.00013012063619429617, -0.00013012063619429617], [-6.204718688127019e-06, -6.204718688127019e-06], [-0.008994364220618539, -0.008994364220618539], [-0.0009591797647649688, -0.0009591797647649688], [-0.0005742482171703211, -0.0005742482171703211], [-0.002770297940034823, -0.002770297940034823], [-0.0014491535896972827, -0.0014491535896972827], [-0.00011994879060639101, -0.00011994879060639101], [-2.1943037391347962e-05, -2.1943037391347962e-05], [-1.1900456802825873e-06, -1.1900456802825873e-06], [0.0011071549142992524, 0.0011071549142992524], [-1.7232666113084578e-06, -1.7232666113084578e-06], [6.607694631184252e-05, 6.607694631184252e-05], [0.0005074722950077423, 0.0005074722950077423], [0.0005036273923405093, 0.0005036273923405093], [8.657811103841173e-06, 8.657811103841173e-06], [-1.3985570510587534e-05, -1.3985570510587534e-05], [4.332097223437318e-08, 4.332097223437318e-08], [-0.00743120738232419, -0.00743120738232419], [-0.0008468607722235177, -0.0008468607722235177], [-0.0005887303653220644, -0.0005887303653220644], [-0.0014305887792605949, -0.0014305887792605949], [-0.0006793194375267625, -0.0006793194375267625], [0.00016006848473823222, 0.00016006848473823222], [4.470811470672683e-06, 4.470811470672683e-06], [2.7695317026786344e-07, 2.7695317026786344e-07], [-0.0065488921869877705, -0.0065488921869877705], [-0.0008130423247165382, -0.0008130423247165382], [-0.00016111901967047194, -0.00016111901967047194], [-0.0007012700738680258, -0.0007012700738680258], [0.0008955774447413391, 0.0008955774447413391], [0.0005662256787193436, 0.0005662256787193436], [-1.8913952186192355e-06, -1.8913952186192355e-06], [-8.949294240749329e-07, -8.949294240749329e-07], [-0.007946383998310698, -0.007946383998310698], [-0.00100544201905984, -0.00100544201905984], [-0.0004064118436048762, -0.0004064118436048762], [-0.0011821602859436828, -0.0011821602859436828], [-0.0007519779113686991, -0.0007519779113686991], [-0.0001643400671696557, -0.0001643400671696557], [-0.0001279206457220571, -0.0001279206457220571], [-1.3360601863081557e-06, -1.3360601863081557e-06], [-0.004316014833536307, -0.004316014833536307], [-0.0005660713999068157, -0.0005660713999068157], [-0.00020027485811448665, -0.00020027485811448665], [-0.0007258359896161486, -0.0007258359896161486], [-0.0003979874692517088, -0.0003979874692517088], [-8.901178226868542e-05, -8.901178226868542e-05], [-9.188254839672901e-05, -9.188254839672901e-05], [-6.908446722543221e-07, -6.908446722543221e-07], [-0.0003537586273452603, -0.0003537586273452603], [-3.142729899307812e-05, -3.142729899307812e-05], [-5.324731435189803e-05, -5.324731435189803e-05], [-0.00036629500493802665, -0.00036629500493802665], [8.029831534663002e-05, 8.029831534663002e-05], [-8.488036971342106e-06, -8.488036971342106e-06], [-7.757437927247386e-07, -7.757437927247386e-07], [-2.3056714778693022e-07, -2.3056714778693022e-07], [-0.0009225769540978343, -0.0009225769540978343], [-0.00012589545882435357, -0.00012589545882435357], [-6.0966695991505977e-05, -6.0966695991505977e-05], [-0.000516304401435513, -0.000516304401435513], [-0.00026710195843870774, -0.00026710195843870774], [-1.583952505898828e-05, -1.583952505898828e-05], [-2.0044509669452158e-06, -2.0044509669452158e-06], [-2.1832815243528842e-07, -2.1832815243528842e-07], [-0.026402137025158947, -0.026402137025158947], [-2.653687675976563e-09, -2.653687675976563e-09], [-0.00039361309805605504, -0.00039361309805605504], [-0.021001575534940486, -0.021001575534940486], [-0.007642934893970249, -0.007642934893970249], [-0.0004253685638188096, -0.0004253685638188096], [-2.0797453858629828e-05, -2.0797453858629828e-05], [-4.664509157706145e-06, -4.664509157706145e-06], [-0.012295004943029547, -0.012295004943029547], [-4.1948817541783184e-09, -4.1948817541783184e-09], [-0.00013261738922115397, -0.00013261738922115397], [-0.01401873584819259, -0.01401873584819259], [-0.005209721104445469, -0.005209721104445469], [-0.00025215129594245353, -0.00025215129594245353], [-7.914212688394267e-06, -7.914212688394267e-06], [-2.18722289857683e-06, -2.18722289857683e-06], [-0.001167201346432688, -0.001167201346432688], [-9.250768420291728e-06, -9.250768420291728e-06], [-0.0003435572936374651, -0.0003435572936374651], [-0.00016675341386395928, -0.00016675341386395928], [-2.7386435131429496e-06, -2.7386435131429496e-06], [-2.1360524812438272e-07, -2.1360524812438272e-07], [-1.7573638082571167e-08, -1.7573638082571167e-08], [-0.05911402052677661, -0.05911402052677661], [-0.0032691672191390475, -0.0032691672191390475], [-0.0011041932438104203, -0.0011041932438104203], [-0.037396972115212236, -0.037396972115212236], [-0.028870790522941954, -0.028870790522941954], [-0.0006640875232458183, -0.0006640875232458183], [-5.0825493592667656e-05, -5.0825493592667656e-05], [-6.366342680466512e-06, -6.366342680466512e-06], [-0.0010548063136686684, -0.0010548063136686684], [2.6033064186673385e-05, 2.6033064186673385e-05], [-0.00011885144752599982, -0.00011885144752599982], [-0.0007632912550620844, -0.0007632912550620844], [-0.0010446888991527633, -0.0010446888991527633], [-4.371673780135787e-05, -4.371673780135787e-05], [1.0171645880571262e-05, 1.0171645880571262e-05], [-5.271724788305644e-08, -5.271724788305644e-08], [-0.05656367776680984, -0.05656367776680984], [-0.006005020614937295, -0.006005020614937295], [-0.0019406150716198614, -0.0019406150716198614], [-0.009488961328390376, -0.009488961328390376], [-0.009684933578095608, -0.009684933578095608], [-0.000647071262943811, -0.000647071262943811], [-0.0001974180042729296, -0.0001974180042729296], [-2.7753786441589895e-06, -2.7753786441589895e-06], [0.004428652715729443, 0.004428652715729443], [-7.435946809419934e-05, -7.435946809419934e-05], [-0.0003588200828971117, -0.0003588200828971117], [-6.078970806746438e-05, -6.078970806746438e-05], [0.0009038199319600852, 0.0009038199319600852], [8.646499692465331e-05, 8.646499692465331e-05], [3.3473712791422478e-06, 3.3473712791422478e-06], [4.951953242217892e-07, 4.951953242217892e-07], [-0.00647914518812077, -0.00647914518812077], [-0.0005664717266762878, -0.0005664717266762878], [-0.0006677882317248602, -0.0006677882317248602], [-0.00265266657535999, -0.00265266657535999], [-0.0036219541793963603, -0.0036219541793963603], [-2.109518541441901e-05, -2.109518541441901e-05], [-3.0454110936465275e-06, -3.0454110936465275e-06], [-9.910085678131582e-07, -9.910085678131582e-07], [-0.0005498287124352519, -0.0005498287124352519], [-4.68707665346871e-05, -4.68707665346871e-05], [-2.9504481970193845e-05, -2.9504481970193845e-05], [-0.00021773283253906587, -0.00021773283253906587], [-4.244186228700356e-05, -4.244186228700356e-05], [-5.604236191240923e-06, -5.604236191240923e-06], [-1.1664221812894674e-06, -1.1664221812894674e-06], [-4.343761611170933e-08, -4.343761611170933e-08], [-0.07400536998903048, -0.07400536998903048], [-0.007608060552406133, -0.007608060552406133], [-3.794417025090757e-05, -3.794417025090757e-05], [-0.002334593789065325, -0.002334593789065325], [-0.005881720709370464, -0.005881720709370464], [-0.0007184022058652235, -0.0007184022058652235], [-0.00019989851213011601, -0.00019989851213011601], [-3.1721904484094858e-06, -3.1721904484094858e-06], [-3.7108197447695697e-05, -3.7108197447695697e-05], [3.1268952652614314e-06, 3.1268952652614314e-06], [3.7487188089950048e-06, 3.7487188089950048e-06], [-3.2543895714421515e-05, -3.2543895714421515e-05], [2.165502131528858e-05, 2.165502131528858e-05], [-6.664549771483946e-07, -6.664549771483946e-07], [-1.823975339423077e-08, -1.823975339423077e-08], [4.728663531873145e-08, 4.728663531873145e-08], [-0.014511479571871197, -0.014511479571871197], [-0.0004828137478670792, -0.0004828137478670792], [-0.03461338252101911, -0.03461338252101911], [-0.09239905530683147, -0.09239905530683147], [-0.0018165345653383032, -0.0018165345653383032], [-4.3811212694159266e-05, -4.3811212694159266e-05], [-0.0036003372898174295, -0.0036003372898174295], [-0.012987479756871822, -0.012987479756871822], [-0.000725891486325089, -0.000725891486325089], [-2.864133154163635e-05, -2.864133154163635e-05], [-0.0010671086130606999, -0.0010671086130606999], [-0.0010893783830525654, -0.0010893783830525654], [-0.003822453315074036, -0.003822453315074036], [-0.00016983648786156636, -0.00016983648786156636], [-0.005683488086881743, -0.005683488086881743], [-0.0469994819229189, -0.0469994819229189], [-0.002901101219272659, -0.002901101219272659], [-0.00010438758613435927, -0.00010438758613435927], [-0.006986427666716805, -0.006986427666716805], [-0.018327570154528485, -0.018327570154528485], [-0.00025307373547409507, -0.00025307373547409507], [-4.5212435673300025e-06, -4.5212435673300025e-06], [-0.00196522584844951, -0.00196522584844951], [-0.0010383669674930433, -0.0010383669674930433], [-3.173459893775875e-05, -3.173459893775875e-05], [-1.0179149231867437e-06, -1.0179149231867437e-06], [-0.00014412613286266302, -0.00014412613286266302], [-0.0002774466720823286, -0.0002774466720823286], [-1.2815264423922374e-06, -1.2815264423922374e-06], [4.840098426146625e-07, 4.840098426146625e-07], [-1.8630721230563101e-06, -1.8630721230563101e-06], [-7.320971237952056e-06, -7.320971237952056e-06], [-0.009718279794624937, -0.009718279794624937], [-0.0003456840893997249, -0.0003456840893997249], [-0.02477761794870883, -0.02477761794870883], [-0.06629349624169116, -0.06629349624169116]], \"domain\": {\"x\": [0.0, 1.0], \"y\": [0.0, 1.0]}, \"hovertemplate\": \"labels=%{label}<br>opportunity_sum=%{value}<br>parent=%{parent}<br>id=%{id}<br>opportunity=%{color}<extra></extra>\", \"ids\": [\"waiting/1) standard/accept_eta_jump_from_pin_eta_120\", \"waiting/2) hvm/accept_eta_jump_from_pin_eta_120\", \"waiting/3) fastpass/accept_eta_jump_from_pin_eta_120\", \"waiting/4) w&s/accept_eta_jump_from_pin_eta_120\", \"waiting/5) scheduled/accept_eta_jump_from_pin_eta_120\", \"waiting/6) others/accept_eta_jump_from_pin_eta_120\", \"waiting/7) walk/accept_eta_jump_from_pin_eta_120\", \"waiting/9) no intent/accept_eta_jump_from_pin_eta_120\", \"waiting/1) standard/accept_eta_jump_from_pin_eta_60\", \"waiting/2) hvm/accept_eta_jump_from_pin_eta_60\", \"waiting/3) fastpass/accept_eta_jump_from_pin_eta_60\", \"waiting/4) w&s/accept_eta_jump_from_pin_eta_60\", \"waiting/5) scheduled/accept_eta_jump_from_pin_eta_60\", \"waiting/6) others/accept_eta_jump_from_pin_eta_60\", \"waiting/7) walk/accept_eta_jump_from_pin_eta_60\", \"waiting/9) no intent/accept_eta_jump_from_pin_eta_60\", \"cancel policy/1) standard/cancel_penalty\", \"cancel policy/2) hvm/cancel_penalty\", \"cancel policy/3) fastpass/cancel_penalty\", \"cancel policy/4) w&s/cancel_penalty\", \"cancel policy/5) scheduled/cancel_penalty\", \"cancel policy/6) others/cancel_penalty\", \"cancel policy/7) walk/cancel_penalty\", \"cancel policy/9) no intent/cancel_penalty\", \"waiting/1) standard/cancellation_no_show\", \"waiting/2) hvm/cancellation_no_show\", \"waiting/3) fastpass/cancellation_no_show\", \"waiting/4) w&s/cancellation_no_show\", \"waiting/5) scheduled/cancellation_no_show\", \"waiting/6) others/cancellation_no_show\", \"waiting/7) walk/cancellation_no_show\", \"waiting/9) no intent/cancellation_no_show\", \"waiting/1) standard/cancellation_post_accept_pre_arrival_dvr\", \"waiting/2) hvm/cancellation_post_accept_pre_arrival_dvr\", \"waiting/3) fastpass/cancellation_post_accept_pre_arrival_dvr\", \"waiting/4) w&s/cancellation_post_accept_pre_arrival_dvr\", \"waiting/5) scheduled/cancellation_post_accept_pre_arrival_dvr\", \"waiting/6) others/cancellation_post_accept_pre_arrival_dvr\", \"waiting/7) walk/cancellation_post_accept_pre_arrival_dvr\", \"waiting/9) no intent/cancellation_post_accept_pre_arrival_dvr\", \"waiting/1) standard/cancellation_post_accept_pre_arrival_pax\", \"waiting/2) hvm/cancellation_post_accept_pre_arrival_pax\", \"waiting/3) fastpass/cancellation_post_accept_pre_arrival_pax\", \"waiting/4) w&s/cancellation_post_accept_pre_arrival_pax\", \"waiting/5) scheduled/cancellation_post_accept_pre_arrival_pax\", \"waiting/6) others/cancellation_post_accept_pre_arrival_pax\", \"waiting/7) walk/cancellation_post_accept_pre_arrival_pax\", \"waiting/9) no intent/cancellation_post_accept_pre_arrival_pax\", \"waiting/1) standard/cancellation_post_arrival_dvr\", \"waiting/2) hvm/cancellation_post_arrival_dvr\", \"waiting/3) fastpass/cancellation_post_arrival_dvr\", \"waiting/4) w&s/cancellation_post_arrival_dvr\", \"waiting/5) scheduled/cancellation_post_arrival_dvr\", \"waiting/6) others/cancellation_post_arrival_dvr\", \"waiting/7) walk/cancellation_post_arrival_dvr\", \"waiting/9) no intent/cancellation_post_arrival_dvr\", \"waiting/1) standard/cancellation_post_arrival_pax\", \"waiting/2) hvm/cancellation_post_arrival_pax\", \"waiting/3) fastpass/cancellation_post_arrival_pax\", \"waiting/4) w&s/cancellation_post_arrival_pax\", \"waiting/5) scheduled/cancellation_post_arrival_pax\", \"waiting/6) others/cancellation_post_arrival_pax\", \"waiting/7) walk/cancellation_post_arrival_pax\", \"waiting/9) no intent/cancellation_post_arrival_pax\", \"waiting/1) standard/cancellation_pre_accept\", \"waiting/2) hvm/cancellation_pre_accept\", \"waiting/3) fastpass/cancellation_pre_accept\", \"waiting/4) w&s/cancellation_pre_accept\", \"waiting/5) scheduled/cancellation_pre_accept\", \"waiting/6) others/cancellation_pre_accept\", \"waiting/7) walk/cancellation_pre_accept\", \"waiting/9) no intent/cancellation_pre_accept\", \"pudo/1) standard/dest_map_others\", \"pudo/2) hvm/dest_map_others\", \"pudo/3) fastpass/dest_map_others\", \"pudo/4) w&s/dest_map_others\", \"pudo/5) scheduled/dest_map_others\", \"pudo/6) others/dest_map_others\", \"pudo/7) walk/dest_map_others\", \"pudo/9) no intent/dest_map_others\", \"in-ride/1) standard/dirty_car\", \"in-ride/2) hvm/dirty_car\", \"in-ride/3) fastpass/dirty_car\", \"in-ride/4) w&s/dirty_car\", \"in-ride/5) scheduled/dirty_car\", \"in-ride/6) others/dirty_car\", \"in-ride/7) walk/dirty_car\", \"in-ride/9) no intent/dirty_car\", \"waiting/1) standard/driver_lapse\", \"waiting/2) hvm/driver_lapse\", \"waiting/3) fastpass/driver_lapse\", \"waiting/4) w&s/driver_lapse\", \"waiting/5) scheduled/driver_lapse\", \"waiting/6) others/driver_lapse\", \"waiting/7) walk/driver_lapse\", \"waiting/9) no intent/driver_lapse\", \"pudo/1) standard/dropoff_hike_long\", \"pudo/2) hvm/dropoff_hike_long\", \"pudo/3) fastpass/dropoff_hike_long\", \"pudo/4) w&s/dropoff_hike_long\", \"pudo/5) scheduled/dropoff_hike_long\", \"pudo/6) others/dropoff_hike_long\", \"pudo/7) walk/dropoff_hike_long\", \"pudo/9) no intent/dropoff_hike_long\", \"pudo/1) standard/far_arrival\", \"pudo/2) hvm/far_arrival\", \"pudo/3) fastpass/far_arrival\", \"pudo/4) w&s/far_arrival\", \"pudo/5) scheduled/far_arrival\", \"pudo/6) others/far_arrival\", \"pudo/7) walk/far_arrival\", \"pudo/9) no intent/far_arrival\", \"pudo/1) standard/high_distance_pin_150\", \"pudo/2) hvm/high_distance_pin_150\", \"pudo/3) fastpass/high_distance_pin_150\", \"pudo/4) w&s/high_distance_pin_150\", \"pudo/5) scheduled/high_distance_pin_150\", \"pudo/6) others/high_distance_pin_150\", \"pudo/7) walk/high_distance_pin_150\", \"pudo/9) no intent/high_distance_pin_150\", \"pudo/1) standard/high_distance_pin_60\", \"pudo/2) hvm/high_distance_pin_60\", \"pudo/3) fastpass/high_distance_pin_60\", \"pudo/4) w&s/high_distance_pin_60\", \"pudo/5) scheduled/high_distance_pin_60\", \"pudo/6) others/high_distance_pin_60\", \"pudo/7) walk/high_distance_pin_60\", \"pudo/9) no intent/high_distance_pin_60\", \"pudo/1) standard/hike_long_60\", \"pudo/2) hvm/hike_long_60\", \"pudo/3) fastpass/hike_long_60\", \"pudo/4) w&s/hike_long_60\", \"pudo/5) scheduled/hike_long_60\", \"pudo/6) others/hike_long_60\", \"pudo/7) walk/hike_long_60\", \"pudo/9) no intent/hike_long_60\", \"pudo/1) standard/hike_long_80\", \"pudo/2) hvm/hike_long_80\", \"pudo/3) fastpass/hike_long_80\", \"pudo/4) w&s/hike_long_80\", \"pudo/5) scheduled/hike_long_80\", \"pudo/6) others/hike_long_80\", \"pudo/7) walk/hike_long_80\", \"pudo/9) no intent/hike_long_80\", \"waiting/1) standard/is_a1k\", \"waiting/2) hvm/is_a1k\", \"waiting/3) fastpass/is_a1k\", \"waiting/4) w&s/is_a1k\", \"waiting/5) scheduled/is_a1k\", \"waiting/6) others/is_a1k\", \"waiting/7) walk/is_a1k\", \"waiting/9) no intent/is_a1k\", \"cancel policy/1) standard/is_cancel_a1k\", \"cancel policy/2) hvm/is_cancel_a1k\", \"cancel policy/3) fastpass/is_cancel_a1k\", \"cancel policy/4) w&s/is_cancel_a1k\", \"cancel policy/5) scheduled/is_cancel_a1k\", \"cancel policy/6) others/is_cancel_a1k\", \"cancel policy/7) walk/is_cancel_a1k\", \"cancel policy/9) no intent/is_cancel_a1k\", \"waiting/1) standard/late_arrival_120\", \"waiting/2) hvm/late_arrival_120\", \"waiting/3) fastpass/late_arrival_120\", \"waiting/4) w&s/late_arrival_120\", \"waiting/5) scheduled/late_arrival_120\", \"waiting/6) others/late_arrival_120\", \"waiting/7) walk/late_arrival_120\", \"waiting/9) no intent/late_arrival_120\", \"waiting/1) standard/late_arrival_300\", \"waiting/2) hvm/late_arrival_300\", \"waiting/3) fastpass/late_arrival_300\", \"waiting/4) w&s/late_arrival_300\", \"waiting/5) scheduled/late_arrival_300\", \"waiting/6) others/late_arrival_300\", \"waiting/7) walk/late_arrival_300\", \"waiting/9) no intent/late_arrival_300\", \"pudo/1) standard/late_dropoff\", \"pudo/3) fastpass/late_dropoff\", \"pudo/4) w&s/late_dropoff\", \"pudo/5) scheduled/late_dropoff\", \"pudo/6) others/late_dropoff\", \"pudo/7) walk/late_dropoff\", \"pudo/9) no intent/late_dropoff\", \"waiting/1) standard/match_time_long\", \"waiting/2) hvm/match_time_long\", \"waiting/3) fastpass/match_time_long\", \"waiting/4) w&s/match_time_long\", \"waiting/5) scheduled/match_time_long\", \"waiting/6) others/match_time_long\", \"waiting/7) walk/match_time_long\", \"waiting/9) no intent/match_time_long\", \"waiting/1) standard/max_eta_increase_from_accept\", \"waiting/2) hvm/max_eta_increase_from_accept\", \"waiting/3) fastpass/max_eta_increase_from_accept\", \"waiting/4) w&s/max_eta_increase_from_accept\", \"waiting/5) scheduled/max_eta_increase_from_accept\", \"waiting/6) others/max_eta_increase_from_accept\", \"waiting/7) walk/max_eta_increase_from_accept\", \"waiting/9) no intent/max_eta_increase_from_accept\", \"pudo/1) standard/other_pickup_pin\", \"pudo/2) hvm/other_pickup_pin\", \"pudo/3) fastpass/other_pickup_pin\", \"pudo/4) w&s/other_pickup_pin\", \"pudo/5) scheduled/other_pickup_pin\", \"pudo/6) others/other_pickup_pin\", \"pudo/7) walk/other_pickup_pin\", \"pudo/9) no intent/other_pickup_pin\", \"pudo/1) standard/pickup_time_120\", \"pudo/2) hvm/pickup_time_120\", \"pudo/3) fastpass/pickup_time_120\", \"pudo/4) w&s/pickup_time_120\", \"pudo/5) scheduled/pickup_time_120\", \"pudo/6) others/pickup_time_120\", \"pudo/7) walk/pickup_time_120\", \"pudo/9) no intent/pickup_time_120\", \"pudo/1) standard/pickup_time_180\", \"pudo/2) hvm/pickup_time_180\", \"pudo/3) fastpass/pickup_time_180\", \"pudo/4) w&s/pickup_time_180\", \"pudo/5) scheduled/pickup_time_180\", \"pudo/6) others/pickup_time_180\", \"pudo/7) walk/pickup_time_180\", \"pudo/9) no intent/pickup_time_180\", \"in-ride/1) standard/post_pickup_cancel\", \"in-ride/2) hvm/post_pickup_cancel\", \"in-ride/3) fastpass/post_pickup_cancel\", \"in-ride/4) w&s/post_pickup_cancel\", \"in-ride/5) scheduled/post_pickup_cancel\", \"in-ride/6) others/post_pickup_cancel\", \"in-ride/7) walk/post_pickup_cancel\", \"in-ride/9) no intent/post_pickup_cancel\", \"waiting/1) standard/system_lapse\", \"waiting/2) hvm/system_lapse\", \"waiting/3) fastpass/system_lapse\", \"waiting/4) w&s/system_lapse\", \"waiting/5) scheduled/system_lapse\", \"waiting/6) others/system_lapse\", \"waiting/7) walk/system_lapse\", \"waiting/9) no intent/system_lapse\", \"in-ride/1) standard/unsafe_driver\", \"in-ride/2) hvm/unsafe_driver\", \"in-ride/3) fastpass/unsafe_driver\", \"in-ride/4) w&s/unsafe_driver\", \"in-ride/5) scheduled/unsafe_driver\", \"in-ride/6) others/unsafe_driver\", \"in-ride/7) walk/unsafe_driver\", \"in-ride/9) no intent/unsafe_driver\", \"cancel policy/1) standard\", \"in-ride/1) standard\", \"pudo/1) standard\", \"waiting/1) standard\", \"cancel policy/2) hvm\", \"in-ride/2) hvm\", \"pudo/2) hvm\", \"waiting/2) hvm\", \"cancel policy/3) fastpass\", \"in-ride/3) fastpass\", \"pudo/3) fastpass\", \"waiting/3) fastpass\", \"cancel policy/4) w&s\", \"in-ride/4) w&s\", \"pudo/4) w&s\", \"waiting/4) w&s\", \"cancel policy/5) scheduled\", \"in-ride/5) scheduled\", \"pudo/5) scheduled\", \"waiting/5) scheduled\", \"cancel policy/6) others\", \"in-ride/6) others\", \"pudo/6) others\", \"waiting/6) others\", \"cancel policy/7) walk\", \"in-ride/7) walk\", \"pudo/7) walk\", \"waiting/7) walk\", \"cancel policy/9) no intent\", \"in-ride/9) no intent\", \"pudo/9) no intent\", \"waiting/9) no intent\", \"cancel policy\", \"in-ride\", \"pudo\", \"waiting\"], \"labels\": [\"accept_eta_jump_from_pin_eta_120\", \"accept_eta_jump_from_pin_eta_120\", \"accept_eta_jump_from_pin_eta_120\", \"accept_eta_jump_from_pin_eta_120\", \"accept_eta_jump_from_pin_eta_120\", \"accept_eta_jump_from_pin_eta_120\", \"accept_eta_jump_from_pin_eta_120\", \"accept_eta_jump_from_pin_eta_120\", \"accept_eta_jump_from_pin_eta_60\", \"accept_eta_jump_from_pin_eta_60\", \"accept_eta_jump_from_pin_eta_60\", \"accept_eta_jump_from_pin_eta_60\", \"accept_eta_jump_from_pin_eta_60\", \"accept_eta_jump_from_pin_eta_60\", \"accept_eta_jump_from_pin_eta_60\", \"accept_eta_jump_from_pin_eta_60\", \"cancel_penalty\", \"cancel_penalty\", \"cancel_penalty\", \"cancel_penalty\", \"cancel_penalty\", \"cancel_penalty\", \"cancel_penalty\", \"cancel_penalty\", \"cancellation_no_show\", \"cancellation_no_show\", \"cancellation_no_show\", \"cancellation_no_show\", \"cancellation_no_show\", \"cancellation_no_show\", \"cancellation_no_show\", \"cancellation_no_show\", \"cancellation_post_accept_pre_arrival_dvr\", \"cancellation_post_accept_pre_arrival_dvr\", \"cancellation_post_accept_pre_arrival_dvr\", \"cancellation_post_accept_pre_arrival_dvr\", \"cancellation_post_accept_pre_arrival_dvr\", \"cancellation_post_accept_pre_arrival_dvr\", \"cancellation_post_accept_pre_arrival_dvr\", \"cancellation_post_accept_pre_arrival_dvr\", \"cancellation_post_accept_pre_arrival_pax\", \"cancellation_post_accept_pre_arrival_pax\", \"cancellation_post_accept_pre_arrival_pax\", \"cancellation_post_accept_pre_arrival_pax\", \"cancellation_post_accept_pre_arrival_pax\", \"cancellation_post_accept_pre_arrival_pax\", \"cancellation_post_accept_pre_arrival_pax\", \"cancellation_post_accept_pre_arrival_pax\", \"cancellation_post_arrival_dvr\", \"cancellation_post_arrival_dvr\", \"cancellation_post_arrival_dvr\", \"cancellation_post_arrival_dvr\", \"cancellation_post_arrival_dvr\", \"cancellation_post_arrival_dvr\", \"cancellation_post_arrival_dvr\", \"cancellation_post_arrival_dvr\", \"cancellation_post_arrival_pax\", \"cancellation_post_arrival_pax\", \"cancellation_post_arrival_pax\", \"cancellation_post_arrival_pax\", \"cancellation_post_arrival_pax\", \"cancellation_post_arrival_pax\", \"cancellation_post_arrival_pax\", \"cancellation_post_arrival_pax\", \"cancellation_pre_accept\", \"cancellation_pre_accept\", \"cancellation_pre_accept\", \"cancellation_pre_accept\", \"cancellation_pre_accept\", \"cancellation_pre_accept\", \"cancellation_pre_accept\", \"cancellation_pre_accept\", \"dest_map_others\", \"dest_map_others\", \"dest_map_others\", \"dest_map_others\", \"dest_map_others\", \"dest_map_others\", \"dest_map_others\", \"dest_map_others\", \"dirty_car\", \"dirty_car\", \"dirty_car\", \"dirty_car\", \"dirty_car\", \"dirty_car\", \"dirty_car\", \"dirty_car\", \"driver_lapse\", \"driver_lapse\", \"driver_lapse\", \"driver_lapse\", \"driver_lapse\", \"driver_lapse\", \"driver_lapse\", \"driver_lapse\", \"dropoff_hike_long\", \"dropoff_hike_long\", \"dropoff_hike_long\", \"dropoff_hike_long\", \"dropoff_hike_long\", \"dropoff_hike_long\", \"dropoff_hike_long\", \"dropoff_hike_long\", \"far_arrival\", \"far_arrival\", \"far_arrival\", \"far_arrival\", \"far_arrival\", \"far_arrival\", \"far_arrival\", \"far_arrival\", \"high_distance_pin_150\", \"high_distance_pin_150\", \"high_distance_pin_150\", \"high_distance_pin_150\", \"high_distance_pin_150\", \"high_distance_pin_150\", \"high_distance_pin_150\", \"high_distance_pin_150\", \"high_distance_pin_60\", \"high_distance_pin_60\", \"high_distance_pin_60\", \"high_distance_pin_60\", \"high_distance_pin_60\", \"high_distance_pin_60\", \"high_distance_pin_60\", \"high_distance_pin_60\", \"hike_long_60\", \"hike_long_60\", \"hike_long_60\", \"hike_long_60\", \"hike_long_60\", \"hike_long_60\", \"hike_long_60\", \"hike_long_60\", \"hike_long_80\", \"hike_long_80\", \"hike_long_80\", \"hike_long_80\", \"hike_long_80\", \"hike_long_80\", \"hike_long_80\", \"hike_long_80\", \"is_a1k\", \"is_a1k\", \"is_a1k\", \"is_a1k\", \"is_a1k\", \"is_a1k\", \"is_a1k\", \"is_a1k\", \"is_cancel_a1k\", \"is_cancel_a1k\", \"is_cancel_a1k\", \"is_cancel_a1k\", \"is_cancel_a1k\", \"is_cancel_a1k\", \"is_cancel_a1k\", \"is_cancel_a1k\", \"late_arrival_120\", \"late_arrival_120\", \"late_arrival_120\", \"late_arrival_120\", \"late_arrival_120\", \"late_arrival_120\", \"late_arrival_120\", \"late_arrival_120\", \"late_arrival_300\", \"late_arrival_300\", \"late_arrival_300\", \"late_arrival_300\", \"late_arrival_300\", \"late_arrival_300\", \"late_arrival_300\", \"late_arrival_300\", \"late_dropoff\", \"late_dropoff\", \"late_dropoff\", \"late_dropoff\", \"late_dropoff\", \"late_dropoff\", \"late_dropoff\", \"match_time_long\", \"match_time_long\", \"match_time_long\", \"match_time_long\", \"match_time_long\", \"match_time_long\", \"match_time_long\", \"match_time_long\", \"max_eta_increase_from_accept\", \"max_eta_increase_from_accept\", \"max_eta_increase_from_accept\", \"max_eta_increase_from_accept\", \"max_eta_increase_from_accept\", \"max_eta_increase_from_accept\", \"max_eta_increase_from_accept\", \"max_eta_increase_from_accept\", \"other_pickup_pin\", \"other_pickup_pin\", \"other_pickup_pin\", \"other_pickup_pin\", \"other_pickup_pin\", \"other_pickup_pin\", \"other_pickup_pin\", \"other_pickup_pin\", \"pickup_time_120\", \"pickup_time_120\", \"pickup_time_120\", \"pickup_time_120\", \"pickup_time_120\", \"pickup_time_120\", \"pickup_time_120\", \"pickup_time_120\", \"pickup_time_180\", \"pickup_time_180\", \"pickup_time_180\", \"pickup_time_180\", \"pickup_time_180\", \"pickup_time_180\", \"pickup_time_180\", \"pickup_time_180\", \"post_pickup_cancel\", \"post_pickup_cancel\", \"post_pickup_cancel\", \"post_pickup_cancel\", \"post_pickup_cancel\", \"post_pickup_cancel\", \"post_pickup_cancel\", \"post_pickup_cancel\", \"system_lapse\", \"system_lapse\", \"system_lapse\", \"system_lapse\", \"system_lapse\", \"system_lapse\", \"system_lapse\", \"system_lapse\", \"unsafe_driver\", \"unsafe_driver\", \"unsafe_driver\", \"unsafe_driver\", \"unsafe_driver\", \"unsafe_driver\", \"unsafe_driver\", \"unsafe_driver\", \"1) standard\", \"1) standard\", \"1) standard\", \"1) standard\", \"2) hvm\", \"2) hvm\", \"2) hvm\", \"2) hvm\", \"3) fastpass\", \"3) fastpass\", \"3) fastpass\", \"3) fastpass\", \"4) w&s\", \"4) w&s\", \"4) w&s\", \"4) w&s\", \"5) scheduled\", \"5) scheduled\", \"5) scheduled\", \"5) scheduled\", \"6) others\", \"6) others\", \"6) others\", \"6) others\", \"7) walk\", \"7) walk\", \"7) walk\", \"7) walk\", \"9) no intent\", \"9) no intent\", \"9) no intent\", \"9) no intent\", \"cancel policy\", \"in-ride\", \"pudo\", \"waiting\"], \"marker\": {\"coloraxis\": \"coloraxis\", \"colors\": [-0.016970524829676675, -0.0017914964519559545, -0.0001525069518106299, -0.00817973184305341, -0.004709700499427705, -0.00040753918585547424, -1.4745974085386137e-05, -2.3989081781706228e-06, -0.023190145695762134, -0.0023371987237308734, -0.0002077973911673397, -0.010147171752663437, -0.004262303597595512, -0.0004915772735972665, -3.055814087950453e-05, -3.3801832872135877e-06, -0.015329311995796993, -0.0019269886590955881, -0.0007779974026331399, -0.004226343624861332, -0.003126153018387041, -0.00026714005446274884, -3.351280360683534e-05, -1.4424512053622062e-06, -0.009151474839339847, -0.0008249375482050616, -0.0003648685425942893, -0.002833057598424776, -0.002295518154828134, -0.00010379062610899713, -1.663637157277618e-05, -1.0579379354224504e-06, -0.018906672932190522, -0.0026644860964751653, -0.0007434774009213933, -0.005577921369817054, -0.005082523054701567, -0.0003361501877781924, -2.900258476656756e-05, -1.925067280772076e-06, -0.04150217612584585, -0.010024280031348667, -0.002156338084661152, -0.010654187323334912, -0.008654845982304453, -0.001143623896459346, -9.873654416417062e-05, -4.746472635621204e-06, -0.004393645453929251, -0.00043521035316811894, -0.0002483384669972995, -0.0015764483143087707, -0.0006653818545755226, -4.967560401614529e-05, -7.612498745356457e-06, -5.112657834017043e-07, -0.002431968748282822, -0.00025837505779787714, -0.00015838483922254274, -0.0008478136276615662, -0.00033728544527514726, -2.8593397415017956e-05, -6.610695338422506e-06, -2.2184459080719183e-07, -0.1808031600570227, -0.023154516091289327, -0.0003666597794929554, -0.08725277472153123, -0.029928502524438363, -0.002048445449444054, -0.00047731824878410076, -1.4823770285600077e-05, -0.012238242807606693, -0.0003017036826559079, -8.857035721142061e-05, -0.0004736052053865893, -0.0024697168038054613, -0.0002203127186697397, 2.8914052182874597e-06, -1.7612906845540357e-07, -4.654831839017147e-05, -8.133118985136336e-06, -6.692201253706189e-06, -4.955530911779155e-05, -9.704725521923513e-07, -9.91721695874964e-07, -1.8639062146651834e-07, 4.7150295202088725e-09, -0.05568131185088004, -0.007176360653801562, -0.0007889487402458047, -0.013023921286775157, -0.007781651511254236, -0.0006006570147081007, -0.00013012063619429617, -6.204718688127019e-06, -0.008994364220618539, -0.0009591797647649688, -0.0005742482171703211, -0.002770297940034823, -0.0014491535896972827, -0.00011994879060639101, -2.1943037391347962e-05, -1.1900456802825873e-06, 0.0011071549142992524, -1.7232666113084578e-06, 6.607694631184252e-05, 0.0005074722950077423, 0.0005036273923405093, 8.657811103841173e-06, -1.3985570510587534e-05, 4.332097223437318e-08, -0.00743120738232419, -0.0008468607722235177, -0.0005887303653220644, -0.0014305887792605949, -0.0006793194375267625, 0.00016006848473823222, 4.470811470672683e-06, 2.7695317026786344e-07, -0.0065488921869877705, -0.0008130423247165382, -0.00016111901967047194, -0.0007012700738680258, 0.0008955774447413391, 0.0005662256787193436, -1.8913952186192355e-06, -8.949294240749329e-07, -0.007946383998310698, -0.00100544201905984, -0.0004064118436048762, -0.0011821602859436828, -0.0007519779113686991, -0.0001643400671696557, -0.0001279206457220571, -1.3360601863081557e-06, -0.004316014833536307, -0.0005660713999068157, -0.00020027485811448665, -0.0007258359896161486, -0.0003979874692517088, -8.901178226868542e-05, -9.188254839672901e-05, -6.908446722543221e-07, -0.0003537586273452603, -3.142729899307812e-05, -5.324731435189803e-05, -0.00036629500493802665, 8.029831534663002e-05, -8.488036971342106e-06, -7.757437927247386e-07, -2.3056714778693022e-07, -0.0009225769540978343, -0.00012589545882435357, -6.0966695991505977e-05, -0.000516304401435513, -0.00026710195843870774, -1.583952505898828e-05, -2.0044509669452158e-06, -2.1832815243528842e-07, -0.026402137025158947, -2.653687675976563e-09, -0.00039361309805605504, -0.021001575534940486, -0.007642934893970249, -0.0004253685638188096, -2.0797453858629828e-05, -4.664509157706145e-06, -0.012295004943029547, -4.1948817541783184e-09, -0.00013261738922115397, -0.01401873584819259, -0.005209721104445469, -0.00025215129594245353, -7.914212688394267e-06, -2.18722289857683e-06, -0.001167201346432688, -9.250768420291728e-06, -0.0003435572936374651, -0.00016675341386395928, -2.7386435131429496e-06, -2.1360524812438272e-07, -1.7573638082571167e-08, -0.05911402052677661, -0.0032691672191390475, -0.0011041932438104203, -0.037396972115212236, -0.028870790522941954, -0.0006640875232458183, -5.0825493592667656e-05, -6.366342680466512e-06, -0.0010548063136686684, 2.6033064186673385e-05, -0.00011885144752599982, -0.0007632912550620844, -0.0010446888991527633, -4.371673780135787e-05, 1.0171645880571262e-05, -5.271724788305644e-08, -0.05656367776680984, -0.006005020614937295, -0.0019406150716198614, -0.009488961328390376, -0.009684933578095608, -0.000647071262943811, -0.0001974180042729296, -2.7753786441589895e-06, 0.004428652715729443, -7.435946809419934e-05, -0.0003588200828971117, -6.078970806746438e-05, 0.0009038199319600852, 8.646499692465331e-05, 3.3473712791422478e-06, 4.951953242217892e-07, -0.00647914518812077, -0.0005664717266762878, -0.0006677882317248602, -0.00265266657535999, -0.0036219541793963603, -2.109518541441901e-05, -3.0454110936465275e-06, -9.910085678131582e-07, -0.0005498287124352519, -4.68707665346871e-05, -2.9504481970193845e-05, -0.00021773283253906587, -4.244186228700356e-05, -5.604236191240923e-06, -1.1664221812894674e-06, -4.343761611170933e-08, -0.07400536998903048, -0.007608060552406133, -3.794417025090757e-05, -0.002334593789065325, -0.005881720709370464, -0.0007184022058652235, -0.00019989851213011601, -3.1721904484094858e-06, -3.7108197447695697e-05, 3.1268952652614314e-06, 3.7487188089950048e-06, -3.2543895714421515e-05, 2.165502131528858e-05, -6.664549771483946e-07, -1.823975339423077e-08, 4.728663531873145e-08, -0.014511479571871197, -0.0004828137478670792, -0.03461338252101911, -0.09239905530683147, -0.0018165345653383032, -4.3811212694159266e-05, -0.0036003372898174295, -0.012987479756871822, -0.000725891486325089, -2.864133154163635e-05, -0.0010671086130606999, -0.0010893783830525654, -0.003822453315074036, -0.00016983648786156636, -0.005683488086881743, -0.0469994819229189, -0.002901101219272659, -0.00010438758613435927, -0.006986427666716805, -0.018327570154528485, -0.00025307373547409507, -4.5212435673300025e-06, -0.00196522584844951, -0.0010383669674930433, -3.173459893775875e-05, -1.0179149231867437e-06, -0.00014412613286266302, -0.0002774466720823286, -1.2815264423922374e-06, 4.840098426146625e-07, -1.8630721230563101e-06, -7.320971237952056e-06, -0.009718279794624937, -0.0003456840893997249, -0.02477761794870883, -0.06629349624169116]}, \"name\": \"\", \"parents\": [\"waiting/1) standard\", \"waiting/2) hvm\", \"waiting/3) fastpass\", \"waiting/4) w&s\", \"waiting/5) scheduled\", \"waiting/6) others\", \"waiting/7) walk\", \"waiting/9) no intent\", \"waiting/1) standard\", \"waiting/2) hvm\", \"waiting/3) fastpass\", \"waiting/4) w&s\", \"waiting/5) scheduled\", \"waiting/6) others\", \"waiting/7) walk\", \"waiting/9) no intent\", \"cancel policy/1) standard\", \"cancel policy/2) hvm\", \"cancel policy/3) fastpass\", \"cancel policy/4) w&s\", \"cancel policy/5) scheduled\", \"cancel policy/6) others\", \"cancel policy/7) walk\", \"cancel policy/9) no intent\", \"waiting/1) standard\", \"waiting/2) hvm\", \"waiting/3) fastpass\", \"waiting/4) w&s\", \"waiting/5) scheduled\", \"waiting/6) others\", \"waiting/7) walk\", \"waiting/9) no intent\", \"waiting/1) standard\", \"waiting/2) hvm\", \"waiting/3) fastpass\", \"waiting/4) w&s\", \"waiting/5) scheduled\", \"waiting/6) others\", \"waiting/7) walk\", \"waiting/9) no intent\", \"waiting/1) standard\", \"waiting/2) hvm\", \"waiting/3) fastpass\", \"waiting/4) w&s\", \"waiting/5) scheduled\", \"waiting/6) others\", \"waiting/7) walk\", \"waiting/9) no intent\", \"waiting/1) standard\", \"waiting/2) hvm\", \"waiting/3) fastpass\", \"waiting/4) w&s\", \"waiting/5) scheduled\", \"waiting/6) others\", \"waiting/7) walk\", \"waiting/9) no intent\", \"waiting/1) standard\", \"waiting/2) hvm\", \"waiting/3) fastpass\", \"waiting/4) w&s\", \"waiting/5) scheduled\", \"waiting/6) others\", \"waiting/7) walk\", \"waiting/9) no intent\", \"waiting/1) standard\", \"waiting/2) hvm\", \"waiting/3) fastpass\", \"waiting/4) w&s\", \"waiting/5) scheduled\", \"waiting/6) others\", \"waiting/7) walk\", \"waiting/9) no intent\", \"pudo/1) standard\", \"pudo/2) hvm\", \"pudo/3) fastpass\", \"pudo/4) w&s\", \"pudo/5) scheduled\", \"pudo/6) others\", \"pudo/7) walk\", \"pudo/9) no intent\", \"in-ride/1) standard\", \"in-ride/2) hvm\", \"in-ride/3) fastpass\", \"in-ride/4) w&s\", \"in-ride/5) scheduled\", \"in-ride/6) others\", \"in-ride/7) walk\", \"in-ride/9) no intent\", \"waiting/1) standard\", \"waiting/2) hvm\", \"waiting/3) fastpass\", \"waiting/4) w&s\", \"waiting/5) scheduled\", \"waiting/6) others\", \"waiting/7) walk\", \"waiting/9) no intent\", \"pudo/1) standard\", \"pudo/2) hvm\", \"pudo/3) fastpass\", \"pudo/4) w&s\", \"pudo/5) scheduled\", \"pudo/6) others\", \"pudo/7) walk\", \"pudo/9) no intent\", \"pudo/1) standard\", \"pudo/2) hvm\", \"pudo/3) fastpass\", \"pudo/4) w&s\", \"pudo/5) scheduled\", \"pudo/6) others\", \"pudo/7) walk\", \"pudo/9) no intent\", \"pudo/1) standard\", \"pudo/2) hvm\", \"pudo/3) fastpass\", \"pudo/4) w&s\", \"pudo/5) scheduled\", \"pudo/6) others\", \"pudo/7) walk\", \"pudo/9) no intent\", \"pudo/1) standard\", \"pudo/2) hvm\", \"pudo/3) fastpass\", \"pudo/4) w&s\", \"pudo/5) scheduled\", \"pudo/6) others\", \"pudo/7) walk\", \"pudo/9) no intent\", \"pudo/1) standard\", \"pudo/2) hvm\", \"pudo/3) fastpass\", \"pudo/4) w&s\", \"pudo/5) scheduled\", \"pudo/6) others\", \"pudo/7) walk\", \"pudo/9) no intent\", \"pudo/1) standard\", \"pudo/2) hvm\", \"pudo/3) fastpass\", \"pudo/4) w&s\", \"pudo/5) scheduled\", \"pudo/6) others\", \"pudo/7) walk\", \"pudo/9) no intent\", \"waiting/1) standard\", \"waiting/2) hvm\", \"waiting/3) fastpass\", \"waiting/4) w&s\", \"waiting/5) scheduled\", \"waiting/6) others\", \"waiting/7) walk\", \"waiting/9) no intent\", \"cancel policy/1) standard\", \"cancel policy/2) hvm\", \"cancel policy/3) fastpass\", \"cancel policy/4) w&s\", \"cancel policy/5) scheduled\", \"cancel policy/6) others\", \"cancel policy/7) walk\", \"cancel policy/9) no intent\", \"waiting/1) standard\", \"waiting/2) hvm\", \"waiting/3) fastpass\", \"waiting/4) w&s\", \"waiting/5) scheduled\", \"waiting/6) others\", \"waiting/7) walk\", \"waiting/9) no intent\", \"waiting/1) standard\", \"waiting/2) hvm\", \"waiting/3) fastpass\", \"waiting/4) w&s\", \"waiting/5) scheduled\", \"waiting/6) others\", \"waiting/7) walk\", \"waiting/9) no intent\", \"pudo/1) standard\", \"pudo/3) fastpass\", \"pudo/4) w&s\", \"pudo/5) scheduled\", \"pudo/6) others\", \"pudo/7) walk\", \"pudo/9) no intent\", \"waiting/1) standard\", \"waiting/2) hvm\", \"waiting/3) fastpass\", \"waiting/4) w&s\", \"waiting/5) scheduled\", \"waiting/6) others\", \"waiting/7) walk\", \"waiting/9) no intent\", \"waiting/1) standard\", \"waiting/2) hvm\", \"waiting/3) fastpass\", \"waiting/4) w&s\", \"waiting/5) scheduled\", \"waiting/6) others\", \"waiting/7) walk\", \"waiting/9) no intent\", \"pudo/1) standard\", \"pudo/2) hvm\", \"pudo/3) fastpass\", \"pudo/4) w&s\", \"pudo/5) scheduled\", \"pudo/6) others\", \"pudo/7) walk\", \"pudo/9) no intent\", \"pudo/1) standard\", \"pudo/2) hvm\", \"pudo/3) fastpass\", \"pudo/4) w&s\", \"pudo/5) scheduled\", \"pudo/6) others\", \"pudo/7) walk\", \"pudo/9) no intent\", \"pudo/1) standard\", \"pudo/2) hvm\", \"pudo/3) fastpass\", \"pudo/4) w&s\", \"pudo/5) scheduled\", \"pudo/6) others\", \"pudo/7) walk\", \"pudo/9) no intent\", \"in-ride/1) standard\", \"in-ride/2) hvm\", \"in-ride/3) fastpass\", \"in-ride/4) w&s\", \"in-ride/5) scheduled\", \"in-ride/6) others\", \"in-ride/7) walk\", \"in-ride/9) no intent\", \"waiting/1) standard\", \"waiting/2) hvm\", \"waiting/3) fastpass\", \"waiting/4) w&s\", \"waiting/5) scheduled\", \"waiting/6) others\", \"waiting/7) walk\", \"waiting/9) no intent\", \"in-ride/1) standard\", \"in-ride/2) hvm\", \"in-ride/3) fastpass\", \"in-ride/4) w&s\", \"in-ride/5) scheduled\", \"in-ride/6) others\", \"in-ride/7) walk\", \"in-ride/9) no intent\", \"cancel policy\", \"in-ride\", \"pudo\", \"waiting\", \"cancel policy\", \"in-ride\", \"pudo\", \"waiting\", \"cancel policy\", \"in-ride\", \"pudo\", \"waiting\", \"cancel policy\", \"in-ride\", \"pudo\", \"waiting\", \"cancel policy\", \"in-ride\", \"pudo\", \"waiting\", \"cancel policy\", \"in-ride\", \"pudo\", \"waiting\", \"cancel policy\", \"in-ride\", \"pudo\", \"waiting\", \"cancel policy\", \"in-ride\", \"pudo\", \"waiting\", \"\", \"\", \"\", \"\"], \"type\": \"treemap\", \"values\": [-0.016970524829676675, -0.0017914964519559545, -0.0001525069518106299, -0.00817973184305341, -0.004709700499427705, -0.00040753918585547424, -1.4745974085386137e-05, -2.3989081781706228e-06, -0.023190145695762134, -0.0023371987237308734, -0.00020779739116733967, -0.010147171752663437, -0.004262303597595512, -0.0004915772735972665, -3.055814087950453e-05, -3.3801832872135877e-06, -0.015329311995796993, -0.0019269886590955881, -0.0007779974026331399, -0.004226343624861332, -0.003126153018387041, -0.00026714005446274884, -3.351280360683534e-05, -1.4424512053622062e-06, -0.009151474839339847, -0.0008249375482050616, -0.0003648685425942893, -0.002833057598424776, -0.002295518154828134, -0.00010379062610899713, -1.663637157277618e-05, -1.0579379354224504e-06, -0.018906672932190522, -0.0026644860964751653, -0.0007434774009213933, -0.005577921369817053, -0.005082523054701567, -0.0003361501877781924, -2.900258476656756e-05, -1.925067280772076e-06, -0.04150217612584585, -0.010024280031348667, -0.002156338084661152, -0.010654187323334912, -0.008654845982304453, -0.001143623896459346, -9.873654416417062e-05, -4.746472635621204e-06, -0.004393645453929251, -0.00043521035316811894, -0.0002483384669972995, -0.0015764483143087707, -0.0006653818545755226, -4.9675604016145295e-05, -7.612498745356457e-06, -5.112657834017043e-07, -0.002431968748282822, -0.00025837505779787714, -0.00015838483922254274, -0.0008478136276615662, -0.00033728544527514726, -2.8593397415017956e-05, -6.610695338422506e-06, -2.2184459080719183e-07, -0.1808031600570227, -0.023154516091289327, -0.0003666597794929554, -0.08725277472153123, -0.029928502524438363, -0.002048445449444054, -0.00047731824878410076, -1.4823770285600077e-05, -0.012238242807606693, -0.0003017036826559079, -8.85703572114206e-05, -0.0004736052053865893, -0.0024697168038054613, -0.0002203127186697397, 2.8914052182874597e-06, -1.7612906845540354e-07, -4.654831839017147e-05, -8.133118985136336e-06, -6.692201253706189e-06, -4.955530911779155e-05, -9.704725521923513e-07, -9.91721695874964e-07, -1.8639062146651834e-07, 4.7150295202088725e-09, -0.05568131185088004, -0.007176360653801562, -0.0007889487402458046, -0.013023921286775157, -0.007781651511254236, -0.0006006570147081007, -0.00013012063619429617, -6.204718688127019e-06, -0.008994364220618539, -0.0009591797647649688, -0.0005742482171703211, -0.0027702979400348227, -0.0014491535896972827, -0.00011994879060639101, -2.1943037391347962e-05, -1.1900456802825873e-06, 0.0011071549142992524, -1.7232666113084578e-06, 6.607694631184252e-05, 0.0005074722950077423, 0.0005036273923405093, 8.657811103841173e-06, -1.3985570510587532e-05, 4.332097223437319e-08, -0.00743120738232419, -0.0008468607722235177, -0.0005887303653220644, -0.0014305887792605949, -0.0006793194375267625, 0.00016006848473823222, 4.470811470672683e-06, 2.7695317026786344e-07, -0.0065488921869877705, -0.0008130423247165382, -0.00016111901967047194, -0.0007012700738680258, 0.0008955774447413391, 0.0005662256787193436, -1.8913952186192355e-06, -8.94929424074933e-07, -0.007946383998310698, -0.00100544201905984, -0.0004064118436048762, -0.0011821602859436828, -0.0007519779113686991, -0.0001643400671696557, -0.0001279206457220571, -1.3360601863081557e-06, -0.004316014833536307, -0.0005660713999068157, -0.00020027485811448663, -0.0007258359896161486, -0.0003979874692517088, -8.901178226868544e-05, -9.188254839672901e-05, -6.908446722543221e-07, -0.00035375862734526035, -3.142729899307812e-05, -5.324731435189802e-05, -0.00036629500493802665, 8.029831534663002e-05, -8.488036971342106e-06, -7.757437927247386e-07, -2.3056714778693022e-07, -0.0009225769540978343, -0.00012589545882435357, -6.0966695991505977e-05, -0.000516304401435513, -0.00026710195843870774, -1.583952505898828e-05, -2.0044509669452158e-06, -2.1832815243528842e-07, -0.026402137025158947, -2.653687675976563e-09, -0.00039361309805605504, -0.021001575534940486, -0.007642934893970249, -0.0004253685638188096, -2.0797453858629828e-05, -4.664509157706145e-06, -0.012295004943029549, -4.1948817541783184e-09, -0.00013261738922115397, -0.01401873584819259, -0.005209721104445469, -0.00025215129594245353, -7.914212688394267e-06, -2.18722289857683e-06, -0.001167201346432688, -9.250768420291728e-06, -0.0003435572936374651, -0.00016675341386395928, -2.7386435131429496e-06, -2.1360524812438272e-07, -1.7573638082571167e-08, -0.05911402052677661, -0.003269167219139048, -0.0011041932438104203, -0.037396972115212236, -0.028870790522941954, -0.0006640875232458183, -5.0825493592667656e-05, -6.366342680466513e-06, -0.0010548063136686684, 2.6033064186673385e-05, -0.00011885144752599982, -0.0007632912550620846, -0.0010446888991527633, -4.3716737801357863e-05, 1.0171645880571262e-05, -5.271724788305645e-08, -0.05656367776680984, -0.0060050206149372945, -0.0019406150716198614, -0.009488961328390376, -0.009684933578095608, -0.000647071262943811, -0.00019741800427292957, -2.7753786441589895e-06, 0.004428652715729443, -7.435946809419934e-05, -0.0003588200828971117, -6.078970806746438e-05, 0.0009038199319600852, 8.646499692465331e-05, 3.3473712791422478e-06, 4.951953242217892e-07, -0.00647914518812077, -0.0005664717266762878, -0.0006677882317248602, -0.00265266657535999, -0.0036219541793963603, -2.109518541441901e-05, -3.0454110936465275e-06, -9.910085678131582e-07, -0.0005498287124352519, -4.68707665346871e-05, -2.9504481970193845e-05, -0.00021773283253906587, -4.244186228700356e-05, -5.604236191240923e-06, -1.1664221812894674e-06, -4.343761611170933e-08, -0.07400536998903048, -0.007608060552406133, -3.794417025090757e-05, -0.002334593789065325, -0.005881720709370464, -0.0007184022058652235, -0.00019989851213011604, -3.1721904484094853e-06, -3.7108197447695697e-05, 3.1268952652614314e-06, 3.7487188089950048e-06, -3.2543895714421515e-05, 2.1655021315288576e-05, -6.664549771483946e-07, -1.823975339423077e-08, 4.728663531873145e-08, -0.01625188894989483, -0.0006334852282731191, -0.10614932210071883, -0.5262561779579394, -0.0020528841179199417, -5.187699025456201e-05, -0.011139875039646679, -0.05954948986269363, -0.0008389640986246459, -3.244796441490503e-05, -0.004929751869443923, -0.0070277868603298415, -0.004742648026296845, -0.0002998320373712789, -0.019322260884557418, -0.21597449138498107, -0.003393254976825749, -2.1757313523907335e-05, -0.016918771613963907, -0.11228727043893491, -0.0002829795795217371, -7.262412864264282e-06, -0.0004431014790997744, -0.0073222669990275985, -3.551725457378055e-05, -1.3710525561502166e-06, -0.0004475906298859389, -0.0010813814647125423, -1.6607793577974947e-06, 8.564048727230988e-09, -7.256500414706095e-06, -5.1943718245964895e-05, -0.02759979778301533, -0.0010480244352094599, -0.15935793011773106, -0.9295508086868656]}],                        {\"coloraxis\": {\"cmid\": -0.004524520489970933, \"colorbar\": {\"title\": {\"text\": \"opportunity\"}}, \"colorscale\": [[0.0, \"rgb(103,0,31)\"], [0.1, \"rgb(178,24,43)\"], [0.2, \"rgb(214,96,77)\"], [0.3, \"rgb(244,165,130)\"], [0.4, \"rgb(253,219,199)\"], [0.5, \"rgb(247,247,247)\"], [0.6, \"rgb(209,229,240)\"], [0.7, \"rgb(146,197,222)\"], [0.8, \"rgb(67,147,195)\"], [0.9, \"rgb(33,102,172)\"], [1.0, \"rgb(5,48,97)\"]]}, \"legend\": {\"tracegroupgap\": 0}, \"margin\": {\"t\": 60}, \"template\": {\"data\": {\"bar\": [{\"error_x\": {\"color\": \"#2a3f5f\"}, \"error_y\": {\"color\": \"#2a3f5f\"}, \"marker\": {\"line\": {\"color\": \"#E5ECF6\", \"width\": 0.5}}, \"type\": \"bar\"}], \"barpolar\": [{\"marker\": {\"line\": {\"color\": \"#E5ECF6\", \"width\": 0.5}}, \"type\": \"barpolar\"}], \"carpet\": [{\"aaxis\": {\"endlinecolor\": \"#2a3f5f\", \"gridcolor\": \"white\", \"linecolor\": \"white\", \"minorgridcolor\": \"white\", \"startlinecolor\": \"#2a3f5f\"}, \"baxis\": {\"endlinecolor\": \"#2a3f5f\", \"gridcolor\": \"white\", \"linecolor\": \"white\", \"minorgridcolor\": \"white\", \"startlinecolor\": \"#2a3f5f\"}, \"type\": \"carpet\"}], \"choropleth\": [{\"colorbar\": {\"outlinewidth\": 0, \"ticks\": \"\"}, \"type\": \"choropleth\"}], \"contour\": [{\"colorbar\": {\"outlinewidth\": 0, \"ticks\": \"\"}, \"colorscale\": [[0.0, \"#0d0887\"], [0.1111111111111111, \"#46039f\"], [0.2222222222222222, \"#7201a8\"], [0.3333333333333333, \"#9c179e\"], [0.4444444444444444, \"#bd3786\"], [0.5555555555555556, \"#d8576b\"], [0.6666666666666666, \"#ed7953\"], [0.7777777777777778, \"#fb9f3a\"], [0.8888888888888888, \"#fdca26\"], [1.0, \"#f0f921\"]], \"type\": \"contour\"}], \"contourcarpet\": [{\"colorbar\": {\"outlinewidth\": 0, \"ticks\": \"\"}, \"type\": \"contourcarpet\"}], \"heatmap\": [{\"colorbar\": {\"outlinewidth\": 0, \"ticks\": \"\"}, \"colorscale\": [[0.0, \"#0d0887\"], [0.1111111111111111, \"#46039f\"], [0.2222222222222222, \"#7201a8\"], [0.3333333333333333, \"#9c179e\"], [0.4444444444444444, \"#bd3786\"], [0.5555555555555556, \"#d8576b\"], [0.6666666666666666, \"#ed7953\"], [0.7777777777777778, \"#fb9f3a\"], [0.8888888888888888, \"#fdca26\"], [1.0, \"#f0f921\"]], \"type\": \"heatmap\"}], \"heatmapgl\": [{\"colorbar\": {\"outlinewidth\": 0, \"ticks\": \"\"}, \"colorscale\": [[0.0, \"#0d0887\"], [0.1111111111111111, \"#46039f\"], [0.2222222222222222, \"#7201a8\"], [0.3333333333333333, \"#9c179e\"], [0.4444444444444444, \"#bd3786\"], [0.5555555555555556, \"#d8576b\"], [0.6666666666666666, \"#ed7953\"], [0.7777777777777778, \"#fb9f3a\"], [0.8888888888888888, \"#fdca26\"], [1.0, \"#f0f921\"]], \"type\": \"heatmapgl\"}], \"histogram\": [{\"marker\": {\"colorbar\": {\"outlinewidth\": 0, \"ticks\": \"\"}}, \"type\": \"histogram\"}], \"histogram2d\": [{\"colorbar\": {\"outlinewidth\": 0, \"ticks\": \"\"}, \"colorscale\": [[0.0, \"#0d0887\"], [0.1111111111111111, \"#46039f\"], [0.2222222222222222, \"#7201a8\"], [0.3333333333333333, \"#9c179e\"], [0.4444444444444444, \"#bd3786\"], [0.5555555555555556, \"#d8576b\"], [0.6666666666666666, \"#ed7953\"], [0.7777777777777778, \"#fb9f3a\"], [0.8888888888888888, \"#fdca26\"], [1.0, \"#f0f921\"]], \"type\": \"histogram2d\"}], \"histogram2dcontour\": [{\"colorbar\": {\"outlinewidth\": 0, \"ticks\": \"\"}, \"colorscale\": [[0.0, \"#0d0887\"], [0.1111111111111111, \"#46039f\"], [0.2222222222222222, \"#7201a8\"], [0.3333333333333333, \"#9c179e\"], [0.4444444444444444, \"#bd3786\"], [0.5555555555555556, \"#d8576b\"], [0.6666666666666666, \"#ed7953\"], [0.7777777777777778, \"#fb9f3a\"], [0.8888888888888888, \"#fdca26\"], [1.0, \"#f0f921\"]], \"type\": \"histogram2dcontour\"}], \"mesh3d\": [{\"colorbar\": {\"outlinewidth\": 0, \"ticks\": \"\"}, \"type\": \"mesh3d\"}], \"parcoords\": [{\"line\": {\"colorbar\": {\"outlinewidth\": 0, \"ticks\": \"\"}}, \"type\": \"parcoords\"}], \"pie\": [{\"automargin\": true, \"type\": \"pie\"}], \"scatter\": [{\"marker\": {\"colorbar\": {\"outlinewidth\": 0, \"ticks\": \"\"}}, \"type\": \"scatter\"}], \"scatter3d\": [{\"line\": {\"colorbar\": {\"outlinewidth\": 0, \"ticks\": \"\"}}, \"marker\": {\"colorbar\": {\"outlinewidth\": 0, \"ticks\": \"\"}}, \"type\": \"scatter3d\"}], \"scattercarpet\": [{\"marker\": {\"colorbar\": {\"outlinewidth\": 0, \"ticks\": \"\"}}, \"type\": \"scattercarpet\"}], \"scattergeo\": [{\"marker\": {\"colorbar\": {\"outlinewidth\": 0, \"ticks\": \"\"}}, \"type\": \"scattergeo\"}], \"scattergl\": [{\"marker\": {\"colorbar\": {\"outlinewidth\": 0, \"ticks\": \"\"}}, \"type\": \"scattergl\"}], \"scattermapbox\": [{\"marker\": {\"colorbar\": {\"outlinewidth\": 0, \"ticks\": \"\"}}, \"type\": \"scattermapbox\"}], \"scatterpolar\": [{\"marker\": {\"colorbar\": {\"outlinewidth\": 0, \"ticks\": \"\"}}, \"type\": \"scatterpolar\"}], \"scatterpolargl\": [{\"marker\": {\"colorbar\": {\"outlinewidth\": 0, \"ticks\": \"\"}}, \"type\": \"scatterpolargl\"}], \"scatterternary\": [{\"marker\": {\"colorbar\": {\"outlinewidth\": 0, \"ticks\": \"\"}}, \"type\": \"scatterternary\"}], \"surface\": [{\"colorbar\": {\"outlinewidth\": 0, \"ticks\": \"\"}, \"colorscale\": [[0.0, \"#0d0887\"], [0.1111111111111111, \"#46039f\"], [0.2222222222222222, \"#7201a8\"], [0.3333333333333333, \"#9c179e\"], [0.4444444444444444, \"#bd3786\"], [0.5555555555555556, \"#d8576b\"], [0.6666666666666666, \"#ed7953\"], [0.7777777777777778, \"#fb9f3a\"], [0.8888888888888888, \"#fdca26\"], [1.0, \"#f0f921\"]], \"type\": \"surface\"}], \"table\": [{\"cells\": {\"fill\": {\"color\": \"#EBF0F8\"}, \"line\": {\"color\": \"white\"}}, \"header\": {\"fill\": {\"color\": \"#C8D4E3\"}, \"line\": {\"color\": \"white\"}}, \"type\": \"table\"}]}, \"layout\": {\"annotationdefaults\": {\"arrowcolor\": \"#2a3f5f\", \"arrowhead\": 0, \"arrowwidth\": 1}, \"coloraxis\": {\"colorbar\": {\"outlinewidth\": 0, \"ticks\": \"\"}}, \"colorscale\": {\"diverging\": [[0, \"#8e0152\"], [0.1, \"#c51b7d\"], [0.2, \"#de77ae\"], [0.3, \"#f1b6da\"], [0.4, \"#fde0ef\"], [0.5, \"#f7f7f7\"], [0.6, \"#e6f5d0\"], [0.7, \"#b8e186\"], [0.8, \"#7fbc41\"], [0.9, \"#4d9221\"], [1, \"#276419\"]], \"sequential\": [[0.0, \"#0d0887\"], [0.1111111111111111, \"#46039f\"], [0.2222222222222222, \"#7201a8\"], [0.3333333333333333, \"#9c179e\"], [0.4444444444444444, \"#bd3786\"], [0.5555555555555556, \"#d8576b\"], [0.6666666666666666, \"#ed7953\"], [0.7777777777777778, \"#fb9f3a\"], [0.8888888888888888, \"#fdca26\"], [1.0, \"#f0f921\"]], \"sequentialminus\": [[0.0, \"#0d0887\"], [0.1111111111111111, \"#46039f\"], [0.2222222222222222, \"#7201a8\"], [0.3333333333333333, \"#9c179e\"], [0.4444444444444444, \"#bd3786\"], [0.5555555555555556, \"#d8576b\"], [0.6666666666666666, \"#ed7953\"], [0.7777777777777778, \"#fb9f3a\"], [0.8888888888888888, \"#fdca26\"], [1.0, \"#f0f921\"]]}, \"colorway\": [\"#636efa\", \"#EF553B\", \"#00cc96\", \"#ab63fa\", \"#FFA15A\", \"#19d3f3\", \"#FF6692\", \"#B6E880\", \"#FF97FF\", \"#FECB52\"], \"font\": {\"color\": \"#2a3f5f\"}, \"geo\": {\"bgcolor\": \"white\", \"lakecolor\": \"white\", \"landcolor\": \"#E5ECF6\", \"showlakes\": true, \"showland\": true, \"subunitcolor\": \"white\"}, \"hoverlabel\": {\"align\": \"left\"}, \"hovermode\": \"closest\", \"mapbox\": {\"style\": \"light\"}, \"paper_bgcolor\": \"white\", \"plot_bgcolor\": \"#E5ECF6\", \"polar\": {\"angularaxis\": {\"gridcolor\": \"white\", \"linecolor\": \"white\", \"ticks\": \"\"}, \"bgcolor\": \"#E5ECF6\", \"radialaxis\": {\"gridcolor\": \"white\", \"linecolor\": \"white\", \"ticks\": \"\"}}, \"scene\": {\"xaxis\": {\"backgroundcolor\": \"#E5ECF6\", \"gridcolor\": \"white\", \"gridwidth\": 2, \"linecolor\": \"white\", \"showbackground\": true, \"ticks\": \"\", \"zerolinecolor\": \"white\"}, \"yaxis\": {\"backgroundcolor\": \"#E5ECF6\", \"gridcolor\": \"white\", \"gridwidth\": 2, \"linecolor\": \"white\", \"showbackground\": true, \"ticks\": \"\", \"zerolinecolor\": \"white\"}, \"zaxis\": {\"backgroundcolor\": \"#E5ECF6\", \"gridcolor\": \"white\", \"gridwidth\": 2, \"linecolor\": \"white\", \"showbackground\": true, \"ticks\": \"\", \"zerolinecolor\": \"white\"}}, \"shapedefaults\": {\"line\": {\"color\": \"#2a3f5f\"}}, \"ternary\": {\"aaxis\": {\"gridcolor\": \"white\", \"linecolor\": \"white\", \"ticks\": \"\"}, \"baxis\": {\"gridcolor\": \"white\", \"linecolor\": \"white\", \"ticks\": \"\"}, \"bgcolor\": \"#E5ECF6\", \"caxis\": {\"gridcolor\": \"white\", \"linecolor\": \"white\", \"ticks\": \"\"}}, \"title\": {\"x\": 0.05}, \"xaxis\": {\"automargin\": true, \"gridcolor\": \"white\", \"linecolor\": \"white\", \"ticks\": \"\", \"title\": {\"standoff\": 15}, \"zerolinecolor\": \"white\", \"zerolinewidth\": 2}, \"yaxis\": {\"automargin\": true, \"gridcolor\": \"white\", \"linecolor\": \"white\", \"ticks\": \"\", \"title\": {\"standoff\": 15}, \"zerolinecolor\": \"white\", \"zerolinewidth\": 2}}}},                        {\"responsive\": true}                    ).then(function(){\n",
       "                            \n",
       "var gd = document.getElementById('ebac4ab3-aecd-41d8-b76b-b9ea01ba1750');\n",
       "var x = new MutationObserver(function (mutations, observer) {{\n",
       "        var display = window.getComputedStyle(gd).display;\n",
       "        if (!display || display === 'none') {{\n",
       "            console.log([gd, 'removed!']);\n",
       "            Plotly.purge(gd);\n",
       "            observer.disconnect();\n",
       "        }}\n",
       "}});\n",
       "\n",
       "// Listen for the removal of the full notebook cells\n",
       "var notebookContainer = gd.closest('#notebook-container');\n",
       "if (notebookContainer) {{\n",
       "    x.observe(notebookContainer, {childList: true});\n",
       "}}\n",
       "\n",
       "// Listen for the clearing of the current output cell\n",
       "var outputEl = gd.closest('.output');\n",
       "if (outputEl) {{\n",
       "    x.observe(outputEl, {childList: true});\n",
       "}}\n",
       "\n",
       "                        })                };                });            </script>        </div>"
      ]
     },
     "metadata": {},
     "output_type": "display_data"
    }
   ],
   "source": [
    "fig.show()"
   ]
  },
  {
   "cell_type": "code",
   "execution_count": 23,
   "metadata": {},
   "outputs": [
    {
     "data": {
      "application/vnd.plotly.v1+json": {
       "config": {
        "plotlyServerURL": "https://plot.ly"
       },
       "data": [
        {
         "branchvalues": "total",
         "customdata": [
          [
           "AFG",
           43.828
          ],
          [
           "ALB",
           76.423
          ],
          [
           "DZA",
           72.301
          ],
          [
           "AGO",
           42.731
          ],
          [
           "ARG",
           75.32
          ],
          [
           "AUS",
           81.235
          ],
          [
           "AUT",
           79.829
          ],
          [
           "BHR",
           75.635
          ],
          [
           "BGD",
           64.062
          ],
          [
           "BEL",
           79.441
          ],
          [
           "BEN",
           56.728
          ],
          [
           "BOL",
           65.554
          ],
          [
           "BIH",
           74.852
          ],
          [
           "BWA",
           50.728
          ],
          [
           "BRA",
           72.39
          ],
          [
           "BGR",
           73.005
          ],
          [
           "BFA",
           52.295
          ],
          [
           "BDI",
           49.58
          ],
          [
           "KHM",
           59.723
          ],
          [
           "CMR",
           50.43
          ],
          [
           "CAN",
           80.65300000000002
          ],
          [
           "CAF",
           44.74100000000001
          ],
          [
           "TCD",
           50.651
          ],
          [
           "CHL",
           78.553
          ],
          [
           "CHN",
           72.961
          ],
          [
           "COL",
           72.889
          ],
          [
           "COM",
           65.152
          ],
          [
           "COD",
           46.46199999999999
          ],
          [
           "COG",
           55.321999999999996
          ],
          [
           "CRI",
           78.782
          ],
          [
           "CIV",
           48.328
          ],
          [
           "HRV",
           75.748
          ],
          [
           "CUB",
           78.273
          ],
          [
           "CZE",
           76.486
          ],
          [
           "DNK",
           78.332
          ],
          [
           "DJI",
           54.791000000000004
          ],
          [
           "DOM",
           72.235
          ],
          [
           "ECU",
           74.994
          ],
          [
           "EGY",
           71.33800000000001
          ],
          [
           "SLV",
           71.878
          ],
          [
           "GNQ",
           51.57899999999999
          ],
          [
           "ERI",
           58.03999999999999
          ],
          [
           "ETH",
           52.946999999999996
          ],
          [
           "FIN",
           79.313
          ],
          [
           "FRA",
           80.65699999999998
          ],
          [
           "GAB",
           56.73500000000001
          ],
          [
           "GMB",
           59.448
          ],
          [
           "DEU",
           79.406
          ],
          [
           "GHA",
           60.02199999999999
          ],
          [
           "GRC",
           79.483
          ],
          [
           "GTM",
           70.259
          ],
          [
           "GIN",
           56.007
          ],
          [
           "GNB",
           46.388000000000005
          ],
          [
           "HTI",
           60.916000000000004
          ],
          [
           "HND",
           70.19800000000001
          ],
          [
           "HKG",
           82.208
          ],
          [
           "HUN",
           73.33800000000001
          ],
          [
           "ISL",
           81.757
          ],
          [
           "IND",
           64.69800000000001
          ],
          [
           "IDN",
           70.65
          ],
          [
           "IRN",
           70.964
          ],
          [
           "IRQ",
           59.545
          ],
          [
           "IRL",
           78.885
          ],
          [
           "ISR",
           80.745
          ],
          [
           "ITA",
           80.546
          ],
          [
           "JAM",
           72.567
          ],
          [
           "JPN",
           82.603
          ],
          [
           "JOR",
           72.535
          ],
          [
           "KEN",
           54.11
          ],
          [
           "KOR",
           67.297
          ],
          [
           "KOR",
           78.623
          ],
          [
           "KWT",
           77.58800000000001
          ],
          [
           "LBN",
           71.993
          ],
          [
           "LSO",
           42.592
          ],
          [
           "LBR",
           45.67800000000001
          ],
          [
           "LBY",
           73.952
          ],
          [
           "MDG",
           59.443000000000005
          ],
          [
           "MWI",
           48.303000000000004
          ],
          [
           "MYS",
           74.241
          ],
          [
           "MLI",
           54.467
          ],
          [
           "MRT",
           64.164
          ],
          [
           "MUS",
           72.801
          ],
          [
           "MEX",
           76.195
          ],
          [
           "MNG",
           66.803
          ],
          [
           "MNE",
           74.543
          ],
          [
           "MAR",
           71.164
          ],
          [
           "MOZ",
           42.082
          ],
          [
           "MMR",
           62.068999999999996
          ],
          [
           "NAM",
           52.906000000000006
          ],
          [
           "NPL",
           63.785
          ],
          [
           "NLD",
           79.762
          ],
          [
           "NZL",
           80.204
          ],
          [
           "NIC",
           72.899
          ],
          [
           "NER",
           56.867
          ],
          [
           "NGA",
           46.858999999999995
          ],
          [
           "NOR",
           80.196
          ],
          [
           "OMN",
           75.64
          ],
          [
           "PAK",
           65.483
          ],
          [
           "PAN",
           75.53699999999999
          ],
          [
           "PRY",
           71.752
          ],
          [
           "PER",
           71.421
          ],
          [
           "PHL",
           71.688
          ],
          [
           "POL",
           75.563
          ],
          [
           "PRT",
           78.098
          ],
          [
           "PRI",
           78.74600000000001
          ],
          [
           "REU",
           76.442
          ],
          [
           "ROU",
           72.476
          ],
          [
           "RWA",
           46.242
          ],
          [
           "STP",
           65.528
          ],
          [
           "SAU",
           72.777
          ],
          [
           "SEN",
           63.062
          ],
          [
           "SRB",
           74.002
          ],
          [
           "SLE",
           42.568000000000005
          ],
          [
           "SGP",
           79.972
          ],
          [
           "SVK",
           74.663
          ],
          [
           "SVN",
           77.926
          ],
          [
           "SOM",
           48.159
          ],
          [
           "ZAF",
           49.339
          ],
          [
           "ESP",
           80.941
          ],
          [
           "LKA",
           72.396
          ],
          [
           "SDN",
           58.556000000000004
          ],
          [
           "SWZ",
           39.613
          ],
          [
           "SWE",
           80.884
          ],
          [
           "CHE",
           81.70100000000001
          ],
          [
           "SYR",
           74.143
          ],
          [
           "TWN",
           78.4
          ],
          [
           "TZA",
           52.516999999999996
          ],
          [
           "THA",
           70.616
          ],
          [
           "TGO",
           58.42
          ],
          [
           "TTO",
           69.819
          ],
          [
           "TUN",
           73.923
          ],
          [
           "TUR",
           71.777
          ],
          [
           "UGA",
           51.542
          ],
          [
           "GBR",
           79.425
          ],
          [
           "USA",
           78.242
          ],
          [
           "URY",
           76.384
          ],
          [
           "VEN",
           73.747
          ],
          [
           "VNM",
           74.249
          ],
          [
           "PSE",
           73.422
          ],
          [
           "YEM",
           62.698
          ],
          [
           "ZMB",
           42.38399999999999
          ],
          [
           "ZWE",
           43.486999999999995
          ],
          [
           "(?)",
           54.56441057558197
          ],
          [
           "(?)",
           75.35668222743027
          ],
          [
           "(?)",
           69.44386304205017
          ],
          [
           "(?)",
           77.89057081069897
          ],
          [
           "(?)",
           81.06215400970112
          ],
          [
           "(?)",
           68.91909251904043
          ]
         ],
         "domain": {
          "x": [
           0,
           1
          ],
          "y": [
           0,
           1
          ]
         },
         "hovertemplate": "labels=%{label}<br>pop=%{value}<br>parent=%{parent}<br>id=%{id}<br>iso_alpha=%{customdata[0]}<br>lifeExp=%{color}<extra></extra>",
         "ids": [
          "world/Asia/Afghanistan",
          "world/Europe/Albania",
          "world/Africa/Algeria",
          "world/Africa/Angola",
          "world/Americas/Argentina",
          "world/Oceania/Australia",
          "world/Europe/Austria",
          "world/Asia/Bahrain",
          "world/Asia/Bangladesh",
          "world/Europe/Belgium",
          "world/Africa/Benin",
          "world/Americas/Bolivia",
          "world/Europe/Bosnia and Herzegovina",
          "world/Africa/Botswana",
          "world/Americas/Brazil",
          "world/Europe/Bulgaria",
          "world/Africa/Burkina Faso",
          "world/Africa/Burundi",
          "world/Asia/Cambodia",
          "world/Africa/Cameroon",
          "world/Americas/Canada",
          "world/Africa/Central African Republic",
          "world/Africa/Chad",
          "world/Americas/Chile",
          "world/Asia/China",
          "world/Americas/Colombia",
          "world/Africa/Comoros",
          "world/Africa/Congo, Dem. Rep.",
          "world/Africa/Congo, Rep.",
          "world/Americas/Costa Rica",
          "world/Africa/Cote d'Ivoire",
          "world/Europe/Croatia",
          "world/Americas/Cuba",
          "world/Europe/Czech Republic",
          "world/Europe/Denmark",
          "world/Africa/Djibouti",
          "world/Americas/Dominican Republic",
          "world/Americas/Ecuador",
          "world/Africa/Egypt",
          "world/Americas/El Salvador",
          "world/Africa/Equatorial Guinea",
          "world/Africa/Eritrea",
          "world/Africa/Ethiopia",
          "world/Europe/Finland",
          "world/Europe/France",
          "world/Africa/Gabon",
          "world/Africa/Gambia",
          "world/Europe/Germany",
          "world/Africa/Ghana",
          "world/Europe/Greece",
          "world/Americas/Guatemala",
          "world/Africa/Guinea",
          "world/Africa/Guinea-Bissau",
          "world/Americas/Haiti",
          "world/Americas/Honduras",
          "world/Asia/Hong Kong, China",
          "world/Europe/Hungary",
          "world/Europe/Iceland",
          "world/Asia/India",
          "world/Asia/Indonesia",
          "world/Asia/Iran",
          "world/Asia/Iraq",
          "world/Europe/Ireland",
          "world/Asia/Israel",
          "world/Europe/Italy",
          "world/Americas/Jamaica",
          "world/Asia/Japan",
          "world/Asia/Jordan",
          "world/Africa/Kenya",
          "world/Asia/Korea, Dem. Rep.",
          "world/Asia/Korea, Rep.",
          "world/Asia/Kuwait",
          "world/Asia/Lebanon",
          "world/Africa/Lesotho",
          "world/Africa/Liberia",
          "world/Africa/Libya",
          "world/Africa/Madagascar",
          "world/Africa/Malawi",
          "world/Asia/Malaysia",
          "world/Africa/Mali",
          "world/Africa/Mauritania",
          "world/Africa/Mauritius",
          "world/Americas/Mexico",
          "world/Asia/Mongolia",
          "world/Europe/Montenegro",
          "world/Africa/Morocco",
          "world/Africa/Mozambique",
          "world/Asia/Myanmar",
          "world/Africa/Namibia",
          "world/Asia/Nepal",
          "world/Europe/Netherlands",
          "world/Oceania/New Zealand",
          "world/Americas/Nicaragua",
          "world/Africa/Niger",
          "world/Africa/Nigeria",
          "world/Europe/Norway",
          "world/Asia/Oman",
          "world/Asia/Pakistan",
          "world/Americas/Panama",
          "world/Americas/Paraguay",
          "world/Americas/Peru",
          "world/Asia/Philippines",
          "world/Europe/Poland",
          "world/Europe/Portugal",
          "world/Americas/Puerto Rico",
          "world/Africa/Reunion",
          "world/Europe/Romania",
          "world/Africa/Rwanda",
          "world/Africa/Sao Tome and Principe",
          "world/Asia/Saudi Arabia",
          "world/Africa/Senegal",
          "world/Europe/Serbia",
          "world/Africa/Sierra Leone",
          "world/Asia/Singapore",
          "world/Europe/Slovak Republic",
          "world/Europe/Slovenia",
          "world/Africa/Somalia",
          "world/Africa/South Africa",
          "world/Europe/Spain",
          "world/Asia/Sri Lanka",
          "world/Africa/Sudan",
          "world/Africa/Swaziland",
          "world/Europe/Sweden",
          "world/Europe/Switzerland",
          "world/Asia/Syria",
          "world/Asia/Taiwan",
          "world/Africa/Tanzania",
          "world/Asia/Thailand",
          "world/Africa/Togo",
          "world/Americas/Trinidad and Tobago",
          "world/Africa/Tunisia",
          "world/Europe/Turkey",
          "world/Africa/Uganda",
          "world/Europe/United Kingdom",
          "world/Americas/United States",
          "world/Americas/Uruguay",
          "world/Americas/Venezuela",
          "world/Asia/Vietnam",
          "world/Asia/West Bank and Gaza",
          "world/Asia/Yemen, Rep.",
          "world/Africa/Zambia",
          "world/Africa/Zimbabwe",
          "world/Africa",
          "world/Americas",
          "world/Asia",
          "world/Europe",
          "world/Oceania",
          "world"
         ],
         "labels": [
          "Afghanistan",
          "Albania",
          "Algeria",
          "Angola",
          "Argentina",
          "Australia",
          "Austria",
          "Bahrain",
          "Bangladesh",
          "Belgium",
          "Benin",
          "Bolivia",
          "Bosnia and Herzegovina",
          "Botswana",
          "Brazil",
          "Bulgaria",
          "Burkina Faso",
          "Burundi",
          "Cambodia",
          "Cameroon",
          "Canada",
          "Central African Republic",
          "Chad",
          "Chile",
          "China",
          "Colombia",
          "Comoros",
          "Congo, Dem. Rep.",
          "Congo, Rep.",
          "Costa Rica",
          "Cote d'Ivoire",
          "Croatia",
          "Cuba",
          "Czech Republic",
          "Denmark",
          "Djibouti",
          "Dominican Republic",
          "Ecuador",
          "Egypt",
          "El Salvador",
          "Equatorial Guinea",
          "Eritrea",
          "Ethiopia",
          "Finland",
          "France",
          "Gabon",
          "Gambia",
          "Germany",
          "Ghana",
          "Greece",
          "Guatemala",
          "Guinea",
          "Guinea-Bissau",
          "Haiti",
          "Honduras",
          "Hong Kong, China",
          "Hungary",
          "Iceland",
          "India",
          "Indonesia",
          "Iran",
          "Iraq",
          "Ireland",
          "Israel",
          "Italy",
          "Jamaica",
          "Japan",
          "Jordan",
          "Kenya",
          "Korea, Dem. Rep.",
          "Korea, Rep.",
          "Kuwait",
          "Lebanon",
          "Lesotho",
          "Liberia",
          "Libya",
          "Madagascar",
          "Malawi",
          "Malaysia",
          "Mali",
          "Mauritania",
          "Mauritius",
          "Mexico",
          "Mongolia",
          "Montenegro",
          "Morocco",
          "Mozambique",
          "Myanmar",
          "Namibia",
          "Nepal",
          "Netherlands",
          "New Zealand",
          "Nicaragua",
          "Niger",
          "Nigeria",
          "Norway",
          "Oman",
          "Pakistan",
          "Panama",
          "Paraguay",
          "Peru",
          "Philippines",
          "Poland",
          "Portugal",
          "Puerto Rico",
          "Reunion",
          "Romania",
          "Rwanda",
          "Sao Tome and Principe",
          "Saudi Arabia",
          "Senegal",
          "Serbia",
          "Sierra Leone",
          "Singapore",
          "Slovak Republic",
          "Slovenia",
          "Somalia",
          "South Africa",
          "Spain",
          "Sri Lanka",
          "Sudan",
          "Swaziland",
          "Sweden",
          "Switzerland",
          "Syria",
          "Taiwan",
          "Tanzania",
          "Thailand",
          "Togo",
          "Trinidad and Tobago",
          "Tunisia",
          "Turkey",
          "Uganda",
          "United Kingdom",
          "United States",
          "Uruguay",
          "Venezuela",
          "Vietnam",
          "West Bank and Gaza",
          "Yemen, Rep.",
          "Zambia",
          "Zimbabwe",
          "Africa",
          "Americas",
          "Asia",
          "Europe",
          "Oceania",
          "world"
         ],
         "marker": {
          "coloraxis": "coloraxis",
          "colors": [
           43.828,
           76.423,
           72.301,
           42.731,
           75.32,
           81.235,
           79.829,
           75.635,
           64.062,
           79.441,
           56.728,
           65.554,
           74.852,
           50.728,
           72.39,
           73.005,
           52.295,
           49.58,
           59.723,
           50.43,
           80.65300000000002,
           44.74100000000001,
           50.651,
           78.553,
           72.961,
           72.889,
           65.152,
           46.46199999999999,
           55.321999999999996,
           78.782,
           48.328,
           75.748,
           78.273,
           76.486,
           78.332,
           54.791000000000004,
           72.235,
           74.994,
           71.33800000000001,
           71.878,
           51.57899999999999,
           58.03999999999999,
           52.946999999999996,
           79.313,
           80.65699999999998,
           56.73500000000001,
           59.448,
           79.406,
           60.02199999999999,
           79.483,
           70.259,
           56.007,
           46.388000000000005,
           60.916000000000004,
           70.19800000000001,
           82.208,
           73.33800000000001,
           81.757,
           64.69800000000001,
           70.65,
           70.964,
           59.545,
           78.885,
           80.745,
           80.546,
           72.567,
           82.603,
           72.535,
           54.11,
           67.297,
           78.623,
           77.58800000000001,
           71.993,
           42.592,
           45.67800000000001,
           73.952,
           59.443000000000005,
           48.303000000000004,
           74.241,
           54.467,
           64.164,
           72.801,
           76.195,
           66.803,
           74.543,
           71.164,
           42.082,
           62.068999999999996,
           52.906000000000006,
           63.785,
           79.762,
           80.204,
           72.899,
           56.867,
           46.858999999999995,
           80.196,
           75.64,
           65.483,
           75.53699999999999,
           71.752,
           71.421,
           71.688,
           75.563,
           78.098,
           78.74600000000001,
           76.442,
           72.476,
           46.242,
           65.528,
           72.777,
           63.062,
           74.002,
           42.568000000000005,
           79.972,
           74.663,
           77.926,
           48.159,
           49.339,
           80.941,
           72.396,
           58.556000000000004,
           39.613,
           80.884,
           81.70100000000001,
           74.143,
           78.4,
           52.516999999999996,
           70.616,
           58.42,
           69.819,
           73.923,
           71.777,
           51.542,
           79.425,
           78.242,
           76.384,
           73.747,
           74.249,
           73.422,
           62.698,
           42.38399999999999,
           43.486999999999995,
           54.56441057558197,
           75.35668222743027,
           69.44386304205017,
           77.89057081069897,
           81.06215400970112,
           68.91909251904043
          ]
         },
         "name": "",
         "parents": [
          "world/Asia",
          "world/Europe",
          "world/Africa",
          "world/Africa",
          "world/Americas",
          "world/Oceania",
          "world/Europe",
          "world/Asia",
          "world/Asia",
          "world/Europe",
          "world/Africa",
          "world/Americas",
          "world/Europe",
          "world/Africa",
          "world/Americas",
          "world/Europe",
          "world/Africa",
          "world/Africa",
          "world/Asia",
          "world/Africa",
          "world/Americas",
          "world/Africa",
          "world/Africa",
          "world/Americas",
          "world/Asia",
          "world/Americas",
          "world/Africa",
          "world/Africa",
          "world/Africa",
          "world/Americas",
          "world/Africa",
          "world/Europe",
          "world/Americas",
          "world/Europe",
          "world/Europe",
          "world/Africa",
          "world/Americas",
          "world/Americas",
          "world/Africa",
          "world/Americas",
          "world/Africa",
          "world/Africa",
          "world/Africa",
          "world/Europe",
          "world/Europe",
          "world/Africa",
          "world/Africa",
          "world/Europe",
          "world/Africa",
          "world/Europe",
          "world/Americas",
          "world/Africa",
          "world/Africa",
          "world/Americas",
          "world/Americas",
          "world/Asia",
          "world/Europe",
          "world/Europe",
          "world/Asia",
          "world/Asia",
          "world/Asia",
          "world/Asia",
          "world/Europe",
          "world/Asia",
          "world/Europe",
          "world/Americas",
          "world/Asia",
          "world/Asia",
          "world/Africa",
          "world/Asia",
          "world/Asia",
          "world/Asia",
          "world/Asia",
          "world/Africa",
          "world/Africa",
          "world/Africa",
          "world/Africa",
          "world/Africa",
          "world/Asia",
          "world/Africa",
          "world/Africa",
          "world/Africa",
          "world/Americas",
          "world/Asia",
          "world/Europe",
          "world/Africa",
          "world/Africa",
          "world/Asia",
          "world/Africa",
          "world/Asia",
          "world/Europe",
          "world/Oceania",
          "world/Americas",
          "world/Africa",
          "world/Africa",
          "world/Europe",
          "world/Asia",
          "world/Asia",
          "world/Americas",
          "world/Americas",
          "world/Americas",
          "world/Asia",
          "world/Europe",
          "world/Europe",
          "world/Americas",
          "world/Africa",
          "world/Europe",
          "world/Africa",
          "world/Africa",
          "world/Asia",
          "world/Africa",
          "world/Europe",
          "world/Africa",
          "world/Asia",
          "world/Europe",
          "world/Europe",
          "world/Africa",
          "world/Africa",
          "world/Europe",
          "world/Asia",
          "world/Africa",
          "world/Africa",
          "world/Europe",
          "world/Europe",
          "world/Asia",
          "world/Asia",
          "world/Africa",
          "world/Asia",
          "world/Africa",
          "world/Americas",
          "world/Africa",
          "world/Europe",
          "world/Africa",
          "world/Europe",
          "world/Americas",
          "world/Americas",
          "world/Americas",
          "world/Asia",
          "world/Asia",
          "world/Asia",
          "world/Africa",
          "world/Africa",
          "world",
          "world",
          "world",
          "world",
          "world",
          ""
         ],
         "type": "treemap",
         "values": [
          31889923,
          3600523,
          33333216,
          12420476,
          40301927,
          20434176,
          8199783,
          708573,
          150448339,
          10392226,
          8078314,
          9119152,
          4552198,
          1639131,
          190010647,
          7322858,
          14326203,
          8390505,
          14131858,
          17696293,
          33390141,
          4369038,
          10238807,
          16284741,
          1318683096,
          44227550,
          710960,
          64606759,
          3800610,
          4133884,
          18013409,
          4493312,
          11416987,
          10228744,
          5468120,
          496374,
          9319622,
          13755680,
          80264543,
          6939688,
          551201,
          4906585,
          76511887,
          5238460,
          61083916,
          1454867,
          1688359,
          82400996,
          22873338,
          10706290,
          12572928,
          9947814,
          1472041,
          8502814,
          7483763,
          6980412,
          9956108,
          301931,
          1110396331,
          223547000,
          69453570,
          27499638,
          4109086,
          6426679,
          58147733,
          2780132,
          127467972,
          6053193,
          35610177,
          23301725,
          49044790,
          2505559,
          3921278,
          2012649,
          3193942,
          6036914,
          19167654,
          13327079,
          24821286,
          12031795,
          3270065,
          1250882,
          108700891,
          2874127,
          684736,
          33757175,
          19951656,
          47761980,
          2055080,
          28901790,
          16570613,
          4115771,
          5675356,
          12894865,
          135031164,
          4627926,
          3204897,
          169270617,
          3242173,
          6667147,
          28674757,
          91077287,
          38518241,
          10642836,
          3942491,
          798094,
          22276056,
          8860588,
          199579,
          27601038,
          12267493,
          10150265,
          6144562,
          4553009,
          5447502,
          2009245,
          9118773,
          43997828,
          40448191,
          20378239,
          42292929,
          1133066,
          9031088,
          7554661,
          19314747,
          23174294,
          38139640,
          65068149,
          5701579,
          1056608,
          10276158,
          71158647,
          29170398,
          60776238,
          301139947,
          3447496,
          26084662,
          85262356,
          4018332,
          22211743,
          11746035,
          12311143,
          929539692,
          898871184,
          3811953827,
          586098529,
          24549947,
          6251013179
         ]
        }
       ],
       "layout": {
        "coloraxis": {
         "cmid": 68.91909251904043,
         "colorbar": {
          "title": {
           "text": "lifeExp"
          }
         },
         "colorscale": [
          [
           0,
           "rgb(103,0,31)"
          ],
          [
           0.1,
           "rgb(178,24,43)"
          ],
          [
           0.2,
           "rgb(214,96,77)"
          ],
          [
           0.3,
           "rgb(244,165,130)"
          ],
          [
           0.4,
           "rgb(253,219,199)"
          ],
          [
           0.5,
           "rgb(247,247,247)"
          ],
          [
           0.6,
           "rgb(209,229,240)"
          ],
          [
           0.7,
           "rgb(146,197,222)"
          ],
          [
           0.8,
           "rgb(67,147,195)"
          ],
          [
           0.9,
           "rgb(33,102,172)"
          ],
          [
           1,
           "rgb(5,48,97)"
          ]
         ]
        },
        "legend": {
         "tracegroupgap": 0
        },
        "margin": {
         "t": 60
        },
        "template": {
         "data": {
          "bar": [
           {
            "error_x": {
             "color": "#2a3f5f"
            },
            "error_y": {
             "color": "#2a3f5f"
            },
            "marker": {
             "line": {
              "color": "#E5ECF6",
              "width": 0.5
             }
            },
            "type": "bar"
           }
          ],
          "barpolar": [
           {
            "marker": {
             "line": {
              "color": "#E5ECF6",
              "width": 0.5
             }
            },
            "type": "barpolar"
           }
          ],
          "carpet": [
           {
            "aaxis": {
             "endlinecolor": "#2a3f5f",
             "gridcolor": "white",
             "linecolor": "white",
             "minorgridcolor": "white",
             "startlinecolor": "#2a3f5f"
            },
            "baxis": {
             "endlinecolor": "#2a3f5f",
             "gridcolor": "white",
             "linecolor": "white",
             "minorgridcolor": "white",
             "startlinecolor": "#2a3f5f"
            },
            "type": "carpet"
           }
          ],
          "choropleth": [
           {
            "colorbar": {
             "outlinewidth": 0,
             "ticks": ""
            },
            "type": "choropleth"
           }
          ],
          "contour": [
           {
            "colorbar": {
             "outlinewidth": 0,
             "ticks": ""
            },
            "colorscale": [
             [
              0,
              "#0d0887"
             ],
             [
              0.1111111111111111,
              "#46039f"
             ],
             [
              0.2222222222222222,
              "#7201a8"
             ],
             [
              0.3333333333333333,
              "#9c179e"
             ],
             [
              0.4444444444444444,
              "#bd3786"
             ],
             [
              0.5555555555555556,
              "#d8576b"
             ],
             [
              0.6666666666666666,
              "#ed7953"
             ],
             [
              0.7777777777777778,
              "#fb9f3a"
             ],
             [
              0.8888888888888888,
              "#fdca26"
             ],
             [
              1,
              "#f0f921"
             ]
            ],
            "type": "contour"
           }
          ],
          "contourcarpet": [
           {
            "colorbar": {
             "outlinewidth": 0,
             "ticks": ""
            },
            "type": "contourcarpet"
           }
          ],
          "heatmap": [
           {
            "colorbar": {
             "outlinewidth": 0,
             "ticks": ""
            },
            "colorscale": [
             [
              0,
              "#0d0887"
             ],
             [
              0.1111111111111111,
              "#46039f"
             ],
             [
              0.2222222222222222,
              "#7201a8"
             ],
             [
              0.3333333333333333,
              "#9c179e"
             ],
             [
              0.4444444444444444,
              "#bd3786"
             ],
             [
              0.5555555555555556,
              "#d8576b"
             ],
             [
              0.6666666666666666,
              "#ed7953"
             ],
             [
              0.7777777777777778,
              "#fb9f3a"
             ],
             [
              0.8888888888888888,
              "#fdca26"
             ],
             [
              1,
              "#f0f921"
             ]
            ],
            "type": "heatmap"
           }
          ],
          "heatmapgl": [
           {
            "colorbar": {
             "outlinewidth": 0,
             "ticks": ""
            },
            "colorscale": [
             [
              0,
              "#0d0887"
             ],
             [
              0.1111111111111111,
              "#46039f"
             ],
             [
              0.2222222222222222,
              "#7201a8"
             ],
             [
              0.3333333333333333,
              "#9c179e"
             ],
             [
              0.4444444444444444,
              "#bd3786"
             ],
             [
              0.5555555555555556,
              "#d8576b"
             ],
             [
              0.6666666666666666,
              "#ed7953"
             ],
             [
              0.7777777777777778,
              "#fb9f3a"
             ],
             [
              0.8888888888888888,
              "#fdca26"
             ],
             [
              1,
              "#f0f921"
             ]
            ],
            "type": "heatmapgl"
           }
          ],
          "histogram": [
           {
            "marker": {
             "colorbar": {
              "outlinewidth": 0,
              "ticks": ""
             }
            },
            "type": "histogram"
           }
          ],
          "histogram2d": [
           {
            "colorbar": {
             "outlinewidth": 0,
             "ticks": ""
            },
            "colorscale": [
             [
              0,
              "#0d0887"
             ],
             [
              0.1111111111111111,
              "#46039f"
             ],
             [
              0.2222222222222222,
              "#7201a8"
             ],
             [
              0.3333333333333333,
              "#9c179e"
             ],
             [
              0.4444444444444444,
              "#bd3786"
             ],
             [
              0.5555555555555556,
              "#d8576b"
             ],
             [
              0.6666666666666666,
              "#ed7953"
             ],
             [
              0.7777777777777778,
              "#fb9f3a"
             ],
             [
              0.8888888888888888,
              "#fdca26"
             ],
             [
              1,
              "#f0f921"
             ]
            ],
            "type": "histogram2d"
           }
          ],
          "histogram2dcontour": [
           {
            "colorbar": {
             "outlinewidth": 0,
             "ticks": ""
            },
            "colorscale": [
             [
              0,
              "#0d0887"
             ],
             [
              0.1111111111111111,
              "#46039f"
             ],
             [
              0.2222222222222222,
              "#7201a8"
             ],
             [
              0.3333333333333333,
              "#9c179e"
             ],
             [
              0.4444444444444444,
              "#bd3786"
             ],
             [
              0.5555555555555556,
              "#d8576b"
             ],
             [
              0.6666666666666666,
              "#ed7953"
             ],
             [
              0.7777777777777778,
              "#fb9f3a"
             ],
             [
              0.8888888888888888,
              "#fdca26"
             ],
             [
              1,
              "#f0f921"
             ]
            ],
            "type": "histogram2dcontour"
           }
          ],
          "mesh3d": [
           {
            "colorbar": {
             "outlinewidth": 0,
             "ticks": ""
            },
            "type": "mesh3d"
           }
          ],
          "parcoords": [
           {
            "line": {
             "colorbar": {
              "outlinewidth": 0,
              "ticks": ""
             }
            },
            "type": "parcoords"
           }
          ],
          "pie": [
           {
            "automargin": true,
            "type": "pie"
           }
          ],
          "scatter": [
           {
            "marker": {
             "colorbar": {
              "outlinewidth": 0,
              "ticks": ""
             }
            },
            "type": "scatter"
           }
          ],
          "scatter3d": [
           {
            "line": {
             "colorbar": {
              "outlinewidth": 0,
              "ticks": ""
             }
            },
            "marker": {
             "colorbar": {
              "outlinewidth": 0,
              "ticks": ""
             }
            },
            "type": "scatter3d"
           }
          ],
          "scattercarpet": [
           {
            "marker": {
             "colorbar": {
              "outlinewidth": 0,
              "ticks": ""
             }
            },
            "type": "scattercarpet"
           }
          ],
          "scattergeo": [
           {
            "marker": {
             "colorbar": {
              "outlinewidth": 0,
              "ticks": ""
             }
            },
            "type": "scattergeo"
           }
          ],
          "scattergl": [
           {
            "marker": {
             "colorbar": {
              "outlinewidth": 0,
              "ticks": ""
             }
            },
            "type": "scattergl"
           }
          ],
          "scattermapbox": [
           {
            "marker": {
             "colorbar": {
              "outlinewidth": 0,
              "ticks": ""
             }
            },
            "type": "scattermapbox"
           }
          ],
          "scatterpolar": [
           {
            "marker": {
             "colorbar": {
              "outlinewidth": 0,
              "ticks": ""
             }
            },
            "type": "scatterpolar"
           }
          ],
          "scatterpolargl": [
           {
            "marker": {
             "colorbar": {
              "outlinewidth": 0,
              "ticks": ""
             }
            },
            "type": "scatterpolargl"
           }
          ],
          "scatterternary": [
           {
            "marker": {
             "colorbar": {
              "outlinewidth": 0,
              "ticks": ""
             }
            },
            "type": "scatterternary"
           }
          ],
          "surface": [
           {
            "colorbar": {
             "outlinewidth": 0,
             "ticks": ""
            },
            "colorscale": [
             [
              0,
              "#0d0887"
             ],
             [
              0.1111111111111111,
              "#46039f"
             ],
             [
              0.2222222222222222,
              "#7201a8"
             ],
             [
              0.3333333333333333,
              "#9c179e"
             ],
             [
              0.4444444444444444,
              "#bd3786"
             ],
             [
              0.5555555555555556,
              "#d8576b"
             ],
             [
              0.6666666666666666,
              "#ed7953"
             ],
             [
              0.7777777777777778,
              "#fb9f3a"
             ],
             [
              0.8888888888888888,
              "#fdca26"
             ],
             [
              1,
              "#f0f921"
             ]
            ],
            "type": "surface"
           }
          ],
          "table": [
           {
            "cells": {
             "fill": {
              "color": "#EBF0F8"
             },
             "line": {
              "color": "white"
             }
            },
            "header": {
             "fill": {
              "color": "#C8D4E3"
             },
             "line": {
              "color": "white"
             }
            },
            "type": "table"
           }
          ]
         },
         "layout": {
          "annotationdefaults": {
           "arrowcolor": "#2a3f5f",
           "arrowhead": 0,
           "arrowwidth": 1
          },
          "coloraxis": {
           "colorbar": {
            "outlinewidth": 0,
            "ticks": ""
           }
          },
          "colorscale": {
           "diverging": [
            [
             0,
             "#8e0152"
            ],
            [
             0.1,
             "#c51b7d"
            ],
            [
             0.2,
             "#de77ae"
            ],
            [
             0.3,
             "#f1b6da"
            ],
            [
             0.4,
             "#fde0ef"
            ],
            [
             0.5,
             "#f7f7f7"
            ],
            [
             0.6,
             "#e6f5d0"
            ],
            [
             0.7,
             "#b8e186"
            ],
            [
             0.8,
             "#7fbc41"
            ],
            [
             0.9,
             "#4d9221"
            ],
            [
             1,
             "#276419"
            ]
           ],
           "sequential": [
            [
             0,
             "#0d0887"
            ],
            [
             0.1111111111111111,
             "#46039f"
            ],
            [
             0.2222222222222222,
             "#7201a8"
            ],
            [
             0.3333333333333333,
             "#9c179e"
            ],
            [
             0.4444444444444444,
             "#bd3786"
            ],
            [
             0.5555555555555556,
             "#d8576b"
            ],
            [
             0.6666666666666666,
             "#ed7953"
            ],
            [
             0.7777777777777778,
             "#fb9f3a"
            ],
            [
             0.8888888888888888,
             "#fdca26"
            ],
            [
             1,
             "#f0f921"
            ]
           ],
           "sequentialminus": [
            [
             0,
             "#0d0887"
            ],
            [
             0.1111111111111111,
             "#46039f"
            ],
            [
             0.2222222222222222,
             "#7201a8"
            ],
            [
             0.3333333333333333,
             "#9c179e"
            ],
            [
             0.4444444444444444,
             "#bd3786"
            ],
            [
             0.5555555555555556,
             "#d8576b"
            ],
            [
             0.6666666666666666,
             "#ed7953"
            ],
            [
             0.7777777777777778,
             "#fb9f3a"
            ],
            [
             0.8888888888888888,
             "#fdca26"
            ],
            [
             1,
             "#f0f921"
            ]
           ]
          },
          "colorway": [
           "#636efa",
           "#EF553B",
           "#00cc96",
           "#ab63fa",
           "#FFA15A",
           "#19d3f3",
           "#FF6692",
           "#B6E880",
           "#FF97FF",
           "#FECB52"
          ],
          "font": {
           "color": "#2a3f5f"
          },
          "geo": {
           "bgcolor": "white",
           "lakecolor": "white",
           "landcolor": "#E5ECF6",
           "showlakes": true,
           "showland": true,
           "subunitcolor": "white"
          },
          "hoverlabel": {
           "align": "left"
          },
          "hovermode": "closest",
          "mapbox": {
           "style": "light"
          },
          "paper_bgcolor": "white",
          "plot_bgcolor": "#E5ECF6",
          "polar": {
           "angularaxis": {
            "gridcolor": "white",
            "linecolor": "white",
            "ticks": ""
           },
           "bgcolor": "#E5ECF6",
           "radialaxis": {
            "gridcolor": "white",
            "linecolor": "white",
            "ticks": ""
           }
          },
          "scene": {
           "xaxis": {
            "backgroundcolor": "#E5ECF6",
            "gridcolor": "white",
            "gridwidth": 2,
            "linecolor": "white",
            "showbackground": true,
            "ticks": "",
            "zerolinecolor": "white"
           },
           "yaxis": {
            "backgroundcolor": "#E5ECF6",
            "gridcolor": "white",
            "gridwidth": 2,
            "linecolor": "white",
            "showbackground": true,
            "ticks": "",
            "zerolinecolor": "white"
           },
           "zaxis": {
            "backgroundcolor": "#E5ECF6",
            "gridcolor": "white",
            "gridwidth": 2,
            "linecolor": "white",
            "showbackground": true,
            "ticks": "",
            "zerolinecolor": "white"
           }
          },
          "shapedefaults": {
           "line": {
            "color": "#2a3f5f"
           }
          },
          "ternary": {
           "aaxis": {
            "gridcolor": "white",
            "linecolor": "white",
            "ticks": ""
           },
           "baxis": {
            "gridcolor": "white",
            "linecolor": "white",
            "ticks": ""
           },
           "bgcolor": "#E5ECF6",
           "caxis": {
            "gridcolor": "white",
            "linecolor": "white",
            "ticks": ""
           }
          },
          "title": {
           "x": 0.05
          },
          "xaxis": {
           "automargin": true,
           "gridcolor": "white",
           "linecolor": "white",
           "ticks": "",
           "title": {
            "standoff": 15
           },
           "zerolinecolor": "white",
           "zerolinewidth": 2
          },
          "yaxis": {
           "automargin": true,
           "gridcolor": "white",
           "linecolor": "white",
           "ticks": "",
           "title": {
            "standoff": 15
           },
           "zerolinecolor": "white",
           "zerolinewidth": 2
          }
         }
        }
       }
      },
      "text/html": [
       "<div>                            <div id=\"b4c17235-660e-441c-9a63-5ae1f3cada03\" class=\"plotly-graph-div\" style=\"height:525px; width:100%;\"></div>            <script type=\"text/javascript\">                require([\"plotly\"], function(Plotly) {                    window.PLOTLYENV=window.PLOTLYENV || {};                                    if (document.getElementById(\"b4c17235-660e-441c-9a63-5ae1f3cada03\")) {                    Plotly.newPlot(                        \"b4c17235-660e-441c-9a63-5ae1f3cada03\",                        [{\"branchvalues\": \"total\", \"customdata\": [[\"AFG\", 43.828], [\"ALB\", 76.423], [\"DZA\", 72.301], [\"AGO\", 42.731], [\"ARG\", 75.32], [\"AUS\", 81.235], [\"AUT\", 79.829], [\"BHR\", 75.635], [\"BGD\", 64.062], [\"BEL\", 79.441], [\"BEN\", 56.728], [\"BOL\", 65.554], [\"BIH\", 74.852], [\"BWA\", 50.728], [\"BRA\", 72.39], [\"BGR\", 73.005], [\"BFA\", 52.295], [\"BDI\", 49.58], [\"KHM\", 59.723], [\"CMR\", 50.43], [\"CAN\", 80.65300000000002], [\"CAF\", 44.74100000000001], [\"TCD\", 50.651], [\"CHL\", 78.553], [\"CHN\", 72.961], [\"COL\", 72.889], [\"COM\", 65.152], [\"COD\", 46.46199999999999], [\"COG\", 55.321999999999996], [\"CRI\", 78.782], [\"CIV\", 48.328], [\"HRV\", 75.748], [\"CUB\", 78.273], [\"CZE\", 76.486], [\"DNK\", 78.332], [\"DJI\", 54.791000000000004], [\"DOM\", 72.235], [\"ECU\", 74.994], [\"EGY\", 71.33800000000001], [\"SLV\", 71.878], [\"GNQ\", 51.57899999999999], [\"ERI\", 58.03999999999999], [\"ETH\", 52.946999999999996], [\"FIN\", 79.313], [\"FRA\", 80.65699999999998], [\"GAB\", 56.73500000000001], [\"GMB\", 59.448], [\"DEU\", 79.406], [\"GHA\", 60.02199999999999], [\"GRC\", 79.483], [\"GTM\", 70.259], [\"GIN\", 56.007], [\"GNB\", 46.388000000000005], [\"HTI\", 60.916000000000004], [\"HND\", 70.19800000000001], [\"HKG\", 82.208], [\"HUN\", 73.33800000000001], [\"ISL\", 81.757], [\"IND\", 64.69800000000001], [\"IDN\", 70.65], [\"IRN\", 70.964], [\"IRQ\", 59.545], [\"IRL\", 78.885], [\"ISR\", 80.745], [\"ITA\", 80.546], [\"JAM\", 72.567], [\"JPN\", 82.603], [\"JOR\", 72.535], [\"KEN\", 54.11], [\"KOR\", 67.297], [\"KOR\", 78.623], [\"KWT\", 77.58800000000001], [\"LBN\", 71.993], [\"LSO\", 42.592], [\"LBR\", 45.67800000000001], [\"LBY\", 73.952], [\"MDG\", 59.443000000000005], [\"MWI\", 48.303000000000004], [\"MYS\", 74.241], [\"MLI\", 54.467], [\"MRT\", 64.164], [\"MUS\", 72.801], [\"MEX\", 76.195], [\"MNG\", 66.803], [\"MNE\", 74.543], [\"MAR\", 71.164], [\"MOZ\", 42.082], [\"MMR\", 62.068999999999996], [\"NAM\", 52.906000000000006], [\"NPL\", 63.785], [\"NLD\", 79.762], [\"NZL\", 80.204], [\"NIC\", 72.899], [\"NER\", 56.867], [\"NGA\", 46.858999999999995], [\"NOR\", 80.196], [\"OMN\", 75.64], [\"PAK\", 65.483], [\"PAN\", 75.53699999999999], [\"PRY\", 71.752], [\"PER\", 71.421], [\"PHL\", 71.688], [\"POL\", 75.563], [\"PRT\", 78.098], [\"PRI\", 78.74600000000001], [\"REU\", 76.442], [\"ROU\", 72.476], [\"RWA\", 46.242], [\"STP\", 65.528], [\"SAU\", 72.777], [\"SEN\", 63.062], [\"SRB\", 74.002], [\"SLE\", 42.568000000000005], [\"SGP\", 79.972], [\"SVK\", 74.663], [\"SVN\", 77.926], [\"SOM\", 48.159], [\"ZAF\", 49.339], [\"ESP\", 80.941], [\"LKA\", 72.396], [\"SDN\", 58.556000000000004], [\"SWZ\", 39.613], [\"SWE\", 80.884], [\"CHE\", 81.70100000000001], [\"SYR\", 74.143], [\"TWN\", 78.4], [\"TZA\", 52.516999999999996], [\"THA\", 70.616], [\"TGO\", 58.42], [\"TTO\", 69.819], [\"TUN\", 73.923], [\"TUR\", 71.777], [\"UGA\", 51.542], [\"GBR\", 79.425], [\"USA\", 78.242], [\"URY\", 76.384], [\"VEN\", 73.747], [\"VNM\", 74.249], [\"PSE\", 73.422], [\"YEM\", 62.698], [\"ZMB\", 42.38399999999999], [\"ZWE\", 43.486999999999995], [\"(?)\", 54.56441057558197], [\"(?)\", 75.35668222743027], [\"(?)\", 69.44386304205017], [\"(?)\", 77.89057081069897], [\"(?)\", 81.06215400970112], [\"(?)\", 68.91909251904043]], \"domain\": {\"x\": [0.0, 1.0], \"y\": [0.0, 1.0]}, \"hovertemplate\": \"labels=%{label}<br>pop=%{value}<br>parent=%{parent}<br>id=%{id}<br>iso_alpha=%{customdata[0]}<br>lifeExp=%{color}<extra></extra>\", \"ids\": [\"world/Asia/Afghanistan\", \"world/Europe/Albania\", \"world/Africa/Algeria\", \"world/Africa/Angola\", \"world/Americas/Argentina\", \"world/Oceania/Australia\", \"world/Europe/Austria\", \"world/Asia/Bahrain\", \"world/Asia/Bangladesh\", \"world/Europe/Belgium\", \"world/Africa/Benin\", \"world/Americas/Bolivia\", \"world/Europe/Bosnia and Herzegovina\", \"world/Africa/Botswana\", \"world/Americas/Brazil\", \"world/Europe/Bulgaria\", \"world/Africa/Burkina Faso\", \"world/Africa/Burundi\", \"world/Asia/Cambodia\", \"world/Africa/Cameroon\", \"world/Americas/Canada\", \"world/Africa/Central African Republic\", \"world/Africa/Chad\", \"world/Americas/Chile\", \"world/Asia/China\", \"world/Americas/Colombia\", \"world/Africa/Comoros\", \"world/Africa/Congo, Dem. Rep.\", \"world/Africa/Congo, Rep.\", \"world/Americas/Costa Rica\", \"world/Africa/Cote d'Ivoire\", \"world/Europe/Croatia\", \"world/Americas/Cuba\", \"world/Europe/Czech Republic\", \"world/Europe/Denmark\", \"world/Africa/Djibouti\", \"world/Americas/Dominican Republic\", \"world/Americas/Ecuador\", \"world/Africa/Egypt\", \"world/Americas/El Salvador\", \"world/Africa/Equatorial Guinea\", \"world/Africa/Eritrea\", \"world/Africa/Ethiopia\", \"world/Europe/Finland\", \"world/Europe/France\", \"world/Africa/Gabon\", \"world/Africa/Gambia\", \"world/Europe/Germany\", \"world/Africa/Ghana\", \"world/Europe/Greece\", \"world/Americas/Guatemala\", \"world/Africa/Guinea\", \"world/Africa/Guinea-Bissau\", \"world/Americas/Haiti\", \"world/Americas/Honduras\", \"world/Asia/Hong Kong, China\", \"world/Europe/Hungary\", \"world/Europe/Iceland\", \"world/Asia/India\", \"world/Asia/Indonesia\", \"world/Asia/Iran\", \"world/Asia/Iraq\", \"world/Europe/Ireland\", \"world/Asia/Israel\", \"world/Europe/Italy\", \"world/Americas/Jamaica\", \"world/Asia/Japan\", \"world/Asia/Jordan\", \"world/Africa/Kenya\", \"world/Asia/Korea, Dem. Rep.\", \"world/Asia/Korea, Rep.\", \"world/Asia/Kuwait\", \"world/Asia/Lebanon\", \"world/Africa/Lesotho\", \"world/Africa/Liberia\", \"world/Africa/Libya\", \"world/Africa/Madagascar\", \"world/Africa/Malawi\", \"world/Asia/Malaysia\", \"world/Africa/Mali\", \"world/Africa/Mauritania\", \"world/Africa/Mauritius\", \"world/Americas/Mexico\", \"world/Asia/Mongolia\", \"world/Europe/Montenegro\", \"world/Africa/Morocco\", \"world/Africa/Mozambique\", \"world/Asia/Myanmar\", \"world/Africa/Namibia\", \"world/Asia/Nepal\", \"world/Europe/Netherlands\", \"world/Oceania/New Zealand\", \"world/Americas/Nicaragua\", \"world/Africa/Niger\", \"world/Africa/Nigeria\", \"world/Europe/Norway\", \"world/Asia/Oman\", \"world/Asia/Pakistan\", \"world/Americas/Panama\", \"world/Americas/Paraguay\", \"world/Americas/Peru\", \"world/Asia/Philippines\", \"world/Europe/Poland\", \"world/Europe/Portugal\", \"world/Americas/Puerto Rico\", \"world/Africa/Reunion\", \"world/Europe/Romania\", \"world/Africa/Rwanda\", \"world/Africa/Sao Tome and Principe\", \"world/Asia/Saudi Arabia\", \"world/Africa/Senegal\", \"world/Europe/Serbia\", \"world/Africa/Sierra Leone\", \"world/Asia/Singapore\", \"world/Europe/Slovak Republic\", \"world/Europe/Slovenia\", \"world/Africa/Somalia\", \"world/Africa/South Africa\", \"world/Europe/Spain\", \"world/Asia/Sri Lanka\", \"world/Africa/Sudan\", \"world/Africa/Swaziland\", \"world/Europe/Sweden\", \"world/Europe/Switzerland\", \"world/Asia/Syria\", \"world/Asia/Taiwan\", \"world/Africa/Tanzania\", \"world/Asia/Thailand\", \"world/Africa/Togo\", \"world/Americas/Trinidad and Tobago\", \"world/Africa/Tunisia\", \"world/Europe/Turkey\", \"world/Africa/Uganda\", \"world/Europe/United Kingdom\", \"world/Americas/United States\", \"world/Americas/Uruguay\", \"world/Americas/Venezuela\", \"world/Asia/Vietnam\", \"world/Asia/West Bank and Gaza\", \"world/Asia/Yemen, Rep.\", \"world/Africa/Zambia\", \"world/Africa/Zimbabwe\", \"world/Africa\", \"world/Americas\", \"world/Asia\", \"world/Europe\", \"world/Oceania\", \"world\"], \"labels\": [\"Afghanistan\", \"Albania\", \"Algeria\", \"Angola\", \"Argentina\", \"Australia\", \"Austria\", \"Bahrain\", \"Bangladesh\", \"Belgium\", \"Benin\", \"Bolivia\", \"Bosnia and Herzegovina\", \"Botswana\", \"Brazil\", \"Bulgaria\", \"Burkina Faso\", \"Burundi\", \"Cambodia\", \"Cameroon\", \"Canada\", \"Central African Republic\", \"Chad\", \"Chile\", \"China\", \"Colombia\", \"Comoros\", \"Congo, Dem. Rep.\", \"Congo, Rep.\", \"Costa Rica\", \"Cote d'Ivoire\", \"Croatia\", \"Cuba\", \"Czech Republic\", \"Denmark\", \"Djibouti\", \"Dominican Republic\", \"Ecuador\", \"Egypt\", \"El Salvador\", \"Equatorial Guinea\", \"Eritrea\", \"Ethiopia\", \"Finland\", \"France\", \"Gabon\", \"Gambia\", \"Germany\", \"Ghana\", \"Greece\", \"Guatemala\", \"Guinea\", \"Guinea-Bissau\", \"Haiti\", \"Honduras\", \"Hong Kong, China\", \"Hungary\", \"Iceland\", \"India\", \"Indonesia\", \"Iran\", \"Iraq\", \"Ireland\", \"Israel\", \"Italy\", \"Jamaica\", \"Japan\", \"Jordan\", \"Kenya\", \"Korea, Dem. Rep.\", \"Korea, Rep.\", \"Kuwait\", \"Lebanon\", \"Lesotho\", \"Liberia\", \"Libya\", \"Madagascar\", \"Malawi\", \"Malaysia\", \"Mali\", \"Mauritania\", \"Mauritius\", \"Mexico\", \"Mongolia\", \"Montenegro\", \"Morocco\", \"Mozambique\", \"Myanmar\", \"Namibia\", \"Nepal\", \"Netherlands\", \"New Zealand\", \"Nicaragua\", \"Niger\", \"Nigeria\", \"Norway\", \"Oman\", \"Pakistan\", \"Panama\", \"Paraguay\", \"Peru\", \"Philippines\", \"Poland\", \"Portugal\", \"Puerto Rico\", \"Reunion\", \"Romania\", \"Rwanda\", \"Sao Tome and Principe\", \"Saudi Arabia\", \"Senegal\", \"Serbia\", \"Sierra Leone\", \"Singapore\", \"Slovak Republic\", \"Slovenia\", \"Somalia\", \"South Africa\", \"Spain\", \"Sri Lanka\", \"Sudan\", \"Swaziland\", \"Sweden\", \"Switzerland\", \"Syria\", \"Taiwan\", \"Tanzania\", \"Thailand\", \"Togo\", \"Trinidad and Tobago\", \"Tunisia\", \"Turkey\", \"Uganda\", \"United Kingdom\", \"United States\", \"Uruguay\", \"Venezuela\", \"Vietnam\", \"West Bank and Gaza\", \"Yemen, Rep.\", \"Zambia\", \"Zimbabwe\", \"Africa\", \"Americas\", \"Asia\", \"Europe\", \"Oceania\", \"world\"], \"marker\": {\"coloraxis\": \"coloraxis\", \"colors\": [43.828, 76.423, 72.301, 42.731, 75.32, 81.235, 79.829, 75.635, 64.062, 79.441, 56.728, 65.554, 74.852, 50.728, 72.39, 73.005, 52.295, 49.58, 59.723, 50.43, 80.65300000000002, 44.74100000000001, 50.651, 78.553, 72.961, 72.889, 65.152, 46.46199999999999, 55.321999999999996, 78.782, 48.328, 75.748, 78.273, 76.486, 78.332, 54.791000000000004, 72.235, 74.994, 71.33800000000001, 71.878, 51.57899999999999, 58.03999999999999, 52.946999999999996, 79.313, 80.65699999999998, 56.73500000000001, 59.448, 79.406, 60.02199999999999, 79.483, 70.259, 56.007, 46.388000000000005, 60.916000000000004, 70.19800000000001, 82.208, 73.33800000000001, 81.757, 64.69800000000001, 70.65, 70.964, 59.545, 78.885, 80.745, 80.546, 72.567, 82.603, 72.535, 54.11, 67.297, 78.623, 77.58800000000001, 71.993, 42.592, 45.67800000000001, 73.952, 59.443000000000005, 48.303000000000004, 74.241, 54.467, 64.164, 72.801, 76.195, 66.803, 74.543, 71.164, 42.082, 62.068999999999996, 52.906000000000006, 63.785, 79.762, 80.204, 72.899, 56.867, 46.858999999999995, 80.196, 75.64, 65.483, 75.53699999999999, 71.752, 71.421, 71.688, 75.563, 78.098, 78.74600000000001, 76.442, 72.476, 46.242, 65.528, 72.777, 63.062, 74.002, 42.568000000000005, 79.972, 74.663, 77.926, 48.159, 49.339, 80.941, 72.396, 58.556000000000004, 39.613, 80.884, 81.70100000000001, 74.143, 78.4, 52.516999999999996, 70.616, 58.42, 69.819, 73.923, 71.777, 51.542, 79.425, 78.242, 76.384, 73.747, 74.249, 73.422, 62.698, 42.38399999999999, 43.486999999999995, 54.56441057558197, 75.35668222743027, 69.44386304205017, 77.89057081069897, 81.06215400970112, 68.91909251904043]}, \"name\": \"\", \"parents\": [\"world/Asia\", \"world/Europe\", \"world/Africa\", \"world/Africa\", \"world/Americas\", \"world/Oceania\", \"world/Europe\", \"world/Asia\", \"world/Asia\", \"world/Europe\", \"world/Africa\", \"world/Americas\", \"world/Europe\", \"world/Africa\", \"world/Americas\", \"world/Europe\", \"world/Africa\", \"world/Africa\", \"world/Asia\", \"world/Africa\", \"world/Americas\", \"world/Africa\", \"world/Africa\", \"world/Americas\", \"world/Asia\", \"world/Americas\", \"world/Africa\", \"world/Africa\", \"world/Africa\", \"world/Americas\", \"world/Africa\", \"world/Europe\", \"world/Americas\", \"world/Europe\", \"world/Europe\", \"world/Africa\", \"world/Americas\", \"world/Americas\", \"world/Africa\", \"world/Americas\", \"world/Africa\", \"world/Africa\", \"world/Africa\", \"world/Europe\", \"world/Europe\", \"world/Africa\", \"world/Africa\", \"world/Europe\", \"world/Africa\", \"world/Europe\", \"world/Americas\", \"world/Africa\", \"world/Africa\", \"world/Americas\", \"world/Americas\", \"world/Asia\", \"world/Europe\", \"world/Europe\", \"world/Asia\", \"world/Asia\", \"world/Asia\", \"world/Asia\", \"world/Europe\", \"world/Asia\", \"world/Europe\", \"world/Americas\", \"world/Asia\", \"world/Asia\", \"world/Africa\", \"world/Asia\", \"world/Asia\", \"world/Asia\", \"world/Asia\", \"world/Africa\", \"world/Africa\", \"world/Africa\", \"world/Africa\", \"world/Africa\", \"world/Asia\", \"world/Africa\", \"world/Africa\", \"world/Africa\", \"world/Americas\", \"world/Asia\", \"world/Europe\", \"world/Africa\", \"world/Africa\", \"world/Asia\", \"world/Africa\", \"world/Asia\", \"world/Europe\", \"world/Oceania\", \"world/Americas\", \"world/Africa\", \"world/Africa\", \"world/Europe\", \"world/Asia\", \"world/Asia\", \"world/Americas\", \"world/Americas\", \"world/Americas\", \"world/Asia\", \"world/Europe\", \"world/Europe\", \"world/Americas\", \"world/Africa\", \"world/Europe\", \"world/Africa\", \"world/Africa\", \"world/Asia\", \"world/Africa\", \"world/Europe\", \"world/Africa\", \"world/Asia\", \"world/Europe\", \"world/Europe\", \"world/Africa\", \"world/Africa\", \"world/Europe\", \"world/Asia\", \"world/Africa\", \"world/Africa\", \"world/Europe\", \"world/Europe\", \"world/Asia\", \"world/Asia\", \"world/Africa\", \"world/Asia\", \"world/Africa\", \"world/Americas\", \"world/Africa\", \"world/Europe\", \"world/Africa\", \"world/Europe\", \"world/Americas\", \"world/Americas\", \"world/Americas\", \"world/Asia\", \"world/Asia\", \"world/Asia\", \"world/Africa\", \"world/Africa\", \"world\", \"world\", \"world\", \"world\", \"world\", \"\"], \"type\": \"treemap\", \"values\": [31889923, 3600523, 33333216, 12420476, 40301927, 20434176, 8199783, 708573, 150448339, 10392226, 8078314, 9119152, 4552198, 1639131, 190010647, 7322858, 14326203, 8390505, 14131858, 17696293, 33390141, 4369038, 10238807, 16284741, 1318683096, 44227550, 710960, 64606759, 3800610, 4133884, 18013409, 4493312, 11416987, 10228744, 5468120, 496374, 9319622, 13755680, 80264543, 6939688, 551201, 4906585, 76511887, 5238460, 61083916, 1454867, 1688359, 82400996, 22873338, 10706290, 12572928, 9947814, 1472041, 8502814, 7483763, 6980412, 9956108, 301931, 1110396331, 223547000, 69453570, 27499638, 4109086, 6426679, 58147733, 2780132, 127467972, 6053193, 35610177, 23301725, 49044790, 2505559, 3921278, 2012649, 3193942, 6036914, 19167654, 13327079, 24821286, 12031795, 3270065, 1250882, 108700891, 2874127, 684736, 33757175, 19951656, 47761980, 2055080, 28901790, 16570613, 4115771, 5675356, 12894865, 135031164, 4627926, 3204897, 169270617, 3242173, 6667147, 28674757, 91077287, 38518241, 10642836, 3942491, 798094, 22276056, 8860588, 199579, 27601038, 12267493, 10150265, 6144562, 4553009, 5447502, 2009245, 9118773, 43997828, 40448191, 20378239, 42292929, 1133066, 9031088, 7554661, 19314747, 23174294, 38139640, 65068149, 5701579, 1056608, 10276158, 71158647, 29170398, 60776238, 301139947, 3447496, 26084662, 85262356, 4018332, 22211743, 11746035, 12311143, 929539692, 898871184, 3811953827, 586098529, 24549947, 6251013179]}],                        {\"coloraxis\": {\"cmid\": 68.91909251904043, \"colorbar\": {\"title\": {\"text\": \"lifeExp\"}}, \"colorscale\": [[0.0, \"rgb(103,0,31)\"], [0.1, \"rgb(178,24,43)\"], [0.2, \"rgb(214,96,77)\"], [0.3, \"rgb(244,165,130)\"], [0.4, \"rgb(253,219,199)\"], [0.5, \"rgb(247,247,247)\"], [0.6, \"rgb(209,229,240)\"], [0.7, \"rgb(146,197,222)\"], [0.8, \"rgb(67,147,195)\"], [0.9, \"rgb(33,102,172)\"], [1.0, \"rgb(5,48,97)\"]]}, \"legend\": {\"tracegroupgap\": 0}, \"margin\": {\"t\": 60}, \"template\": {\"data\": {\"bar\": [{\"error_x\": {\"color\": \"#2a3f5f\"}, \"error_y\": {\"color\": \"#2a3f5f\"}, \"marker\": {\"line\": {\"color\": \"#E5ECF6\", \"width\": 0.5}}, \"type\": \"bar\"}], \"barpolar\": [{\"marker\": {\"line\": {\"color\": \"#E5ECF6\", \"width\": 0.5}}, \"type\": \"barpolar\"}], \"carpet\": [{\"aaxis\": {\"endlinecolor\": \"#2a3f5f\", \"gridcolor\": \"white\", \"linecolor\": \"white\", \"minorgridcolor\": \"white\", \"startlinecolor\": \"#2a3f5f\"}, \"baxis\": {\"endlinecolor\": \"#2a3f5f\", \"gridcolor\": \"white\", \"linecolor\": \"white\", \"minorgridcolor\": \"white\", \"startlinecolor\": \"#2a3f5f\"}, \"type\": \"carpet\"}], \"choropleth\": [{\"colorbar\": {\"outlinewidth\": 0, \"ticks\": \"\"}, \"type\": \"choropleth\"}], \"contour\": [{\"colorbar\": {\"outlinewidth\": 0, \"ticks\": \"\"}, \"colorscale\": [[0.0, \"#0d0887\"], [0.1111111111111111, \"#46039f\"], [0.2222222222222222, \"#7201a8\"], [0.3333333333333333, \"#9c179e\"], [0.4444444444444444, \"#bd3786\"], [0.5555555555555556, \"#d8576b\"], [0.6666666666666666, \"#ed7953\"], [0.7777777777777778, \"#fb9f3a\"], [0.8888888888888888, \"#fdca26\"], [1.0, \"#f0f921\"]], \"type\": \"contour\"}], \"contourcarpet\": [{\"colorbar\": {\"outlinewidth\": 0, \"ticks\": \"\"}, \"type\": \"contourcarpet\"}], \"heatmap\": [{\"colorbar\": {\"outlinewidth\": 0, \"ticks\": \"\"}, \"colorscale\": [[0.0, \"#0d0887\"], [0.1111111111111111, \"#46039f\"], [0.2222222222222222, \"#7201a8\"], [0.3333333333333333, \"#9c179e\"], [0.4444444444444444, \"#bd3786\"], [0.5555555555555556, \"#d8576b\"], [0.6666666666666666, \"#ed7953\"], [0.7777777777777778, \"#fb9f3a\"], [0.8888888888888888, \"#fdca26\"], [1.0, \"#f0f921\"]], \"type\": \"heatmap\"}], \"heatmapgl\": [{\"colorbar\": {\"outlinewidth\": 0, \"ticks\": \"\"}, \"colorscale\": [[0.0, \"#0d0887\"], [0.1111111111111111, \"#46039f\"], [0.2222222222222222, \"#7201a8\"], [0.3333333333333333, \"#9c179e\"], [0.4444444444444444, \"#bd3786\"], [0.5555555555555556, \"#d8576b\"], [0.6666666666666666, \"#ed7953\"], [0.7777777777777778, \"#fb9f3a\"], [0.8888888888888888, \"#fdca26\"], [1.0, \"#f0f921\"]], \"type\": \"heatmapgl\"}], \"histogram\": [{\"marker\": {\"colorbar\": {\"outlinewidth\": 0, \"ticks\": \"\"}}, \"type\": \"histogram\"}], \"histogram2d\": [{\"colorbar\": {\"outlinewidth\": 0, \"ticks\": \"\"}, \"colorscale\": [[0.0, \"#0d0887\"], [0.1111111111111111, \"#46039f\"], [0.2222222222222222, \"#7201a8\"], [0.3333333333333333, \"#9c179e\"], [0.4444444444444444, \"#bd3786\"], [0.5555555555555556, \"#d8576b\"], [0.6666666666666666, \"#ed7953\"], [0.7777777777777778, \"#fb9f3a\"], [0.8888888888888888, \"#fdca26\"], [1.0, \"#f0f921\"]], \"type\": \"histogram2d\"}], \"histogram2dcontour\": [{\"colorbar\": {\"outlinewidth\": 0, \"ticks\": \"\"}, \"colorscale\": [[0.0, \"#0d0887\"], [0.1111111111111111, \"#46039f\"], [0.2222222222222222, \"#7201a8\"], [0.3333333333333333, \"#9c179e\"], [0.4444444444444444, \"#bd3786\"], [0.5555555555555556, \"#d8576b\"], [0.6666666666666666, \"#ed7953\"], [0.7777777777777778, \"#fb9f3a\"], [0.8888888888888888, \"#fdca26\"], [1.0, \"#f0f921\"]], \"type\": \"histogram2dcontour\"}], \"mesh3d\": [{\"colorbar\": {\"outlinewidth\": 0, \"ticks\": \"\"}, \"type\": \"mesh3d\"}], \"parcoords\": [{\"line\": {\"colorbar\": {\"outlinewidth\": 0, \"ticks\": \"\"}}, \"type\": \"parcoords\"}], \"pie\": [{\"automargin\": true, \"type\": \"pie\"}], \"scatter\": [{\"marker\": {\"colorbar\": {\"outlinewidth\": 0, \"ticks\": \"\"}}, \"type\": \"scatter\"}], \"scatter3d\": [{\"line\": {\"colorbar\": {\"outlinewidth\": 0, \"ticks\": \"\"}}, \"marker\": {\"colorbar\": {\"outlinewidth\": 0, \"ticks\": \"\"}}, \"type\": \"scatter3d\"}], \"scattercarpet\": [{\"marker\": {\"colorbar\": {\"outlinewidth\": 0, \"ticks\": \"\"}}, \"type\": \"scattercarpet\"}], \"scattergeo\": [{\"marker\": {\"colorbar\": {\"outlinewidth\": 0, \"ticks\": \"\"}}, \"type\": \"scattergeo\"}], \"scattergl\": [{\"marker\": {\"colorbar\": {\"outlinewidth\": 0, \"ticks\": \"\"}}, \"type\": \"scattergl\"}], \"scattermapbox\": [{\"marker\": {\"colorbar\": {\"outlinewidth\": 0, \"ticks\": \"\"}}, \"type\": \"scattermapbox\"}], \"scatterpolar\": [{\"marker\": {\"colorbar\": {\"outlinewidth\": 0, \"ticks\": \"\"}}, \"type\": \"scatterpolar\"}], \"scatterpolargl\": [{\"marker\": {\"colorbar\": {\"outlinewidth\": 0, \"ticks\": \"\"}}, \"type\": \"scatterpolargl\"}], \"scatterternary\": [{\"marker\": {\"colorbar\": {\"outlinewidth\": 0, \"ticks\": \"\"}}, \"type\": \"scatterternary\"}], \"surface\": [{\"colorbar\": {\"outlinewidth\": 0, \"ticks\": \"\"}, \"colorscale\": [[0.0, \"#0d0887\"], [0.1111111111111111, \"#46039f\"], [0.2222222222222222, \"#7201a8\"], [0.3333333333333333, \"#9c179e\"], [0.4444444444444444, \"#bd3786\"], [0.5555555555555556, \"#d8576b\"], [0.6666666666666666, \"#ed7953\"], [0.7777777777777778, \"#fb9f3a\"], [0.8888888888888888, \"#fdca26\"], [1.0, \"#f0f921\"]], \"type\": \"surface\"}], \"table\": [{\"cells\": {\"fill\": {\"color\": \"#EBF0F8\"}, \"line\": {\"color\": \"white\"}}, \"header\": {\"fill\": {\"color\": \"#C8D4E3\"}, \"line\": {\"color\": \"white\"}}, \"type\": \"table\"}]}, \"layout\": {\"annotationdefaults\": {\"arrowcolor\": \"#2a3f5f\", \"arrowhead\": 0, \"arrowwidth\": 1}, \"coloraxis\": {\"colorbar\": {\"outlinewidth\": 0, \"ticks\": \"\"}}, \"colorscale\": {\"diverging\": [[0, \"#8e0152\"], [0.1, \"#c51b7d\"], [0.2, \"#de77ae\"], [0.3, \"#f1b6da\"], [0.4, \"#fde0ef\"], [0.5, \"#f7f7f7\"], [0.6, \"#e6f5d0\"], [0.7, \"#b8e186\"], [0.8, \"#7fbc41\"], [0.9, \"#4d9221\"], [1, \"#276419\"]], \"sequential\": [[0.0, \"#0d0887\"], [0.1111111111111111, \"#46039f\"], [0.2222222222222222, \"#7201a8\"], [0.3333333333333333, \"#9c179e\"], [0.4444444444444444, \"#bd3786\"], [0.5555555555555556, \"#d8576b\"], [0.6666666666666666, \"#ed7953\"], [0.7777777777777778, \"#fb9f3a\"], [0.8888888888888888, \"#fdca26\"], [1.0, \"#f0f921\"]], \"sequentialminus\": [[0.0, \"#0d0887\"], [0.1111111111111111, \"#46039f\"], [0.2222222222222222, \"#7201a8\"], [0.3333333333333333, \"#9c179e\"], [0.4444444444444444, \"#bd3786\"], [0.5555555555555556, \"#d8576b\"], [0.6666666666666666, \"#ed7953\"], [0.7777777777777778, \"#fb9f3a\"], [0.8888888888888888, \"#fdca26\"], [1.0, \"#f0f921\"]]}, \"colorway\": [\"#636efa\", \"#EF553B\", \"#00cc96\", \"#ab63fa\", \"#FFA15A\", \"#19d3f3\", \"#FF6692\", \"#B6E880\", \"#FF97FF\", \"#FECB52\"], \"font\": {\"color\": \"#2a3f5f\"}, \"geo\": {\"bgcolor\": \"white\", \"lakecolor\": \"white\", \"landcolor\": \"#E5ECF6\", \"showlakes\": true, \"showland\": true, \"subunitcolor\": \"white\"}, \"hoverlabel\": {\"align\": \"left\"}, \"hovermode\": \"closest\", \"mapbox\": {\"style\": \"light\"}, \"paper_bgcolor\": \"white\", \"plot_bgcolor\": \"#E5ECF6\", \"polar\": {\"angularaxis\": {\"gridcolor\": \"white\", \"linecolor\": \"white\", \"ticks\": \"\"}, \"bgcolor\": \"#E5ECF6\", \"radialaxis\": {\"gridcolor\": \"white\", \"linecolor\": \"white\", \"ticks\": \"\"}}, \"scene\": {\"xaxis\": {\"backgroundcolor\": \"#E5ECF6\", \"gridcolor\": \"white\", \"gridwidth\": 2, \"linecolor\": \"white\", \"showbackground\": true, \"ticks\": \"\", \"zerolinecolor\": \"white\"}, \"yaxis\": {\"backgroundcolor\": \"#E5ECF6\", \"gridcolor\": \"white\", \"gridwidth\": 2, \"linecolor\": \"white\", \"showbackground\": true, \"ticks\": \"\", \"zerolinecolor\": \"white\"}, \"zaxis\": {\"backgroundcolor\": \"#E5ECF6\", \"gridcolor\": \"white\", \"gridwidth\": 2, \"linecolor\": \"white\", \"showbackground\": true, \"ticks\": \"\", \"zerolinecolor\": \"white\"}}, \"shapedefaults\": {\"line\": {\"color\": \"#2a3f5f\"}}, \"ternary\": {\"aaxis\": {\"gridcolor\": \"white\", \"linecolor\": \"white\", \"ticks\": \"\"}, \"baxis\": {\"gridcolor\": \"white\", \"linecolor\": \"white\", \"ticks\": \"\"}, \"bgcolor\": \"#E5ECF6\", \"caxis\": {\"gridcolor\": \"white\", \"linecolor\": \"white\", \"ticks\": \"\"}}, \"title\": {\"x\": 0.05}, \"xaxis\": {\"automargin\": true, \"gridcolor\": \"white\", \"linecolor\": \"white\", \"ticks\": \"\", \"title\": {\"standoff\": 15}, \"zerolinecolor\": \"white\", \"zerolinewidth\": 2}, \"yaxis\": {\"automargin\": true, \"gridcolor\": \"white\", \"linecolor\": \"white\", \"ticks\": \"\", \"title\": {\"standoff\": 15}, \"zerolinecolor\": \"white\", \"zerolinewidth\": 2}}}},                        {\"responsive\": true}                    ).then(function(){\n",
       "                            \n",
       "var gd = document.getElementById('b4c17235-660e-441c-9a63-5ae1f3cada03');\n",
       "var x = new MutationObserver(function (mutations, observer) {{\n",
       "        var display = window.getComputedStyle(gd).display;\n",
       "        if (!display || display === 'none') {{\n",
       "            console.log([gd, 'removed!']);\n",
       "            Plotly.purge(gd);\n",
       "            observer.disconnect();\n",
       "        }}\n",
       "}});\n",
       "\n",
       "// Listen for the removal of the full notebook cells\n",
       "var notebookContainer = gd.closest('#notebook-container');\n",
       "if (notebookContainer) {{\n",
       "    x.observe(notebookContainer, {childList: true});\n",
       "}}\n",
       "\n",
       "// Listen for the clearing of the current output cell\n",
       "var outputEl = gd.closest('.output');\n",
       "if (outputEl) {{\n",
       "    x.observe(outputEl, {childList: true});\n",
       "}}\n",
       "\n",
       "                        })                };                });            </script>        </div>"
      ]
     },
     "metadata": {},
     "output_type": "display_data"
    }
   ],
   "source": [
    "import plotly.express as px\n",
    "import numpy as np\n",
    "df = px.data.gapminder().query(\"year == 2007\")\n",
    "df[\"world\"] = \"world\" # in order to have a single root node\n",
    "fig = px.treemap(df, path=['world', 'continent', 'country'], values='pop',\n",
    "                  color='lifeExp', hover_data=['iso_alpha'],\n",
    "                  color_continuous_scale='RdBu',\n",
    "                  color_continuous_midpoint=np.average(df['lifeExp'], weights=df['pop']))\n",
    "fig.show()"
   ]
  },
  {
   "cell_type": "code",
   "execution_count": 30,
   "metadata": {},
   "outputs": [
    {
     "name": "stdout",
     "output_type": "stream",
     "text": [
      "Looking in indexes: https://pypi.org/simple, https://pypi.lyft.net/pypi/\n",
      "\u001b[31mERROR: Could not find a version that satisfies the requirement jupyterlab-plotly-extension (from versions: none)\u001b[0m\n",
      "\u001b[31mERROR: No matching distribution found for jupyterlab-plotly-extension\u001b[0m\n",
      "Note: you may need to restart the kernel to use updated packages.\n"
     ]
    }
   ],
   "source": [
    "pip install jupyterlab-plotly-extension"
   ]
  },
  {
   "cell_type": "code",
   "execution_count": 26,
   "metadata": {},
   "outputs": [
    {
     "data": {
      "text/html": [
       "<div>\n",
       "<style scoped>\n",
       "    .dataframe tbody tr th:only-of-type {\n",
       "        vertical-align: middle;\n",
       "    }\n",
       "\n",
       "    .dataframe tbody tr th {\n",
       "        vertical-align: top;\n",
       "    }\n",
       "\n",
       "    .dataframe thead th {\n",
       "        text-align: right;\n",
       "    }\n",
       "</style>\n",
       "<table border=\"1\" class=\"dataframe\">\n",
       "  <thead>\n",
       "    <tr style=\"text-align: right;\">\n",
       "      <th></th>\n",
       "      <th>total_bill</th>\n",
       "      <th>tip</th>\n",
       "      <th>sex</th>\n",
       "      <th>smoker</th>\n",
       "      <th>day</th>\n",
       "      <th>time</th>\n",
       "      <th>size</th>\n",
       "    </tr>\n",
       "  </thead>\n",
       "  <tbody>\n",
       "    <tr>\n",
       "      <th>0</th>\n",
       "      <td>16.99</td>\n",
       "      <td>1.01</td>\n",
       "      <td>Female</td>\n",
       "      <td>No</td>\n",
       "      <td>Sun</td>\n",
       "      <td>Dinner</td>\n",
       "      <td>2</td>\n",
       "    </tr>\n",
       "    <tr>\n",
       "      <th>1</th>\n",
       "      <td>10.34</td>\n",
       "      <td>1.66</td>\n",
       "      <td>Male</td>\n",
       "      <td>No</td>\n",
       "      <td>Sun</td>\n",
       "      <td>Dinner</td>\n",
       "      <td>3</td>\n",
       "    </tr>\n",
       "    <tr>\n",
       "      <th>2</th>\n",
       "      <td>21.01</td>\n",
       "      <td>3.50</td>\n",
       "      <td>Male</td>\n",
       "      <td>No</td>\n",
       "      <td>Sun</td>\n",
       "      <td>Dinner</td>\n",
       "      <td>3</td>\n",
       "    </tr>\n",
       "    <tr>\n",
       "      <th>3</th>\n",
       "      <td>23.68</td>\n",
       "      <td>3.31</td>\n",
       "      <td>Male</td>\n",
       "      <td>No</td>\n",
       "      <td>Sun</td>\n",
       "      <td>Dinner</td>\n",
       "      <td>2</td>\n",
       "    </tr>\n",
       "    <tr>\n",
       "      <th>4</th>\n",
       "      <td>24.59</td>\n",
       "      <td>3.61</td>\n",
       "      <td>Female</td>\n",
       "      <td>No</td>\n",
       "      <td>Sun</td>\n",
       "      <td>Dinner</td>\n",
       "      <td>4</td>\n",
       "    </tr>\n",
       "  </tbody>\n",
       "</table>\n",
       "</div>"
      ],
      "text/plain": [
       "   total_bill   tip     sex smoker  day    time  size\n",
       "0       16.99  1.01  Female     No  Sun  Dinner     2\n",
       "1       10.34  1.66    Male     No  Sun  Dinner     3\n",
       "2       21.01  3.50    Male     No  Sun  Dinner     3\n",
       "3       23.68  3.31    Male     No  Sun  Dinner     2\n",
       "4       24.59  3.61  Female     No  Sun  Dinner     4"
      ]
     },
     "execution_count": 26,
     "metadata": {},
     "output_type": "execute_result"
    }
   ],
   "source": [
    "df.head()"
   ]
  },
  {
   "cell_type": "code",
   "execution_count": null,
   "metadata": {},
   "outputs": [],
   "source": []
  }
 ],
 "metadata": {
  "kernelspec": {
   "display_name": "Python 3",
   "language": "python",
   "name": "python3"
  },
  "language_info": {
   "codemirror_mode": {
    "name": "ipython",
    "version": 3
   },
   "file_extension": ".py",
   "mimetype": "text/x-python",
   "name": "python",
   "nbconvert_exporter": "python",
   "pygments_lexer": "ipython3",
   "version": "3.6.9"
  }
 },
 "nbformat": 4,
 "nbformat_minor": 4
}
