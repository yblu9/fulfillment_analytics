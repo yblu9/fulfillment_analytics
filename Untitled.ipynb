{
 "cells": [
  {
   "cell_type": "code",
   "execution_count": 1,
   "id": "741dd3b8",
   "metadata": {
    "ExecuteTime": {
     "end_time": "2021-05-10T21:28:16.340580Z",
     "start_time": "2021-05-10T21:28:16.334028Z"
    }
   },
   "outputs": [],
   "source": [
    "a = ['a']"
   ]
  },
  {
   "cell_type": "code",
   "execution_count": 2,
   "id": "747d5506",
   "metadata": {
    "ExecuteTime": {
     "end_time": "2021-05-10T21:28:40.507216Z",
     "start_time": "2021-05-10T21:28:40.504105Z"
    }
   },
   "outputs": [
    {
     "name": "stdout",
     "output_type": "stream",
     "text": [
      "['a']\n"
     ]
    }
   ],
   "source": [
    "print(a)"
   ]
  },
  {
   "cell_type": "code",
   "execution_count": null,
   "id": "c1591567",
   "metadata": {},
   "outputs": [],
   "source": []
  },
  {
   "cell_type": "code",
   "execution_count": null,
   "id": "7066b8a5",
   "metadata": {},
   "outputs": [],
   "source": []
  }
 ],
 "metadata": {
  "kernelspec": {
   "display_name": "Python 3",
   "language": "python",
   "name": "python3"
  },
  "language_info": {
   "codemirror_mode": {
    "name": "ipython",
    "version": 3
   },
   "file_extension": ".py",
   "mimetype": "text/x-python",
   "name": "python",
   "nbconvert_exporter": "python",
   "pygments_lexer": "ipython3",
   "version": "3.6.9"
  }
 },
 "nbformat": 4,
 "nbformat_minor": 5
}
