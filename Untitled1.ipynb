{
 "cells": [
  {
   "cell_type": "code",
   "execution_count": 15,
   "id": "7b830185",
   "metadata": {},
   "outputs": [],
   "source": [
    "import json\n",
    "CONTINUOUS_FEATURES = ['sessions_r28','ride_intents_r28','ride_requests_r28',\n",
    "\t\t\t\t\t\t\t\t\t\t'conversion_r28','eta_r28','pt_incidence_r28','pt_r28',\n",
    "\t\t\t\t\t\t\t\t\t\t'sessions_r14','ride_intents_r14','ride_requests_r14',\n",
    "\t\t\t\t\t\t\t\t\t\t'conversion_r14','eta_r14','pt_incidence_r14','pt_r14',\n",
    "\t\t\t\t\t\t\t\t\t\t'sessions_r7','ride_intents_r7','ride_requests_r7',\n",
    "\t\t\t\t\t\t\t\t\t\t'conversion_r7','eta_r7','pt_incidence_r7','pt_r7',\n",
    "\t\t\t\t\t\t\t\t\t\t 'local_hr_of_week',\n",
    "\t\t\t\t\t\t\t\t\t\t'days_since_activation',\n",
    "\t\t\t\t\t\t\t\t\t\t'bookings_usd_r7','bookings_usd_r14','bookings_usd_r28',\n",
    "\t\t\t\t\t\t\t\t\t\t'net_revenue_usd_r7','net_revenue_usd_r14','net_revenue_usd_r28',\n",
    "\t\t\t\t\t\t\t\t\t\t'rider_first_lng','rider_first_lat','rider_last_lng','rider_last_lat','ride_cancels_r14',\n",
    "\t\t\t\t\t\t\t\t\t\t'ride_a1ks_r14','ride_cancels_r7','ride_a1ks_r7','ride_cancels_r28','ride_a1ks_r28']\n",
    "\n",
    "\n",
    "TARGET_ENCODE_FEATURES=['region']\n",
    "ONEHOT_ENCODE_FEATURES=[\n",
    "\t\t\t\t\"density_category\",\n",
    "\t\t\t\t\"hour_types\",\n",
    "\t\t\t\t\"user_type\",\n",
    "\t\t\t\t\"analytical_ride_type\",\n",
    "\t\t]\n",
    "continuous_features=json.dumps(CONTINUOUS_FEATURES)\n",
    "target_features=json.dumps(TARGET_ENCODE_FEATURES)\n",
    "onehot_features=json.dumps(ONEHOT_ENCODE_FEATURES)"
   ]
  },
  {
   "cell_type": "code",
   "execution_count": 18,
   "id": "d951e0c1",
   "metadata": {},
   "outputs": [
    {
     "ename": "ModuleNotFoundError",
     "evalue": "No module named 'nesdatapipeline'",
     "output_type": "error",
     "traceback": [
      "\u001b[0;31m---------------------------------------------------------------------------\u001b[0m",
      "\u001b[0;31mModuleNotFoundError\u001b[0m                       Traceback (most recent call last)",
      "\u001b[0;32m<ipython-input-18-95966b0b2ffa>\u001b[0m in \u001b[0;36m<module>\u001b[0;34m\u001b[0m\n\u001b[0;32m----> 1\u001b[0;31m \u001b[0;32mfrom\u001b[0m \u001b[0mnesdatapipeline\u001b[0m\u001b[0;34m.\u001b[0m\u001b[0mconstants\u001b[0m \u001b[0;32mimport\u001b[0m \u001b[0;34m*\u001b[0m \u001b[0;31m# import necessary constants\u001b[0m\u001b[0;34m\u001b[0m\u001b[0;34m\u001b[0m\u001b[0m\n\u001b[0m\u001b[1;32m      2\u001b[0m \u001b[0;32mfrom\u001b[0m \u001b[0mnesdatapipeline\u001b[0m\u001b[0;34m.\u001b[0m\u001b[0mtasks\u001b[0m \u001b[0;32mimport\u001b[0m \u001b[0;34m*\u001b[0m \u001b[0;31m# import tasks like prepare_samples\u001b[0m\u001b[0;34m\u001b[0m\u001b[0;34m\u001b[0m\u001b[0m\n\u001b[1;32m      3\u001b[0m \u001b[0;32mfrom\u001b[0m \u001b[0mlyft_fugue_lyft\u001b[0m \u001b[0;32mimport\u001b[0m \u001b[0mLLK8sRunner\u001b[0m \u001b[0;31m# import LLK8sRunner if you haven't already\u001b[0m\u001b[0;34m\u001b[0m\u001b[0;34m\u001b[0m\u001b[0m\n\u001b[1;32m      4\u001b[0m \u001b[0;34m\u001b[0m\u001b[0m\n\u001b[1;32m      5\u001b[0m \u001b[0mTRAINING_SAMPLE_SIZE\u001b[0m \u001b[0;34m=\u001b[0m \u001b[0;36m10000\u001b[0m\u001b[0;34m\u001b[0m\u001b[0;34m\u001b[0m\u001b[0m\n",
      "\u001b[0;31mModuleNotFoundError\u001b[0m: No module named 'nesdatapipeline'"
     ]
    }
   ],
   "source": [
    "from nesdatapipeline.constants import * # import necessary constants\n",
    "from nesdatapipeline.tasks import * # import tasks like prepare_samples\n",
    "from lyft_fugue_lyft import LLK8sRunner # import LLK8sRunner if you haven't already\n",
    "\n",
    "TRAINING_SAMPLE_SIZE = 10000\n",
    "TRAINING_DATA_PATH = \"s3://data-team/yibeil/matching_nes_treatment.json\"\n",
    "EVALUATION_TEST_PCT = 0.2\n",
    "EVALUATION_FOLD = 4\n",
    "SAMPLING_SOURCE_TABLE = 'base.nes_v2_final'\n",
    "\n",
    "with LLK8sRunner(SPARK_CONFIG_SAMPLING,{\"spark.dynamicAllocation.maxExecutors\": 200,}) as run:\n",
    "\t\tprepare_samples(run,\n",
    "\t\t\t\t\tsample_size=TRAINING_SAMPLE_SIZE,\n",
    "\t\t\t\t\tpath=TRAINING_DATA_PATH,\n",
    "\t\t\t\t\ttreatment_group_config=treatment_group_config_path,\n",
    "\t\t\t\t\tcontinuous_features=continuous_features,\n",
    "\t\t\t\t\ttarget_features=target_features,\n",
    "\t\t\t\t\tonehot_features=onehot_features,\n",
    "\t\t\t\t\tds_from='2021-01-02',\n",
    "\t\t\t\t\tds_to='2021-05-01',\n",
    "\t\t\t\t\ttable=SAMPLING_SOURCE_TABLE,\n",
    "\t\t\t\t\ttest_pct=EVALUATION_TEST_PCT,\n",
    "\t\t\t\t\tfold = EVALUATION_FOLD, sample_ratio=1.1,seed=0)\n"
   ]
  },
  {
   "cell_type": "code",
   "execution_count": 12,
   "id": "a7812760",
   "metadata": {},
   "outputs": [
    {
     "ename": "NameError",
     "evalue": "name 'LLK8sRunner' is not defined",
     "output_type": "error",
     "traceback": [
      "\u001b[0;31m---------------------------------------------------------------------------\u001b[0m",
      "\u001b[0;31mNameError\u001b[0m                                 Traceback (most recent call last)",
      "\u001b[0;32m<ipython-input-12-f65cb92983ce>\u001b[0m in \u001b[0;36m<module>\u001b[0;34m\u001b[0m\n\u001b[0;32m----> 1\u001b[0;31m \u001b[0;32mwith\u001b[0m \u001b[0mLLK8sRunner\u001b[0m\u001b[0;34m(\u001b[0m\u001b[0mSPARK_CONFIG_TRAINING\u001b[0m\u001b[0;34m,\u001b[0m\u001b[0;34m{\u001b[0m\u001b[0;34m\"spark.dynamicAllocation.maxExecutors\"\u001b[0m\u001b[0;34m:\u001b[0m \u001b[0;36m200\u001b[0m\u001b[0;34m,\u001b[0m\u001b[0;34m}\u001b[0m\u001b[0;34m)\u001b[0m \u001b[0;32mas\u001b[0m \u001b[0mrun\u001b[0m\u001b[0;34m:\u001b[0m\u001b[0;34m\u001b[0m\u001b[0;34m\u001b[0m\u001b[0m\n\u001b[0m\u001b[1;32m      2\u001b[0m \t\ttrain(run,\n\u001b[1;32m      3\u001b[0m                                         \u001b[0mdata_path\u001b[0m \u001b[0;34m=\u001b[0m\u001b[0mTRAINING_DATA_PATH\u001b[0m\u001b[0;34m,\u001b[0m\u001b[0;34m\u001b[0m\u001b[0;34m\u001b[0m\u001b[0m\n\u001b[1;32m      4\u001b[0m                                         \u001b[0mmodel_path\u001b[0m \u001b[0;34m=\u001b[0m\u001b[0mMODEL_PATH\u001b[0m\u001b[0;34m,\u001b[0m\u001b[0;34m\u001b[0m\u001b[0;34m\u001b[0m\u001b[0m\n\u001b[1;32m      5\u001b[0m                                         \u001b[0mmetric_type\u001b[0m\u001b[0;34m=\u001b[0m\u001b[0;34m'mape_horvitz'\u001b[0m\u001b[0;34m,\u001b[0m\u001b[0;34m\u001b[0m\u001b[0;34m\u001b[0m\u001b[0m\n",
      "\u001b[0;31mNameError\u001b[0m: name 'LLK8sRunner' is not defined"
     ]
    }
   ],
   "source": [
    "with LLK8sRunner(SPARK_CONFIG_TRAINING,{\"spark.dynamicAllocation.maxExecutors\": 200,}) as run:\n",
    "\t\ttrain(run,\n",
    "\t\t\t\t\tdata_path =TRAINING_DATA_PATH,\n",
    "\t\t\t\t\tmodel_path =MODEL_PATH,\n",
    "\t\t\t\t\tmetric_type='mape_horvitz',\n",
    "\t\t\t\t\ttreatment_group_config=treatment_group_config_path,\n",
    "\t\t\t\t\tcontinuous_features=continuous_features,\n",
    "\t\t\t\t\ttarget_features=target_features,\n",
    "\t\t\t\t\tonehot_features=onehot_features,\n",
    "\t\t\t\t\tmethod=[\"TLearner\"],\n",
    "\t\t\t\t\tmax_depth=[2,3,5],\n",
    "\t\t\t\t\tn_estimators=[5,10,20])"
   ]
  },
  {
   "cell_type": "code",
   "execution_count": null,
   "id": "8a058e39",
   "metadata": {},
   "outputs": [],
   "source": []
  }
 ],
 "metadata": {
  "kernelspec": {
   "display_name": "Python 3",
   "language": "python",
   "name": "python3"
  },
  "language_info": {
   "codemirror_mode": {
    "name": "ipython",
    "version": 3
   },
   "file_extension": ".py",
   "mimetype": "text/x-python",
   "name": "python",
   "nbconvert_exporter": "python",
   "pygments_lexer": "ipython3",
   "version": "3.6.9"
  }
 },
 "nbformat": 4,
 "nbformat_minor": 5
}
