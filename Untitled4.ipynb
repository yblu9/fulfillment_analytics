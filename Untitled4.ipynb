{
 "cells": [
  {
   "cell_type": "code",
   "execution_count": 5,
   "id": "a947bf32",
   "metadata": {},
   "outputs": [],
   "source": [
    "import pandas as pd\n",
    "import numpy as np\n",
    "import seaborn as sns\n",
    "import matplotlib.pyplot as plt\n",
    "from sklearn.model_selection import train_test_split\n",
    "from sklearn.linear_model import LinearRegression\n",
    "from sklearn import metrics\n",
    "from lyft_analysis.db import presto"
   ]
  },
  {
   "cell_type": "code",
   "execution_count": 6,
   "id": "b01a4def",
   "metadata": {},
   "outputs": [],
   "source": [
    "gh5_hours = \"\"\"\n",
    "select  orders\n",
    "       ,1.00*olo_orders/orders as olo_order_proportion\n",
    "       ,orders_arrived_at_pickup\n",
    "       ,round(order_to_arrive_rt,10) as order_to_arrive_rt\n",
    "       ,total_min\n",
    "       ,p3_min\n",
    "       ,p2_min\n",
    "       ,p1_min\n",
    "       ,round(p3_utilization,10) as p3_utilization\n",
    "    from hive.delivery.fact_delivery_geohash_hour_marketplace_metrics\n",
    "    where order_to_arrive_rt is not null\n",
    "      and total_min is not null\n",
    "      and p3_utilization is not null\n",
    "\"\"\""
   ]
  },
  {
   "cell_type": "code",
   "execution_count": 7,
   "id": "e3ee39e5",
   "metadata": {},
   "outputs": [],
   "source": [
    "df = presto.query(gh5_hours)"
   ]
  },
  {
   "cell_type": "code",
   "execution_count": 8,
   "id": "4948bc5d",
   "metadata": {},
   "outputs": [
    {
     "data": {
      "text/html": [
       "<div>\n",
       "<style scoped>\n",
       "    .dataframe tbody tr th:only-of-type {\n",
       "        vertical-align: middle;\n",
       "    }\n",
       "\n",
       "    .dataframe tbody tr th {\n",
       "        vertical-align: top;\n",
       "    }\n",
       "\n",
       "    .dataframe thead th {\n",
       "        text-align: right;\n",
       "    }\n",
       "</style>\n",
       "<table border=\"1\" class=\"dataframe\">\n",
       "  <thead>\n",
       "    <tr style=\"text-align: right;\">\n",
       "      <th></th>\n",
       "      <th>orders</th>\n",
       "      <th>olo_order_proportion</th>\n",
       "      <th>orders_arrived_at_pickup</th>\n",
       "      <th>order_to_arrive_rt</th>\n",
       "      <th>total_min</th>\n",
       "      <th>p3_min</th>\n",
       "      <th>p2_min</th>\n",
       "      <th>p1_min</th>\n",
       "      <th>p3_utilization</th>\n",
       "    </tr>\n",
       "  </thead>\n",
       "  <tbody>\n",
       "    <tr>\n",
       "      <th>count</th>\n",
       "      <td>59230.000000</td>\n",
       "      <td>59230.000000</td>\n",
       "      <td>59230.000000</td>\n",
       "      <td>59230.000000</td>\n",
       "      <td>59230.000000</td>\n",
       "      <td>59230.000000</td>\n",
       "      <td>59230.000000</td>\n",
       "      <td>59230.000000</td>\n",
       "      <td>59230.000000</td>\n",
       "    </tr>\n",
       "    <tr>\n",
       "      <th>mean</th>\n",
       "      <td>1.414655</td>\n",
       "      <td>0.430876</td>\n",
       "      <td>1.316495</td>\n",
       "      <td>0.939247</td>\n",
       "      <td>237.799038</td>\n",
       "      <td>117.403782</td>\n",
       "      <td>55.706399</td>\n",
       "      <td>64.688857</td>\n",
       "      <td>0.473360</td>\n",
       "    </tr>\n",
       "    <tr>\n",
       "      <th>std</th>\n",
       "      <td>1.597729</td>\n",
       "      <td>0.494100</td>\n",
       "      <td>1.486419</td>\n",
       "      <td>0.222823</td>\n",
       "      <td>322.321106</td>\n",
       "      <td>182.070543</td>\n",
       "      <td>64.390907</td>\n",
       "      <td>128.016532</td>\n",
       "      <td>0.148871</td>\n",
       "    </tr>\n",
       "    <tr>\n",
       "      <th>min</th>\n",
       "      <td>1.000000</td>\n",
       "      <td>0.000000</td>\n",
       "      <td>0.000000</td>\n",
       "      <td>0.000000</td>\n",
       "      <td>1.000000</td>\n",
       "      <td>0.000000</td>\n",
       "      <td>0.000000</td>\n",
       "      <td>0.000000</td>\n",
       "      <td>0.000000</td>\n",
       "    </tr>\n",
       "    <tr>\n",
       "      <th>25%</th>\n",
       "      <td>1.000000</td>\n",
       "      <td>0.000000</td>\n",
       "      <td>1.000000</td>\n",
       "      <td>1.000000</td>\n",
       "      <td>78.000000</td>\n",
       "      <td>33.000000</td>\n",
       "      <td>22.000000</td>\n",
       "      <td>12.000000</td>\n",
       "      <td>0.382353</td>\n",
       "    </tr>\n",
       "    <tr>\n",
       "      <th>50%</th>\n",
       "      <td>1.000000</td>\n",
       "      <td>0.000000</td>\n",
       "      <td>1.000000</td>\n",
       "      <td>1.000000</td>\n",
       "      <td>152.000000</td>\n",
       "      <td>72.000000</td>\n",
       "      <td>40.000000</td>\n",
       "      <td>30.000000</td>\n",
       "      <td>0.485714</td>\n",
       "    </tr>\n",
       "    <tr>\n",
       "      <th>75%</th>\n",
       "      <td>1.000000</td>\n",
       "      <td>1.000000</td>\n",
       "      <td>1.000000</td>\n",
       "      <td>1.000000</td>\n",
       "      <td>285.000000</td>\n",
       "      <td>145.000000</td>\n",
       "      <td>69.000000</td>\n",
       "      <td>67.000000</td>\n",
       "      <td>0.574762</td>\n",
       "    </tr>\n",
       "    <tr>\n",
       "      <th>max</th>\n",
       "      <td>82.000000</td>\n",
       "      <td>1.000000</td>\n",
       "      <td>79.000000</td>\n",
       "      <td>1.000000</td>\n",
       "      <td>10415.000000</td>\n",
       "      <td>7580.000000</td>\n",
       "      <td>2220.000000</td>\n",
       "      <td>2888.000000</td>\n",
       "      <td>1.000000</td>\n",
       "    </tr>\n",
       "  </tbody>\n",
       "</table>\n",
       "</div>"
      ],
      "text/plain": [
       "             orders  olo_order_proportion  orders_arrived_at_pickup  order_to_arrive_rt     total_min        p3_min        p2_min        p1_min  p3_utilization\n",
       "count  59230.000000          59230.000000              59230.000000        59230.000000  59230.000000  59230.000000  59230.000000  59230.000000    59230.000000\n",
       "mean       1.414655              0.430876                  1.316495            0.939247    237.799038    117.403782     55.706399     64.688857        0.473360\n",
       "std        1.597729              0.494100                  1.486419            0.222823    322.321106    182.070543     64.390907    128.016532        0.148871\n",
       "min        1.000000              0.000000                  0.000000            0.000000      1.000000      0.000000      0.000000      0.000000        0.000000\n",
       "25%        1.000000              0.000000                  1.000000            1.000000     78.000000     33.000000     22.000000     12.000000        0.382353\n",
       "50%        1.000000              0.000000                  1.000000            1.000000    152.000000     72.000000     40.000000     30.000000        0.485714\n",
       "75%        1.000000              1.000000                  1.000000            1.000000    285.000000    145.000000     69.000000     67.000000        0.574762\n",
       "max       82.000000              1.000000                 79.000000            1.000000  10415.000000   7580.000000   2220.000000   2888.000000        1.000000"
      ]
     },
     "execution_count": 8,
     "metadata": {},
     "output_type": "execute_result"
    }
   ],
   "source": [
    "df.describe()"
   ]
  },
  {
   "cell_type": "code",
   "execution_count": 9,
   "id": "a75054dc",
   "metadata": {},
   "outputs": [],
   "source": [
    "def clean_dataset(df):\n",
    "    assert isinstance(df, pd.DataFrame), \"df needs to be a pd.DataFrame\"\n",
    "    df.dropna(inplace=True)\n",
    "    indices_to_keep = ~df.isin([np.nan, np.inf, -np.inf]).any(1)\n",
    "    return df.astype(np.float64)"
   ]
  },
  {
   "cell_type": "code",
   "execution_count": 10,
   "id": "db1be2ef",
   "metadata": {},
   "outputs": [
    {
     "data": {
      "text/html": [
       "<div>\n",
       "<style scoped>\n",
       "    .dataframe tbody tr th:only-of-type {\n",
       "        vertical-align: middle;\n",
       "    }\n",
       "\n",
       "    .dataframe tbody tr th {\n",
       "        vertical-align: top;\n",
       "    }\n",
       "\n",
       "    .dataframe thead th {\n",
       "        text-align: right;\n",
       "    }\n",
       "</style>\n",
       "<table border=\"1\" class=\"dataframe\">\n",
       "  <thead>\n",
       "    <tr style=\"text-align: right;\">\n",
       "      <th></th>\n",
       "      <th>orders</th>\n",
       "      <th>olo_order_proportion</th>\n",
       "      <th>orders_arrived_at_pickup</th>\n",
       "      <th>order_to_arrive_rt</th>\n",
       "      <th>total_min</th>\n",
       "      <th>p3_min</th>\n",
       "      <th>p2_min</th>\n",
       "      <th>p1_min</th>\n",
       "      <th>p3_utilization</th>\n",
       "    </tr>\n",
       "  </thead>\n",
       "  <tbody>\n",
       "    <tr>\n",
       "      <th>0</th>\n",
       "      <td>1.0</td>\n",
       "      <td>0.0</td>\n",
       "      <td>1.0</td>\n",
       "      <td>1.0</td>\n",
       "      <td>58.0</td>\n",
       "      <td>28.0</td>\n",
       "      <td>23.0</td>\n",
       "      <td>7.0</td>\n",
       "      <td>0.482759</td>\n",
       "    </tr>\n",
       "    <tr>\n",
       "      <th>1</th>\n",
       "      <td>1.0</td>\n",
       "      <td>0.0</td>\n",
       "      <td>1.0</td>\n",
       "      <td>1.0</td>\n",
       "      <td>180.0</td>\n",
       "      <td>102.0</td>\n",
       "      <td>65.0</td>\n",
       "      <td>13.0</td>\n",
       "      <td>0.566667</td>\n",
       "    </tr>\n",
       "    <tr>\n",
       "      <th>2</th>\n",
       "      <td>1.0</td>\n",
       "      <td>0.0</td>\n",
       "      <td>1.0</td>\n",
       "      <td>1.0</td>\n",
       "      <td>277.0</td>\n",
       "      <td>166.0</td>\n",
       "      <td>65.0</td>\n",
       "      <td>46.0</td>\n",
       "      <td>0.599278</td>\n",
       "    </tr>\n",
       "    <tr>\n",
       "      <th>3</th>\n",
       "      <td>1.0</td>\n",
       "      <td>0.0</td>\n",
       "      <td>1.0</td>\n",
       "      <td>1.0</td>\n",
       "      <td>12.0</td>\n",
       "      <td>7.0</td>\n",
       "      <td>5.0</td>\n",
       "      <td>0.0</td>\n",
       "      <td>0.583333</td>\n",
       "    </tr>\n",
       "    <tr>\n",
       "      <th>4</th>\n",
       "      <td>1.0</td>\n",
       "      <td>0.0</td>\n",
       "      <td>1.0</td>\n",
       "      <td>1.0</td>\n",
       "      <td>766.0</td>\n",
       "      <td>404.0</td>\n",
       "      <td>141.0</td>\n",
       "      <td>221.0</td>\n",
       "      <td>0.527415</td>\n",
       "    </tr>\n",
       "    <tr>\n",
       "      <th>...</th>\n",
       "      <td>...</td>\n",
       "      <td>...</td>\n",
       "      <td>...</td>\n",
       "      <td>...</td>\n",
       "      <td>...</td>\n",
       "      <td>...</td>\n",
       "      <td>...</td>\n",
       "      <td>...</td>\n",
       "      <td>...</td>\n",
       "    </tr>\n",
       "    <tr>\n",
       "      <th>59225</th>\n",
       "      <td>1.0</td>\n",
       "      <td>0.0</td>\n",
       "      <td>1.0</td>\n",
       "      <td>1.0</td>\n",
       "      <td>168.0</td>\n",
       "      <td>104.0</td>\n",
       "      <td>53.0</td>\n",
       "      <td>11.0</td>\n",
       "      <td>0.619048</td>\n",
       "    </tr>\n",
       "    <tr>\n",
       "      <th>59226</th>\n",
       "      <td>1.0</td>\n",
       "      <td>0.0</td>\n",
       "      <td>1.0</td>\n",
       "      <td>1.0</td>\n",
       "      <td>23.0</td>\n",
       "      <td>3.0</td>\n",
       "      <td>18.0</td>\n",
       "      <td>2.0</td>\n",
       "      <td>0.130435</td>\n",
       "    </tr>\n",
       "    <tr>\n",
       "      <th>59227</th>\n",
       "      <td>1.0</td>\n",
       "      <td>0.0</td>\n",
       "      <td>1.0</td>\n",
       "      <td>1.0</td>\n",
       "      <td>74.0</td>\n",
       "      <td>29.0</td>\n",
       "      <td>26.0</td>\n",
       "      <td>19.0</td>\n",
       "      <td>0.391892</td>\n",
       "    </tr>\n",
       "    <tr>\n",
       "      <th>59228</th>\n",
       "      <td>1.0</td>\n",
       "      <td>0.0</td>\n",
       "      <td>1.0</td>\n",
       "      <td>1.0</td>\n",
       "      <td>27.0</td>\n",
       "      <td>4.0</td>\n",
       "      <td>12.0</td>\n",
       "      <td>11.0</td>\n",
       "      <td>0.148148</td>\n",
       "    </tr>\n",
       "    <tr>\n",
       "      <th>59229</th>\n",
       "      <td>1.0</td>\n",
       "      <td>1.0</td>\n",
       "      <td>1.0</td>\n",
       "      <td>1.0</td>\n",
       "      <td>33.0</td>\n",
       "      <td>21.0</td>\n",
       "      <td>8.0</td>\n",
       "      <td>4.0</td>\n",
       "      <td>0.636364</td>\n",
       "    </tr>\n",
       "  </tbody>\n",
       "</table>\n",
       "<p>59230 rows × 9 columns</p>\n",
       "</div>"
      ],
      "text/plain": [
       "       orders  olo_order_proportion  orders_arrived_at_pickup  order_to_arrive_rt  total_min  p3_min  p2_min  p1_min  p3_utilization\n",
       "0         1.0                   0.0                       1.0                 1.0       58.0    28.0    23.0     7.0        0.482759\n",
       "1         1.0                   0.0                       1.0                 1.0      180.0   102.0    65.0    13.0        0.566667\n",
       "2         1.0                   0.0                       1.0                 1.0      277.0   166.0    65.0    46.0        0.599278\n",
       "3         1.0                   0.0                       1.0                 1.0       12.0     7.0     5.0     0.0        0.583333\n",
       "4         1.0                   0.0                       1.0                 1.0      766.0   404.0   141.0   221.0        0.527415\n",
       "...       ...                   ...                       ...                 ...        ...     ...     ...     ...             ...\n",
       "59225     1.0                   0.0                       1.0                 1.0      168.0   104.0    53.0    11.0        0.619048\n",
       "59226     1.0                   0.0                       1.0                 1.0       23.0     3.0    18.0     2.0        0.130435\n",
       "59227     1.0                   0.0                       1.0                 1.0       74.0    29.0    26.0    19.0        0.391892\n",
       "59228     1.0                   0.0                       1.0                 1.0       27.0     4.0    12.0    11.0        0.148148\n",
       "59229     1.0                   1.0                       1.0                 1.0       33.0    21.0     8.0     4.0        0.636364\n",
       "\n",
       "[59230 rows x 9 columns]"
      ]
     },
     "execution_count": 10,
     "metadata": {},
     "output_type": "execute_result"
    }
   ],
   "source": [
    "clean_dataset(df)"
   ]
  },
  {
   "cell_type": "code",
   "execution_count": 11,
   "id": "6ac1c15f",
   "metadata": {},
   "outputs": [
    {
     "data": {
      "text/html": [
       "<div>\n",
       "<style scoped>\n",
       "    .dataframe tbody tr th:only-of-type {\n",
       "        vertical-align: middle;\n",
       "    }\n",
       "\n",
       "    .dataframe tbody tr th {\n",
       "        vertical-align: top;\n",
       "    }\n",
       "\n",
       "    .dataframe thead th {\n",
       "        text-align: right;\n",
       "    }\n",
       "</style>\n",
       "<table border=\"1\" class=\"dataframe\">\n",
       "  <thead>\n",
       "    <tr style=\"text-align: right;\">\n",
       "      <th></th>\n",
       "      <th>orders</th>\n",
       "      <th>olo_order_proportion</th>\n",
       "      <th>orders_arrived_at_pickup</th>\n",
       "      <th>order_to_arrive_rt</th>\n",
       "      <th>total_min</th>\n",
       "      <th>p3_min</th>\n",
       "      <th>p2_min</th>\n",
       "      <th>p1_min</th>\n",
       "      <th>p3_utilization</th>\n",
       "    </tr>\n",
       "  </thead>\n",
       "  <tbody>\n",
       "  </tbody>\n",
       "</table>\n",
       "</div>"
      ],
      "text/plain": [
       "Empty DataFrame\n",
       "Columns: [orders, olo_order_proportion, orders_arrived_at_pickup, order_to_arrive_rt, total_min, p3_min, p2_min, p1_min, p3_utilization]\n",
       "Index: []"
      ]
     },
     "execution_count": 11,
     "metadata": {},
     "output_type": "execute_result"
    }
   ],
   "source": [
    "df[df.isin([np.nan, np.inf, -np.inf]).any(1)]"
   ]
  },
  {
   "cell_type": "code",
   "execution_count": 12,
   "id": "7e1ac152",
   "metadata": {},
   "outputs": [
    {
     "name": "stdout",
     "output_type": "stream",
     "text": [
      "<class 'pandas.core.frame.DataFrame'>\n",
      "Int64Index: 59230 entries, 0 to 59229\n",
      "Data columns (total 9 columns):\n",
      " #   Column                    Non-Null Count  Dtype  \n",
      "---  ------                    --------------  -----  \n",
      " 0   orders                    59230 non-null  int64  \n",
      " 1   olo_order_proportion      59230 non-null  float64\n",
      " 2   orders_arrived_at_pickup  59230 non-null  int64  \n",
      " 3   order_to_arrive_rt        59230 non-null  float64\n",
      " 4   total_min                 59230 non-null  int64  \n",
      " 5   p3_min                    59230 non-null  int64  \n",
      " 6   p2_min                    59230 non-null  int64  \n",
      " 7   p1_min                    59230 non-null  int64  \n",
      " 8   p3_utilization            59230 non-null  float64\n",
      "dtypes: float64(3), int64(6)\n",
      "memory usage: 4.5 MB\n"
     ]
    }
   ],
   "source": [
    "df.info()"
   ]
  },
  {
   "cell_type": "code",
   "execution_count": 13,
   "id": "81424aa9",
   "metadata": {},
   "outputs": [
    {
     "data": {
      "image/png": "[encoded data removed]",
      "text/plain": [
       "<Figure size 1080x720 with 1 Axes>"
      ]
     },
     "metadata": {
      "needs_background": "light"
     },
     "output_type": "display_data"
    }
   ],
   "source": [
    "#distribution of independent variable p3_utilization\n",
    "plt.figure(figsize=(15,10))\n",
    "plt.tight_layout()\n",
    "sns.histplot(df['p3_utilization'])\n",
    "plt.show() "
   ]
  },
  {
   "cell_type": "code",
   "execution_count": 14,
   "id": "70e4ab30",
   "metadata": {},
   "outputs": [
    {
     "data": {
      "image/png": "[encoded data removed]",
      "text/plain": [
       "<Figure size 1080x720 with 1 Axes>"
      ]
     },
     "metadata": {
      "needs_background": "light"
     },
     "output_type": "display_data"
    }
   ],
   "source": [
    "#distribution of independent variable total_min\n",
    "plt.figure(figsize=(15,10))\n",
    "plt.tight_layout()\n",
    "sns.histplot(df['total_min'])\n",
    "plt.show() "
   ]
  },
  {
   "cell_type": "code",
   "execution_count": 15,
   "id": "5c46fbac",
   "metadata": {},
   "outputs": [
    {
     "data": {
      "image/png": "[encoded data removed]",
      "text/plain": [
       "<Figure size 1080x720 with 1 Axes>"
      ]
     },
     "metadata": {
      "needs_background": "light"
     },
     "output_type": "display_data"
    }
   ],
   "source": [
    "#distribution of dependent variable order_to_accept_rt\n",
    "plt.figure(figsize=(15,10))\n",
    "plt.tight_layout()\n",
    "sns.histplot(df['order_to_arrive_rt'])\n",
    "plt.show() "
   ]
  },
  {
   "cell_type": "code",
   "execution_count": 16,
   "id": "2f97d5df",
   "metadata": {},
   "outputs": [],
   "source": [
    "#understand rough relationships\n",
    "\n",
    "df['bucketed_p3_utilization'] = round(df['p3_utilization']/5,2)*5\n",
    "gdf = df.groupby(by='bucketed_p3_utilization',as_index=False).agg({'orders':np.sum,'orders_arrived_at_pickup':np.sum})\n",
    "gdf['arrive_rt'] = 1.00 * gdf['orders_arrived_at_pickup']/gdf['orders']"
   ]
  },
  {
   "cell_type": "code",
   "execution_count": 17,
   "id": "a94ddd16",
   "metadata": {},
   "outputs": [
    {
     "data": {
      "text/plain": [
       "Text(0.5, 1.0, 'arrive rt by p3 utilization')"
      ]
     },
     "execution_count": 17,
     "metadata": {},
     "output_type": "execute_result"
    },
    {
     "data": {
      "image/png": "[encoded data removed]",
      "text/plain": [
       "<Figure size 432x288 with 1 Axes>"
      ]
     },
     "metadata": {
      "needs_background": "light"
     },
     "output_type": "display_data"
    }
   ],
   "source": [
    "fig1 = plt.figure()\n",
    "axes1 = fig1.add_axes([0.1,0.1,0.8,0.8])\n",
    "axes1.plot('bucketed_p3_utilization','arrive_rt',data=gdf)\n",
    "axes1.set_title('arrive rt by p3 utilization')\n"
   ]
  },
  {
   "cell_type": "code",
   "execution_count": 18,
   "id": "6d46b96e",
   "metadata": {},
   "outputs": [],
   "source": [
    "df = df[(df['p3_utilization']>0.1) & (df['total_min'] > 1) & (df['orders']>1)]"
   ]
  },
  {
   "cell_type": "code",
   "execution_count": 23,
   "id": "cd646697",
   "metadata": {},
   "outputs": [
    {
     "name": "stdout",
     "output_type": "stream",
     "text": [
      " Exponent Model Intercept value is  [0.69650325]\n",
      " Exponent model Coefficient value is  [[-0.11257165]]\n"
     ]
    },
    {
     "data": {
      "text/plain": [
       "array([[0.65536896],\n",
       "       [0.63056843],\n",
       "       [0.63017725],\n",
       "       ...,\n",
       "       [0.65516835],\n",
       "       [0.63158967],\n",
       "       [0.64127499]])"
      ]
     },
     "execution_count": 23,
     "metadata": {},
     "output_type": "execute_result"
    }
   ],
   "source": [
    "y_log = np.log(df['order_to_arrive_rt'].values.reshape(-1,1) + 1)\n",
    "x = df['p3_utilization'].values.reshape(-1,1)\n",
    "X_train_exp, X_test_exp, Y_train_exp, Y_test_exp = train_test_split(x, y_log, test_size=0.2, random_state= 42)\n",
    "exp_model= LinearRegression()\n",
    "exp_model.fit(X_train_exp, Y_train_exp)\n",
    "\n",
    "print(\" Exponent Model Intercept value is \", exp_model.intercept_)\n",
    "print(\" Exponent model Coefficient value is \", exp_model.coef_)\n",
    " \n",
    "exp_model_pred= exp_model.predict(X_test_exp)\n",
    "exp_model_pred"
   ]
  },
  {
   "cell_type": "code",
   "execution_count": 24,
   "id": "67bc4f64",
   "metadata": {},
   "outputs": [
    {
     "data": {
      "text/html": [
       "<div>\n",
       "<style scoped>\n",
       "    .dataframe tbody tr th:only-of-type {\n",
       "        vertical-align: middle;\n",
       "    }\n",
       "\n",
       "    .dataframe tbody tr th {\n",
       "        vertical-align: top;\n",
       "    }\n",
       "\n",
       "    .dataframe thead th {\n",
       "        text-align: right;\n",
       "    }\n",
       "</style>\n",
       "<table border=\"1\" class=\"dataframe\">\n",
       "  <thead>\n",
       "    <tr style=\"text-align: right;\">\n",
       "      <th></th>\n",
       "      <th>Actual</th>\n",
       "      <th>Predict</th>\n",
       "    </tr>\n",
       "  </thead>\n",
       "  <tbody>\n",
       "    <tr>\n",
       "      <th>0</th>\n",
       "      <td>0.693147</td>\n",
       "      <td>0.655369</td>\n",
       "    </tr>\n",
       "    <tr>\n",
       "      <th>1</th>\n",
       "      <td>0.693147</td>\n",
       "      <td>0.630568</td>\n",
       "    </tr>\n",
       "    <tr>\n",
       "      <th>2</th>\n",
       "      <td>0.693147</td>\n",
       "      <td>0.630177</td>\n",
       "    </tr>\n",
       "    <tr>\n",
       "      <th>3</th>\n",
       "      <td>0.693147</td>\n",
       "      <td>0.643452</td>\n",
       "    </tr>\n",
       "    <tr>\n",
       "      <th>4</th>\n",
       "      <td>0.693147</td>\n",
       "      <td>0.664509</td>\n",
       "    </tr>\n",
       "    <tr>\n",
       "      <th>...</th>\n",
       "      <td>...</td>\n",
       "      <td>...</td>\n",
       "    </tr>\n",
       "    <tr>\n",
       "      <th>2609</th>\n",
       "      <td>0.693147</td>\n",
       "      <td>0.638028</td>\n",
       "    </tr>\n",
       "    <tr>\n",
       "      <th>2610</th>\n",
       "      <td>0.693147</td>\n",
       "      <td>0.641125</td>\n",
       "    </tr>\n",
       "    <tr>\n",
       "      <th>2611</th>\n",
       "      <td>0.693147</td>\n",
       "      <td>0.655168</td>\n",
       "    </tr>\n",
       "    <tr>\n",
       "      <th>2612</th>\n",
       "      <td>0.693147</td>\n",
       "      <td>0.631590</td>\n",
       "    </tr>\n",
       "    <tr>\n",
       "      <th>2613</th>\n",
       "      <td>0.693147</td>\n",
       "      <td>0.641275</td>\n",
       "    </tr>\n",
       "  </tbody>\n",
       "</table>\n",
       "<p>2614 rows × 2 columns</p>\n",
       "</div>"
      ],
      "text/plain": [
       "        Actual   Predict\n",
       "0     0.693147  0.655369\n",
       "1     0.693147  0.630568\n",
       "2     0.693147  0.630177\n",
       "3     0.693147  0.643452\n",
       "4     0.693147  0.664509\n",
       "...        ...       ...\n",
       "2609  0.693147  0.638028\n",
       "2610  0.693147  0.641125\n",
       "2611  0.693147  0.655168\n",
       "2612  0.693147  0.631590\n",
       "2613  0.693147  0.641275\n",
       "\n",
       "[2614 rows x 2 columns]"
      ]
     },
     "execution_count": 24,
     "metadata": {},
     "output_type": "execute_result"
    }
   ],
   "source": [
    "pmsh_exp = pd.DataFrame({'Actual':Y_test_exp.flatten(), 'Predict': exp_model_pred.flatten()})\n",
    "pmsh_exp"
   ]
  },
  {
   "cell_type": "code",
   "execution_count": 25,
   "id": "542404ad",
   "metadata": {},
   "outputs": [
    {
     "name": "stdout",
     "output_type": "stream",
     "text": [
      " Intercept value of Polynomial Model is  0.6763265222073835\n",
      "                         value\n",
      "p3_utilization       -0.099686\n",
      "total_min             0.000025\n",
      "olo_order_proportion  0.028973\n"
     ]
    },
    {
     "data": {
      "text/html": [
       "<div>\n",
       "<style scoped>\n",
       "    .dataframe tbody tr th:only-of-type {\n",
       "        vertical-align: middle;\n",
       "    }\n",
       "\n",
       "    .dataframe tbody tr th {\n",
       "        vertical-align: top;\n",
       "    }\n",
       "\n",
       "    .dataframe thead th {\n",
       "        text-align: right;\n",
       "    }\n",
       "</style>\n",
       "<table border=\"1\" class=\"dataframe\">\n",
       "  <thead>\n",
       "    <tr style=\"text-align: right;\">\n",
       "      <th></th>\n",
       "      <th>parameter</th>\n",
       "      <th>value</th>\n",
       "    </tr>\n",
       "  </thead>\n",
       "  <tbody>\n",
       "    <tr>\n",
       "      <th>0</th>\n",
       "      <td>p3_utilization</td>\n",
       "      <td>-0.099686</td>\n",
       "    </tr>\n",
       "    <tr>\n",
       "      <th>1</th>\n",
       "      <td>total_min</td>\n",
       "      <td>0.000025</td>\n",
       "    </tr>\n",
       "    <tr>\n",
       "      <th>2</th>\n",
       "      <td>olo_order_proportion</td>\n",
       "      <td>0.028973</td>\n",
       "    </tr>\n",
       "    <tr>\n",
       "      <th>0</th>\n",
       "      <td>intercept</td>\n",
       "      <td>0.676327</td>\n",
       "    </tr>\n",
       "  </tbody>\n",
       "</table>\n",
       "</div>"
      ],
      "text/plain": [
       "              parameter     value\n",
       "0        p3_utilization -0.099686\n",
       "1             total_min  0.000025\n",
       "2  olo_order_proportion  0.028973\n",
       "0             intercept  0.676327"
      ]
     },
     "execution_count": 25,
     "metadata": {},
     "output_type": "execute_result"
    }
   ],
   "source": [
    "X_c = df[['p3_utilization','total_min','olo_order_proportion']]\n",
    "Y_c = np.log(df['order_to_arrive_rt'] + 1)\n",
    "X_train_c, X_test_c, Y_train_c, Y_test_c = train_test_split(X_c, Y_c, test_size=0.2, random_state= 42)\n",
    "polynomial_model = LinearRegression()\n",
    "polynomial_model.fit(X_train_c, Y_train_c)\n",
    "\n",
    "print(\" Intercept value of Polynomial Model is \" ,polynomial_model.intercept_)\n",
    "\n",
    "coeff_df = pd.DataFrame(polynomial_model.coef_, X_c.columns, columns=['value'])\n",
    "print(coeff_df)\n",
    "\n",
    "coeff_df.index.names=['parameter']\n",
    "coeff_df.reset_index(inplace=True,col_fill='parameter')\n",
    "\n",
    "intercept_df = pd.DataFrame({'value':polynomial_model.intercept_},index=[0])\n",
    "intercept_df.index.names=['parameter']\n",
    "intercept_df.reset_index(inplace=True,col_fill='parameter')\n",
    "intercept_df.replace(to_replace=[0],value='intercept',inplace=True)\n",
    "df_outcome = pd.concat([coeff_df, intercept_df],axis=0)\n",
    "df_outcome"
   ]
  },
  {
   "cell_type": "code",
   "execution_count": 26,
   "id": "f4ff534a",
   "metadata": {},
   "outputs": [
    {
     "data": {
      "text/html": [
       "<div>\n",
       "<style scoped>\n",
       "    .dataframe tbody tr th:only-of-type {\n",
       "        vertical-align: middle;\n",
       "    }\n",
       "\n",
       "    .dataframe tbody tr th {\n",
       "        vertical-align: top;\n",
       "    }\n",
       "\n",
       "    .dataframe thead th {\n",
       "        text-align: right;\n",
       "    }\n",
       "</style>\n",
       "<table border=\"1\" class=\"dataframe\">\n",
       "  <thead>\n",
       "    <tr style=\"text-align: right;\">\n",
       "      <th></th>\n",
       "      <th>parameter</th>\n",
       "      <th>value</th>\n",
       "      <th>train_ds</th>\n",
       "    </tr>\n",
       "  </thead>\n",
       "  <tbody>\n",
       "    <tr>\n",
       "      <th>0</th>\n",
       "      <td>p3_utilization</td>\n",
       "      <td>-0.099686</td>\n",
       "      <td>2022-03-02</td>\n",
       "    </tr>\n",
       "    <tr>\n",
       "      <th>1</th>\n",
       "      <td>total_min</td>\n",
       "      <td>0.000025</td>\n",
       "      <td>2022-03-02</td>\n",
       "    </tr>\n",
       "    <tr>\n",
       "      <th>2</th>\n",
       "      <td>olo_order_proportion</td>\n",
       "      <td>0.028973</td>\n",
       "      <td>2022-03-02</td>\n",
       "    </tr>\n",
       "    <tr>\n",
       "      <th>0</th>\n",
       "      <td>intercept</td>\n",
       "      <td>0.676327</td>\n",
       "      <td>2022-03-02</td>\n",
       "    </tr>\n",
       "  </tbody>\n",
       "</table>\n",
       "</div>"
      ],
      "text/plain": [
       "              parameter     value    train_ds\n",
       "0        p3_utilization -0.099686  2022-03-02\n",
       "1             total_min  0.000025  2022-03-02\n",
       "2  olo_order_proportion  0.028973  2022-03-02\n",
       "0             intercept  0.676327  2022-03-02"
      ]
     },
     "execution_count": 26,
     "metadata": {},
     "output_type": "execute_result"
    }
   ],
   "source": [
    "from datetime import datetime, date, timezone\n",
    "df_outcome['train_ds'] = pd.to_datetime('today').date()\n",
    "df_outcome['train_ds'] = df_outcome['train_ds'].astype(str)\n",
    "cols = ['parameter','value','train_ds']\n",
    "df_outcome"
   ]
  },
  {
   "cell_type": "code",
   "execution_count": 27,
   "id": "2550713a",
   "metadata": {},
   "outputs": [
    {
     "data": {
      "text/html": [
       "<div>\n",
       "<style scoped>\n",
       "    .dataframe tbody tr th:only-of-type {\n",
       "        vertical-align: middle;\n",
       "    }\n",
       "\n",
       "    .dataframe tbody tr th {\n",
       "        vertical-align: top;\n",
       "    }\n",
       "\n",
       "    .dataframe thead th {\n",
       "        text-align: right;\n",
       "    }\n",
       "</style>\n",
       "<table border=\"1\" class=\"dataframe\">\n",
       "  <thead>\n",
       "    <tr style=\"text-align: right;\">\n",
       "      <th></th>\n",
       "      <th>Actual</th>\n",
       "      <th>Predicted</th>\n",
       "    </tr>\n",
       "  </thead>\n",
       "  <tbody>\n",
       "    <tr>\n",
       "      <th>21294</th>\n",
       "      <td>0.693147</td>\n",
       "      <td>0.691957</td>\n",
       "    </tr>\n",
       "    <tr>\n",
       "      <th>21875</th>\n",
       "      <td>0.693147</td>\n",
       "      <td>0.623179</td>\n",
       "    </tr>\n",
       "    <tr>\n",
       "      <th>43938</th>\n",
       "      <td>0.693147</td>\n",
       "      <td>0.631442</td>\n",
       "    </tr>\n",
       "    <tr>\n",
       "      <th>26591</th>\n",
       "      <td>0.693147</td>\n",
       "      <td>0.631519</td>\n",
       "    </tr>\n",
       "    <tr>\n",
       "      <th>24585</th>\n",
       "      <td>0.693147</td>\n",
       "      <td>0.679339</td>\n",
       "    </tr>\n",
       "  </tbody>\n",
       "</table>\n",
       "</div>"
      ],
      "text/plain": [
       "         Actual  Predicted\n",
       "21294  0.693147   0.691957\n",
       "21875  0.693147   0.623179\n",
       "43938  0.693147   0.631442\n",
       "26591  0.693147   0.631519\n",
       "24585  0.693147   0.679339"
      ]
     },
     "execution_count": 27,
     "metadata": {},
     "output_type": "execute_result"
    }
   ],
   "source": [
    "y_pred_poly = polynomial_model.predict(X_test_c)\n",
    "df_33 = pd.DataFrame({'Actual':Y_test_c, 'Predicted': y_pred_poly})\n",
    "df_33.head()"
   ]
  },
  {
   "cell_type": "code",
   "execution_count": 29,
   "id": "8d809a3e",
   "metadata": {},
   "outputs": [
    {
     "name": "stderr",
     "output_type": "stream",
     "text": [
      "{\"ts\": \"2022-03-02T21:01:12.980Z\", \"uuid\": \"3c88e2d2-bc50-49e1-9c66-ba23d1b11b3d\", \"name\": \"lyft_mozart.mozart\", \"lvlname\": \"INFO\", \"lvlno\": 20, \"pid\": 98, \"call_site\": \"site-packages/lyft_mozart/mozart.py:664\", \"revision\": \"be1326c6dc\", \"kv\": {\"mozart_id\": 144898277, \"backend\": \"sonata-backfill\", \"native_command_id\": \"pending\", \"job_url\": \"https://sql.lyft.net/databases/mozart/queries/144898277\", \"query\": \"SHOW CREATE TABLE yibeil.delivery_arrival_log_lin_model_outputs\"}, \"msg\": \"Created Mozart command\"}\n",
      "{\"ts\": \"2022-03-02T21:01:12.982Z\", \"uuid\": \"0cce1898-f5d9-41ac-a62d-f3a468b46b74\", \"name\": \"lyft_mozart.mozart\", \"lvlname\": \"INFO\", \"lvlno\": 20, \"pid\": 98, \"call_site\": \"site-packages/lyft_mozart/mozart.py:799\", \"revision\": \"be1326c6dc\", \"kv\": {\"command_id\": 144898277}, \"msg\": \"Attempting to get status for Mozart Command\"}\n",
      "{\"ts\": \"2022-03-02T21:01:12.990Z\", \"uuid\": \"d1bdbbca-067e-4d19-bda5-a13cdcd909b7\", \"name\": \"lyft_mozart.mozart\", \"lvlname\": \"INFO\", \"lvlno\": 20, \"pid\": 98, \"call_site\": \"site-packages/lyft_mozart/mozart.py:801\", \"revision\": \"be1326c6dc\", \"kv\": {\"command_id\": 144898277, \"status\": \"waiting\"}, \"msg\": \"Got status for Mozart command\"}\n",
      "{\"ts\": \"2022-03-02T21:01:12.991Z\", \"uuid\": \"dc73f526-4a41-4de2-b219-fa9553abe3e0\", \"name\": \"lyft_mozart.mozart\", \"lvlname\": \"INFO\", \"lvlno\": 20, \"pid\": 98, \"call_site\": \"site-packages/lyft_mozart/mozart.py:803\", \"revision\": \"be1326c6dc\", \"msg\": \"Sleeping for 10 seconds\"}\n",
      "{\"ts\": \"2022-03-02T21:01:23.007Z\", \"uuid\": \"4decdcaa-3736-44c2-af77-240298076fbf\", \"name\": \"lyft_mozart.mozart\", \"lvlname\": \"INFO\", \"lvlno\": 20, \"pid\": 98, \"call_site\": \"site-packages/lyft_mozart/mozart.py:842\", \"revision\": \"be1326c6dc\", \"kv\": {\"command_id\": 144898277, \"status\": \"done\"}, \"msg\": \"Mozart command completed\"}\n",
      "{\"ts\": \"2022-03-02T21:01:23.008Z\", \"uuid\": \"af8a9c62-9d53-48d0-804d-88403a894905\", \"name\": \"lyft_mozart.mozart\", \"lvlname\": \"INFO\", \"lvlno\": 20, \"pid\": 98, \"call_site\": \"site-packages/lyft_mozart/mozart.py:881\", \"revision\": \"be1326c6dc\", \"kv\": {\"backend\": \"sonata-backfill\", \"mozart_id\": 144898277, \"command_id\": 144898277}, \"msg\": \"Mozart command completed successfully!\"}\n",
      "{\"ts\": \"2022-03-02T21:01:23.009Z\", \"uuid\": \"b366e7cf-ca95-4915-9ebb-79978ef33598\", \"name\": \"lyft_analysis.db.hive.DatabaseTool\", \"lvlname\": \"INFO\", \"lvlno\": 20, \"pid\": 98, \"call_site\": \"site-packages/lyft_analysis/db/_mozart_base.py:127\", \"revision\": \"be1326c6dc\", \"msg\": \"completed query id=144898277\"}\n",
      "{\"ts\": \"2022-03-02T21:01:23.401Z\", \"uuid\": \"a65115e9-1ba3-4edc-9126-9f191a29324f\", \"name\": \"lyft_mozart.mozart\", \"lvlname\": \"INFO\", \"lvlno\": 20, \"pid\": 98, \"call_site\": \"site-packages/lyft_mozart/mozart.py:664\", \"revision\": \"be1326c6dc\", \"kv\": {\"mozart_id\": 144898320, \"backend\": \"sonata-backfill\", \"native_command_id\": \"pending\", \"job_url\": \"https://sql.lyft.net/databases/mozart/queries/144898320\", \"query\": \"SHOW PARTITIONS yibeil.delivery_arrival_log_lin_model_outputs\"}, \"msg\": \"Created Mozart command\"}\n",
      "{\"ts\": \"2022-03-02T21:01:23.402Z\", \"uuid\": \"fd197ca2-0404-40ae-93f0-1fd9f5e266e4\", \"name\": \"lyft_mozart.mozart\", \"lvlname\": \"INFO\", \"lvlno\": 20, \"pid\": 98, \"call_site\": \"site-packages/lyft_mozart/mozart.py:799\", \"revision\": \"be1326c6dc\", \"kv\": {\"command_id\": 144898320}, \"msg\": \"Attempting to get status for Mozart Command\"}\n",
      "{\"ts\": \"2022-03-02T21:01:23.414Z\", \"uuid\": \"c280db60-74fa-42a2-b0bf-7fb4dc9accab\", \"name\": \"lyft_mozart.mozart\", \"lvlname\": \"INFO\", \"lvlno\": 20, \"pid\": 98, \"call_site\": \"site-packages/lyft_mozart/mozart.py:801\", \"revision\": \"be1326c6dc\", \"kv\": {\"command_id\": 144898320, \"status\": \"waiting\"}, \"msg\": \"Got status for Mozart command\"}\n",
      "{\"ts\": \"2022-03-02T21:01:23.415Z\", \"uuid\": \"88fd59fa-95bb-4c7f-a253-ee4a44acab8d\", \"name\": \"lyft_mozart.mozart\", \"lvlname\": \"INFO\", \"lvlno\": 20, \"pid\": 98, \"call_site\": \"site-packages/lyft_mozart/mozart.py:803\", \"revision\": \"be1326c6dc\", \"msg\": \"Sleeping for 10 seconds\"}\n",
      "{\"ts\": \"2022-03-02T21:01:33.434Z\", \"uuid\": \"4c3c9b3c-593a-488f-b5ec-1184670bf43c\", \"name\": \"lyft_mozart.mozart\", \"lvlname\": \"INFO\", \"lvlno\": 20, \"pid\": 98, \"call_site\": \"site-packages/lyft_mozart/mozart.py:842\", \"revision\": \"be1326c6dc\", \"kv\": {\"command_id\": 144898320, \"status\": \"done\"}, \"msg\": \"Mozart command completed\"}\n",
      "{\"ts\": \"2022-03-02T21:01:33.435Z\", \"uuid\": \"fc31c30f-f70f-45b1-a366-bace8346901f\", \"name\": \"lyft_mozart.mozart\", \"lvlname\": \"INFO\", \"lvlno\": 20, \"pid\": 98, \"call_site\": \"site-packages/lyft_mozart/mozart.py:881\", \"revision\": \"be1326c6dc\", \"kv\": {\"backend\": \"sonata-backfill\", \"mozart_id\": 144898320, \"command_id\": 144898320}, \"msg\": \"Mozart command completed successfully!\"}\n",
      "{\"ts\": \"2022-03-02T21:01:33.437Z\", \"uuid\": \"bb0fa853-ef18-4384-8123-68cb123ace48\", \"name\": \"lyft_analysis.db.hive.DatabaseTool\", \"lvlname\": \"INFO\", \"lvlno\": 20, \"pid\": 98, \"call_site\": \"site-packages/lyft_analysis/db/_mozart_base.py:127\", \"revision\": \"be1326c6dc\", \"msg\": \"completed query id=144898320\"}\n",
      "{\"ts\": \"2022-03-02T21:01:33.997Z\", \"uuid\": \"2638c020-0d27-4ea8-b303-6c0565df64e9\", \"name\": \"lyft_mozart.mozart\", \"lvlname\": \"INFO\", \"lvlno\": 20, \"pid\": 98, \"call_site\": \"site-packages/lyft_mozart/mozart.py:664\", \"revision\": \"be1326c6dc\", \"kv\": {\"mozart_id\": 144898354, \"backend\": \"sonata-backfill\", \"native_command_id\": \"pending\", \"job_url\": \"https://sql.lyft.net/databases/mozart/queries/144898354\", \"query\": \"\\n            ALTER TABLE yibeil.delivery_arrival_log_lin_model_outputs\\n            ADD IF NOT EXISTS PARTITION (train_ds='2022-03-02')\\n            LOCATION 's3://lyftqubole-iad/test/yibeil/delivery_arrival_log_lin_model_outputs/train_ds=2022-03-02'\\n            \"}, \"msg\": \"Created Mozart command\"}\n",
      "{\"ts\": \"2022-03-02T21:01:33.999Z\", \"uuid\": \"6156634c-16d7-4690-a719-6ddc8f84abe7\", \"name\": \"lyft_mozart.mozart\", \"lvlname\": \"INFO\", \"lvlno\": 20, \"pid\": 98, \"call_site\": \"site-packages/lyft_mozart/mozart.py:799\", \"revision\": \"be1326c6dc\", \"kv\": {\"command_id\": 144898354}, \"msg\": \"Attempting to get status for Mozart Command\"}\n",
      "{\"ts\": \"2022-03-02T21:01:34.006Z\", \"uuid\": \"d111e321-a1b7-470b-b39c-52e216906c84\", \"name\": \"lyft_mozart.mozart\", \"lvlname\": \"INFO\", \"lvlno\": 20, \"pid\": 98, \"call_site\": \"site-packages/lyft_mozart/mozart.py:801\", \"revision\": \"be1326c6dc\", \"kv\": {\"command_id\": 144898354, \"status\": \"waiting\"}, \"msg\": \"Got status for Mozart command\"}\n",
      "{\"ts\": \"2022-03-02T21:01:34.008Z\", \"uuid\": \"a8543a13-8e1e-4716-b1ad-1ac6bb28e7d6\", \"name\": \"lyft_mozart.mozart\", \"lvlname\": \"INFO\", \"lvlno\": 20, \"pid\": 98, \"call_site\": \"site-packages/lyft_mozart/mozart.py:803\", \"revision\": \"be1326c6dc\", \"msg\": \"Sleeping for 10 seconds\"}\n"
     ]
    },
    {
     "name": "stdout",
     "output_type": "stream",
     "text": [
      "adding partition train_ds='2022-03-02'\n"
     ]
    },
    {
     "name": "stderr",
     "output_type": "stream",
     "text": [
      "{\"ts\": \"2022-03-02T21:01:44.026Z\", \"uuid\": \"43f353d4-f567-43e1-9792-487bb086084b\", \"name\": \"lyft_mozart.mozart\", \"lvlname\": \"INFO\", \"lvlno\": 20, \"pid\": 98, \"call_site\": \"site-packages/lyft_mozart/mozart.py:842\", \"revision\": \"be1326c6dc\", \"kv\": {\"command_id\": 144898354, \"status\": \"done\"}, \"msg\": \"Mozart command completed\"}\n",
      "{\"ts\": \"2022-03-02T21:01:44.027Z\", \"uuid\": \"e00a96ec-3548-4325-bcdb-2390f08391fc\", \"name\": \"lyft_mozart.mozart\", \"lvlname\": \"INFO\", \"lvlno\": 20, \"pid\": 98, \"call_site\": \"site-packages/lyft_mozart/mozart.py:881\", \"revision\": \"be1326c6dc\", \"kv\": {\"backend\": \"sonata-backfill\", \"mozart_id\": 144898354, \"command_id\": 144898354}, \"msg\": \"Mozart command completed successfully!\"}\n",
      "{\"ts\": \"2022-03-02T21:01:44.028Z\", \"uuid\": \"236e68fe-0c68-4810-a89d-35c2db2c77e5\", \"name\": \"lyft_analysis.db.hive.DatabaseTool\", \"lvlname\": \"INFO\", \"lvlno\": 20, \"pid\": 98, \"call_site\": \"site-packages/lyft_analysis/db/_mozart_base.py:127\", \"revision\": \"be1326c6dc\", \"msg\": \"completed query id=144898354\"}\n"
     ]
    }
   ],
   "source": [
    "from lyft_analysis import pd as lyft_pd\n",
    "from lyft_analysis.db import hive\n",
    "from sklearn.externals import joblib\n",
    "import os\n",
    "import sys\n",
    "\n",
    "def write_results_to_hive(pred_df):\n",
    "    \"\"\"Write results to hive \"\"\"\n",
    "    os.environ[\"QUBOLE_UNLOAD_USER\"] = \"deliveryds\"\n",
    "    output = lyft_pd.DataFrame(df_outcome)\n",
    "    output.to_hive_table_partitioned(\n",
    "        table_name='delivery_arrival_log_lin_model_outputs',\n",
    "        partition_col=['train_ds'],\n",
    "        if_exists='append',\n",
    "        if_partition_exists='replace',\n",
    "    )\n",
    "write_results_to_hive(df_outcome[cols])"
   ]
  },
  {
   "cell_type": "code",
   "execution_count": null,
   "id": "1d6d72e4",
   "metadata": {},
   "outputs": [],
   "source": []
  }
 ],
 "metadata": {
  "kernelspec": {
   "display_name": "Python 3",
   "language": "python",
   "name": "python3"
  },
  "language_info": {
   "codemirror_mode": {
    "name": "ipython",
    "version": 3
   },
   "file_extension": ".py",
   "mimetype": "text/x-python",
   "name": "python",
   "nbconvert_exporter": "python",
   "pygments_lexer": "ipython3",
   "version": "3.6.9"
  }
 },
 "nbformat": 4,
 "nbformat_minor": 5
}
