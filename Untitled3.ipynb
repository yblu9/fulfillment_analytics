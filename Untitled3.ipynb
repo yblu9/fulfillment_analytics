{
 "cells": [
  {
   "cell_type": "code",
   "execution_count": 1,
   "id": "58711a29",
   "metadata": {
    "ExecuteTime": {
     "end_time": "2022-02-02T19:27:52.774362Z",
     "start_time": "2022-02-02T19:27:50.853286Z"
    }
   },
   "outputs": [
    {
     "name": "stderr",
     "output_type": "stream",
     "text": [
      "{\"ts\": \"2022-02-02T19:27:52.599Z\", \"uuid\": \"6ca6605f-1d42-4564-a650-440cd316599d\", \"name\": \"lyft_configset.configset\", \"lvlname\": \"ERROR\", \"lvlno\": 40, \"pid\": 34, \"call_site\": \"site-packages/lyft_configset/configset.py:77\", \"revision\": \"be1326c6dc\", \"msg\": \"Neither a configset at /srv/configset/envoyclient/current/ or runtime directory at /srv/runtime_data/current/envoyclient were found. It's likely that this is misconfigured.\"}\n"
     ]
    }
   ],
   "source": [
    "import pandas as pd\n",
    "import numpy as np\n",
    "import seaborn as sns\n",
    "import matplotlib.pyplot as plt\n",
    "from sklearn.model_selection import train_test_split\n",
    "from sklearn.linear_model import LinearRegression\n",
    "from sklearn import metrics\n",
    "from lyft_analysis.db import presto"
   ]
  },
  {
   "cell_type": "code",
   "execution_count": null,
   "id": "b7104aa0",
   "metadata": {},
   "outputs": [],
   "source": [
    "gh5_hours = \"\"\"\n",
    "select  orders\n",
    "       ,1.00*olo_orders/orders as olo_order_proportion\n",
    "       ,orders_arrived_at_pickup\n",
    "       ,round(order_to_arrive_rt,10) as order_to_arrive_rt\n",
    "       ,total_min\n",
    "       ,p3_min\n",
    "       ,p2_min\n",
    "       ,p1_min\n",
    "       ,round(p3_utilization,10) as p3_utilization\n",
    "    from hive.delivery.fact_delivery_geohash_hour_marketplace_metrics\n",
    "    where order_to_arrive_rt is not null\n",
    "      and total_min is not null\n",
    "      and p3_utilization is not null\n",
    "\"\"\""
   ]
  }
 ],
 "metadata": {
  "kernelspec": {
   "display_name": "Python 3",
   "language": "python",
   "name": "python3"
  },
  "language_info": {
   "codemirror_mode": {
    "name": "ipython",
    "version": 3
   },
   "file_extension": ".py",
   "mimetype": "text/x-python",
   "name": "python",
   "nbconvert_exporter": "python",
   "pygments_lexer": "ipython3",
   "version": "3.6.9"
  }
 },
 "nbformat": 4,
 "nbformat_minor": 5
}
